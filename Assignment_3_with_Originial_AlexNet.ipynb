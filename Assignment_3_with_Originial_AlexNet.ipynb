{
  "cells": [
    {
      "cell_type": "markdown",
      "metadata": {
        "id": "view-in-github",
        "colab_type": "text"
      },
      "source": [
        "<a href=\"https://colab.research.google.com/github/fahriyegrl/NJIT_Modern_CNN_Assignment/blob/main/Assignment_3_with_Originial_AlexNet.ipynb\" target=\"_parent\"><img src=\"https://colab.research.google.com/assets/colab-badge.svg\" alt=\"Open In Colab\"/></a>"
      ]
    },
    {
      "cell_type": "markdown",
      "metadata": {
        "id": "Tajfsk_7JY3E"
      },
      "source": [
        "**Note to grader:** Each question consists of parts, e.g. Q1(i), Q1(ii), etc. Each part must be first graded  on a 0-4 scale, following the standard NJIT convention (A:4, B+: 3.5, B:3, C+: 2.5, C: 2, D:1, F:0). However, any given item may be worth 4 or 8 points; if an item is worth 8 points, you need to accordingly scale the 0-4 grade.\n",
        "\n",
        "\n",
        "The total score must be re-scaled to 100. That should apply to all future assignments so that Canvas assigns the same weight on all assignments.\n",
        "\n"
      ]
    },
    {
      "cell_type": "code",
      "source": [],
      "metadata": {
        "id": "0Uu7nzJ2TOpb"
      },
      "execution_count": null,
      "outputs": []
    },
    {
      "cell_type": "markdown",
      "metadata": {
        "id": "tM4S-f_uIPIV"
      },
      "source": [
        "**Installing and Importing required modules**"
      ]
    },
    {
      "cell_type": "code",
      "execution_count": 1,
      "metadata": {
        "colab": {
          "base_uri": "https://localhost:8080/"
        },
        "id": "sL0zlEqawx8j",
        "outputId": "203a3283-62f0-46c2-c6c9-77da938f1da9"
      },
      "outputs": [
        {
          "output_type": "stream",
          "name": "stdout",
          "text": [
            "Collecting d2l==0.16.1\n",
            "  Downloading d2l-0.16.1-py3-none-any.whl.metadata (322 bytes)\n",
            "Collecting jupyter (from d2l==0.16.1)\n",
            "  Downloading jupyter-1.1.1-py2.py3-none-any.whl.metadata (2.0 kB)\n",
            "Requirement already satisfied: numpy in /usr/local/lib/python3.11/dist-packages (from d2l==0.16.1) (1.26.4)\n",
            "Requirement already satisfied: matplotlib in /usr/local/lib/python3.11/dist-packages (from d2l==0.16.1) (3.10.0)\n",
            "Requirement already satisfied: pandas in /usr/local/lib/python3.11/dist-packages (from d2l==0.16.1) (2.2.2)\n",
            "Requirement already satisfied: notebook in /usr/local/lib/python3.11/dist-packages (from jupyter->d2l==0.16.1) (6.5.5)\n",
            "Requirement already satisfied: jupyter-console in /usr/local/lib/python3.11/dist-packages (from jupyter->d2l==0.16.1) (6.1.0)\n",
            "Requirement already satisfied: nbconvert in /usr/local/lib/python3.11/dist-packages (from jupyter->d2l==0.16.1) (7.16.6)\n",
            "Requirement already satisfied: ipykernel in /usr/local/lib/python3.11/dist-packages (from jupyter->d2l==0.16.1) (6.17.1)\n",
            "Requirement already satisfied: ipywidgets in /usr/local/lib/python3.11/dist-packages (from jupyter->d2l==0.16.1) (7.7.1)\n",
            "Collecting jupyterlab (from jupyter->d2l==0.16.1)\n",
            "  Downloading jupyterlab-4.3.5-py3-none-any.whl.metadata (16 kB)\n",
            "Requirement already satisfied: contourpy>=1.0.1 in /usr/local/lib/python3.11/dist-packages (from matplotlib->d2l==0.16.1) (1.3.1)\n",
            "Requirement already satisfied: cycler>=0.10 in /usr/local/lib/python3.11/dist-packages (from matplotlib->d2l==0.16.1) (0.12.1)\n",
            "Requirement already satisfied: fonttools>=4.22.0 in /usr/local/lib/python3.11/dist-packages (from matplotlib->d2l==0.16.1) (4.56.0)\n",
            "Requirement already satisfied: kiwisolver>=1.3.1 in /usr/local/lib/python3.11/dist-packages (from matplotlib->d2l==0.16.1) (1.4.8)\n",
            "Requirement already satisfied: packaging>=20.0 in /usr/local/lib/python3.11/dist-packages (from matplotlib->d2l==0.16.1) (24.2)\n",
            "Requirement already satisfied: pillow>=8 in /usr/local/lib/python3.11/dist-packages (from matplotlib->d2l==0.16.1) (11.1.0)\n",
            "Requirement already satisfied: pyparsing>=2.3.1 in /usr/local/lib/python3.11/dist-packages (from matplotlib->d2l==0.16.1) (3.2.1)\n",
            "Requirement already satisfied: python-dateutil>=2.7 in /usr/local/lib/python3.11/dist-packages (from matplotlib->d2l==0.16.1) (2.8.2)\n",
            "Requirement already satisfied: pytz>=2020.1 in /usr/local/lib/python3.11/dist-packages (from pandas->d2l==0.16.1) (2025.1)\n",
            "Requirement already satisfied: tzdata>=2022.7 in /usr/local/lib/python3.11/dist-packages (from pandas->d2l==0.16.1) (2025.1)\n",
            "Requirement already satisfied: six>=1.5 in /usr/local/lib/python3.11/dist-packages (from python-dateutil>=2.7->matplotlib->d2l==0.16.1) (1.17.0)\n",
            "Requirement already satisfied: debugpy>=1.0 in /usr/local/lib/python3.11/dist-packages (from ipykernel->jupyter->d2l==0.16.1) (1.8.0)\n",
            "Requirement already satisfied: ipython>=7.23.1 in /usr/local/lib/python3.11/dist-packages (from ipykernel->jupyter->d2l==0.16.1) (7.34.0)\n",
            "Requirement already satisfied: jupyter-client>=6.1.12 in /usr/local/lib/python3.11/dist-packages (from ipykernel->jupyter->d2l==0.16.1) (6.1.12)\n",
            "Requirement already satisfied: matplotlib-inline>=0.1 in /usr/local/lib/python3.11/dist-packages (from ipykernel->jupyter->d2l==0.16.1) (0.1.7)\n",
            "Requirement already satisfied: nest-asyncio in /usr/local/lib/python3.11/dist-packages (from ipykernel->jupyter->d2l==0.16.1) (1.6.0)\n",
            "Requirement already satisfied: psutil in /usr/local/lib/python3.11/dist-packages (from ipykernel->jupyter->d2l==0.16.1) (5.9.5)\n",
            "Requirement already satisfied: pyzmq>=17 in /usr/local/lib/python3.11/dist-packages (from ipykernel->jupyter->d2l==0.16.1) (24.0.1)\n",
            "Requirement already satisfied: tornado>=6.1 in /usr/local/lib/python3.11/dist-packages (from ipykernel->jupyter->d2l==0.16.1) (6.4.2)\n",
            "Requirement already satisfied: traitlets>=5.1.0 in /usr/local/lib/python3.11/dist-packages (from ipykernel->jupyter->d2l==0.16.1) (5.7.1)\n",
            "Requirement already satisfied: ipython-genutils~=0.2.0 in /usr/local/lib/python3.11/dist-packages (from ipywidgets->jupyter->d2l==0.16.1) (0.2.0)\n",
            "Requirement already satisfied: widgetsnbextension~=3.6.0 in /usr/local/lib/python3.11/dist-packages (from ipywidgets->jupyter->d2l==0.16.1) (3.6.10)\n",
            "Requirement already satisfied: jupyterlab-widgets>=1.0.0 in /usr/local/lib/python3.11/dist-packages (from ipywidgets->jupyter->d2l==0.16.1) (3.0.13)\n",
            "Requirement already satisfied: prompt-toolkit!=3.0.0,!=3.0.1,<3.1.0,>=2.0.0 in /usr/local/lib/python3.11/dist-packages (from jupyter-console->jupyter->d2l==0.16.1) (3.0.50)\n",
            "Requirement already satisfied: pygments in /usr/local/lib/python3.11/dist-packages (from jupyter-console->jupyter->d2l==0.16.1) (2.18.0)\n",
            "Collecting async-lru>=1.0.0 (from jupyterlab->jupyter->d2l==0.16.1)\n",
            "  Downloading async_lru-2.0.4-py3-none-any.whl.metadata (4.5 kB)\n",
            "Requirement already satisfied: httpx>=0.25.0 in /usr/local/lib/python3.11/dist-packages (from jupyterlab->jupyter->d2l==0.16.1) (0.28.1)\n",
            "Requirement already satisfied: jinja2>=3.0.3 in /usr/local/lib/python3.11/dist-packages (from jupyterlab->jupyter->d2l==0.16.1) (3.1.5)\n",
            "Requirement already satisfied: jupyter-core in /usr/local/lib/python3.11/dist-packages (from jupyterlab->jupyter->d2l==0.16.1) (5.7.2)\n",
            "Collecting jupyter-lsp>=2.0.0 (from jupyterlab->jupyter->d2l==0.16.1)\n",
            "  Downloading jupyter_lsp-2.2.5-py3-none-any.whl.metadata (1.8 kB)\n",
            "Collecting jupyter-server<3,>=2.4.0 (from jupyterlab->jupyter->d2l==0.16.1)\n",
            "  Downloading jupyter_server-2.15.0-py3-none-any.whl.metadata (8.4 kB)\n",
            "Collecting jupyterlab-server<3,>=2.27.1 (from jupyterlab->jupyter->d2l==0.16.1)\n",
            "  Downloading jupyterlab_server-2.27.3-py3-none-any.whl.metadata (5.9 kB)\n",
            "Requirement already satisfied: notebook-shim>=0.2 in /usr/local/lib/python3.11/dist-packages (from jupyterlab->jupyter->d2l==0.16.1) (0.2.4)\n",
            "Requirement already satisfied: setuptools>=40.8.0 in /usr/local/lib/python3.11/dist-packages (from jupyterlab->jupyter->d2l==0.16.1) (75.1.0)\n",
            "Requirement already satisfied: beautifulsoup4 in /usr/local/lib/python3.11/dist-packages (from nbconvert->jupyter->d2l==0.16.1) (4.13.3)\n",
            "Requirement already satisfied: bleach!=5.0.0 in /usr/local/lib/python3.11/dist-packages (from bleach[css]!=5.0.0->nbconvert->jupyter->d2l==0.16.1) (6.2.0)\n",
            "Requirement already satisfied: defusedxml in /usr/local/lib/python3.11/dist-packages (from nbconvert->jupyter->d2l==0.16.1) (0.7.1)\n",
            "Requirement already satisfied: jupyterlab-pygments in /usr/local/lib/python3.11/dist-packages (from nbconvert->jupyter->d2l==0.16.1) (0.3.0)\n",
            "Requirement already satisfied: markupsafe>=2.0 in /usr/local/lib/python3.11/dist-packages (from nbconvert->jupyter->d2l==0.16.1) (3.0.2)\n",
            "Requirement already satisfied: mistune<4,>=2.0.3 in /usr/local/lib/python3.11/dist-packages (from nbconvert->jupyter->d2l==0.16.1) (3.1.2)\n",
            "Requirement already satisfied: nbclient>=0.5.0 in /usr/local/lib/python3.11/dist-packages (from nbconvert->jupyter->d2l==0.16.1) (0.10.2)\n",
            "Requirement already satisfied: nbformat>=5.7 in /usr/local/lib/python3.11/dist-packages (from nbconvert->jupyter->d2l==0.16.1) (5.10.4)\n",
            "Requirement already satisfied: pandocfilters>=1.4.1 in /usr/local/lib/python3.11/dist-packages (from nbconvert->jupyter->d2l==0.16.1) (1.5.1)\n",
            "Requirement already satisfied: argon2-cffi in /usr/local/lib/python3.11/dist-packages (from notebook->jupyter->d2l==0.16.1) (23.1.0)\n",
            "Requirement already satisfied: Send2Trash>=1.8.0 in /usr/local/lib/python3.11/dist-packages (from notebook->jupyter->d2l==0.16.1) (1.8.3)\n",
            "Requirement already satisfied: terminado>=0.8.3 in /usr/local/lib/python3.11/dist-packages (from notebook->jupyter->d2l==0.16.1) (0.18.1)\n",
            "Requirement already satisfied: prometheus-client in /usr/local/lib/python3.11/dist-packages (from notebook->jupyter->d2l==0.16.1) (0.21.1)\n",
            "Requirement already satisfied: nbclassic>=0.4.7 in /usr/local/lib/python3.11/dist-packages (from notebook->jupyter->d2l==0.16.1) (1.2.0)\n",
            "Requirement already satisfied: webencodings in /usr/local/lib/python3.11/dist-packages (from bleach!=5.0.0->bleach[css]!=5.0.0->nbconvert->jupyter->d2l==0.16.1) (0.5.1)\n",
            "Requirement already satisfied: tinycss2<1.5,>=1.1.0 in /usr/local/lib/python3.11/dist-packages (from bleach[css]!=5.0.0->nbconvert->jupyter->d2l==0.16.1) (1.4.0)\n",
            "Requirement already satisfied: anyio in /usr/local/lib/python3.11/dist-packages (from httpx>=0.25.0->jupyterlab->jupyter->d2l==0.16.1) (3.7.1)\n",
            "Requirement already satisfied: certifi in /usr/local/lib/python3.11/dist-packages (from httpx>=0.25.0->jupyterlab->jupyter->d2l==0.16.1) (2025.1.31)\n",
            "Requirement already satisfied: httpcore==1.* in /usr/local/lib/python3.11/dist-packages (from httpx>=0.25.0->jupyterlab->jupyter->d2l==0.16.1) (1.0.7)\n",
            "Requirement already satisfied: idna in /usr/local/lib/python3.11/dist-packages (from httpx>=0.25.0->jupyterlab->jupyter->d2l==0.16.1) (3.10)\n",
            "Requirement already satisfied: h11<0.15,>=0.13 in /usr/local/lib/python3.11/dist-packages (from httpcore==1.*->httpx>=0.25.0->jupyterlab->jupyter->d2l==0.16.1) (0.14.0)\n",
            "Collecting jedi>=0.16 (from ipython>=7.23.1->ipykernel->jupyter->d2l==0.16.1)\n",
            "  Downloading jedi-0.19.2-py2.py3-none-any.whl.metadata (22 kB)\n",
            "Requirement already satisfied: decorator in /usr/local/lib/python3.11/dist-packages (from ipython>=7.23.1->ipykernel->jupyter->d2l==0.16.1) (4.4.2)\n",
            "Requirement already satisfied: pickleshare in /usr/local/lib/python3.11/dist-packages (from ipython>=7.23.1->ipykernel->jupyter->d2l==0.16.1) (0.7.5)\n",
            "Requirement already satisfied: backcall in /usr/local/lib/python3.11/dist-packages (from ipython>=7.23.1->ipykernel->jupyter->d2l==0.16.1) (0.2.0)\n",
            "Requirement already satisfied: pexpect>4.3 in /usr/local/lib/python3.11/dist-packages (from ipython>=7.23.1->ipykernel->jupyter->d2l==0.16.1) (4.9.0)\n",
            "Requirement already satisfied: platformdirs>=2.5 in /usr/local/lib/python3.11/dist-packages (from jupyter-core->jupyterlab->jupyter->d2l==0.16.1) (4.3.6)\n",
            "Collecting jupyter-client>=6.1.12 (from ipykernel->jupyter->d2l==0.16.1)\n",
            "  Downloading jupyter_client-7.4.9-py3-none-any.whl.metadata (8.5 kB)\n",
            "Collecting jupyter-events>=0.11.0 (from jupyter-server<3,>=2.4.0->jupyterlab->jupyter->d2l==0.16.1)\n",
            "  Downloading jupyter_events-0.12.0-py3-none-any.whl.metadata (5.8 kB)\n",
            "Collecting jupyter-server-terminals>=0.4.4 (from jupyter-server<3,>=2.4.0->jupyterlab->jupyter->d2l==0.16.1)\n",
            "  Downloading jupyter_server_terminals-0.5.3-py3-none-any.whl.metadata (5.6 kB)\n",
            "Collecting overrides>=5.0 (from jupyter-server<3,>=2.4.0->jupyterlab->jupyter->d2l==0.16.1)\n",
            "  Downloading overrides-7.7.0-py3-none-any.whl.metadata (5.8 kB)\n",
            "Requirement already satisfied: websocket-client>=1.7 in /usr/local/lib/python3.11/dist-packages (from jupyter-server<3,>=2.4.0->jupyterlab->jupyter->d2l==0.16.1) (1.8.0)\n",
            "Requirement already satisfied: argon2-cffi-bindings in /usr/local/lib/python3.11/dist-packages (from argon2-cffi->notebook->jupyter->d2l==0.16.1) (21.2.0)\n",
            "Requirement already satisfied: entrypoints in /usr/local/lib/python3.11/dist-packages (from jupyter-client>=6.1.12->ipykernel->jupyter->d2l==0.16.1) (0.4)\n",
            "Requirement already satisfied: babel>=2.10 in /usr/local/lib/python3.11/dist-packages (from jupyterlab-server<3,>=2.27.1->jupyterlab->jupyter->d2l==0.16.1) (2.17.0)\n",
            "Collecting json5>=0.9.0 (from jupyterlab-server<3,>=2.27.1->jupyterlab->jupyter->d2l==0.16.1)\n",
            "  Downloading json5-0.10.0-py3-none-any.whl.metadata (34 kB)\n",
            "Requirement already satisfied: jsonschema>=4.18.0 in /usr/local/lib/python3.11/dist-packages (from jupyterlab-server<3,>=2.27.1->jupyterlab->jupyter->d2l==0.16.1) (4.23.0)\n",
            "Requirement already satisfied: requests>=2.31 in /usr/local/lib/python3.11/dist-packages (from jupyterlab-server<3,>=2.27.1->jupyterlab->jupyter->d2l==0.16.1) (2.32.3)\n",
            "Requirement already satisfied: fastjsonschema>=2.15 in /usr/local/lib/python3.11/dist-packages (from nbformat>=5.7->nbconvert->jupyter->d2l==0.16.1) (2.21.1)\n",
            "Requirement already satisfied: wcwidth in /usr/local/lib/python3.11/dist-packages (from prompt-toolkit!=3.0.0,!=3.0.1,<3.1.0,>=2.0.0->jupyter-console->jupyter->d2l==0.16.1) (0.2.13)\n",
            "Requirement already satisfied: ptyprocess in /usr/local/lib/python3.11/dist-packages (from terminado>=0.8.3->notebook->jupyter->d2l==0.16.1) (0.7.0)\n",
            "Requirement already satisfied: soupsieve>1.2 in /usr/local/lib/python3.11/dist-packages (from beautifulsoup4->nbconvert->jupyter->d2l==0.16.1) (2.6)\n",
            "Requirement already satisfied: typing-extensions>=4.0.0 in /usr/local/lib/python3.11/dist-packages (from beautifulsoup4->nbconvert->jupyter->d2l==0.16.1) (4.12.2)\n",
            "Requirement already satisfied: sniffio>=1.1 in /usr/local/lib/python3.11/dist-packages (from anyio->httpx>=0.25.0->jupyterlab->jupyter->d2l==0.16.1) (1.3.1)\n",
            "Requirement already satisfied: parso<0.9.0,>=0.8.4 in /usr/local/lib/python3.11/dist-packages (from jedi>=0.16->ipython>=7.23.1->ipykernel->jupyter->d2l==0.16.1) (0.8.4)\n",
            "Requirement already satisfied: attrs>=22.2.0 in /usr/local/lib/python3.11/dist-packages (from jsonschema>=4.18.0->jupyterlab-server<3,>=2.27.1->jupyterlab->jupyter->d2l==0.16.1) (25.1.0)\n",
            "Requirement already satisfied: jsonschema-specifications>=2023.03.6 in /usr/local/lib/python3.11/dist-packages (from jsonschema>=4.18.0->jupyterlab-server<3,>=2.27.1->jupyterlab->jupyter->d2l==0.16.1) (2024.10.1)\n",
            "Requirement already satisfied: referencing>=0.28.4 in /usr/local/lib/python3.11/dist-packages (from jsonschema>=4.18.0->jupyterlab-server<3,>=2.27.1->jupyterlab->jupyter->d2l==0.16.1) (0.36.2)\n",
            "Requirement already satisfied: rpds-py>=0.7.1 in /usr/local/lib/python3.11/dist-packages (from jsonschema>=4.18.0->jupyterlab-server<3,>=2.27.1->jupyterlab->jupyter->d2l==0.16.1) (0.23.1)\n",
            "Collecting python-json-logger>=2.0.4 (from jupyter-events>=0.11.0->jupyter-server<3,>=2.4.0->jupyterlab->jupyter->d2l==0.16.1)\n",
            "  Downloading python_json_logger-3.2.1-py3-none-any.whl.metadata (4.1 kB)\n",
            "Requirement already satisfied: pyyaml>=5.3 in /usr/local/lib/python3.11/dist-packages (from jupyter-events>=0.11.0->jupyter-server<3,>=2.4.0->jupyterlab->jupyter->d2l==0.16.1) (6.0.2)\n",
            "Collecting rfc3339-validator (from jupyter-events>=0.11.0->jupyter-server<3,>=2.4.0->jupyterlab->jupyter->d2l==0.16.1)\n",
            "  Downloading rfc3339_validator-0.1.4-py2.py3-none-any.whl.metadata (1.5 kB)\n",
            "Collecting rfc3986-validator>=0.1.1 (from jupyter-events>=0.11.0->jupyter-server<3,>=2.4.0->jupyterlab->jupyter->d2l==0.16.1)\n",
            "  Downloading rfc3986_validator-0.1.1-py2.py3-none-any.whl.metadata (1.7 kB)\n",
            "Requirement already satisfied: charset-normalizer<4,>=2 in /usr/local/lib/python3.11/dist-packages (from requests>=2.31->jupyterlab-server<3,>=2.27.1->jupyterlab->jupyter->d2l==0.16.1) (3.4.1)\n",
            "Requirement already satisfied: urllib3<3,>=1.21.1 in /usr/local/lib/python3.11/dist-packages (from requests>=2.31->jupyterlab-server<3,>=2.27.1->jupyterlab->jupyter->d2l==0.16.1) (2.3.0)\n",
            "Requirement already satisfied: cffi>=1.0.1 in /usr/local/lib/python3.11/dist-packages (from argon2-cffi-bindings->argon2-cffi->notebook->jupyter->d2l==0.16.1) (1.17.1)\n",
            "Requirement already satisfied: pycparser in /usr/local/lib/python3.11/dist-packages (from cffi>=1.0.1->argon2-cffi-bindings->argon2-cffi->notebook->jupyter->d2l==0.16.1) (2.22)\n",
            "Collecting fqdn (from jsonschema[format-nongpl]>=4.18.0->jupyter-events>=0.11.0->jupyter-server<3,>=2.4.0->jupyterlab->jupyter->d2l==0.16.1)\n",
            "  Downloading fqdn-1.5.1-py3-none-any.whl.metadata (1.4 kB)\n",
            "Collecting isoduration (from jsonschema[format-nongpl]>=4.18.0->jupyter-events>=0.11.0->jupyter-server<3,>=2.4.0->jupyterlab->jupyter->d2l==0.16.1)\n",
            "  Downloading isoduration-20.11.0-py3-none-any.whl.metadata (5.7 kB)\n",
            "Requirement already satisfied: jsonpointer>1.13 in /usr/local/lib/python3.11/dist-packages (from jsonschema[format-nongpl]>=4.18.0->jupyter-events>=0.11.0->jupyter-server<3,>=2.4.0->jupyterlab->jupyter->d2l==0.16.1) (3.0.0)\n",
            "Collecting uri-template (from jsonschema[format-nongpl]>=4.18.0->jupyter-events>=0.11.0->jupyter-server<3,>=2.4.0->jupyterlab->jupyter->d2l==0.16.1)\n",
            "  Downloading uri_template-1.3.0-py3-none-any.whl.metadata (8.8 kB)\n",
            "Requirement already satisfied: webcolors>=24.6.0 in /usr/local/lib/python3.11/dist-packages (from jsonschema[format-nongpl]>=4.18.0->jupyter-events>=0.11.0->jupyter-server<3,>=2.4.0->jupyterlab->jupyter->d2l==0.16.1) (24.11.1)\n",
            "Collecting arrow>=0.15.0 (from isoduration->jsonschema[format-nongpl]>=4.18.0->jupyter-events>=0.11.0->jupyter-server<3,>=2.4.0->jupyterlab->jupyter->d2l==0.16.1)\n",
            "  Downloading arrow-1.3.0-py3-none-any.whl.metadata (7.5 kB)\n",
            "Collecting types-python-dateutil>=2.8.10 (from arrow>=0.15.0->isoduration->jsonschema[format-nongpl]>=4.18.0->jupyter-events>=0.11.0->jupyter-server<3,>=2.4.0->jupyterlab->jupyter->d2l==0.16.1)\n",
            "  Downloading types_python_dateutil-2.9.0.20241206-py3-none-any.whl.metadata (2.1 kB)\n",
            "Downloading d2l-0.16.1-py3-none-any.whl (76 kB)\n",
            "\u001b[2K   \u001b[90m━━━━━━━━━━━━━━━━━━━━━━━━━━━━━━━━━━━━━━━━\u001b[0m \u001b[32m76.7/76.7 kB\u001b[0m \u001b[31m5.6 MB/s\u001b[0m eta \u001b[36m0:00:00\u001b[0m\n",
            "\u001b[?25hDownloading jupyter-1.1.1-py2.py3-none-any.whl (2.7 kB)\n",
            "Downloading jupyterlab-4.3.5-py3-none-any.whl (11.7 MB)\n",
            "\u001b[2K   \u001b[90m━━━━━━━━━━━━━━━━━━━━━━━━━━━━━━━━━━━━━━━━\u001b[0m \u001b[32m11.7/11.7 MB\u001b[0m \u001b[31m31.6 MB/s\u001b[0m eta \u001b[36m0:00:00\u001b[0m\n",
            "\u001b[?25hDownloading async_lru-2.0.4-py3-none-any.whl (6.1 kB)\n",
            "Downloading jupyter_lsp-2.2.5-py3-none-any.whl (69 kB)\n",
            "\u001b[2K   \u001b[90m━━━━━━━━━━━━━━━━━━━━━━━━━━━━━━━━━━━━━━━━\u001b[0m \u001b[32m69.1/69.1 kB\u001b[0m \u001b[31m4.7 MB/s\u001b[0m eta \u001b[36m0:00:00\u001b[0m\n",
            "\u001b[?25hDownloading jupyter_server-2.15.0-py3-none-any.whl (385 kB)\n",
            "\u001b[2K   \u001b[90m━━━━━━━━━━━━━━━━━━━━━━━━━━━━━━━━━━━━━━━━\u001b[0m \u001b[32m385.8/385.8 kB\u001b[0m \u001b[31m26.1 MB/s\u001b[0m eta \u001b[36m0:00:00\u001b[0m\n",
            "\u001b[?25hDownloading jupyter_client-7.4.9-py3-none-any.whl (133 kB)\n",
            "\u001b[2K   \u001b[90m━━━━━━━━━━━━━━━━━━━━━━━━━━━━━━━━━━━━━━━━\u001b[0m \u001b[32m133.5/133.5 kB\u001b[0m \u001b[31m10.2 MB/s\u001b[0m eta \u001b[36m0:00:00\u001b[0m\n",
            "\u001b[?25hDownloading jupyterlab_server-2.27.3-py3-none-any.whl (59 kB)\n",
            "\u001b[2K   \u001b[90m━━━━━━━━━━━━━━━━━━━━━━━━━━━━━━━━━━━━━━━━\u001b[0m \u001b[32m59.7/59.7 kB\u001b[0m \u001b[31m1.5 MB/s\u001b[0m eta \u001b[36m0:00:00\u001b[0m\n",
            "\u001b[?25hDownloading jedi-0.19.2-py2.py3-none-any.whl (1.6 MB)\n",
            "\u001b[2K   \u001b[90m━━━━━━━━━━━━━━━━━━━━━━━━━━━━━━━━━━━━━━━━\u001b[0m \u001b[32m1.6/1.6 MB\u001b[0m \u001b[31m26.6 MB/s\u001b[0m eta \u001b[36m0:00:00\u001b[0m\n",
            "\u001b[?25hDownloading json5-0.10.0-py3-none-any.whl (34 kB)\n",
            "Downloading jupyter_events-0.12.0-py3-none-any.whl (19 kB)\n",
            "Downloading jupyter_server_terminals-0.5.3-py3-none-any.whl (13 kB)\n",
            "Downloading overrides-7.7.0-py3-none-any.whl (17 kB)\n",
            "Downloading python_json_logger-3.2.1-py3-none-any.whl (14 kB)\n",
            "Downloading rfc3986_validator-0.1.1-py2.py3-none-any.whl (4.2 kB)\n",
            "Downloading rfc3339_validator-0.1.4-py2.py3-none-any.whl (3.5 kB)\n",
            "Downloading fqdn-1.5.1-py3-none-any.whl (9.1 kB)\n",
            "Downloading isoduration-20.11.0-py3-none-any.whl (11 kB)\n",
            "Downloading uri_template-1.3.0-py3-none-any.whl (11 kB)\n",
            "Downloading arrow-1.3.0-py3-none-any.whl (66 kB)\n",
            "\u001b[2K   \u001b[90m━━━━━━━━━━━━━━━━━━━━━━━━━━━━━━━━━━━━━━━━\u001b[0m \u001b[32m66.4/66.4 kB\u001b[0m \u001b[31m2.9 MB/s\u001b[0m eta \u001b[36m0:00:00\u001b[0m\n",
            "\u001b[?25hDownloading types_python_dateutil-2.9.0.20241206-py3-none-any.whl (14 kB)\n",
            "Installing collected packages: uri-template, types-python-dateutil, rfc3986-validator, rfc3339-validator, python-json-logger, overrides, json5, jedi, fqdn, async-lru, jupyter-server-terminals, jupyter-client, arrow, isoduration, jupyter-events, jupyter-server, jupyterlab-server, jupyter-lsp, jupyterlab, jupyter, d2l\n",
            "  Attempting uninstall: jupyter-client\n",
            "    Found existing installation: jupyter-client 6.1.12\n",
            "    Uninstalling jupyter-client-6.1.12:\n",
            "      Successfully uninstalled jupyter-client-6.1.12\n",
            "  Attempting uninstall: jupyter-server\n",
            "    Found existing installation: jupyter-server 1.24.0\n",
            "    Uninstalling jupyter-server-1.24.0:\n",
            "      Successfully uninstalled jupyter-server-1.24.0\n",
            "Successfully installed arrow-1.3.0 async-lru-2.0.4 d2l-0.16.1 fqdn-1.5.1 isoduration-20.11.0 jedi-0.19.2 json5-0.10.0 jupyter-1.1.1 jupyter-client-7.4.9 jupyter-events-0.12.0 jupyter-lsp-2.2.5 jupyter-server-2.15.0 jupyter-server-terminals-0.5.3 jupyterlab-4.3.5 jupyterlab-server-2.27.3 overrides-7.7.0 python-json-logger-3.2.1 rfc3339-validator-0.1.4 rfc3986-validator-0.1.1 types-python-dateutil-2.9.0.20241206 uri-template-1.3.0\n"
          ]
        }
      ],
      "source": [
        "!pip install d2l==0.16.1\n"
      ]
    },
    {
      "cell_type": "code",
      "execution_count": 2,
      "metadata": {
        "id": "IcjhsETdwx8k"
      },
      "outputs": [],
      "source": [
        "from d2l import torch as d2l\n",
        "import torch\n",
        "from torch import nn"
      ]
    },
    {
      "cell_type": "markdown",
      "metadata": {
        "id": "PIM4vA8Osh1E"
      },
      "source": [
        "# <font color = 'blue'>  **Assignment 3**\n",
        "\n",
        "This assignment tries to further develop your understanding of Convolutional Neural Networks. The notebook is based on the Alexnet noteebook from lecture 4.\n"
      ]
    },
    {
      "cell_type": "code",
      "execution_count": 3,
      "metadata": {
        "id": "i4ulUTAf_K7Z"
      },
      "outputs": [],
      "source": [
        "\n",
        "net = nn.Sequential(\n",
        "    # Here, we use a larger 11 x 11 window to capture objects. At the same\n",
        "    # time, we use a stride of 4 to greatly reduce the height and width of the\n",
        "    # output. Here, the number of output channels is much larger than that in\n",
        "    # LeNet\n",
        "    nn.Conv2d(1, 96, kernel_size=11, stride=4, padding=1), nn.ReLU(),\n",
        "    nn.MaxPool2d(kernel_size=3, stride=2),\n",
        "    # Make the convolution window smaller, set padding to 2 for consistent\n",
        "    # height and width across the input and output, and increase the number of\n",
        "    # output channels\n",
        "    nn.Conv2d(96, 256, kernel_size=5, padding=2), nn.ReLU(),\n",
        "    nn.MaxPool2d(kernel_size=3, stride=2),\n",
        "    # Use three successive convolutional layers and a smaller convolution\n",
        "    # window. Except for the final convolutional layer, the number of output\n",
        "    # channels is further increased. Pooling layers are not used to reduce the\n",
        "    # height and width of input after the first two convolutional layers\n",
        "    nn.Conv2d(256, 384, kernel_size=3, padding=1), nn.ReLU(),\n",
        "    nn.Conv2d(384, 384, kernel_size=3, padding=1), nn.ReLU(),\n",
        "    nn.Conv2d(384, 256, kernel_size=3, padding=1), nn.ReLU(),\n",
        "    nn.MaxPool2d(kernel_size=3, stride=2),\n",
        "    nn.Flatten(),\n",
        "    # Here, the number of outputs of the fully-connected layer is several\n",
        "    # times larger than that in LeNet. Use the dropout layer to mitigate\n",
        "    # overfitting\n",
        "    nn.Linear(6400, 4096), nn.ReLU(),\n",
        "    nn.Dropout(p=0.5),\n",
        "    nn.Linear(4096, 4096), nn.ReLU(),\n",
        "    nn.Dropout(p=0.5),\n",
        "    # Output layer. Since we are using Fashion-MNIST, the number of classes is\n",
        "    # 10, instead of 1000 as in the paper\n",
        "    nn.Linear(4096, 10))"
      ]
    },
    {
      "cell_type": "markdown",
      "metadata": {
        "id": "RyP2wN_b_K7a"
      },
      "source": [
        "We construct a single-channel data example with both height and width of 224 to observe the output shape of each layer.\n"
      ]
    },
    {
      "cell_type": "code",
      "execution_count": 4,
      "metadata": {
        "colab": {
          "base_uri": "https://localhost:8080/"
        },
        "id": "eQZEKRZ3_K7b",
        "outputId": "e962c3fc-7ada-42be-8aa2-be34906f6209"
      },
      "outputs": [
        {
          "output_type": "stream",
          "name": "stdout",
          "text": [
            "Conv2d Output shape:\t torch.Size([1, 96, 54, 54])\n",
            "ReLU Output shape:\t torch.Size([1, 96, 54, 54])\n",
            "MaxPool2d Output shape:\t torch.Size([1, 96, 26, 26])\n",
            "Conv2d Output shape:\t torch.Size([1, 256, 26, 26])\n",
            "ReLU Output shape:\t torch.Size([1, 256, 26, 26])\n",
            "MaxPool2d Output shape:\t torch.Size([1, 256, 12, 12])\n",
            "Conv2d Output shape:\t torch.Size([1, 384, 12, 12])\n",
            "ReLU Output shape:\t torch.Size([1, 384, 12, 12])\n",
            "Conv2d Output shape:\t torch.Size([1, 384, 12, 12])\n",
            "ReLU Output shape:\t torch.Size([1, 384, 12, 12])\n",
            "Conv2d Output shape:\t torch.Size([1, 256, 12, 12])\n",
            "ReLU Output shape:\t torch.Size([1, 256, 12, 12])\n",
            "MaxPool2d Output shape:\t torch.Size([1, 256, 5, 5])\n",
            "Flatten Output shape:\t torch.Size([1, 6400])\n",
            "Linear Output shape:\t torch.Size([1, 4096])\n",
            "ReLU Output shape:\t torch.Size([1, 4096])\n",
            "Dropout Output shape:\t torch.Size([1, 4096])\n",
            "Linear Output shape:\t torch.Size([1, 4096])\n",
            "ReLU Output shape:\t torch.Size([1, 4096])\n",
            "Dropout Output shape:\t torch.Size([1, 4096])\n",
            "Linear Output shape:\t torch.Size([1, 10])\n"
          ]
        }
      ],
      "source": [
        "X = torch.randn(1, 1, 224, 224)\n",
        "for layer in net:\n",
        "    X=layer(X)\n",
        "    print(layer.__class__.__name__,'Output shape:\\t',X.shape)"
      ]
    },
    {
      "cell_type": "markdown",
      "metadata": {
        "id": "g7vFD0Tw_K7c"
      },
      "source": [
        "## Reading the Dataset\n",
        "\n",
        "Although AlexNet is trained on ImageNet in the paper, we use Fashion-MNIST here\n",
        "since training an ImageNet model to convergence could take hours or days\n",
        "even on a modern GPU.\n",
        "One of the problems with applying AlexNet directly on Fashion-MNIST\n",
        "is that its images have lower resolution ($28 \\times 28$ pixels)\n",
        "than ImageNet images.\n",
        "To make things work, we upsample them to $224 \\times 224$\n",
        "(generally not a smart practice,\n",
        "but we do it here to be faithful to the AlexNet architecture).\n",
        "We perform this resizing with the `resize` argument in the `d2l.load_data_fashion_mnist` function.\n"
      ]
    },
    {
      "cell_type": "code",
      "execution_count": 5,
      "metadata": {
        "colab": {
          "base_uri": "https://localhost:8080/"
        },
        "id": "E8UtQU5I_K7c",
        "outputId": "d016fc3f-9482-4364-9915-c14963a5420d"
      },
      "outputs": [
        {
          "output_type": "stream",
          "name": "stdout",
          "text": [
            "Downloading http://fashion-mnist.s3-website.eu-central-1.amazonaws.com/train-images-idx3-ubyte.gz\n",
            "Downloading http://fashion-mnist.s3-website.eu-central-1.amazonaws.com/train-images-idx3-ubyte.gz to ../data/FashionMNIST/raw/train-images-idx3-ubyte.gz\n"
          ]
        },
        {
          "output_type": "stream",
          "name": "stderr",
          "text": [
            "100%|██████████| 26.4M/26.4M [00:02<00:00, 11.8MB/s]\n"
          ]
        },
        {
          "output_type": "stream",
          "name": "stdout",
          "text": [
            "Extracting ../data/FashionMNIST/raw/train-images-idx3-ubyte.gz to ../data/FashionMNIST/raw\n",
            "\n",
            "Downloading http://fashion-mnist.s3-website.eu-central-1.amazonaws.com/train-labels-idx1-ubyte.gz\n",
            "Downloading http://fashion-mnist.s3-website.eu-central-1.amazonaws.com/train-labels-idx1-ubyte.gz to ../data/FashionMNIST/raw/train-labels-idx1-ubyte.gz\n"
          ]
        },
        {
          "output_type": "stream",
          "name": "stderr",
          "text": [
            "100%|██████████| 29.5k/29.5k [00:00<00:00, 199kB/s]\n"
          ]
        },
        {
          "output_type": "stream",
          "name": "stdout",
          "text": [
            "Extracting ../data/FashionMNIST/raw/train-labels-idx1-ubyte.gz to ../data/FashionMNIST/raw\n",
            "\n",
            "Downloading http://fashion-mnist.s3-website.eu-central-1.amazonaws.com/t10k-images-idx3-ubyte.gz\n",
            "Downloading http://fashion-mnist.s3-website.eu-central-1.amazonaws.com/t10k-images-idx3-ubyte.gz to ../data/FashionMNIST/raw/t10k-images-idx3-ubyte.gz\n"
          ]
        },
        {
          "output_type": "stream",
          "name": "stderr",
          "text": [
            "100%|██████████| 4.42M/4.42M [00:01<00:00, 3.69MB/s]\n"
          ]
        },
        {
          "output_type": "stream",
          "name": "stdout",
          "text": [
            "Extracting ../data/FashionMNIST/raw/t10k-images-idx3-ubyte.gz to ../data/FashionMNIST/raw\n",
            "\n",
            "Downloading http://fashion-mnist.s3-website.eu-central-1.amazonaws.com/t10k-labels-idx1-ubyte.gz\n",
            "Downloading http://fashion-mnist.s3-website.eu-central-1.amazonaws.com/t10k-labels-idx1-ubyte.gz to ../data/FashionMNIST/raw/t10k-labels-idx1-ubyte.gz\n"
          ]
        },
        {
          "output_type": "stream",
          "name": "stderr",
          "text": [
            "100%|██████████| 5.15k/5.15k [00:00<00:00, 9.31MB/s]"
          ]
        },
        {
          "output_type": "stream",
          "name": "stdout",
          "text": [
            "Extracting ../data/FashionMNIST/raw/t10k-labels-idx1-ubyte.gz to ../data/FashionMNIST/raw\n",
            "\n"
          ]
        },
        {
          "output_type": "stream",
          "name": "stderr",
          "text": [
            "\n",
            "/usr/local/lib/python3.11/dist-packages/torch/utils/data/dataloader.py:617: UserWarning: This DataLoader will create 4 worker processes in total. Our suggested max number of worker in current system is 2, which is smaller than what this DataLoader is going to create. Please be aware that excessive worker creation might get DataLoader running slow or even freeze, lower the worker number to avoid potential slowness/freeze if necessary.\n",
            "  warnings.warn(\n"
          ]
        }
      ],
      "source": [
        "batch_size = 128\n",
        "train_iter, test_iter = d2l.load_data_fashion_mnist(batch_size, resize=224)"
      ]
    },
    {
      "cell_type": "code",
      "execution_count": 6,
      "metadata": {
        "colab": {
          "base_uri": "https://localhost:8080/",
          "height": 300
        },
        "id": "-aBsApjq_K7d",
        "outputId": "a2a909a4-ab97-4418-cb03-61aae374a77d"
      },
      "outputs": [
        {
          "output_type": "stream",
          "name": "stdout",
          "text": [
            "loss 0.326, train acc 0.880, test acc 0.883\n",
            "1480.3 examples/sec on cuda:0\n"
          ]
        },
        {
          "output_type": "display_data",
          "data": {
            "text/plain": [
              "<Figure size 350x250 with 1 Axes>"
            ],
            "image/svg+xml": "<?xml version=\"1.0\" encoding=\"utf-8\" standalone=\"no\"?>\n<!DOCTYPE svg PUBLIC \"-//W3C//DTD SVG 1.1//EN\"\n  \"http://www.w3.org/Graphics/SVG/1.1/DTD/svg11.dtd\">\n<svg xmlns:xlink=\"http://www.w3.org/1999/xlink\" width=\"238.965625pt\" height=\"183.35625pt\" viewBox=\"0 0 238.965625 183.35625\" xmlns=\"http://www.w3.org/2000/svg\" version=\"1.1\">\n <metadata>\n  <rdf:RDF xmlns:dc=\"http://purl.org/dc/elements/1.1/\" xmlns:cc=\"http://creativecommons.org/ns#\" xmlns:rdf=\"http://www.w3.org/1999/02/22-rdf-syntax-ns#\">\n   <cc:Work>\n    <dc:type rdf:resource=\"http://purl.org/dc/dcmitype/StillImage\"/>\n    <dc:date>2025-03-01T16:52:37.521263</dc:date>\n    <dc:format>image/svg+xml</dc:format>\n    <dc:creator>\n     <cc:Agent>\n      <dc:title>Matplotlib v3.10.0, https://matplotlib.org/</dc:title>\n     </cc:Agent>\n    </dc:creator>\n   </cc:Work>\n  </rdf:RDF>\n </metadata>\n <defs>\n  <style type=\"text/css\">*{stroke-linejoin: round; stroke-linecap: butt}</style>\n </defs>\n <g id=\"figure_1\">\n  <g id=\"patch_1\">\n   <path d=\"M 0 183.35625 \nL 238.965625 183.35625 \nL 238.965625 0 \nL 0 0 \nz\n\" style=\"fill: #ffffff\"/>\n  </g>\n  <g id=\"axes_1\">\n   <g id=\"patch_2\">\n    <path d=\"M 30.103125 145.8 \nL 225.403125 145.8 \nL 225.403125 7.2 \nL 30.103125 7.2 \nz\n\" style=\"fill: #ffffff\"/>\n   </g>\n   <g id=\"matplotlib.axis_1\">\n    <g id=\"xtick_1\">\n     <g id=\"line2d_1\">\n      <path d=\"M 51.803125 145.8 \nL 51.803125 7.2 \n\" clip-path=\"url(#p69819f0214)\" style=\"fill: none; stroke: #b0b0b0; stroke-width: 0.8; stroke-linecap: square\"/>\n     </g>\n     <g id=\"line2d_2\">\n      <defs>\n       <path id=\"m8a96744b49\" d=\"M 0 0 \nL 0 3.5 \n\" style=\"stroke: #000000; stroke-width: 0.8\"/>\n      </defs>\n      <g>\n       <use xlink:href=\"#m8a96744b49\" x=\"51.803125\" y=\"145.8\" style=\"stroke: #000000; stroke-width: 0.8\"/>\n      </g>\n     </g>\n     <g id=\"text_1\">\n      <!-- 2 -->\n      <g transform=\"translate(48.621875 160.398438) scale(0.1 -0.1)\">\n       <defs>\n        <path id=\"DejaVuSans-32\" d=\"M 1228 531 \nL 3431 531 \nL 3431 0 \nL 469 0 \nL 469 531 \nQ 828 903 1448 1529 \nQ 2069 2156 2228 2338 \nQ 2531 2678 2651 2914 \nQ 2772 3150 2772 3378 \nQ 2772 3750 2511 3984 \nQ 2250 4219 1831 4219 \nQ 1534 4219 1204 4116 \nQ 875 4013 500 3803 \nL 500 4441 \nQ 881 4594 1212 4672 \nQ 1544 4750 1819 4750 \nQ 2544 4750 2975 4387 \nQ 3406 4025 3406 3419 \nQ 3406 3131 3298 2873 \nQ 3191 2616 2906 2266 \nQ 2828 2175 2409 1742 \nQ 1991 1309 1228 531 \nz\n\" transform=\"scale(0.015625)\"/>\n       </defs>\n       <use xlink:href=\"#DejaVuSans-32\"/>\n      </g>\n     </g>\n    </g>\n    <g id=\"xtick_2\">\n     <g id=\"line2d_3\">\n      <path d=\"M 95.203125 145.8 \nL 95.203125 7.2 \n\" clip-path=\"url(#p69819f0214)\" style=\"fill: none; stroke: #b0b0b0; stroke-width: 0.8; stroke-linecap: square\"/>\n     </g>\n     <g id=\"line2d_4\">\n      <g>\n       <use xlink:href=\"#m8a96744b49\" x=\"95.203125\" y=\"145.8\" style=\"stroke: #000000; stroke-width: 0.8\"/>\n      </g>\n     </g>\n     <g id=\"text_2\">\n      <!-- 4 -->\n      <g transform=\"translate(92.021875 160.398438) scale(0.1 -0.1)\">\n       <defs>\n        <path id=\"DejaVuSans-34\" d=\"M 2419 4116 \nL 825 1625 \nL 2419 1625 \nL 2419 4116 \nz\nM 2253 4666 \nL 3047 4666 \nL 3047 1625 \nL 3713 1625 \nL 3713 1100 \nL 3047 1100 \nL 3047 0 \nL 2419 0 \nL 2419 1100 \nL 313 1100 \nL 313 1709 \nL 2253 4666 \nz\n\" transform=\"scale(0.015625)\"/>\n       </defs>\n       <use xlink:href=\"#DejaVuSans-34\"/>\n      </g>\n     </g>\n    </g>\n    <g id=\"xtick_3\">\n     <g id=\"line2d_5\">\n      <path d=\"M 138.603125 145.8 \nL 138.603125 7.2 \n\" clip-path=\"url(#p69819f0214)\" style=\"fill: none; stroke: #b0b0b0; stroke-width: 0.8; stroke-linecap: square\"/>\n     </g>\n     <g id=\"line2d_6\">\n      <g>\n       <use xlink:href=\"#m8a96744b49\" x=\"138.603125\" y=\"145.8\" style=\"stroke: #000000; stroke-width: 0.8\"/>\n      </g>\n     </g>\n     <g id=\"text_3\">\n      <!-- 6 -->\n      <g transform=\"translate(135.421875 160.398438) scale(0.1 -0.1)\">\n       <defs>\n        <path id=\"DejaVuSans-36\" d=\"M 2113 2584 \nQ 1688 2584 1439 2293 \nQ 1191 2003 1191 1497 \nQ 1191 994 1439 701 \nQ 1688 409 2113 409 \nQ 2538 409 2786 701 \nQ 3034 994 3034 1497 \nQ 3034 2003 2786 2293 \nQ 2538 2584 2113 2584 \nz\nM 3366 4563 \nL 3366 3988 \nQ 3128 4100 2886 4159 \nQ 2644 4219 2406 4219 \nQ 1781 4219 1451 3797 \nQ 1122 3375 1075 2522 \nQ 1259 2794 1537 2939 \nQ 1816 3084 2150 3084 \nQ 2853 3084 3261 2657 \nQ 3669 2231 3669 1497 \nQ 3669 778 3244 343 \nQ 2819 -91 2113 -91 \nQ 1303 -91 875 529 \nQ 447 1150 447 2328 \nQ 447 3434 972 4092 \nQ 1497 4750 2381 4750 \nQ 2619 4750 2861 4703 \nQ 3103 4656 3366 4563 \nz\n\" transform=\"scale(0.015625)\"/>\n       </defs>\n       <use xlink:href=\"#DejaVuSans-36\"/>\n      </g>\n     </g>\n    </g>\n    <g id=\"xtick_4\">\n     <g id=\"line2d_7\">\n      <path d=\"M 182.003125 145.8 \nL 182.003125 7.2 \n\" clip-path=\"url(#p69819f0214)\" style=\"fill: none; stroke: #b0b0b0; stroke-width: 0.8; stroke-linecap: square\"/>\n     </g>\n     <g id=\"line2d_8\">\n      <g>\n       <use xlink:href=\"#m8a96744b49\" x=\"182.003125\" y=\"145.8\" style=\"stroke: #000000; stroke-width: 0.8\"/>\n      </g>\n     </g>\n     <g id=\"text_4\">\n      <!-- 8 -->\n      <g transform=\"translate(178.821875 160.398438) scale(0.1 -0.1)\">\n       <defs>\n        <path id=\"DejaVuSans-38\" d=\"M 2034 2216 \nQ 1584 2216 1326 1975 \nQ 1069 1734 1069 1313 \nQ 1069 891 1326 650 \nQ 1584 409 2034 409 \nQ 2484 409 2743 651 \nQ 3003 894 3003 1313 \nQ 3003 1734 2745 1975 \nQ 2488 2216 2034 2216 \nz\nM 1403 2484 \nQ 997 2584 770 2862 \nQ 544 3141 544 3541 \nQ 544 4100 942 4425 \nQ 1341 4750 2034 4750 \nQ 2731 4750 3128 4425 \nQ 3525 4100 3525 3541 \nQ 3525 3141 3298 2862 \nQ 3072 2584 2669 2484 \nQ 3125 2378 3379 2068 \nQ 3634 1759 3634 1313 \nQ 3634 634 3220 271 \nQ 2806 -91 2034 -91 \nQ 1263 -91 848 271 \nQ 434 634 434 1313 \nQ 434 1759 690 2068 \nQ 947 2378 1403 2484 \nz\nM 1172 3481 \nQ 1172 3119 1398 2916 \nQ 1625 2713 2034 2713 \nQ 2441 2713 2670 2916 \nQ 2900 3119 2900 3481 \nQ 2900 3844 2670 4047 \nQ 2441 4250 2034 4250 \nQ 1625 4250 1398 4047 \nQ 1172 3844 1172 3481 \nz\n\" transform=\"scale(0.015625)\"/>\n       </defs>\n       <use xlink:href=\"#DejaVuSans-38\"/>\n      </g>\n     </g>\n    </g>\n    <g id=\"xtick_5\">\n     <g id=\"line2d_9\">\n      <path d=\"M 225.403125 145.8 \nL 225.403125 7.2 \n\" clip-path=\"url(#p69819f0214)\" style=\"fill: none; stroke: #b0b0b0; stroke-width: 0.8; stroke-linecap: square\"/>\n     </g>\n     <g id=\"line2d_10\">\n      <g>\n       <use xlink:href=\"#m8a96744b49\" x=\"225.403125\" y=\"145.8\" style=\"stroke: #000000; stroke-width: 0.8\"/>\n      </g>\n     </g>\n     <g id=\"text_5\">\n      <!-- 10 -->\n      <g transform=\"translate(219.040625 160.398438) scale(0.1 -0.1)\">\n       <defs>\n        <path id=\"DejaVuSans-31\" d=\"M 794 531 \nL 1825 531 \nL 1825 4091 \nL 703 3866 \nL 703 4441 \nL 1819 4666 \nL 2450 4666 \nL 2450 531 \nL 3481 531 \nL 3481 0 \nL 794 0 \nL 794 531 \nz\n\" transform=\"scale(0.015625)\"/>\n        <path id=\"DejaVuSans-30\" d=\"M 2034 4250 \nQ 1547 4250 1301 3770 \nQ 1056 3291 1056 2328 \nQ 1056 1369 1301 889 \nQ 1547 409 2034 409 \nQ 2525 409 2770 889 \nQ 3016 1369 3016 2328 \nQ 3016 3291 2770 3770 \nQ 2525 4250 2034 4250 \nz\nM 2034 4750 \nQ 2819 4750 3233 4129 \nQ 3647 3509 3647 2328 \nQ 3647 1150 3233 529 \nQ 2819 -91 2034 -91 \nQ 1250 -91 836 529 \nQ 422 1150 422 2328 \nQ 422 3509 836 4129 \nQ 1250 4750 2034 4750 \nz\n\" transform=\"scale(0.015625)\"/>\n       </defs>\n       <use xlink:href=\"#DejaVuSans-31\"/>\n       <use xlink:href=\"#DejaVuSans-30\" transform=\"translate(63.623047 0)\"/>\n      </g>\n     </g>\n    </g>\n    <g id=\"text_6\">\n     <!-- epoch -->\n     <g transform=\"translate(112.525 174.076563) scale(0.1 -0.1)\">\n      <defs>\n       <path id=\"DejaVuSans-65\" d=\"M 3597 1894 \nL 3597 1613 \nL 953 1613 \nQ 991 1019 1311 708 \nQ 1631 397 2203 397 \nQ 2534 397 2845 478 \nQ 3156 559 3463 722 \nL 3463 178 \nQ 3153 47 2828 -22 \nQ 2503 -91 2169 -91 \nQ 1331 -91 842 396 \nQ 353 884 353 1716 \nQ 353 2575 817 3079 \nQ 1281 3584 2069 3584 \nQ 2775 3584 3186 3129 \nQ 3597 2675 3597 1894 \nz\nM 3022 2063 \nQ 3016 2534 2758 2815 \nQ 2500 3097 2075 3097 \nQ 1594 3097 1305 2825 \nQ 1016 2553 972 2059 \nL 3022 2063 \nz\n\" transform=\"scale(0.015625)\"/>\n       <path id=\"DejaVuSans-70\" d=\"M 1159 525 \nL 1159 -1331 \nL 581 -1331 \nL 581 3500 \nL 1159 3500 \nL 1159 2969 \nQ 1341 3281 1617 3432 \nQ 1894 3584 2278 3584 \nQ 2916 3584 3314 3078 \nQ 3713 2572 3713 1747 \nQ 3713 922 3314 415 \nQ 2916 -91 2278 -91 \nQ 1894 -91 1617 61 \nQ 1341 213 1159 525 \nz\nM 3116 1747 \nQ 3116 2381 2855 2742 \nQ 2594 3103 2138 3103 \nQ 1681 3103 1420 2742 \nQ 1159 2381 1159 1747 \nQ 1159 1113 1420 752 \nQ 1681 391 2138 391 \nQ 2594 391 2855 752 \nQ 3116 1113 3116 1747 \nz\n\" transform=\"scale(0.015625)\"/>\n       <path id=\"DejaVuSans-6f\" d=\"M 1959 3097 \nQ 1497 3097 1228 2736 \nQ 959 2375 959 1747 \nQ 959 1119 1226 758 \nQ 1494 397 1959 397 \nQ 2419 397 2687 759 \nQ 2956 1122 2956 1747 \nQ 2956 2369 2687 2733 \nQ 2419 3097 1959 3097 \nz\nM 1959 3584 \nQ 2709 3584 3137 3096 \nQ 3566 2609 3566 1747 \nQ 3566 888 3137 398 \nQ 2709 -91 1959 -91 \nQ 1206 -91 779 398 \nQ 353 888 353 1747 \nQ 353 2609 779 3096 \nQ 1206 3584 1959 3584 \nz\n\" transform=\"scale(0.015625)\"/>\n       <path id=\"DejaVuSans-63\" d=\"M 3122 3366 \nL 3122 2828 \nQ 2878 2963 2633 3030 \nQ 2388 3097 2138 3097 \nQ 1578 3097 1268 2742 \nQ 959 2388 959 1747 \nQ 959 1106 1268 751 \nQ 1578 397 2138 397 \nQ 2388 397 2633 464 \nQ 2878 531 3122 666 \nL 3122 134 \nQ 2881 22 2623 -34 \nQ 2366 -91 2075 -91 \nQ 1284 -91 818 406 \nQ 353 903 353 1747 \nQ 353 2603 823 3093 \nQ 1294 3584 2113 3584 \nQ 2378 3584 2631 3529 \nQ 2884 3475 3122 3366 \nz\n\" transform=\"scale(0.015625)\"/>\n       <path id=\"DejaVuSans-68\" d=\"M 3513 2113 \nL 3513 0 \nL 2938 0 \nL 2938 2094 \nQ 2938 2591 2744 2837 \nQ 2550 3084 2163 3084 \nQ 1697 3084 1428 2787 \nQ 1159 2491 1159 1978 \nL 1159 0 \nL 581 0 \nL 581 4863 \nL 1159 4863 \nL 1159 2956 \nQ 1366 3272 1645 3428 \nQ 1925 3584 2291 3584 \nQ 2894 3584 3203 3211 \nQ 3513 2838 3513 2113 \nz\n\" transform=\"scale(0.015625)\"/>\n      </defs>\n      <use xlink:href=\"#DejaVuSans-65\"/>\n      <use xlink:href=\"#DejaVuSans-70\" transform=\"translate(61.523438 0)\"/>\n      <use xlink:href=\"#DejaVuSans-6f\" transform=\"translate(125 0)\"/>\n      <use xlink:href=\"#DejaVuSans-63\" transform=\"translate(186.181641 0)\"/>\n      <use xlink:href=\"#DejaVuSans-68\" transform=\"translate(241.162109 0)\"/>\n     </g>\n    </g>\n   </g>\n   <g id=\"matplotlib.axis_2\">\n    <g id=\"ytick_1\">\n     <g id=\"line2d_11\">\n      <path d=\"M 30.103125 118.739366 \nL 225.403125 118.739366 \n\" clip-path=\"url(#p69819f0214)\" style=\"fill: none; stroke: #b0b0b0; stroke-width: 0.8; stroke-linecap: square\"/>\n     </g>\n     <g id=\"line2d_12\">\n      <defs>\n       <path id=\"mf39189de3b\" d=\"M 0 0 \nL -3.5 0 \n\" style=\"stroke: #000000; stroke-width: 0.8\"/>\n      </defs>\n      <g>\n       <use xlink:href=\"#mf39189de3b\" x=\"30.103125\" y=\"118.739366\" style=\"stroke: #000000; stroke-width: 0.8\"/>\n      </g>\n     </g>\n     <g id=\"text_7\">\n      <!-- 0.5 -->\n      <g transform=\"translate(7.2 122.538585) scale(0.1 -0.1)\">\n       <defs>\n        <path id=\"DejaVuSans-2e\" d=\"M 684 794 \nL 1344 794 \nL 1344 0 \nL 684 0 \nL 684 794 \nz\n\" transform=\"scale(0.015625)\"/>\n        <path id=\"DejaVuSans-35\" d=\"M 691 4666 \nL 3169 4666 \nL 3169 4134 \nL 1269 4134 \nL 1269 2991 \nQ 1406 3038 1543 3061 \nQ 1681 3084 1819 3084 \nQ 2600 3084 3056 2656 \nQ 3513 2228 3513 1497 \nQ 3513 744 3044 326 \nQ 2575 -91 1722 -91 \nQ 1428 -91 1123 -41 \nQ 819 9 494 109 \nL 494 744 \nQ 775 591 1075 516 \nQ 1375 441 1709 441 \nQ 2250 441 2565 725 \nQ 2881 1009 2881 1497 \nQ 2881 1984 2565 2268 \nQ 2250 2553 1709 2553 \nQ 1456 2553 1204 2497 \nQ 953 2441 691 2322 \nL 691 4666 \nz\n\" transform=\"scale(0.015625)\"/>\n       </defs>\n       <use xlink:href=\"#DejaVuSans-30\"/>\n       <use xlink:href=\"#DejaVuSans-2e\" transform=\"translate(63.623047 0)\"/>\n       <use xlink:href=\"#DejaVuSans-35\" transform=\"translate(95.410156 0)\"/>\n      </g>\n     </g>\n    </g>\n    <g id=\"ytick_2\">\n     <g id=\"line2d_13\">\n      <path d=\"M 30.103125 89.248365 \nL 225.403125 89.248365 \n\" clip-path=\"url(#p69819f0214)\" style=\"fill: none; stroke: #b0b0b0; stroke-width: 0.8; stroke-linecap: square\"/>\n     </g>\n     <g id=\"line2d_14\">\n      <g>\n       <use xlink:href=\"#mf39189de3b\" x=\"30.103125\" y=\"89.248365\" style=\"stroke: #000000; stroke-width: 0.8\"/>\n      </g>\n     </g>\n     <g id=\"text_8\">\n      <!-- 1.0 -->\n      <g transform=\"translate(7.2 93.047584) scale(0.1 -0.1)\">\n       <use xlink:href=\"#DejaVuSans-31\"/>\n       <use xlink:href=\"#DejaVuSans-2e\" transform=\"translate(63.623047 0)\"/>\n       <use xlink:href=\"#DejaVuSans-30\" transform=\"translate(95.410156 0)\"/>\n      </g>\n     </g>\n    </g>\n    <g id=\"ytick_3\">\n     <g id=\"line2d_15\">\n      <path d=\"M 30.103125 59.757365 \nL 225.403125 59.757365 \n\" clip-path=\"url(#p69819f0214)\" style=\"fill: none; stroke: #b0b0b0; stroke-width: 0.8; stroke-linecap: square\"/>\n     </g>\n     <g id=\"line2d_16\">\n      <g>\n       <use xlink:href=\"#mf39189de3b\" x=\"30.103125\" y=\"59.757365\" style=\"stroke: #000000; stroke-width: 0.8\"/>\n      </g>\n     </g>\n     <g id=\"text_9\">\n      <!-- 1.5 -->\n      <g transform=\"translate(7.2 63.556584) scale(0.1 -0.1)\">\n       <use xlink:href=\"#DejaVuSans-31\"/>\n       <use xlink:href=\"#DejaVuSans-2e\" transform=\"translate(63.623047 0)\"/>\n       <use xlink:href=\"#DejaVuSans-35\" transform=\"translate(95.410156 0)\"/>\n      </g>\n     </g>\n    </g>\n    <g id=\"ytick_4\">\n     <g id=\"line2d_17\">\n      <path d=\"M 30.103125 30.266364 \nL 225.403125 30.266364 \n\" clip-path=\"url(#p69819f0214)\" style=\"fill: none; stroke: #b0b0b0; stroke-width: 0.8; stroke-linecap: square\"/>\n     </g>\n     <g id=\"line2d_18\">\n      <g>\n       <use xlink:href=\"#mf39189de3b\" x=\"30.103125\" y=\"30.266364\" style=\"stroke: #000000; stroke-width: 0.8\"/>\n      </g>\n     </g>\n     <g id=\"text_10\">\n      <!-- 2.0 -->\n      <g transform=\"translate(7.2 34.065583) scale(0.1 -0.1)\">\n       <use xlink:href=\"#DejaVuSans-32\"/>\n       <use xlink:href=\"#DejaVuSans-2e\" transform=\"translate(63.623047 0)\"/>\n       <use xlink:href=\"#DejaVuSans-30\" transform=\"translate(95.410156 0)\"/>\n      </g>\n     </g>\n    </g>\n   </g>\n   <g id=\"line2d_19\">\n    <path d=\"M 12.70611 13.5 \nL 17.009095 30.608442 \nL 21.31208 49.210855 \nL 25.615065 60.983164 \nL 29.91805 69.108997 \nL 30.103125 69.429421 \nL 34.40611 105.648413 \nL 38.709095 107.439573 \nL 43.01208 108.632971 \nL 47.315065 109.360588 \nL 51.61805 109.983142 \nL 51.803125 110.04315 \nL 56.10611 114.557383 \nL 60.409095 115.135098 \nL 64.71208 115.941953 \nL 69.015065 116.476449 \nL 73.31805 116.828924 \nL 73.503125 116.861224 \nL 77.80611 119.661599 \nL 82.109095 119.898073 \nL 86.41208 119.95928 \nL 90.715065 120.369794 \nL 95.01805 120.571184 \nL 95.203125 120.604527 \nL 99.50611 122.018789 \nL 103.809095 122.379962 \nL 108.11208 122.628924 \nL 112.415065 122.786598 \nL 116.71805 123.059805 \nL 116.903125 123.084333 \nL 121.20611 124.803866 \nL 125.509095 124.638416 \nL 129.81208 124.699134 \nL 134.115065 124.602998 \nL 138.41805 124.82588 \nL 138.603125 124.825956 \nL 142.90611 127.004522 \nL 147.209095 126.48436 \nL 151.51208 126.371635 \nL 155.815065 126.325624 \nL 160.11805 126.262565 \nL 160.303125 126.259035 \nL 164.60611 127.740445 \nL 168.909095 127.466684 \nL 173.21208 127.237414 \nL 177.515065 127.297942 \nL 181.81805 127.322093 \nL 182.003125 127.3251 \nL 186.30611 128.160954 \nL 190.609095 128.1019 \nL 194.91208 128.210269 \nL 199.215065 128.276809 \nL 203.51805 128.17303 \nL 203.703125 128.160461 \nL 208.00611 128.999119 \nL 212.309095 128.745254 \nL 216.61208 128.878484 \nL 220.915065 128.945018 \nL 225.21805 128.99626 \nL 225.403125 129.007991 \n\" clip-path=\"url(#p69819f0214)\" style=\"fill: none; stroke: #1f77b4; stroke-width: 1.5; stroke-linecap: square\"/>\n   </g>\n   <g id=\"line2d_20\">\n    <path d=\"M 12.70611 139.5 \nL 17.009095 132.501338 \nL 21.31208 125.884195 \nL 25.615065 121.600766 \nL 29.91805 118.639279 \nL 30.103125 118.521133 \nL 34.40611 105.098787 \nL 38.709095 104.538894 \nL 43.01208 104.035156 \nL 47.315065 103.845222 \nL 51.61805 103.641084 \nL 51.803125 103.61933 \nL 56.10611 101.521418 \nL 60.409095 101.504076 \nL 64.71208 101.151459 \nL 69.015065 101.035847 \nL 73.31805 100.898103 \nL 73.503125 100.882565 \nL 77.80611 99.975519 \nL 82.109095 99.767417 \nL 86.41208 99.73934 \nL 90.715065 99.543212 \nL 95.01805 99.438418 \nL 95.203125 99.431608 \nL 99.50611 98.93501 \nL 103.809095 98.823527 \nL 108.11208 98.63607 \nL 112.415065 98.589412 \nL 116.71805 98.479168 \nL 116.903125 98.469218 \nL 121.20611 97.835043 \nL 125.509095 97.832565 \nL 129.81208 97.83174 \nL 134.115065 97.906888 \nL 138.41805 97.824142 \nL 138.603125 97.823365 \nL 142.90611 97.057138 \nL 147.209095 97.260285 \nL 151.51208 97.294969 \nL 155.815065 97.33213 \nL 160.11805 97.324698 \nL 160.303125 97.323001 \nL 164.60611 96.804443 \nL 168.909095 96.83665 \nL 173.21208 96.827566 \nL 177.515065 96.840366 \nL 181.81805 96.878765 \nL 182.003125 96.880636 \nL 186.30611 96.650844 \nL 190.609095 96.799489 \nL 194.91208 96.64589 \nL 199.215065 96.613683 \nL 203.51805 96.622107 \nL 203.703125 96.626031 \nL 208.00611 96.199957 \nL 212.309095 96.348601 \nL 216.61208 96.327131 \nL 220.915065 96.338692 \nL 225.21805 96.327791 \nL 225.403125 96.322273 \n\" clip-path=\"url(#p69819f0214)\" style=\"fill: none; stroke-dasharray: 5.55,2.4; stroke-dashoffset: 0; stroke: #bf00bf; stroke-width: 1.5\"/>\n   </g>\n   <g id=\"line2d_21\">\n    <path d=\"M 30.103125 105.769224 \nL 51.803125 100.920904 \nL 73.503125 100.101054 \nL 95.203125 98.567522 \nL 116.903125 97.647402 \nL 138.603125 97.246325 \nL 160.303125 97.146055 \nL 182.003125 96.768571 \nL 203.703125 96.491355 \nL 225.403125 96.143361 \n\" clip-path=\"url(#p69819f0214)\" style=\"fill: none; stroke-dasharray: 9.6,2.4,1.5,2.4; stroke-dashoffset: 0; stroke: #008000; stroke-width: 1.5\"/>\n   </g>\n   <g id=\"patch_3\">\n    <path d=\"M 30.103125 145.8 \nL 30.103125 7.2 \n\" style=\"fill: none; stroke: #000000; stroke-width: 0.8; stroke-linejoin: miter; stroke-linecap: square\"/>\n   </g>\n   <g id=\"patch_4\">\n    <path d=\"M 225.403125 145.8 \nL 225.403125 7.2 \n\" style=\"fill: none; stroke: #000000; stroke-width: 0.8; stroke-linejoin: miter; stroke-linecap: square\"/>\n   </g>\n   <g id=\"patch_5\">\n    <path d=\"M 30.103125 145.8 \nL 225.403125 145.8 \n\" style=\"fill: none; stroke: #000000; stroke-width: 0.8; stroke-linejoin: miter; stroke-linecap: square\"/>\n   </g>\n   <g id=\"patch_6\">\n    <path d=\"M 30.103125 7.2 \nL 225.403125 7.2 \n\" style=\"fill: none; stroke: #000000; stroke-width: 0.8; stroke-linejoin: miter; stroke-linecap: square\"/>\n   </g>\n   <g id=\"legend_1\">\n    <g id=\"patch_7\">\n     <path d=\"M 140.634375 59.234375 \nL 218.403125 59.234375 \nQ 220.403125 59.234375 220.403125 57.234375 \nL 220.403125 14.2 \nQ 220.403125 12.2 218.403125 12.2 \nL 140.634375 12.2 \nQ 138.634375 12.2 138.634375 14.2 \nL 138.634375 57.234375 \nQ 138.634375 59.234375 140.634375 59.234375 \nz\n\" style=\"fill: #ffffff; opacity: 0.8; stroke: #cccccc; stroke-linejoin: miter\"/>\n    </g>\n    <g id=\"line2d_22\">\n     <path d=\"M 142.634375 20.298438 \nL 152.634375 20.298438 \nL 162.634375 20.298438 \n\" style=\"fill: none; stroke: #1f77b4; stroke-width: 1.5; stroke-linecap: square\"/>\n    </g>\n    <g id=\"text_11\">\n     <!-- train loss -->\n     <g transform=\"translate(170.634375 23.798438) scale(0.1 -0.1)\">\n      <defs>\n       <path id=\"DejaVuSans-74\" d=\"M 1172 4494 \nL 1172 3500 \nL 2356 3500 \nL 2356 3053 \nL 1172 3053 \nL 1172 1153 \nQ 1172 725 1289 603 \nQ 1406 481 1766 481 \nL 2356 481 \nL 2356 0 \nL 1766 0 \nQ 1100 0 847 248 \nQ 594 497 594 1153 \nL 594 3053 \nL 172 3053 \nL 172 3500 \nL 594 3500 \nL 594 4494 \nL 1172 4494 \nz\n\" transform=\"scale(0.015625)\"/>\n       <path id=\"DejaVuSans-72\" d=\"M 2631 2963 \nQ 2534 3019 2420 3045 \nQ 2306 3072 2169 3072 \nQ 1681 3072 1420 2755 \nQ 1159 2438 1159 1844 \nL 1159 0 \nL 581 0 \nL 581 3500 \nL 1159 3500 \nL 1159 2956 \nQ 1341 3275 1631 3429 \nQ 1922 3584 2338 3584 \nQ 2397 3584 2469 3576 \nQ 2541 3569 2628 3553 \nL 2631 2963 \nz\n\" transform=\"scale(0.015625)\"/>\n       <path id=\"DejaVuSans-61\" d=\"M 2194 1759 \nQ 1497 1759 1228 1600 \nQ 959 1441 959 1056 \nQ 959 750 1161 570 \nQ 1363 391 1709 391 \nQ 2188 391 2477 730 \nQ 2766 1069 2766 1631 \nL 2766 1759 \nL 2194 1759 \nz\nM 3341 1997 \nL 3341 0 \nL 2766 0 \nL 2766 531 \nQ 2569 213 2275 61 \nQ 1981 -91 1556 -91 \nQ 1019 -91 701 211 \nQ 384 513 384 1019 \nQ 384 1609 779 1909 \nQ 1175 2209 1959 2209 \nL 2766 2209 \nL 2766 2266 \nQ 2766 2663 2505 2880 \nQ 2244 3097 1772 3097 \nQ 1472 3097 1187 3025 \nQ 903 2953 641 2809 \nL 641 3341 \nQ 956 3463 1253 3523 \nQ 1550 3584 1831 3584 \nQ 2591 3584 2966 3190 \nQ 3341 2797 3341 1997 \nz\n\" transform=\"scale(0.015625)\"/>\n       <path id=\"DejaVuSans-69\" d=\"M 603 3500 \nL 1178 3500 \nL 1178 0 \nL 603 0 \nL 603 3500 \nz\nM 603 4863 \nL 1178 4863 \nL 1178 4134 \nL 603 4134 \nL 603 4863 \nz\n\" transform=\"scale(0.015625)\"/>\n       <path id=\"DejaVuSans-6e\" d=\"M 3513 2113 \nL 3513 0 \nL 2938 0 \nL 2938 2094 \nQ 2938 2591 2744 2837 \nQ 2550 3084 2163 3084 \nQ 1697 3084 1428 2787 \nQ 1159 2491 1159 1978 \nL 1159 0 \nL 581 0 \nL 581 3500 \nL 1159 3500 \nL 1159 2956 \nQ 1366 3272 1645 3428 \nQ 1925 3584 2291 3584 \nQ 2894 3584 3203 3211 \nQ 3513 2838 3513 2113 \nz\n\" transform=\"scale(0.015625)\"/>\n       <path id=\"DejaVuSans-20\" transform=\"scale(0.015625)\"/>\n       <path id=\"DejaVuSans-6c\" d=\"M 603 4863 \nL 1178 4863 \nL 1178 0 \nL 603 0 \nL 603 4863 \nz\n\" transform=\"scale(0.015625)\"/>\n       <path id=\"DejaVuSans-73\" d=\"M 2834 3397 \nL 2834 2853 \nQ 2591 2978 2328 3040 \nQ 2066 3103 1784 3103 \nQ 1356 3103 1142 2972 \nQ 928 2841 928 2578 \nQ 928 2378 1081 2264 \nQ 1234 2150 1697 2047 \nL 1894 2003 \nQ 2506 1872 2764 1633 \nQ 3022 1394 3022 966 \nQ 3022 478 2636 193 \nQ 2250 -91 1575 -91 \nQ 1294 -91 989 -36 \nQ 684 19 347 128 \nL 347 722 \nQ 666 556 975 473 \nQ 1284 391 1588 391 \nQ 1994 391 2212 530 \nQ 2431 669 2431 922 \nQ 2431 1156 2273 1281 \nQ 2116 1406 1581 1522 \nL 1381 1569 \nQ 847 1681 609 1914 \nQ 372 2147 372 2553 \nQ 372 3047 722 3315 \nQ 1072 3584 1716 3584 \nQ 2034 3584 2315 3537 \nQ 2597 3491 2834 3397 \nz\n\" transform=\"scale(0.015625)\"/>\n      </defs>\n      <use xlink:href=\"#DejaVuSans-74\"/>\n      <use xlink:href=\"#DejaVuSans-72\" transform=\"translate(39.208984 0)\"/>\n      <use xlink:href=\"#DejaVuSans-61\" transform=\"translate(80.322266 0)\"/>\n      <use xlink:href=\"#DejaVuSans-69\" transform=\"translate(141.601562 0)\"/>\n      <use xlink:href=\"#DejaVuSans-6e\" transform=\"translate(169.384766 0)\"/>\n      <use xlink:href=\"#DejaVuSans-20\" transform=\"translate(232.763672 0)\"/>\n      <use xlink:href=\"#DejaVuSans-6c\" transform=\"translate(264.550781 0)\"/>\n      <use xlink:href=\"#DejaVuSans-6f\" transform=\"translate(292.333984 0)\"/>\n      <use xlink:href=\"#DejaVuSans-73\" transform=\"translate(353.515625 0)\"/>\n      <use xlink:href=\"#DejaVuSans-73\" transform=\"translate(405.615234 0)\"/>\n     </g>\n    </g>\n    <g id=\"line2d_23\">\n     <path d=\"M 142.634375 34.976563 \nL 152.634375 34.976563 \nL 162.634375 34.976563 \n\" style=\"fill: none; stroke-dasharray: 5.55,2.4; stroke-dashoffset: 0; stroke: #bf00bf; stroke-width: 1.5\"/>\n    </g>\n    <g id=\"text_12\">\n     <!-- train acc -->\n     <g transform=\"translate(170.634375 38.476563) scale(0.1 -0.1)\">\n      <use xlink:href=\"#DejaVuSans-74\"/>\n      <use xlink:href=\"#DejaVuSans-72\" transform=\"translate(39.208984 0)\"/>\n      <use xlink:href=\"#DejaVuSans-61\" transform=\"translate(80.322266 0)\"/>\n      <use xlink:href=\"#DejaVuSans-69\" transform=\"translate(141.601562 0)\"/>\n      <use xlink:href=\"#DejaVuSans-6e\" transform=\"translate(169.384766 0)\"/>\n      <use xlink:href=\"#DejaVuSans-20\" transform=\"translate(232.763672 0)\"/>\n      <use xlink:href=\"#DejaVuSans-61\" transform=\"translate(264.550781 0)\"/>\n      <use xlink:href=\"#DejaVuSans-63\" transform=\"translate(325.830078 0)\"/>\n      <use xlink:href=\"#DejaVuSans-63\" transform=\"translate(380.810547 0)\"/>\n     </g>\n    </g>\n    <g id=\"line2d_24\">\n     <path d=\"M 142.634375 49.654688 \nL 152.634375 49.654688 \nL 162.634375 49.654688 \n\" style=\"fill: none; stroke-dasharray: 9.6,2.4,1.5,2.4; stroke-dashoffset: 0; stroke: #008000; stroke-width: 1.5\"/>\n    </g>\n    <g id=\"text_13\">\n     <!-- test acc -->\n     <g transform=\"translate(170.634375 53.154688) scale(0.1 -0.1)\">\n      <use xlink:href=\"#DejaVuSans-74\"/>\n      <use xlink:href=\"#DejaVuSans-65\" transform=\"translate(39.208984 0)\"/>\n      <use xlink:href=\"#DejaVuSans-73\" transform=\"translate(100.732422 0)\"/>\n      <use xlink:href=\"#DejaVuSans-74\" transform=\"translate(152.832031 0)\"/>\n      <use xlink:href=\"#DejaVuSans-20\" transform=\"translate(192.041016 0)\"/>\n      <use xlink:href=\"#DejaVuSans-61\" transform=\"translate(223.828125 0)\"/>\n      <use xlink:href=\"#DejaVuSans-63\" transform=\"translate(285.107422 0)\"/>\n      <use xlink:href=\"#DejaVuSans-63\" transform=\"translate(340.087891 0)\"/>\n     </g>\n    </g>\n   </g>\n  </g>\n </g>\n <defs>\n  <clipPath id=\"p69819f0214\">\n   <rect x=\"30.103125\" y=\"7.2\" width=\"195.3\" height=\"138.6\"/>\n  </clipPath>\n </defs>\n</svg>\n"
          },
          "metadata": {}
        }
      ],
      "source": [
        "lr, num_epochs = 0.01, 10\n",
        "d2l.train_ch6(net, train_iter, test_iter, num_epochs, lr)"
      ]
    },
    {
      "cell_type": "markdown",
      "metadata": {
        "id": "KvxvMo3LuknP"
      },
      "source": [
        "\n",
        "\n",
        "## <font color = 'blue'>  **Question 1** <font>\n",
        "\n",
        "<font color = 'blue'>  Alexnet was written for images of size 224x224. Clearly it is an overkill for the Fashion MNIST data set which has size 28x28.\n",
        "\n",
        "<font color = 'blue'> (i) Construct a model that mimics the architecture of Alexnet, but works directly on images of size 28x28.\n",
        "\n",
        "<font color = 'blue'> (ii) What is the accuracy you reach?\n",
        "\n",
        "<font color = 'blue'> (iii) Also compare the running time of your model with that of the original Alexnet on the resized images.\n",
        "\n",
        "<font color = 'blue'>[**Guidelines**: In general, here you probably want to use smaller kernels, and fewers convolutional layers. The most important part of this exercise is to get the dimensions of the layers correct, so that the model works. Try not to use 'Lazy' layers, so that you better understand the dimensions. Also some experimentation with different designs would be good. Feel free to discuss all experiments you did.]\n"
      ]
    },
    {
      "cell_type": "code",
      "execution_count": 7,
      "metadata": {
        "id": "WUHYN7G7Mu07",
        "colab": {
          "base_uri": "https://localhost:8080/"
        },
        "outputId": "40d2fb2a-ead5-4f19-f20a-a5179bcf1c90"
      },
      "outputs": [
        {
          "output_type": "stream",
          "name": "stdout",
          "text": [
            "torch.Size([1, 10])\n"
          ]
        }
      ],
      "source": [
        "# your answers here\n",
        "\n",
        "# (i): I updated the model, still have 5 conv layes but works on 28X28 images\n",
        "# I reduces the parameters for the snmaller images. AlexNet used 11x11 kernel, I updated it to 5X5\n",
        "\n",
        "import torch\n",
        "from torch import nn\n",
        "\n",
        "class AlexNet_28(nn.Module):\n",
        "    def __init__(self, num_classes=10):\n",
        "        super(AlexNet_28, self).__init__()\n",
        "        self.net = nn.Sequential(\n",
        "            # First Conv Layer: (28x28) -> (24x24) -> (12x12)\n",
        "            nn.Conv2d(1, 64, kernel_size=5, stride=1, padding=0), nn.ReLU(),\n",
        "            nn.MaxPool2d(kernel_size=2, stride=2),\n",
        "\n",
        "            # Second Conv Layer: (12x12) -> (10x10) -> (5x5)\n",
        "            nn.Conv2d(64, 128, kernel_size=3, stride=1, padding=0), nn.ReLU(),\n",
        "            nn.MaxPool2d(kernel_size=2, stride=2),\n",
        "\n",
        "            # Third Conv Layer: (5x5) -> (5x5)\n",
        "            nn.Conv2d(128, 256, kernel_size=3, stride=1, padding=1), nn.ReLU(),\n",
        "\n",
        "            # Fourth Conv Layer: (5x5) -> (5x5)\n",
        "            nn.Conv2d(256, 256, kernel_size=3, stride=1, padding=1), nn.ReLU(),\n",
        "\n",
        "            # Fifth Conv Layer: (5x5) -> (5x5)\n",
        "            nn.Conv2d(256, 128, kernel_size=3, stride=1, padding=1), nn.ReLU(),\n",
        "            nn.MaxPool2d(kernel_size=2, stride=2), # Output: (2x2)\n",
        "\n",
        "            nn.Flatten(),\n",
        "            nn.Linear(128*2*2, 1024), nn.ReLU(),\n",
        "            nn.Dropout(0.5),\n",
        "            nn.Linear(1024, 512), nn.ReLU(),\n",
        "            nn.Dropout(0.5),\n",
        "            nn.Linear(512, num_classes) # 10 classes for Fashion-MNIST\n",
        "        )\n",
        "\n",
        "    def forward(self, x):\n",
        "        return self.net(x)\n",
        "\n",
        "\n",
        "model = AlexNet_28()\n",
        "X = torch.randn(1, 1, 28, 28)\n",
        "print(model(X).shape)\n",
        "\n"
      ]
    },
    {
      "cell_type": "code",
      "execution_count": 8,
      "metadata": {
        "id": "ECmxOC4LlxwZ"
      },
      "outputs": [],
      "source": [
        "#(ii)\n",
        "\n",
        "batch_size = 128\n",
        "train_iter, test_iter = d2l.load_data_fashion_mnist(batch_size) #no resize needed"
      ]
    },
    {
      "cell_type": "code",
      "execution_count": 9,
      "metadata": {
        "id": "q2GQDSjdmJiX",
        "colab": {
          "base_uri": "https://localhost:8080/",
          "height": 300
        },
        "outputId": "2a38f6d0-9b7a-4073-8984-918a06e011a8"
      },
      "outputs": [
        {
          "output_type": "stream",
          "name": "stdout",
          "text": [
            "loss 0.525, train acc 0.800, test acc 0.811\n",
            "11418.4 examples/sec on cuda:0\n"
          ]
        },
        {
          "output_type": "display_data",
          "data": {
            "text/plain": [
              "<Figure size 350x250 with 1 Axes>"
            ],
            "image/svg+xml": "<?xml version=\"1.0\" encoding=\"utf-8\" standalone=\"no\"?>\n<!DOCTYPE svg PUBLIC \"-//W3C//DTD SVG 1.1//EN\"\n  \"http://www.w3.org/Graphics/SVG/1.1/DTD/svg11.dtd\">\n<svg xmlns:xlink=\"http://www.w3.org/1999/xlink\" width=\"238.965625pt\" height=\"183.35625pt\" viewBox=\"0 0 238.965625 183.35625\" xmlns=\"http://www.w3.org/2000/svg\" version=\"1.1\">\n <metadata>\n  <rdf:RDF xmlns:dc=\"http://purl.org/dc/elements/1.1/\" xmlns:cc=\"http://creativecommons.org/ns#\" xmlns:rdf=\"http://www.w3.org/1999/02/22-rdf-syntax-ns#\">\n   <cc:Work>\n    <dc:type rdf:resource=\"http://purl.org/dc/dcmitype/StillImage\"/>\n    <dc:date>2025-03-01T16:54:35.710502</dc:date>\n    <dc:format>image/svg+xml</dc:format>\n    <dc:creator>\n     <cc:Agent>\n      <dc:title>Matplotlib v3.10.0, https://matplotlib.org/</dc:title>\n     </cc:Agent>\n    </dc:creator>\n   </cc:Work>\n  </rdf:RDF>\n </metadata>\n <defs>\n  <style type=\"text/css\">*{stroke-linejoin: round; stroke-linecap: butt}</style>\n </defs>\n <g id=\"figure_1\">\n  <g id=\"patch_1\">\n   <path d=\"M 0 183.35625 \nL 238.965625 183.35625 \nL 238.965625 0 \nL 0 0 \nz\n\" style=\"fill: #ffffff\"/>\n  </g>\n  <g id=\"axes_1\">\n   <g id=\"patch_2\">\n    <path d=\"M 30.103125 145.8 \nL 225.403125 145.8 \nL 225.403125 7.2 \nL 30.103125 7.2 \nz\n\" style=\"fill: #ffffff\"/>\n   </g>\n   <g id=\"matplotlib.axis_1\">\n    <g id=\"xtick_1\">\n     <g id=\"line2d_1\">\n      <path d=\"M 51.803125 145.8 \nL 51.803125 7.2 \n\" clip-path=\"url(#p1caf6d86d6)\" style=\"fill: none; stroke: #b0b0b0; stroke-width: 0.8; stroke-linecap: square\"/>\n     </g>\n     <g id=\"line2d_2\">\n      <defs>\n       <path id=\"m248fe0a87a\" d=\"M 0 0 \nL 0 3.5 \n\" style=\"stroke: #000000; stroke-width: 0.8\"/>\n      </defs>\n      <g>\n       <use xlink:href=\"#m248fe0a87a\" x=\"51.803125\" y=\"145.8\" style=\"stroke: #000000; stroke-width: 0.8\"/>\n      </g>\n     </g>\n     <g id=\"text_1\">\n      <!-- 2 -->\n      <g transform=\"translate(48.621875 160.398438) scale(0.1 -0.1)\">\n       <defs>\n        <path id=\"DejaVuSans-32\" d=\"M 1228 531 \nL 3431 531 \nL 3431 0 \nL 469 0 \nL 469 531 \nQ 828 903 1448 1529 \nQ 2069 2156 2228 2338 \nQ 2531 2678 2651 2914 \nQ 2772 3150 2772 3378 \nQ 2772 3750 2511 3984 \nQ 2250 4219 1831 4219 \nQ 1534 4219 1204 4116 \nQ 875 4013 500 3803 \nL 500 4441 \nQ 881 4594 1212 4672 \nQ 1544 4750 1819 4750 \nQ 2544 4750 2975 4387 \nQ 3406 4025 3406 3419 \nQ 3406 3131 3298 2873 \nQ 3191 2616 2906 2266 \nQ 2828 2175 2409 1742 \nQ 1991 1309 1228 531 \nz\n\" transform=\"scale(0.015625)\"/>\n       </defs>\n       <use xlink:href=\"#DejaVuSans-32\"/>\n      </g>\n     </g>\n    </g>\n    <g id=\"xtick_2\">\n     <g id=\"line2d_3\">\n      <path d=\"M 95.203125 145.8 \nL 95.203125 7.2 \n\" clip-path=\"url(#p1caf6d86d6)\" style=\"fill: none; stroke: #b0b0b0; stroke-width: 0.8; stroke-linecap: square\"/>\n     </g>\n     <g id=\"line2d_4\">\n      <g>\n       <use xlink:href=\"#m248fe0a87a\" x=\"95.203125\" y=\"145.8\" style=\"stroke: #000000; stroke-width: 0.8\"/>\n      </g>\n     </g>\n     <g id=\"text_2\">\n      <!-- 4 -->\n      <g transform=\"translate(92.021875 160.398438) scale(0.1 -0.1)\">\n       <defs>\n        <path id=\"DejaVuSans-34\" d=\"M 2419 4116 \nL 825 1625 \nL 2419 1625 \nL 2419 4116 \nz\nM 2253 4666 \nL 3047 4666 \nL 3047 1625 \nL 3713 1625 \nL 3713 1100 \nL 3047 1100 \nL 3047 0 \nL 2419 0 \nL 2419 1100 \nL 313 1100 \nL 313 1709 \nL 2253 4666 \nz\n\" transform=\"scale(0.015625)\"/>\n       </defs>\n       <use xlink:href=\"#DejaVuSans-34\"/>\n      </g>\n     </g>\n    </g>\n    <g id=\"xtick_3\">\n     <g id=\"line2d_5\">\n      <path d=\"M 138.603125 145.8 \nL 138.603125 7.2 \n\" clip-path=\"url(#p1caf6d86d6)\" style=\"fill: none; stroke: #b0b0b0; stroke-width: 0.8; stroke-linecap: square\"/>\n     </g>\n     <g id=\"line2d_6\">\n      <g>\n       <use xlink:href=\"#m248fe0a87a\" x=\"138.603125\" y=\"145.8\" style=\"stroke: #000000; stroke-width: 0.8\"/>\n      </g>\n     </g>\n     <g id=\"text_3\">\n      <!-- 6 -->\n      <g transform=\"translate(135.421875 160.398438) scale(0.1 -0.1)\">\n       <defs>\n        <path id=\"DejaVuSans-36\" d=\"M 2113 2584 \nQ 1688 2584 1439 2293 \nQ 1191 2003 1191 1497 \nQ 1191 994 1439 701 \nQ 1688 409 2113 409 \nQ 2538 409 2786 701 \nQ 3034 994 3034 1497 \nQ 3034 2003 2786 2293 \nQ 2538 2584 2113 2584 \nz\nM 3366 4563 \nL 3366 3988 \nQ 3128 4100 2886 4159 \nQ 2644 4219 2406 4219 \nQ 1781 4219 1451 3797 \nQ 1122 3375 1075 2522 \nQ 1259 2794 1537 2939 \nQ 1816 3084 2150 3084 \nQ 2853 3084 3261 2657 \nQ 3669 2231 3669 1497 \nQ 3669 778 3244 343 \nQ 2819 -91 2113 -91 \nQ 1303 -91 875 529 \nQ 447 1150 447 2328 \nQ 447 3434 972 4092 \nQ 1497 4750 2381 4750 \nQ 2619 4750 2861 4703 \nQ 3103 4656 3366 4563 \nz\n\" transform=\"scale(0.015625)\"/>\n       </defs>\n       <use xlink:href=\"#DejaVuSans-36\"/>\n      </g>\n     </g>\n    </g>\n    <g id=\"xtick_4\">\n     <g id=\"line2d_7\">\n      <path d=\"M 182.003125 145.8 \nL 182.003125 7.2 \n\" clip-path=\"url(#p1caf6d86d6)\" style=\"fill: none; stroke: #b0b0b0; stroke-width: 0.8; stroke-linecap: square\"/>\n     </g>\n     <g id=\"line2d_8\">\n      <g>\n       <use xlink:href=\"#m248fe0a87a\" x=\"182.003125\" y=\"145.8\" style=\"stroke: #000000; stroke-width: 0.8\"/>\n      </g>\n     </g>\n     <g id=\"text_4\">\n      <!-- 8 -->\n      <g transform=\"translate(178.821875 160.398438) scale(0.1 -0.1)\">\n       <defs>\n        <path id=\"DejaVuSans-38\" d=\"M 2034 2216 \nQ 1584 2216 1326 1975 \nQ 1069 1734 1069 1313 \nQ 1069 891 1326 650 \nQ 1584 409 2034 409 \nQ 2484 409 2743 651 \nQ 3003 894 3003 1313 \nQ 3003 1734 2745 1975 \nQ 2488 2216 2034 2216 \nz\nM 1403 2484 \nQ 997 2584 770 2862 \nQ 544 3141 544 3541 \nQ 544 4100 942 4425 \nQ 1341 4750 2034 4750 \nQ 2731 4750 3128 4425 \nQ 3525 4100 3525 3541 \nQ 3525 3141 3298 2862 \nQ 3072 2584 2669 2484 \nQ 3125 2378 3379 2068 \nQ 3634 1759 3634 1313 \nQ 3634 634 3220 271 \nQ 2806 -91 2034 -91 \nQ 1263 -91 848 271 \nQ 434 634 434 1313 \nQ 434 1759 690 2068 \nQ 947 2378 1403 2484 \nz\nM 1172 3481 \nQ 1172 3119 1398 2916 \nQ 1625 2713 2034 2713 \nQ 2441 2713 2670 2916 \nQ 2900 3119 2900 3481 \nQ 2900 3844 2670 4047 \nQ 2441 4250 2034 4250 \nQ 1625 4250 1398 4047 \nQ 1172 3844 1172 3481 \nz\n\" transform=\"scale(0.015625)\"/>\n       </defs>\n       <use xlink:href=\"#DejaVuSans-38\"/>\n      </g>\n     </g>\n    </g>\n    <g id=\"xtick_5\">\n     <g id=\"line2d_9\">\n      <path d=\"M 225.403125 145.8 \nL 225.403125 7.2 \n\" clip-path=\"url(#p1caf6d86d6)\" style=\"fill: none; stroke: #b0b0b0; stroke-width: 0.8; stroke-linecap: square\"/>\n     </g>\n     <g id=\"line2d_10\">\n      <g>\n       <use xlink:href=\"#m248fe0a87a\" x=\"225.403125\" y=\"145.8\" style=\"stroke: #000000; stroke-width: 0.8\"/>\n      </g>\n     </g>\n     <g id=\"text_5\">\n      <!-- 10 -->\n      <g transform=\"translate(219.040625 160.398438) scale(0.1 -0.1)\">\n       <defs>\n        <path id=\"DejaVuSans-31\" d=\"M 794 531 \nL 1825 531 \nL 1825 4091 \nL 703 3866 \nL 703 4441 \nL 1819 4666 \nL 2450 4666 \nL 2450 531 \nL 3481 531 \nL 3481 0 \nL 794 0 \nL 794 531 \nz\n\" transform=\"scale(0.015625)\"/>\n        <path id=\"DejaVuSans-30\" d=\"M 2034 4250 \nQ 1547 4250 1301 3770 \nQ 1056 3291 1056 2328 \nQ 1056 1369 1301 889 \nQ 1547 409 2034 409 \nQ 2525 409 2770 889 \nQ 3016 1369 3016 2328 \nQ 3016 3291 2770 3770 \nQ 2525 4250 2034 4250 \nz\nM 2034 4750 \nQ 2819 4750 3233 4129 \nQ 3647 3509 3647 2328 \nQ 3647 1150 3233 529 \nQ 2819 -91 2034 -91 \nQ 1250 -91 836 529 \nQ 422 1150 422 2328 \nQ 422 3509 836 4129 \nQ 1250 4750 2034 4750 \nz\n\" transform=\"scale(0.015625)\"/>\n       </defs>\n       <use xlink:href=\"#DejaVuSans-31\"/>\n       <use xlink:href=\"#DejaVuSans-30\" transform=\"translate(63.623047 0)\"/>\n      </g>\n     </g>\n    </g>\n    <g id=\"text_6\">\n     <!-- epoch -->\n     <g transform=\"translate(112.525 174.076563) scale(0.1 -0.1)\">\n      <defs>\n       <path id=\"DejaVuSans-65\" d=\"M 3597 1894 \nL 3597 1613 \nL 953 1613 \nQ 991 1019 1311 708 \nQ 1631 397 2203 397 \nQ 2534 397 2845 478 \nQ 3156 559 3463 722 \nL 3463 178 \nQ 3153 47 2828 -22 \nQ 2503 -91 2169 -91 \nQ 1331 -91 842 396 \nQ 353 884 353 1716 \nQ 353 2575 817 3079 \nQ 1281 3584 2069 3584 \nQ 2775 3584 3186 3129 \nQ 3597 2675 3597 1894 \nz\nM 3022 2063 \nQ 3016 2534 2758 2815 \nQ 2500 3097 2075 3097 \nQ 1594 3097 1305 2825 \nQ 1016 2553 972 2059 \nL 3022 2063 \nz\n\" transform=\"scale(0.015625)\"/>\n       <path id=\"DejaVuSans-70\" d=\"M 1159 525 \nL 1159 -1331 \nL 581 -1331 \nL 581 3500 \nL 1159 3500 \nL 1159 2969 \nQ 1341 3281 1617 3432 \nQ 1894 3584 2278 3584 \nQ 2916 3584 3314 3078 \nQ 3713 2572 3713 1747 \nQ 3713 922 3314 415 \nQ 2916 -91 2278 -91 \nQ 1894 -91 1617 61 \nQ 1341 213 1159 525 \nz\nM 3116 1747 \nQ 3116 2381 2855 2742 \nQ 2594 3103 2138 3103 \nQ 1681 3103 1420 2742 \nQ 1159 2381 1159 1747 \nQ 1159 1113 1420 752 \nQ 1681 391 2138 391 \nQ 2594 391 2855 752 \nQ 3116 1113 3116 1747 \nz\n\" transform=\"scale(0.015625)\"/>\n       <path id=\"DejaVuSans-6f\" d=\"M 1959 3097 \nQ 1497 3097 1228 2736 \nQ 959 2375 959 1747 \nQ 959 1119 1226 758 \nQ 1494 397 1959 397 \nQ 2419 397 2687 759 \nQ 2956 1122 2956 1747 \nQ 2956 2369 2687 2733 \nQ 2419 3097 1959 3097 \nz\nM 1959 3584 \nQ 2709 3584 3137 3096 \nQ 3566 2609 3566 1747 \nQ 3566 888 3137 398 \nQ 2709 -91 1959 -91 \nQ 1206 -91 779 398 \nQ 353 888 353 1747 \nQ 353 2609 779 3096 \nQ 1206 3584 1959 3584 \nz\n\" transform=\"scale(0.015625)\"/>\n       <path id=\"DejaVuSans-63\" d=\"M 3122 3366 \nL 3122 2828 \nQ 2878 2963 2633 3030 \nQ 2388 3097 2138 3097 \nQ 1578 3097 1268 2742 \nQ 959 2388 959 1747 \nQ 959 1106 1268 751 \nQ 1578 397 2138 397 \nQ 2388 397 2633 464 \nQ 2878 531 3122 666 \nL 3122 134 \nQ 2881 22 2623 -34 \nQ 2366 -91 2075 -91 \nQ 1284 -91 818 406 \nQ 353 903 353 1747 \nQ 353 2603 823 3093 \nQ 1294 3584 2113 3584 \nQ 2378 3584 2631 3529 \nQ 2884 3475 3122 3366 \nz\n\" transform=\"scale(0.015625)\"/>\n       <path id=\"DejaVuSans-68\" d=\"M 3513 2113 \nL 3513 0 \nL 2938 0 \nL 2938 2094 \nQ 2938 2591 2744 2837 \nQ 2550 3084 2163 3084 \nQ 1697 3084 1428 2787 \nQ 1159 2491 1159 1978 \nL 1159 0 \nL 581 0 \nL 581 4863 \nL 1159 4863 \nL 1159 2956 \nQ 1366 3272 1645 3428 \nQ 1925 3584 2291 3584 \nQ 2894 3584 3203 3211 \nQ 3513 2838 3513 2113 \nz\n\" transform=\"scale(0.015625)\"/>\n      </defs>\n      <use xlink:href=\"#DejaVuSans-65\"/>\n      <use xlink:href=\"#DejaVuSans-70\" transform=\"translate(61.523438 0)\"/>\n      <use xlink:href=\"#DejaVuSans-6f\" transform=\"translate(125 0)\"/>\n      <use xlink:href=\"#DejaVuSans-63\" transform=\"translate(186.181641 0)\"/>\n      <use xlink:href=\"#DejaVuSans-68\" transform=\"translate(241.162109 0)\"/>\n     </g>\n    </g>\n   </g>\n   <g id=\"matplotlib.axis_2\">\n    <g id=\"ytick_1\">\n     <g id=\"line2d_11\">\n      <path d=\"M 30.103125 117.149734 \nL 225.403125 117.149734 \n\" clip-path=\"url(#p1caf6d86d6)\" style=\"fill: none; stroke: #b0b0b0; stroke-width: 0.8; stroke-linecap: square\"/>\n     </g>\n     <g id=\"line2d_12\">\n      <defs>\n       <path id=\"m8308eabfe0\" d=\"M 0 0 \nL -3.5 0 \n\" style=\"stroke: #000000; stroke-width: 0.8\"/>\n      </defs>\n      <g>\n       <use xlink:href=\"#m8308eabfe0\" x=\"30.103125\" y=\"117.149734\" style=\"stroke: #000000; stroke-width: 0.8\"/>\n      </g>\n     </g>\n     <g id=\"text_7\">\n      <!-- 0.5 -->\n      <g transform=\"translate(7.2 120.948953) scale(0.1 -0.1)\">\n       <defs>\n        <path id=\"DejaVuSans-2e\" d=\"M 684 794 \nL 1344 794 \nL 1344 0 \nL 684 0 \nL 684 794 \nz\n\" transform=\"scale(0.015625)\"/>\n        <path id=\"DejaVuSans-35\" d=\"M 691 4666 \nL 3169 4666 \nL 3169 4134 \nL 1269 4134 \nL 1269 2991 \nQ 1406 3038 1543 3061 \nQ 1681 3084 1819 3084 \nQ 2600 3084 3056 2656 \nQ 3513 2228 3513 1497 \nQ 3513 744 3044 326 \nQ 2575 -91 1722 -91 \nQ 1428 -91 1123 -41 \nQ 819 9 494 109 \nL 494 744 \nQ 775 591 1075 516 \nQ 1375 441 1709 441 \nQ 2250 441 2565 725 \nQ 2881 1009 2881 1497 \nQ 2881 1984 2565 2268 \nQ 2250 2553 1709 2553 \nQ 1456 2553 1204 2497 \nQ 953 2441 691 2322 \nL 691 4666 \nz\n\" transform=\"scale(0.015625)\"/>\n       </defs>\n       <use xlink:href=\"#DejaVuSans-30\"/>\n       <use xlink:href=\"#DejaVuSans-2e\" transform=\"translate(63.623047 0)\"/>\n       <use xlink:href=\"#DejaVuSans-35\" transform=\"translate(95.410156 0)\"/>\n      </g>\n     </g>\n    </g>\n    <g id=\"ytick_2\">\n     <g id=\"line2d_13\">\n      <path d=\"M 30.103125 88.361856 \nL 225.403125 88.361856 \n\" clip-path=\"url(#p1caf6d86d6)\" style=\"fill: none; stroke: #b0b0b0; stroke-width: 0.8; stroke-linecap: square\"/>\n     </g>\n     <g id=\"line2d_14\">\n      <g>\n       <use xlink:href=\"#m8308eabfe0\" x=\"30.103125\" y=\"88.361856\" style=\"stroke: #000000; stroke-width: 0.8\"/>\n      </g>\n     </g>\n     <g id=\"text_8\">\n      <!-- 1.0 -->\n      <g transform=\"translate(7.2 92.161074) scale(0.1 -0.1)\">\n       <use xlink:href=\"#DejaVuSans-31\"/>\n       <use xlink:href=\"#DejaVuSans-2e\" transform=\"translate(63.623047 0)\"/>\n       <use xlink:href=\"#DejaVuSans-30\" transform=\"translate(95.410156 0)\"/>\n      </g>\n     </g>\n    </g>\n    <g id=\"ytick_3\">\n     <g id=\"line2d_15\">\n      <path d=\"M 30.103125 59.573978 \nL 225.403125 59.573978 \n\" clip-path=\"url(#p1caf6d86d6)\" style=\"fill: none; stroke: #b0b0b0; stroke-width: 0.8; stroke-linecap: square\"/>\n     </g>\n     <g id=\"line2d_16\">\n      <g>\n       <use xlink:href=\"#m8308eabfe0\" x=\"30.103125\" y=\"59.573978\" style=\"stroke: #000000; stroke-width: 0.8\"/>\n      </g>\n     </g>\n     <g id=\"text_9\">\n      <!-- 1.5 -->\n      <g transform=\"translate(7.2 63.373196) scale(0.1 -0.1)\">\n       <use xlink:href=\"#DejaVuSans-31\"/>\n       <use xlink:href=\"#DejaVuSans-2e\" transform=\"translate(63.623047 0)\"/>\n       <use xlink:href=\"#DejaVuSans-35\" transform=\"translate(95.410156 0)\"/>\n      </g>\n     </g>\n    </g>\n    <g id=\"ytick_4\">\n     <g id=\"line2d_17\">\n      <path d=\"M 30.103125 30.786099 \nL 225.403125 30.786099 \n\" clip-path=\"url(#p1caf6d86d6)\" style=\"fill: none; stroke: #b0b0b0; stroke-width: 0.8; stroke-linecap: square\"/>\n     </g>\n     <g id=\"line2d_18\">\n      <g>\n       <use xlink:href=\"#m8308eabfe0\" x=\"30.103125\" y=\"30.786099\" style=\"stroke: #000000; stroke-width: 0.8\"/>\n      </g>\n     </g>\n     <g id=\"text_10\">\n      <!-- 2.0 -->\n      <g transform=\"translate(7.2 34.585318) scale(0.1 -0.1)\">\n       <use xlink:href=\"#DejaVuSans-32\"/>\n       <use xlink:href=\"#DejaVuSans-2e\" transform=\"translate(63.623047 0)\"/>\n       <use xlink:href=\"#DejaVuSans-30\" transform=\"translate(95.410156 0)\"/>\n      </g>\n     </g>\n    </g>\n   </g>\n   <g id=\"line2d_19\">\n    <path d=\"M 12.70611 13.5 \nL 17.009095 13.845777 \nL 21.31208 14.40127 \nL 25.615065 15.682079 \nL 29.91805 20.761378 \nL 30.103125 21.078291 \nL 34.40611 67.276309 \nL 38.709095 73.201772 \nL 43.01208 77.12628 \nL 47.315065 80.054303 \nL 51.61805 82.420415 \nL 51.803125 82.457772 \nL 56.10611 94.824316 \nL 60.409095 96.278019 \nL 64.71208 96.548765 \nL 69.015065 97.240647 \nL 73.31805 97.812746 \nL 73.503125 97.82202 \nL 77.80611 100.672237 \nL 82.109095 101.783949 \nL 86.41208 102.126419 \nL 90.715065 102.533056 \nL 95.01805 102.986319 \nL 95.203125 102.993218 \nL 99.50611 104.751008 \nL 103.809095 105.683015 \nL 108.11208 105.715218 \nL 112.415065 106.204202 \nL 116.71805 106.30592 \nL 116.903125 106.304476 \nL 121.20611 107.944985 \nL 125.509095 107.961144 \nL 129.81208 108.256812 \nL 134.115065 108.409693 \nL 138.41805 108.803383 \nL 138.603125 108.814831 \nL 142.90611 110.655061 \nL 147.209095 110.220439 \nL 151.51208 110.679867 \nL 155.815065 110.760862 \nL 160.11805 111.020999 \nL 160.303125 111.029145 \nL 164.60611 112.005653 \nL 168.909095 111.991091 \nL 173.21208 112.344697 \nL 177.515065 112.579141 \nL 181.81805 112.794158 \nL 182.003125 112.836697 \nL 186.30611 113.812166 \nL 190.609095 113.927712 \nL 194.91208 114.063721 \nL 199.215065 114.104069 \nL 203.51805 114.321091 \nL 203.703125 114.325659 \nL 208.00611 115.66734 \nL 212.309095 115.52138 \nL 216.61208 115.582584 \nL 220.915065 115.730973 \nL 225.21805 115.671116 \nL 225.403125 115.6982 \n\" clip-path=\"url(#p1caf6d86d6)\" style=\"fill: none; stroke: #1f77b4; stroke-width: 1.5; stroke-linecap: square\"/>\n   </g>\n   <g id=\"line2d_20\">\n    <path d=\"M 12.70611 139.5 \nL 17.009095 138.443187 \nL 21.31208 136.878523 \nL 25.615065 135.045424 \nL 29.91805 132.914386 \nL 30.103125 132.813218 \nL 34.40611 118.784529 \nL 38.709095 116.373448 \nL 43.01208 114.84909 \nL 47.315065 113.566968 \nL 51.61805 112.63615 \nL 51.803125 112.609885 \nL 56.10611 107.752078 \nL 60.409095 107.181351 \nL 64.71208 107.165228 \nL 69.015065 106.782325 \nL 73.31805 106.562256 \nL 73.503125 106.547158 \nL 77.80611 105.382108 \nL 82.109095 105.125765 \nL 86.41208 105.033868 \nL 90.715065 104.875467 \nL 95.01805 104.72819 \nL 95.203125 104.728724 \nL 99.50611 103.964963 \nL 103.809095 103.718293 \nL 108.11208 103.795679 \nL 112.415065 103.608258 \nL 116.71805 103.523858 \nL 116.903125 103.519633 \nL 121.20611 102.949262 \nL 125.509095 102.963772 \nL 129.81208 102.873487 \nL 134.115065 102.779978 \nL 138.41805 102.630041 \nL 138.603125 102.620492 \nL 142.90611 101.996437 \nL 147.209095 102.083497 \nL 151.51208 101.870684 \nL 155.815065 101.879148 \nL 160.11805 101.692694 \nL 160.303125 101.684886 \nL 164.60611 101.169366 \nL 168.909095 101.35316 \nL 173.21208 101.20161 \nL 177.515065 101.079888 \nL 181.81805 101.010723 \nL 182.003125 100.992057 \nL 186.30611 100.729229 \nL 190.609095 100.574455 \nL 194.91208 100.580904 \nL 199.215065 100.558736 \nL 203.51805 100.451604 \nL 203.703125 100.445088 \nL 208.00611 100.085951 \nL 212.309095 100.013401 \nL 216.61208 100.013401 \nL 220.915065 99.946897 \nL 225.21805 99.9157 \nL 225.403125 99.901956 \n\" clip-path=\"url(#p1caf6d86d6)\" style=\"fill: none; stroke-dasharray: 5.55,2.4; stroke-dashoffset: 0; stroke: #bf00bf; stroke-width: 1.5\"/>\n   </g>\n   <g id=\"line2d_21\">\n    <path d=\"M 30.103125 115.600946 \nL 51.803125 106.106704 \nL 73.503125 105.076098 \nL 95.203125 103.613673 \nL 116.903125 102.57731 \nL 138.603125 101.633067 \nL 160.303125 101.258825 \nL 182.003125 100.717613 \nL 203.703125 99.445189 \nL 225.403125 99.237916 \n\" clip-path=\"url(#p1caf6d86d6)\" style=\"fill: none; stroke-dasharray: 9.6,2.4,1.5,2.4; stroke-dashoffset: 0; stroke: #008000; stroke-width: 1.5\"/>\n   </g>\n   <g id=\"patch_3\">\n    <path d=\"M 30.103125 145.8 \nL 30.103125 7.2 \n\" style=\"fill: none; stroke: #000000; stroke-width: 0.8; stroke-linejoin: miter; stroke-linecap: square\"/>\n   </g>\n   <g id=\"patch_4\">\n    <path d=\"M 225.403125 145.8 \nL 225.403125 7.2 \n\" style=\"fill: none; stroke: #000000; stroke-width: 0.8; stroke-linejoin: miter; stroke-linecap: square\"/>\n   </g>\n   <g id=\"patch_5\">\n    <path d=\"M 30.103125 145.8 \nL 225.403125 145.8 \n\" style=\"fill: none; stroke: #000000; stroke-width: 0.8; stroke-linejoin: miter; stroke-linecap: square\"/>\n   </g>\n   <g id=\"patch_6\">\n    <path d=\"M 30.103125 7.2 \nL 225.403125 7.2 \n\" style=\"fill: none; stroke: #000000; stroke-width: 0.8; stroke-linejoin: miter; stroke-linecap: square\"/>\n   </g>\n   <g id=\"legend_1\">\n    <g id=\"patch_7\">\n     <path d=\"M 140.634375 59.234375 \nL 218.403125 59.234375 \nQ 220.403125 59.234375 220.403125 57.234375 \nL 220.403125 14.2 \nQ 220.403125 12.2 218.403125 12.2 \nL 140.634375 12.2 \nQ 138.634375 12.2 138.634375 14.2 \nL 138.634375 57.234375 \nQ 138.634375 59.234375 140.634375 59.234375 \nz\n\" style=\"fill: #ffffff; opacity: 0.8; stroke: #cccccc; stroke-linejoin: miter\"/>\n    </g>\n    <g id=\"line2d_22\">\n     <path d=\"M 142.634375 20.298438 \nL 152.634375 20.298438 \nL 162.634375 20.298438 \n\" style=\"fill: none; stroke: #1f77b4; stroke-width: 1.5; stroke-linecap: square\"/>\n    </g>\n    <g id=\"text_11\">\n     <!-- train loss -->\n     <g transform=\"translate(170.634375 23.798438) scale(0.1 -0.1)\">\n      <defs>\n       <path id=\"DejaVuSans-74\" d=\"M 1172 4494 \nL 1172 3500 \nL 2356 3500 \nL 2356 3053 \nL 1172 3053 \nL 1172 1153 \nQ 1172 725 1289 603 \nQ 1406 481 1766 481 \nL 2356 481 \nL 2356 0 \nL 1766 0 \nQ 1100 0 847 248 \nQ 594 497 594 1153 \nL 594 3053 \nL 172 3053 \nL 172 3500 \nL 594 3500 \nL 594 4494 \nL 1172 4494 \nz\n\" transform=\"scale(0.015625)\"/>\n       <path id=\"DejaVuSans-72\" d=\"M 2631 2963 \nQ 2534 3019 2420 3045 \nQ 2306 3072 2169 3072 \nQ 1681 3072 1420 2755 \nQ 1159 2438 1159 1844 \nL 1159 0 \nL 581 0 \nL 581 3500 \nL 1159 3500 \nL 1159 2956 \nQ 1341 3275 1631 3429 \nQ 1922 3584 2338 3584 \nQ 2397 3584 2469 3576 \nQ 2541 3569 2628 3553 \nL 2631 2963 \nz\n\" transform=\"scale(0.015625)\"/>\n       <path id=\"DejaVuSans-61\" d=\"M 2194 1759 \nQ 1497 1759 1228 1600 \nQ 959 1441 959 1056 \nQ 959 750 1161 570 \nQ 1363 391 1709 391 \nQ 2188 391 2477 730 \nQ 2766 1069 2766 1631 \nL 2766 1759 \nL 2194 1759 \nz\nM 3341 1997 \nL 3341 0 \nL 2766 0 \nL 2766 531 \nQ 2569 213 2275 61 \nQ 1981 -91 1556 -91 \nQ 1019 -91 701 211 \nQ 384 513 384 1019 \nQ 384 1609 779 1909 \nQ 1175 2209 1959 2209 \nL 2766 2209 \nL 2766 2266 \nQ 2766 2663 2505 2880 \nQ 2244 3097 1772 3097 \nQ 1472 3097 1187 3025 \nQ 903 2953 641 2809 \nL 641 3341 \nQ 956 3463 1253 3523 \nQ 1550 3584 1831 3584 \nQ 2591 3584 2966 3190 \nQ 3341 2797 3341 1997 \nz\n\" transform=\"scale(0.015625)\"/>\n       <path id=\"DejaVuSans-69\" d=\"M 603 3500 \nL 1178 3500 \nL 1178 0 \nL 603 0 \nL 603 3500 \nz\nM 603 4863 \nL 1178 4863 \nL 1178 4134 \nL 603 4134 \nL 603 4863 \nz\n\" transform=\"scale(0.015625)\"/>\n       <path id=\"DejaVuSans-6e\" d=\"M 3513 2113 \nL 3513 0 \nL 2938 0 \nL 2938 2094 \nQ 2938 2591 2744 2837 \nQ 2550 3084 2163 3084 \nQ 1697 3084 1428 2787 \nQ 1159 2491 1159 1978 \nL 1159 0 \nL 581 0 \nL 581 3500 \nL 1159 3500 \nL 1159 2956 \nQ 1366 3272 1645 3428 \nQ 1925 3584 2291 3584 \nQ 2894 3584 3203 3211 \nQ 3513 2838 3513 2113 \nz\n\" transform=\"scale(0.015625)\"/>\n       <path id=\"DejaVuSans-20\" transform=\"scale(0.015625)\"/>\n       <path id=\"DejaVuSans-6c\" d=\"M 603 4863 \nL 1178 4863 \nL 1178 0 \nL 603 0 \nL 603 4863 \nz\n\" transform=\"scale(0.015625)\"/>\n       <path id=\"DejaVuSans-73\" d=\"M 2834 3397 \nL 2834 2853 \nQ 2591 2978 2328 3040 \nQ 2066 3103 1784 3103 \nQ 1356 3103 1142 2972 \nQ 928 2841 928 2578 \nQ 928 2378 1081 2264 \nQ 1234 2150 1697 2047 \nL 1894 2003 \nQ 2506 1872 2764 1633 \nQ 3022 1394 3022 966 \nQ 3022 478 2636 193 \nQ 2250 -91 1575 -91 \nQ 1294 -91 989 -36 \nQ 684 19 347 128 \nL 347 722 \nQ 666 556 975 473 \nQ 1284 391 1588 391 \nQ 1994 391 2212 530 \nQ 2431 669 2431 922 \nQ 2431 1156 2273 1281 \nQ 2116 1406 1581 1522 \nL 1381 1569 \nQ 847 1681 609 1914 \nQ 372 2147 372 2553 \nQ 372 3047 722 3315 \nQ 1072 3584 1716 3584 \nQ 2034 3584 2315 3537 \nQ 2597 3491 2834 3397 \nz\n\" transform=\"scale(0.015625)\"/>\n      </defs>\n      <use xlink:href=\"#DejaVuSans-74\"/>\n      <use xlink:href=\"#DejaVuSans-72\" transform=\"translate(39.208984 0)\"/>\n      <use xlink:href=\"#DejaVuSans-61\" transform=\"translate(80.322266 0)\"/>\n      <use xlink:href=\"#DejaVuSans-69\" transform=\"translate(141.601562 0)\"/>\n      <use xlink:href=\"#DejaVuSans-6e\" transform=\"translate(169.384766 0)\"/>\n      <use xlink:href=\"#DejaVuSans-20\" transform=\"translate(232.763672 0)\"/>\n      <use xlink:href=\"#DejaVuSans-6c\" transform=\"translate(264.550781 0)\"/>\n      <use xlink:href=\"#DejaVuSans-6f\" transform=\"translate(292.333984 0)\"/>\n      <use xlink:href=\"#DejaVuSans-73\" transform=\"translate(353.515625 0)\"/>\n      <use xlink:href=\"#DejaVuSans-73\" transform=\"translate(405.615234 0)\"/>\n     </g>\n    </g>\n    <g id=\"line2d_23\">\n     <path d=\"M 142.634375 34.976563 \nL 152.634375 34.976563 \nL 162.634375 34.976563 \n\" style=\"fill: none; stroke-dasharray: 5.55,2.4; stroke-dashoffset: 0; stroke: #bf00bf; stroke-width: 1.5\"/>\n    </g>\n    <g id=\"text_12\">\n     <!-- train acc -->\n     <g transform=\"translate(170.634375 38.476563) scale(0.1 -0.1)\">\n      <use xlink:href=\"#DejaVuSans-74\"/>\n      <use xlink:href=\"#DejaVuSans-72\" transform=\"translate(39.208984 0)\"/>\n      <use xlink:href=\"#DejaVuSans-61\" transform=\"translate(80.322266 0)\"/>\n      <use xlink:href=\"#DejaVuSans-69\" transform=\"translate(141.601562 0)\"/>\n      <use xlink:href=\"#DejaVuSans-6e\" transform=\"translate(169.384766 0)\"/>\n      <use xlink:href=\"#DejaVuSans-20\" transform=\"translate(232.763672 0)\"/>\n      <use xlink:href=\"#DejaVuSans-61\" transform=\"translate(264.550781 0)\"/>\n      <use xlink:href=\"#DejaVuSans-63\" transform=\"translate(325.830078 0)\"/>\n      <use xlink:href=\"#DejaVuSans-63\" transform=\"translate(380.810547 0)\"/>\n     </g>\n    </g>\n    <g id=\"line2d_24\">\n     <path d=\"M 142.634375 49.654688 \nL 152.634375 49.654688 \nL 162.634375 49.654688 \n\" style=\"fill: none; stroke-dasharray: 9.6,2.4,1.5,2.4; stroke-dashoffset: 0; stroke: #008000; stroke-width: 1.5\"/>\n    </g>\n    <g id=\"text_13\">\n     <!-- test acc -->\n     <g transform=\"translate(170.634375 53.154688) scale(0.1 -0.1)\">\n      <use xlink:href=\"#DejaVuSans-74\"/>\n      <use xlink:href=\"#DejaVuSans-65\" transform=\"translate(39.208984 0)\"/>\n      <use xlink:href=\"#DejaVuSans-73\" transform=\"translate(100.732422 0)\"/>\n      <use xlink:href=\"#DejaVuSans-74\" transform=\"translate(152.832031 0)\"/>\n      <use xlink:href=\"#DejaVuSans-20\" transform=\"translate(192.041016 0)\"/>\n      <use xlink:href=\"#DejaVuSans-61\" transform=\"translate(223.828125 0)\"/>\n      <use xlink:href=\"#DejaVuSans-63\" transform=\"translate(285.107422 0)\"/>\n      <use xlink:href=\"#DejaVuSans-63\" transform=\"translate(340.087891 0)\"/>\n     </g>\n    </g>\n   </g>\n  </g>\n </g>\n <defs>\n  <clipPath id=\"p1caf6d86d6\">\n   <rect x=\"30.103125\" y=\"7.2\" width=\"195.3\" height=\"138.6\"/>\n  </clipPath>\n </defs>\n</svg>\n"
          },
          "metadata": {}
        }
      ],
      "source": [
        "lr, num_epochs = 0.01, 10\n",
        "d2l.train_ch6(model, train_iter, test_iter, num_epochs, lr)"
      ]
    },
    {
      "cell_type": "code",
      "execution_count": null,
      "metadata": {
        "id": "-AwwAvL-nFbO"
      },
      "outputs": [],
      "source": [
        "### AlexNet for 28×28 Fashion-MNIST resuls are:\n",
        "\n",
        "#Training Accuracy: 80%\n",
        "#Test Accuracy: 81%\n",
        "#Loss: 0.508\n",
        "#Speed: 11,429 examples/sec on CUDA\n",
        "\n",
        "# Compared to the standard AlexNet trained on ImageNet, this accuracy is expected since Fashion-MNIST is simpler.\n",
        "# With further tuning, we might reach higher test accuracy.I used the same epoch, lr as it is used in the original AlexNet.\n",
        "\n",
        "#(iii)\n",
        "# The Modified AlexNet (28×28)\n",
        "    # Test Accuracy: 82%\n",
        "    # Speed: 11,396 examples/sec on CUDA\n",
        "# Original AlexNet (224×224)\n",
        "    #Test Accuracy: 87\n",
        "    #Speed: 1,462 examples/sec on CUDA\n",
        "\n",
        "# The modified AlexNet(28) is  almost 8x faster than the original.\n",
        "# Original AlexNet works on 224x224 images, it means more memory and computation.\n",
        "# And the original AlexNet has more filer and pooling & stride sizes are optimized for 28×28.\n"
      ]
    },
    {
      "cell_type": "code",
      "execution_count": null,
      "metadata": {
        "id": "sBjMZF1wGaUp"
      },
      "outputs": [],
      "source": [
        "# for grader use only\n",
        "\n",
        "# insert grade here  (out of 12)\n",
        "\n",
        "# G[1] =\n",
        "#\n",
        "# please justify point subtractions when needed"
      ]
    },
    {
      "cell_type": "markdown",
      "metadata": {
        "id": "2pNQViWQjPKo"
      },
      "source": [
        "\n",
        "\n",
        "## <font color = 'blue'>  **Question 2** <font>\n",
        "\n",
        "<font color = 'blue'>  Now let's go back to the original Alexnet. In the class we trained it for 10 epochs.\n",
        "\n",
        "<font color = 'blue'>  (i) Train it for 50 epochs and record the training and test accuracy.\n",
        "\n",
        "<font color = 'blue'>  (ii) Take the MNIST dataloader and modify it, so that each image in the dataset gets a **random** label, in place of its correct label.\n",
        "\n",
        "<font color = 'blue'>  (iii) Retrain AlexNet with the new modified dataset. This time train it for 500 epochs. What is the training and test accuracy? Can you justify them? Discuss your thoughts.\n",
        "\n",
        "\n",
        "\n"
      ]
    },
    {
      "cell_type": "code",
      "execution_count": 10,
      "metadata": {
        "id": "oxqTLSCCpQOg"
      },
      "outputs": [],
      "source": [
        "# Q-2 (i)\n",
        "batch_size = 128\n",
        "train_iter, test_iter = d2l.load_data_fashion_mnist(batch_size)\n"
      ]
    },
    {
      "cell_type": "code",
      "execution_count": 11,
      "metadata": {
        "id": "1fhfxKH3p7_k",
        "colab": {
          "base_uri": "https://localhost:8080/"
        },
        "outputId": "5fc58cbc-df9e-44f0-da91-b5516da33fd7"
      },
      "outputs": [
        {
          "output_type": "stream",
          "name": "stdout",
          "text": [
            "Conv2d Output shape:\t torch.Size([1, 96, 54, 54])\n",
            "ReLU Output shape:\t torch.Size([1, 96, 54, 54])\n",
            "MaxPool2d Output shape:\t torch.Size([1, 96, 26, 26])\n",
            "Conv2d Output shape:\t torch.Size([1, 256, 26, 26])\n",
            "ReLU Output shape:\t torch.Size([1, 256, 26, 26])\n",
            "MaxPool2d Output shape:\t torch.Size([1, 256, 12, 12])\n",
            "Conv2d Output shape:\t torch.Size([1, 384, 12, 12])\n",
            "ReLU Output shape:\t torch.Size([1, 384, 12, 12])\n",
            "Conv2d Output shape:\t torch.Size([1, 384, 12, 12])\n",
            "ReLU Output shape:\t torch.Size([1, 384, 12, 12])\n",
            "Conv2d Output shape:\t torch.Size([1, 256, 12, 12])\n",
            "ReLU Output shape:\t torch.Size([1, 256, 12, 12])\n",
            "MaxPool2d Output shape:\t torch.Size([1, 256, 5, 5])\n",
            "Flatten Output shape:\t torch.Size([1, 6400])\n",
            "Linear Output shape:\t torch.Size([1, 4096])\n",
            "ReLU Output shape:\t torch.Size([1, 4096])\n",
            "Dropout Output shape:\t torch.Size([1, 4096])\n",
            "Linear Output shape:\t torch.Size([1, 4096])\n",
            "ReLU Output shape:\t torch.Size([1, 4096])\n",
            "Dropout Output shape:\t torch.Size([1, 4096])\n",
            "Linear Output shape:\t torch.Size([1, 10])\n"
          ]
        }
      ],
      "source": [
        "X1 = torch.randn(1, 1, 224, 224).cuda()\n",
        "for layer in net:\n",
        "    X1=layer(X1)\n",
        "    print(layer.__class__.__name__,'Output shape:\\t',X1.shape)"
      ]
    },
    {
      "cell_type": "code",
      "execution_count": 12,
      "metadata": {
        "id": "8ZEhsGeqp56O",
        "colab": {
          "base_uri": "https://localhost:8080/",
          "height": 300
        },
        "outputId": "975412fa-2207-4d30-f25d-3317b15d191c"
      },
      "outputs": [
        {
          "output_type": "stream",
          "name": "stdout",
          "text": [
            "loss 0.243, train acc 0.911, test acc 0.904\n",
            "11330.2 examples/sec on cuda:0\n"
          ]
        },
        {
          "output_type": "display_data",
          "data": {
            "text/plain": [
              "<Figure size 350x250 with 1 Axes>"
            ],
            "image/svg+xml": "<?xml version=\"1.0\" encoding=\"utf-8\" standalone=\"no\"?>\n<!DOCTYPE svg PUBLIC \"-//W3C//DTD SVG 1.1//EN\"\n  \"http://www.w3.org/Graphics/SVG/1.1/DTD/svg11.dtd\">\n<svg xmlns:xlink=\"http://www.w3.org/1999/xlink\" width=\"238.965625pt\" height=\"183.35625pt\" viewBox=\"0 0 238.965625 183.35625\" xmlns=\"http://www.w3.org/2000/svg\" version=\"1.1\">\n <metadata>\n  <rdf:RDF xmlns:dc=\"http://purl.org/dc/elements/1.1/\" xmlns:cc=\"http://creativecommons.org/ns#\" xmlns:rdf=\"http://www.w3.org/1999/02/22-rdf-syntax-ns#\">\n   <cc:Work>\n    <dc:type rdf:resource=\"http://purl.org/dc/dcmitype/StillImage\"/>\n    <dc:date>2025-03-01T17:03:49.346667</dc:date>\n    <dc:format>image/svg+xml</dc:format>\n    <dc:creator>\n     <cc:Agent>\n      <dc:title>Matplotlib v3.10.0, https://matplotlib.org/</dc:title>\n     </cc:Agent>\n    </dc:creator>\n   </cc:Work>\n  </rdf:RDF>\n </metadata>\n <defs>\n  <style type=\"text/css\">*{stroke-linejoin: round; stroke-linecap: butt}</style>\n </defs>\n <g id=\"figure_1\">\n  <g id=\"patch_1\">\n   <path d=\"M 0 183.35625 \nL 238.965625 183.35625 \nL 238.965625 0 \nL 0 0 \nz\n\" style=\"fill: #ffffff\"/>\n  </g>\n  <g id=\"axes_1\">\n   <g id=\"patch_2\">\n    <path d=\"M 30.103125 145.8 \nL 225.403125 145.8 \nL 225.403125 7.2 \nL 30.103125 7.2 \nz\n\" style=\"fill: #ffffff\"/>\n   </g>\n   <g id=\"matplotlib.axis_1\">\n    <g id=\"xtick_1\">\n     <g id=\"line2d_1\">\n      <path d=\"M 65.974554 145.8 \nL 65.974554 7.2 \n\" clip-path=\"url(#p7d6222aa0d)\" style=\"fill: none; stroke: #b0b0b0; stroke-width: 0.8; stroke-linecap: square\"/>\n     </g>\n     <g id=\"line2d_2\">\n      <defs>\n       <path id=\"m53e3a6f03c\" d=\"M 0 0 \nL 0 3.5 \n\" style=\"stroke: #000000; stroke-width: 0.8\"/>\n      </defs>\n      <g>\n       <use xlink:href=\"#m53e3a6f03c\" x=\"65.974554\" y=\"145.8\" style=\"stroke: #000000; stroke-width: 0.8\"/>\n      </g>\n     </g>\n     <g id=\"text_1\">\n      <!-- 10 -->\n      <g transform=\"translate(59.612054 160.398438) scale(0.1 -0.1)\">\n       <defs>\n        <path id=\"DejaVuSans-31\" d=\"M 794 531 \nL 1825 531 \nL 1825 4091 \nL 703 3866 \nL 703 4441 \nL 1819 4666 \nL 2450 4666 \nL 2450 531 \nL 3481 531 \nL 3481 0 \nL 794 0 \nL 794 531 \nz\n\" transform=\"scale(0.015625)\"/>\n        <path id=\"DejaVuSans-30\" d=\"M 2034 4250 \nQ 1547 4250 1301 3770 \nQ 1056 3291 1056 2328 \nQ 1056 1369 1301 889 \nQ 1547 409 2034 409 \nQ 2525 409 2770 889 \nQ 3016 1369 3016 2328 \nQ 3016 3291 2770 3770 \nQ 2525 4250 2034 4250 \nz\nM 2034 4750 \nQ 2819 4750 3233 4129 \nQ 3647 3509 3647 2328 \nQ 3647 1150 3233 529 \nQ 2819 -91 2034 -91 \nQ 1250 -91 836 529 \nQ 422 1150 422 2328 \nQ 422 3509 836 4129 \nQ 1250 4750 2034 4750 \nz\n\" transform=\"scale(0.015625)\"/>\n       </defs>\n       <use xlink:href=\"#DejaVuSans-31\"/>\n       <use xlink:href=\"#DejaVuSans-30\" transform=\"translate(63.623047 0)\"/>\n      </g>\n     </g>\n    </g>\n    <g id=\"xtick_2\">\n     <g id=\"line2d_3\">\n      <path d=\"M 105.831696 145.8 \nL 105.831696 7.2 \n\" clip-path=\"url(#p7d6222aa0d)\" style=\"fill: none; stroke: #b0b0b0; stroke-width: 0.8; stroke-linecap: square\"/>\n     </g>\n     <g id=\"line2d_4\">\n      <g>\n       <use xlink:href=\"#m53e3a6f03c\" x=\"105.831696\" y=\"145.8\" style=\"stroke: #000000; stroke-width: 0.8\"/>\n      </g>\n     </g>\n     <g id=\"text_2\">\n      <!-- 20 -->\n      <g transform=\"translate(99.469196 160.398438) scale(0.1 -0.1)\">\n       <defs>\n        <path id=\"DejaVuSans-32\" d=\"M 1228 531 \nL 3431 531 \nL 3431 0 \nL 469 0 \nL 469 531 \nQ 828 903 1448 1529 \nQ 2069 2156 2228 2338 \nQ 2531 2678 2651 2914 \nQ 2772 3150 2772 3378 \nQ 2772 3750 2511 3984 \nQ 2250 4219 1831 4219 \nQ 1534 4219 1204 4116 \nQ 875 4013 500 3803 \nL 500 4441 \nQ 881 4594 1212 4672 \nQ 1544 4750 1819 4750 \nQ 2544 4750 2975 4387 \nQ 3406 4025 3406 3419 \nQ 3406 3131 3298 2873 \nQ 3191 2616 2906 2266 \nQ 2828 2175 2409 1742 \nQ 1991 1309 1228 531 \nz\n\" transform=\"scale(0.015625)\"/>\n       </defs>\n       <use xlink:href=\"#DejaVuSans-32\"/>\n       <use xlink:href=\"#DejaVuSans-30\" transform=\"translate(63.623047 0)\"/>\n      </g>\n     </g>\n    </g>\n    <g id=\"xtick_3\">\n     <g id=\"line2d_5\">\n      <path d=\"M 145.688839 145.8 \nL 145.688839 7.2 \n\" clip-path=\"url(#p7d6222aa0d)\" style=\"fill: none; stroke: #b0b0b0; stroke-width: 0.8; stroke-linecap: square\"/>\n     </g>\n     <g id=\"line2d_6\">\n      <g>\n       <use xlink:href=\"#m53e3a6f03c\" x=\"145.688839\" y=\"145.8\" style=\"stroke: #000000; stroke-width: 0.8\"/>\n      </g>\n     </g>\n     <g id=\"text_3\">\n      <!-- 30 -->\n      <g transform=\"translate(139.326339 160.398438) scale(0.1 -0.1)\">\n       <defs>\n        <path id=\"DejaVuSans-33\" d=\"M 2597 2516 \nQ 3050 2419 3304 2112 \nQ 3559 1806 3559 1356 \nQ 3559 666 3084 287 \nQ 2609 -91 1734 -91 \nQ 1441 -91 1130 -33 \nQ 819 25 488 141 \nL 488 750 \nQ 750 597 1062 519 \nQ 1375 441 1716 441 \nQ 2309 441 2620 675 \nQ 2931 909 2931 1356 \nQ 2931 1769 2642 2001 \nQ 2353 2234 1838 2234 \nL 1294 2234 \nL 1294 2753 \nL 1863 2753 \nQ 2328 2753 2575 2939 \nQ 2822 3125 2822 3475 \nQ 2822 3834 2567 4026 \nQ 2313 4219 1838 4219 \nQ 1578 4219 1281 4162 \nQ 984 4106 628 3988 \nL 628 4550 \nQ 988 4650 1302 4700 \nQ 1616 4750 1894 4750 \nQ 2613 4750 3031 4423 \nQ 3450 4097 3450 3541 \nQ 3450 3153 3228 2886 \nQ 3006 2619 2597 2516 \nz\n\" transform=\"scale(0.015625)\"/>\n       </defs>\n       <use xlink:href=\"#DejaVuSans-33\"/>\n       <use xlink:href=\"#DejaVuSans-30\" transform=\"translate(63.623047 0)\"/>\n      </g>\n     </g>\n    </g>\n    <g id=\"xtick_4\">\n     <g id=\"line2d_7\">\n      <path d=\"M 185.545982 145.8 \nL 185.545982 7.2 \n\" clip-path=\"url(#p7d6222aa0d)\" style=\"fill: none; stroke: #b0b0b0; stroke-width: 0.8; stroke-linecap: square\"/>\n     </g>\n     <g id=\"line2d_8\">\n      <g>\n       <use xlink:href=\"#m53e3a6f03c\" x=\"185.545982\" y=\"145.8\" style=\"stroke: #000000; stroke-width: 0.8\"/>\n      </g>\n     </g>\n     <g id=\"text_4\">\n      <!-- 40 -->\n      <g transform=\"translate(179.183482 160.398438) scale(0.1 -0.1)\">\n       <defs>\n        <path id=\"DejaVuSans-34\" d=\"M 2419 4116 \nL 825 1625 \nL 2419 1625 \nL 2419 4116 \nz\nM 2253 4666 \nL 3047 4666 \nL 3047 1625 \nL 3713 1625 \nL 3713 1100 \nL 3047 1100 \nL 3047 0 \nL 2419 0 \nL 2419 1100 \nL 313 1100 \nL 313 1709 \nL 2253 4666 \nz\n\" transform=\"scale(0.015625)\"/>\n       </defs>\n       <use xlink:href=\"#DejaVuSans-34\"/>\n       <use xlink:href=\"#DejaVuSans-30\" transform=\"translate(63.623047 0)\"/>\n      </g>\n     </g>\n    </g>\n    <g id=\"xtick_5\">\n     <g id=\"line2d_9\">\n      <path d=\"M 225.403125 145.8 \nL 225.403125 7.2 \n\" clip-path=\"url(#p7d6222aa0d)\" style=\"fill: none; stroke: #b0b0b0; stroke-width: 0.8; stroke-linecap: square\"/>\n     </g>\n     <g id=\"line2d_10\">\n      <g>\n       <use xlink:href=\"#m53e3a6f03c\" x=\"225.403125\" y=\"145.8\" style=\"stroke: #000000; stroke-width: 0.8\"/>\n      </g>\n     </g>\n     <g id=\"text_5\">\n      <!-- 50 -->\n      <g transform=\"translate(219.040625 160.398438) scale(0.1 -0.1)\">\n       <defs>\n        <path id=\"DejaVuSans-35\" d=\"M 691 4666 \nL 3169 4666 \nL 3169 4134 \nL 1269 4134 \nL 1269 2991 \nQ 1406 3038 1543 3061 \nQ 1681 3084 1819 3084 \nQ 2600 3084 3056 2656 \nQ 3513 2228 3513 1497 \nQ 3513 744 3044 326 \nQ 2575 -91 1722 -91 \nQ 1428 -91 1123 -41 \nQ 819 9 494 109 \nL 494 744 \nQ 775 591 1075 516 \nQ 1375 441 1709 441 \nQ 2250 441 2565 725 \nQ 2881 1009 2881 1497 \nQ 2881 1984 2565 2268 \nQ 2250 2553 1709 2553 \nQ 1456 2553 1204 2497 \nQ 953 2441 691 2322 \nL 691 4666 \nz\n\" transform=\"scale(0.015625)\"/>\n       </defs>\n       <use xlink:href=\"#DejaVuSans-35\"/>\n       <use xlink:href=\"#DejaVuSans-30\" transform=\"translate(63.623047 0)\"/>\n      </g>\n     </g>\n    </g>\n    <g id=\"text_6\">\n     <!-- epoch -->\n     <g transform=\"translate(112.525 174.076563) scale(0.1 -0.1)\">\n      <defs>\n       <path id=\"DejaVuSans-65\" d=\"M 3597 1894 \nL 3597 1613 \nL 953 1613 \nQ 991 1019 1311 708 \nQ 1631 397 2203 397 \nQ 2534 397 2845 478 \nQ 3156 559 3463 722 \nL 3463 178 \nQ 3153 47 2828 -22 \nQ 2503 -91 2169 -91 \nQ 1331 -91 842 396 \nQ 353 884 353 1716 \nQ 353 2575 817 3079 \nQ 1281 3584 2069 3584 \nQ 2775 3584 3186 3129 \nQ 3597 2675 3597 1894 \nz\nM 3022 2063 \nQ 3016 2534 2758 2815 \nQ 2500 3097 2075 3097 \nQ 1594 3097 1305 2825 \nQ 1016 2553 972 2059 \nL 3022 2063 \nz\n\" transform=\"scale(0.015625)\"/>\n       <path id=\"DejaVuSans-70\" d=\"M 1159 525 \nL 1159 -1331 \nL 581 -1331 \nL 581 3500 \nL 1159 3500 \nL 1159 2969 \nQ 1341 3281 1617 3432 \nQ 1894 3584 2278 3584 \nQ 2916 3584 3314 3078 \nQ 3713 2572 3713 1747 \nQ 3713 922 3314 415 \nQ 2916 -91 2278 -91 \nQ 1894 -91 1617 61 \nQ 1341 213 1159 525 \nz\nM 3116 1747 \nQ 3116 2381 2855 2742 \nQ 2594 3103 2138 3103 \nQ 1681 3103 1420 2742 \nQ 1159 2381 1159 1747 \nQ 1159 1113 1420 752 \nQ 1681 391 2138 391 \nQ 2594 391 2855 752 \nQ 3116 1113 3116 1747 \nz\n\" transform=\"scale(0.015625)\"/>\n       <path id=\"DejaVuSans-6f\" d=\"M 1959 3097 \nQ 1497 3097 1228 2736 \nQ 959 2375 959 1747 \nQ 959 1119 1226 758 \nQ 1494 397 1959 397 \nQ 2419 397 2687 759 \nQ 2956 1122 2956 1747 \nQ 2956 2369 2687 2733 \nQ 2419 3097 1959 3097 \nz\nM 1959 3584 \nQ 2709 3584 3137 3096 \nQ 3566 2609 3566 1747 \nQ 3566 888 3137 398 \nQ 2709 -91 1959 -91 \nQ 1206 -91 779 398 \nQ 353 888 353 1747 \nQ 353 2609 779 3096 \nQ 1206 3584 1959 3584 \nz\n\" transform=\"scale(0.015625)\"/>\n       <path id=\"DejaVuSans-63\" d=\"M 3122 3366 \nL 3122 2828 \nQ 2878 2963 2633 3030 \nQ 2388 3097 2138 3097 \nQ 1578 3097 1268 2742 \nQ 959 2388 959 1747 \nQ 959 1106 1268 751 \nQ 1578 397 2138 397 \nQ 2388 397 2633 464 \nQ 2878 531 3122 666 \nL 3122 134 \nQ 2881 22 2623 -34 \nQ 2366 -91 2075 -91 \nQ 1284 -91 818 406 \nQ 353 903 353 1747 \nQ 353 2603 823 3093 \nQ 1294 3584 2113 3584 \nQ 2378 3584 2631 3529 \nQ 2884 3475 3122 3366 \nz\n\" transform=\"scale(0.015625)\"/>\n       <path id=\"DejaVuSans-68\" d=\"M 3513 2113 \nL 3513 0 \nL 2938 0 \nL 2938 2094 \nQ 2938 2591 2744 2837 \nQ 2550 3084 2163 3084 \nQ 1697 3084 1428 2787 \nQ 1159 2491 1159 1978 \nL 1159 0 \nL 581 0 \nL 581 4863 \nL 1159 4863 \nL 1159 2956 \nQ 1366 3272 1645 3428 \nQ 1925 3584 2291 3584 \nQ 2894 3584 3203 3211 \nQ 3513 2838 3513 2113 \nz\n\" transform=\"scale(0.015625)\"/>\n      </defs>\n      <use xlink:href=\"#DejaVuSans-65\"/>\n      <use xlink:href=\"#DejaVuSans-70\" transform=\"translate(61.523438 0)\"/>\n      <use xlink:href=\"#DejaVuSans-6f\" transform=\"translate(125 0)\"/>\n      <use xlink:href=\"#DejaVuSans-63\" transform=\"translate(186.181641 0)\"/>\n      <use xlink:href=\"#DejaVuSans-68\" transform=\"translate(241.162109 0)\"/>\n     </g>\n    </g>\n   </g>\n   <g id=\"matplotlib.axis_2\">\n    <g id=\"ytick_1\">\n     <g id=\"line2d_11\">\n      <path d=\"M 30.103125 117.088421 \nL 225.403125 117.088421 \n\" clip-path=\"url(#p7d6222aa0d)\" style=\"fill: none; stroke: #b0b0b0; stroke-width: 0.8; stroke-linecap: square\"/>\n     </g>\n     <g id=\"line2d_12\">\n      <defs>\n       <path id=\"m3b3b7c8446\" d=\"M 0 0 \nL -3.5 0 \n\" style=\"stroke: #000000; stroke-width: 0.8\"/>\n      </defs>\n      <g>\n       <use xlink:href=\"#m3b3b7c8446\" x=\"30.103125\" y=\"117.088421\" style=\"stroke: #000000; stroke-width: 0.8\"/>\n      </g>\n     </g>\n     <g id=\"text_7\">\n      <!-- 0.5 -->\n      <g transform=\"translate(7.2 120.88764) scale(0.1 -0.1)\">\n       <defs>\n        <path id=\"DejaVuSans-2e\" d=\"M 684 794 \nL 1344 794 \nL 1344 0 \nL 684 0 \nL 684 794 \nz\n\" transform=\"scale(0.015625)\"/>\n       </defs>\n       <use xlink:href=\"#DejaVuSans-30\"/>\n       <use xlink:href=\"#DejaVuSans-2e\" transform=\"translate(63.623047 0)\"/>\n       <use xlink:href=\"#DejaVuSans-35\" transform=\"translate(95.410156 0)\"/>\n      </g>\n     </g>\n    </g>\n    <g id=\"ytick_2\">\n     <g id=\"line2d_13\">\n      <path d=\"M 30.103125 88.333579 \nL 225.403125 88.333579 \n\" clip-path=\"url(#p7d6222aa0d)\" style=\"fill: none; stroke: #b0b0b0; stroke-width: 0.8; stroke-linecap: square\"/>\n     </g>\n     <g id=\"line2d_14\">\n      <g>\n       <use xlink:href=\"#m3b3b7c8446\" x=\"30.103125\" y=\"88.333579\" style=\"stroke: #000000; stroke-width: 0.8\"/>\n      </g>\n     </g>\n     <g id=\"text_8\">\n      <!-- 1.0 -->\n      <g transform=\"translate(7.2 92.132797) scale(0.1 -0.1)\">\n       <use xlink:href=\"#DejaVuSans-31\"/>\n       <use xlink:href=\"#DejaVuSans-2e\" transform=\"translate(63.623047 0)\"/>\n       <use xlink:href=\"#DejaVuSans-30\" transform=\"translate(95.410156 0)\"/>\n      </g>\n     </g>\n    </g>\n    <g id=\"ytick_3\">\n     <g id=\"line2d_15\">\n      <path d=\"M 30.103125 59.578736 \nL 225.403125 59.578736 \n\" clip-path=\"url(#p7d6222aa0d)\" style=\"fill: none; stroke: #b0b0b0; stroke-width: 0.8; stroke-linecap: square\"/>\n     </g>\n     <g id=\"line2d_16\">\n      <g>\n       <use xlink:href=\"#m3b3b7c8446\" x=\"30.103125\" y=\"59.578736\" style=\"stroke: #000000; stroke-width: 0.8\"/>\n      </g>\n     </g>\n     <g id=\"text_9\">\n      <!-- 1.5 -->\n      <g transform=\"translate(7.2 63.377955) scale(0.1 -0.1)\">\n       <use xlink:href=\"#DejaVuSans-31\"/>\n       <use xlink:href=\"#DejaVuSans-2e\" transform=\"translate(63.623047 0)\"/>\n       <use xlink:href=\"#DejaVuSans-35\" transform=\"translate(95.410156 0)\"/>\n      </g>\n     </g>\n    </g>\n    <g id=\"ytick_4\">\n     <g id=\"line2d_17\">\n      <path d=\"M 30.103125 30.823893 \nL 225.403125 30.823893 \n\" clip-path=\"url(#p7d6222aa0d)\" style=\"fill: none; stroke: #b0b0b0; stroke-width: 0.8; stroke-linecap: square\"/>\n     </g>\n     <g id=\"line2d_18\">\n      <g>\n       <use xlink:href=\"#m3b3b7c8446\" x=\"30.103125\" y=\"30.823893\" style=\"stroke: #000000; stroke-width: 0.8\"/>\n      </g>\n     </g>\n     <g id=\"text_10\">\n      <!-- 2.0 -->\n      <g transform=\"translate(7.2 34.623112) scale(0.1 -0.1)\">\n       <use xlink:href=\"#DejaVuSans-32\"/>\n       <use xlink:href=\"#DejaVuSans-2e\" transform=\"translate(63.623047 0)\"/>\n       <use xlink:href=\"#DejaVuSans-30\" transform=\"translate(95.410156 0)\"/>\n      </g>\n     </g>\n    </g>\n   </g>\n   <g id=\"line2d_19\">\n    <path d=\"M 26.907755 13.5 \nL 27.698099 13.812411 \nL 28.488443 14.284504 \nL 29.278788 15.199742 \nL 30.103125 18.101004 \nL 30.893469 56.680388 \nL 31.683813 65.426683 \nL 32.474158 70.793293 \nL 33.264502 74.967429 \nL 34.088839 78.437469 \nL 34.879183 94.545637 \nL 35.669528 95.697386 \nL 37.250216 97.4965 \nL 38.074554 98.127185 \nL 38.864898 101.981229 \nL 40.445586 102.447905 \nL 42.060268 103.370439 \nL 42.850612 106.335545 \nL 43.640956 106.398149 \nL 45.221645 106.817046 \nL 46.045982 106.91722 \nL 46.836326 108.606017 \nL 47.626671 108.811191 \nL 48.417015 109.13176 \nL 49.207359 109.160966 \nL 50.031696 109.506755 \nL 50.822041 110.842716 \nL 51.612385 110.839455 \nL 52.402729 110.697042 \nL 53.193073 111.137407 \nL 54.017411 111.456221 \nL 54.807755 112.060427 \nL 56.388443 112.760287 \nL 58.003125 113.192632 \nL 58.793469 114.631236 \nL 59.583813 114.48713 \nL 60.374158 114.634798 \nL 61.164502 114.55301 \nL 61.988839 114.712133 \nL 62.779183 115.433212 \nL 63.569528 115.78744 \nL 64.359872 115.600376 \nL 65.150216 116.05603 \nL 65.974554 116.242506 \nL 66.764898 116.732812 \nL 68.345586 117.145908 \nL 69.960268 117.356944 \nL 70.750612 118.301101 \nL 71.540956 118.027412 \nL 72.3313 118.176478 \nL 73.945982 118.179612 \nL 74.736326 118.525079 \nL 77.107359 119.032497 \nL 78.722041 119.458008 \nL 79.512385 120.16456 \nL 81.917411 119.99128 \nL 82.707755 120.436644 \nL 83.498099 120.653785 \nL 85.903125 120.63143 \nL 88.274158 121.343402 \nL 89.064502 121.479813 \nL 89.888839 121.452331 \nL 90.679183 121.772192 \nL 91.469528 121.763487 \nL 92.259872 122.121055 \nL 93.874554 122.101136 \nL 94.664898 122.816881 \nL 95.455242 122.967458 \nL 96.245586 122.750331 \nL 97.03593 122.716662 \nL 97.860268 122.822138 \nL 98.650612 123.47795 \nL 99.440956 123.660406 \nL 100.2313 123.463682 \nL 101.845982 123.499887 \nL 102.636326 124.658859 \nL 104.217015 123.917242 \nL 105.007359 124.054722 \nL 106.622041 123.755795 \nL 107.412385 124.172511 \nL 108.202729 124.223832 \nL 108.993073 124.391695 \nL 109.817411 124.327999 \nL 110.607755 124.460732 \nL 111.398099 124.461553 \nL 112.188443 124.804536 \nL 112.978788 124.977516 \nL 113.803125 124.901872 \nL 114.593469 125.600449 \nL 115.383813 125.360968 \nL 116.964502 125.31627 \nL 117.788839 125.416884 \nL 118.579183 125.878675 \nL 121.774554 125.825089 \nL 122.564898 125.991645 \nL 123.355242 125.778312 \nL 124.145586 126.002519 \nL 124.93593 126.031904 \nL 125.760268 126.225657 \nL 126.550612 126.193419 \nL 127.340956 126.5876 \nL 128.1313 126.532985 \nL 128.921645 126.671871 \nL 129.745982 126.628465 \nL 130.536326 126.147522 \nL 131.326671 127.090561 \nL 133.731696 126.834452 \nL 134.522041 127.404738 \nL 136.102729 127.434657 \nL 137.717411 127.278409 \nL 138.507755 126.882449 \nL 139.298099 127.561 \nL 140.088443 127.478572 \nL 140.878788 127.532917 \nL 141.703125 127.486225 \nL 142.493469 128.320084 \nL 143.283813 128.059674 \nL 144.074158 128.018693 \nL 145.654846 127.744237 \nL 145.688839 127.772071 \nL 146.479183 127.870012 \nL 147.269528 128.237593 \nL 148.059872 128.09165 \nL 150.464898 128.066292 \nL 152.045586 128.24312 \nL 152.83593 128.192036 \nL 154.450612 128.357208 \nL 155.240956 128.841551 \nL 156.0313 128.701145 \nL 157.645982 128.706872 \nL 158.436326 129.046647 \nL 159.226671 128.708613 \nL 160.807359 128.800437 \nL 161.631696 128.81014 \nL 162.422041 129.400848 \nL 163.212385 128.99675 \nL 164.002729 129.240276 \nL 164.793073 129.03798 \nL 165.617411 129.027536 \nL 166.407755 129.395333 \nL 169.603125 129.222649 \nL 170.393469 129.844084 \nL 171.974158 129.346527 \nL 172.764502 129.307654 \nL 173.588839 129.376993 \nL 174.379183 130.03087 \nL 175.169528 129.527953 \nL 175.959872 129.50251 \nL 176.750216 129.638033 \nL 177.574554 129.638493 \nL 179.945586 130.025559 \nL 180.73593 130.025387 \nL 181.560268 129.916231 \nL 182.350612 130.150445 \nL 183.140956 129.861983 \nL 183.9313 129.847083 \nL 184.721645 130.006714 \nL 187.126671 130.1396 \nL 189.531696 130.217627 \nL 191.112385 130.649501 \nL 195.098099 130.398424 \nL 196.678788 130.68888 \nL 197.503125 130.635002 \nL 198.293469 131.112437 \nL 199.874158 130.904267 \nL 201.488839 130.879755 \nL 203.859872 130.963196 \nL 204.650216 130.84872 \nL 205.474554 130.899225 \nL 206.264898 131.237097 \nL 207.055242 131.235283 \nL 207.845586 131.095981 \nL 208.63593 131.275165 \nL 209.460268 131.25154 \nL 210.250612 131.657694 \nL 211.040956 131.413803 \nL 211.8313 131.452573 \nL 212.621645 131.331186 \nL 217.431696 131.528266 \nL 218.222041 132.040303 \nL 219.012385 131.797489 \nL 219.802729 131.726781 \nL 221.417411 131.801405 \nL 222.207755 131.69693 \nL 222.998099 131.884513 \nL 225.403125 131.860013 \nL 225.403125 131.860013 \n\" clip-path=\"url(#p7d6222aa0d)\" style=\"fill: none; stroke: #1f77b4; stroke-width: 1.5; stroke-linecap: square\"/>\n   </g>\n   <g id=\"line2d_20\">\n    <path d=\"M 26.907755 139.5 \nL 27.698099 138.756007 \nL 28.488443 137.438721 \nL 30.103125 134.058571 \nL 30.893469 121.982349 \nL 31.683813 119.131986 \nL 32.474158 117.109356 \nL 33.264502 115.537631 \nL 34.088839 114.202394 \nL 34.879183 107.667732 \nL 37.250216 106.647157 \nL 38.074554 106.420375 \nL 38.864898 104.870512 \nL 40.445586 104.772279 \nL 42.060268 104.425747 \nL 42.850612 103.4405 \nL 43.640956 103.50572 \nL 44.4313 103.281073 \nL 46.045982 103.148074 \nL 46.836326 102.396977 \nL 48.417015 102.256875 \nL 49.207359 102.325718 \nL 50.031696 102.122484 \nL 50.822041 101.715789 \nL 52.402729 101.743165 \nL 54.017411 101.498504 \nL 54.807755 101.044263 \nL 55.598099 101.051509 \nL 56.388443 100.897719 \nL 58.003125 100.820848 \nL 58.793469 100.068376 \nL 61.164502 100.253166 \nL 61.988839 100.223706 \nL 62.779183 100.015234 \nL 65.974554 99.615062 \nL 66.764898 99.145631 \nL 68.345586 99.189112 \nL 69.960268 99.10035 \nL 71.540956 98.790544 \nL 73.945982 98.808009 \nL 76.317015 98.356548 \nL 78.722041 98.184238 \nL 79.512385 97.867799 \nL 80.302729 97.974889 \nL 82.707755 97.875046 \nL 83.498099 97.730112 \nL 87.483813 97.635906 \nL 88.274158 97.482115 \nL 89.888839 97.470909 \nL 90.679183 97.309805 \nL 91.469528 97.288065 \nL 92.259872 97.068249 \nL 93.874554 97.083677 \nL 95.455242 96.875004 \nL 97.03593 96.906406 \nL 97.860268 96.902522 \nL 98.650612 96.493345 \nL 100.2313 96.443423 \nL 101.845982 96.516248 \nL 102.636326 96.382229 \nL 103.426671 96.362905 \nL 104.217015 96.540046 \nL 105.007359 96.437787 \nL 105.831696 96.447237 \nL 106.622041 96.242127 \nL 108.993073 96.122556 \nL 109.817411 96.147228 \nL 110.607755 96.010233 \nL 112.188443 95.984467 \nL 116.174158 95.841143 \nL 117.788839 95.781083 \nL 119.369528 95.667223 \nL 121.74056 95.596689 \nL 122.564898 95.469147 \nL 123.355242 95.558523 \nL 124.145586 95.456264 \nL 126.550612 95.551276 \nL 127.340956 95.377356 \nL 128.921645 95.335083 \nL 129.745982 95.322922 \nL 130.536326 95.478809 \nL 131.326671 95.249331 \nL 132.907359 95.246915 \nL 133.731696 95.2865 \nL 134.522041 95.140631 \nL 135.312385 95.167202 \nL 136.893073 95.066956 \nL 137.717411 95.090967 \nL 138.507755 95.300058 \nL 139.298099 95.03193 \nL 141.703125 95.06317 \nL 142.493469 94.74931 \nL 143.283813 94.853179 \nL 144.864502 94.911152 \nL 145.688839 94.951027 \nL 146.479183 94.70583 \nL 147.269528 94.659934 \nL 148.850216 94.806075 \nL 149.674554 94.766037 \nL 150.464898 94.860426 \nL 152.045586 94.675233 \nL 153.660268 94.705652 \nL 154.450612 94.681674 \nL 155.240956 94.498091 \nL 156.821645 94.609207 \nL 162.422041 94.464273 \nL 163.212385 94.679258 \nL 164.002729 94.490039 \nL 165.583417 94.531909 \nL 165.617411 94.527372 \nL 166.407755 94.300015 \nL 167.988443 94.325781 \nL 169.603125 94.361552 \nL 170.393469 94.256535 \nL 172.764502 94.382144 \nL 173.588839 94.357718 \nL 174.379183 94.10677 \nL 175.169528 94.292769 \nL 177.574554 94.245574 \nL 180.73593 94.048797 \nL 181.560268 94.073045 \nL 182.350612 93.923188 \nL 183.140956 94.145419 \nL 185.545982 94.077838 \nL 186.336326 94.222717 \nL 187.917015 94.055238 \nL 189.531696 94.005951 \nL 191.112385 93.78067 \nL 193.517411 93.874637 \nL 194.307755 94.06329 \nL 195.888443 94.0182 \nL 199.083813 93.722696 \nL 200.664502 93.857968 \nL 210.250612 93.657476 \nL 211.8313 93.71706 \nL 215.817015 93.646203 \nL 217.431696 93.59859 \nL 218.222041 93.343453 \nL 219.802729 93.514153 \nL 223.788443 93.435244 \nL 225.403125 93.473028 \nL 225.403125 93.473028 \n\" clip-path=\"url(#p7d6222aa0d)\" style=\"fill: none; stroke-dasharray: 5.55,2.4; stroke-dashoffset: 0; stroke: #bf00bf; stroke-width: 1.5\"/>\n   </g>\n   <g id=\"line2d_21\">\n    <path d=\"M 30.103125 119.291042 \nL 34.088839 106.224842 \nL 38.074554 104.654827 \nL 42.060268 103.205583 \nL 46.045982 102.618985 \nL 50.031696 102.015133 \nL 54.017411 100.646402 \nL 58.003125 100.289842 \nL 61.988839 99.616979 \nL 65.974554 99.473205 \nL 69.960268 98.37477 \nL 73.945982 98.300007 \nL 77.931696 97.989455 \nL 81.917411 97.437362 \nL 85.903125 97.420109 \nL 89.888839 97.48337 \nL 93.874554 96.436693 \nL 97.860268 96.275666 \nL 101.845982 96.373433 \nL 105.831696 95.982367 \nL 109.817411 95.832842 \nL 113.803125 95.901853 \nL 117.788839 95.568297 \nL 121.774554 96.022624 \nL 125.760268 95.292251 \nL 129.745982 95.102469 \nL 133.731696 95.102469 \nL 137.717411 95.344009 \nL 141.703125 94.952944 \nL 145.688839 95.545293 \nL 149.674554 95.05071 \nL 153.660268 94.941442 \nL 157.645982 94.745909 \nL 161.631696 94.607885 \nL 165.617411 94.423854 \nL 169.603125 94.924189 \nL 173.588839 94.452609 \nL 177.574554 94.423854 \nL 181.560268 94.297333 \nL 185.545982 94.676897 \nL 189.531696 94.22257 \nL 193.517411 94.57338 \nL 197.503125 94.090298 \nL 201.488839 94.251325 \nL 205.474554 94.142057 \nL 209.460268 94.153559 \nL 213.445982 94.107551 \nL 217.431696 93.900516 \nL 221.417411 94.15931 \nL 225.403125 93.877512 \n\" clip-path=\"url(#p7d6222aa0d)\" style=\"fill: none; stroke-dasharray: 9.6,2.4,1.5,2.4; stroke-dashoffset: 0; stroke: #008000; stroke-width: 1.5\"/>\n   </g>\n   <g id=\"patch_3\">\n    <path d=\"M 30.103125 145.8 \nL 30.103125 7.2 \n\" style=\"fill: none; stroke: #000000; stroke-width: 0.8; stroke-linejoin: miter; stroke-linecap: square\"/>\n   </g>\n   <g id=\"patch_4\">\n    <path d=\"M 225.403125 145.8 \nL 225.403125 7.2 \n\" style=\"fill: none; stroke: #000000; stroke-width: 0.8; stroke-linejoin: miter; stroke-linecap: square\"/>\n   </g>\n   <g id=\"patch_5\">\n    <path d=\"M 30.103125 145.8 \nL 225.403125 145.8 \n\" style=\"fill: none; stroke: #000000; stroke-width: 0.8; stroke-linejoin: miter; stroke-linecap: square\"/>\n   </g>\n   <g id=\"patch_6\">\n    <path d=\"M 30.103125 7.2 \nL 225.403125 7.2 \n\" style=\"fill: none; stroke: #000000; stroke-width: 0.8; stroke-linejoin: miter; stroke-linecap: square\"/>\n   </g>\n   <g id=\"legend_1\">\n    <g id=\"patch_7\">\n     <path d=\"M 140.634375 59.234375 \nL 218.403125 59.234375 \nQ 220.403125 59.234375 220.403125 57.234375 \nL 220.403125 14.2 \nQ 220.403125 12.2 218.403125 12.2 \nL 140.634375 12.2 \nQ 138.634375 12.2 138.634375 14.2 \nL 138.634375 57.234375 \nQ 138.634375 59.234375 140.634375 59.234375 \nz\n\" style=\"fill: #ffffff; opacity: 0.8; stroke: #cccccc; stroke-linejoin: miter\"/>\n    </g>\n    <g id=\"line2d_22\">\n     <path d=\"M 142.634375 20.298438 \nL 152.634375 20.298438 \nL 162.634375 20.298438 \n\" style=\"fill: none; stroke: #1f77b4; stroke-width: 1.5; stroke-linecap: square\"/>\n    </g>\n    <g id=\"text_11\">\n     <!-- train loss -->\n     <g transform=\"translate(170.634375 23.798438) scale(0.1 -0.1)\">\n      <defs>\n       <path id=\"DejaVuSans-74\" d=\"M 1172 4494 \nL 1172 3500 \nL 2356 3500 \nL 2356 3053 \nL 1172 3053 \nL 1172 1153 \nQ 1172 725 1289 603 \nQ 1406 481 1766 481 \nL 2356 481 \nL 2356 0 \nL 1766 0 \nQ 1100 0 847 248 \nQ 594 497 594 1153 \nL 594 3053 \nL 172 3053 \nL 172 3500 \nL 594 3500 \nL 594 4494 \nL 1172 4494 \nz\n\" transform=\"scale(0.015625)\"/>\n       <path id=\"DejaVuSans-72\" d=\"M 2631 2963 \nQ 2534 3019 2420 3045 \nQ 2306 3072 2169 3072 \nQ 1681 3072 1420 2755 \nQ 1159 2438 1159 1844 \nL 1159 0 \nL 581 0 \nL 581 3500 \nL 1159 3500 \nL 1159 2956 \nQ 1341 3275 1631 3429 \nQ 1922 3584 2338 3584 \nQ 2397 3584 2469 3576 \nQ 2541 3569 2628 3553 \nL 2631 2963 \nz\n\" transform=\"scale(0.015625)\"/>\n       <path id=\"DejaVuSans-61\" d=\"M 2194 1759 \nQ 1497 1759 1228 1600 \nQ 959 1441 959 1056 \nQ 959 750 1161 570 \nQ 1363 391 1709 391 \nQ 2188 391 2477 730 \nQ 2766 1069 2766 1631 \nL 2766 1759 \nL 2194 1759 \nz\nM 3341 1997 \nL 3341 0 \nL 2766 0 \nL 2766 531 \nQ 2569 213 2275 61 \nQ 1981 -91 1556 -91 \nQ 1019 -91 701 211 \nQ 384 513 384 1019 \nQ 384 1609 779 1909 \nQ 1175 2209 1959 2209 \nL 2766 2209 \nL 2766 2266 \nQ 2766 2663 2505 2880 \nQ 2244 3097 1772 3097 \nQ 1472 3097 1187 3025 \nQ 903 2953 641 2809 \nL 641 3341 \nQ 956 3463 1253 3523 \nQ 1550 3584 1831 3584 \nQ 2591 3584 2966 3190 \nQ 3341 2797 3341 1997 \nz\n\" transform=\"scale(0.015625)\"/>\n       <path id=\"DejaVuSans-69\" d=\"M 603 3500 \nL 1178 3500 \nL 1178 0 \nL 603 0 \nL 603 3500 \nz\nM 603 4863 \nL 1178 4863 \nL 1178 4134 \nL 603 4134 \nL 603 4863 \nz\n\" transform=\"scale(0.015625)\"/>\n       <path id=\"DejaVuSans-6e\" d=\"M 3513 2113 \nL 3513 0 \nL 2938 0 \nL 2938 2094 \nQ 2938 2591 2744 2837 \nQ 2550 3084 2163 3084 \nQ 1697 3084 1428 2787 \nQ 1159 2491 1159 1978 \nL 1159 0 \nL 581 0 \nL 581 3500 \nL 1159 3500 \nL 1159 2956 \nQ 1366 3272 1645 3428 \nQ 1925 3584 2291 3584 \nQ 2894 3584 3203 3211 \nQ 3513 2838 3513 2113 \nz\n\" transform=\"scale(0.015625)\"/>\n       <path id=\"DejaVuSans-20\" transform=\"scale(0.015625)\"/>\n       <path id=\"DejaVuSans-6c\" d=\"M 603 4863 \nL 1178 4863 \nL 1178 0 \nL 603 0 \nL 603 4863 \nz\n\" transform=\"scale(0.015625)\"/>\n       <path id=\"DejaVuSans-73\" d=\"M 2834 3397 \nL 2834 2853 \nQ 2591 2978 2328 3040 \nQ 2066 3103 1784 3103 \nQ 1356 3103 1142 2972 \nQ 928 2841 928 2578 \nQ 928 2378 1081 2264 \nQ 1234 2150 1697 2047 \nL 1894 2003 \nQ 2506 1872 2764 1633 \nQ 3022 1394 3022 966 \nQ 3022 478 2636 193 \nQ 2250 -91 1575 -91 \nQ 1294 -91 989 -36 \nQ 684 19 347 128 \nL 347 722 \nQ 666 556 975 473 \nQ 1284 391 1588 391 \nQ 1994 391 2212 530 \nQ 2431 669 2431 922 \nQ 2431 1156 2273 1281 \nQ 2116 1406 1581 1522 \nL 1381 1569 \nQ 847 1681 609 1914 \nQ 372 2147 372 2553 \nQ 372 3047 722 3315 \nQ 1072 3584 1716 3584 \nQ 2034 3584 2315 3537 \nQ 2597 3491 2834 3397 \nz\n\" transform=\"scale(0.015625)\"/>\n      </defs>\n      <use xlink:href=\"#DejaVuSans-74\"/>\n      <use xlink:href=\"#DejaVuSans-72\" transform=\"translate(39.208984 0)\"/>\n      <use xlink:href=\"#DejaVuSans-61\" transform=\"translate(80.322266 0)\"/>\n      <use xlink:href=\"#DejaVuSans-69\" transform=\"translate(141.601562 0)\"/>\n      <use xlink:href=\"#DejaVuSans-6e\" transform=\"translate(169.384766 0)\"/>\n      <use xlink:href=\"#DejaVuSans-20\" transform=\"translate(232.763672 0)\"/>\n      <use xlink:href=\"#DejaVuSans-6c\" transform=\"translate(264.550781 0)\"/>\n      <use xlink:href=\"#DejaVuSans-6f\" transform=\"translate(292.333984 0)\"/>\n      <use xlink:href=\"#DejaVuSans-73\" transform=\"translate(353.515625 0)\"/>\n      <use xlink:href=\"#DejaVuSans-73\" transform=\"translate(405.615234 0)\"/>\n     </g>\n    </g>\n    <g id=\"line2d_23\">\n     <path d=\"M 142.634375 34.976563 \nL 152.634375 34.976563 \nL 162.634375 34.976563 \n\" style=\"fill: none; stroke-dasharray: 5.55,2.4; stroke-dashoffset: 0; stroke: #bf00bf; stroke-width: 1.5\"/>\n    </g>\n    <g id=\"text_12\">\n     <!-- train acc -->\n     <g transform=\"translate(170.634375 38.476563) scale(0.1 -0.1)\">\n      <use xlink:href=\"#DejaVuSans-74\"/>\n      <use xlink:href=\"#DejaVuSans-72\" transform=\"translate(39.208984 0)\"/>\n      <use xlink:href=\"#DejaVuSans-61\" transform=\"translate(80.322266 0)\"/>\n      <use xlink:href=\"#DejaVuSans-69\" transform=\"translate(141.601562 0)\"/>\n      <use xlink:href=\"#DejaVuSans-6e\" transform=\"translate(169.384766 0)\"/>\n      <use xlink:href=\"#DejaVuSans-20\" transform=\"translate(232.763672 0)\"/>\n      <use xlink:href=\"#DejaVuSans-61\" transform=\"translate(264.550781 0)\"/>\n      <use xlink:href=\"#DejaVuSans-63\" transform=\"translate(325.830078 0)\"/>\n      <use xlink:href=\"#DejaVuSans-63\" transform=\"translate(380.810547 0)\"/>\n     </g>\n    </g>\n    <g id=\"line2d_24\">\n     <path d=\"M 142.634375 49.654688 \nL 152.634375 49.654688 \nL 162.634375 49.654688 \n\" style=\"fill: none; stroke-dasharray: 9.6,2.4,1.5,2.4; stroke-dashoffset: 0; stroke: #008000; stroke-width: 1.5\"/>\n    </g>\n    <g id=\"text_13\">\n     <!-- test acc -->\n     <g transform=\"translate(170.634375 53.154688) scale(0.1 -0.1)\">\n      <use xlink:href=\"#DejaVuSans-74\"/>\n      <use xlink:href=\"#DejaVuSans-65\" transform=\"translate(39.208984 0)\"/>\n      <use xlink:href=\"#DejaVuSans-73\" transform=\"translate(100.732422 0)\"/>\n      <use xlink:href=\"#DejaVuSans-74\" transform=\"translate(152.832031 0)\"/>\n      <use xlink:href=\"#DejaVuSans-20\" transform=\"translate(192.041016 0)\"/>\n      <use xlink:href=\"#DejaVuSans-61\" transform=\"translate(223.828125 0)\"/>\n      <use xlink:href=\"#DejaVuSans-63\" transform=\"translate(285.107422 0)\"/>\n      <use xlink:href=\"#DejaVuSans-63\" transform=\"translate(340.087891 0)\"/>\n     </g>\n    </g>\n   </g>\n  </g>\n </g>\n <defs>\n  <clipPath id=\"p7d6222aa0d\">\n   <rect x=\"30.103125\" y=\"7.2\" width=\"195.3\" height=\"138.6\"/>\n  </clipPath>\n </defs>\n</svg>\n"
          },
          "metadata": {}
        }
      ],
      "source": [
        "lr, num_epochs = 0.01, 50\n",
        "d2l.train_ch6(model, train_iter, test_iter, num_epochs, lr)\n"
      ]
    },
    {
      "cell_type": "code",
      "execution_count": 13,
      "metadata": {
        "id": "Q255I79aufgI",
        "colab": {
          "base_uri": "https://localhost:8080/"
        },
        "outputId": "d7899fce-c59a-45af-f378-8b2c7fe5b912"
      },
      "outputs": [
        {
          "output_type": "stream",
          "name": "stdout",
          "text": [
            "Downloading http://fashion-mnist.s3-website.eu-central-1.amazonaws.com/train-images-idx3-ubyte.gz\n",
            "Downloading http://fashion-mnist.s3-website.eu-central-1.amazonaws.com/train-images-idx3-ubyte.gz to ./data/FashionMNIST/raw/train-images-idx3-ubyte.gz\n"
          ]
        },
        {
          "output_type": "stream",
          "name": "stderr",
          "text": [
            "100%|██████████| 26.4M/26.4M [00:01<00:00, 13.5MB/s]\n"
          ]
        },
        {
          "output_type": "stream",
          "name": "stdout",
          "text": [
            "Extracting ./data/FashionMNIST/raw/train-images-idx3-ubyte.gz to ./data/FashionMNIST/raw\n",
            "\n",
            "Downloading http://fashion-mnist.s3-website.eu-central-1.amazonaws.com/train-labels-idx1-ubyte.gz\n",
            "Downloading http://fashion-mnist.s3-website.eu-central-1.amazonaws.com/train-labels-idx1-ubyte.gz to ./data/FashionMNIST/raw/train-labels-idx1-ubyte.gz\n"
          ]
        },
        {
          "output_type": "stream",
          "name": "stderr",
          "text": [
            "100%|██████████| 29.5k/29.5k [00:00<00:00, 201kB/s]\n"
          ]
        },
        {
          "output_type": "stream",
          "name": "stdout",
          "text": [
            "Extracting ./data/FashionMNIST/raw/train-labels-idx1-ubyte.gz to ./data/FashionMNIST/raw\n",
            "\n",
            "Downloading http://fashion-mnist.s3-website.eu-central-1.amazonaws.com/t10k-images-idx3-ubyte.gz\n",
            "Downloading http://fashion-mnist.s3-website.eu-central-1.amazonaws.com/t10k-images-idx3-ubyte.gz to ./data/FashionMNIST/raw/t10k-images-idx3-ubyte.gz\n"
          ]
        },
        {
          "output_type": "stream",
          "name": "stderr",
          "text": [
            "100%|██████████| 4.42M/4.42M [00:01<00:00, 3.73MB/s]\n"
          ]
        },
        {
          "output_type": "stream",
          "name": "stdout",
          "text": [
            "Extracting ./data/FashionMNIST/raw/t10k-images-idx3-ubyte.gz to ./data/FashionMNIST/raw\n",
            "\n",
            "Downloading http://fashion-mnist.s3-website.eu-central-1.amazonaws.com/t10k-labels-idx1-ubyte.gz\n",
            "Downloading http://fashion-mnist.s3-website.eu-central-1.amazonaws.com/t10k-labels-idx1-ubyte.gz to ./data/FashionMNIST/raw/t10k-labels-idx1-ubyte.gz\n"
          ]
        },
        {
          "output_type": "stream",
          "name": "stderr",
          "text": [
            "100%|██████████| 5.15k/5.15k [00:00<00:00, 12.3MB/s]"
          ]
        },
        {
          "output_type": "stream",
          "name": "stdout",
          "text": [
            "Extracting ./data/FashionMNIST/raw/t10k-labels-idx1-ubyte.gz to ./data/FashionMNIST/raw\n",
            "\n"
          ]
        },
        {
          "output_type": "stream",
          "name": "stderr",
          "text": [
            "\n"
          ]
        }
      ],
      "source": [
        "# (ii) Modifying the MNIST\n",
        "\n",
        "import torch\n",
        "import torchvision\n",
        "import torchvision.transforms as transforms\n",
        "from torch.utils.data import DataLoader, Dataset\n",
        "import random\n",
        "\n",
        "transform = transforms.Compose([\n",
        "    transforms.Resize((224, 224)),\n",
        "    transforms.ToTensor()])\n",
        "mnist_train = torchvision.datasets.FashionMNIST(root=\"./data\", train=True, download=True, transform=transform)\n",
        "mnist_test = torchvision.datasets.FashionMNIST(root=\"./data\", train=False, download=True, transform=transform)\n"
      ]
    },
    {
      "cell_type": "code",
      "execution_count": 14,
      "metadata": {
        "id": "v9HROIUu_Mcx",
        "colab": {
          "base_uri": "https://localhost:8080/"
        },
        "outputId": "405f15c3-16ab-4a7a-f6cc-fa4b14137f6c"
      },
      "outputs": [
        {
          "output_type": "execute_result",
          "data": {
            "text/plain": [
              "tensor([9, 0, 0, 3, 0])"
            ]
          },
          "metadata": {},
          "execution_count": 14
        }
      ],
      "source": [
        "mnist_train.targets[:5]"
      ]
    },
    {
      "cell_type": "code",
      "execution_count": 15,
      "metadata": {
        "id": "IM5Fu8UJ-6q0"
      },
      "outputs": [],
      "source": [
        "random.seed(42)\n",
        "num_classes = 10\n",
        "random_train_labels = torch.randint(0, num_classes, (len(mnist_train),))\n",
        "random_test_labels = torch.randint(0, num_classes, (len(mnist_test),))"
      ]
    },
    {
      "cell_type": "code",
      "execution_count": 16,
      "metadata": {
        "id": "knk2Q0Lp_Dck"
      },
      "outputs": [],
      "source": [
        "mnist_train.targets = random_train_labels\n",
        "mnist_test.targets = random_test_labels"
      ]
    },
    {
      "cell_type": "code",
      "execution_count": 17,
      "metadata": {
        "id": "Q-RUaG0f_H_m",
        "colab": {
          "base_uri": "https://localhost:8080/"
        },
        "outputId": "aa6b7b50-5a1e-4c1e-cd9a-3f94c672e921"
      },
      "outputs": [
        {
          "output_type": "execute_result",
          "data": {
            "text/plain": [
              "tensor([6, 4, 2, 0, 9])"
            ]
          },
          "metadata": {},
          "execution_count": 17
        }
      ],
      "source": [
        "mnist_train.targets[:5]"
      ]
    },
    {
      "cell_type": "code",
      "execution_count": 18,
      "metadata": {
        "id": "SJfuzAiC_eTX",
        "colab": {
          "base_uri": "https://localhost:8080/"
        },
        "outputId": "780722ec-d3db-47d4-f4b2-b93262c747b2"
      },
      "outputs": [
        {
          "output_type": "execute_result",
          "data": {
            "text/plain": [
              "tensor([2, 8, 1, 6, 1])"
            ]
          },
          "metadata": {},
          "execution_count": 18
        }
      ],
      "source": [
        "mnist_test.targets[:5]"
      ]
    },
    {
      "cell_type": "code",
      "execution_count": 19,
      "metadata": {
        "id": "kGpalBR3vgx4"
      },
      "outputs": [],
      "source": [
        "## Creating the dataloaders\n",
        "batch_size = 128\n",
        "train_loader = DataLoader(mnist_train, batch_size=batch_size, shuffle=True)\n",
        "test_loader = DataLoader(mnist_test, batch_size=batch_size, shuffle=False)"
      ]
    },
    {
      "cell_type": "code",
      "execution_count": 20,
      "metadata": {
        "id": "ebTES0wj_Xr4",
        "colab": {
          "base_uri": "https://localhost:8080/"
        },
        "outputId": "6dae9978-210d-4444-82bb-de0af2306075"
      },
      "outputs": [
        {
          "output_type": "stream",
          "name": "stdout",
          "text": [
            "Random Labels: tensor([2, 8, 1, 6, 1])\n"
          ]
        }
      ],
      "source": [
        "for images, labels in test_loader:\n",
        "    print(\"Random Labels:\", labels[:5])\n",
        "    break"
      ]
    },
    {
      "cell_type": "code",
      "source": [
        "model"
      ],
      "metadata": {
        "colab": {
          "base_uri": "https://localhost:8080/"
        },
        "id": "W4DpIwUChlcO",
        "outputId": "3d1a18a3-8a8b-4bdb-ceb2-56529e546e61"
      },
      "execution_count": 25,
      "outputs": [
        {
          "output_type": "execute_result",
          "data": {
            "text/plain": [
              "AlexNet_28(\n",
              "  (net): Sequential(\n",
              "    (0): Conv2d(1, 64, kernel_size=(5, 5), stride=(1, 1))\n",
              "    (1): ReLU()\n",
              "    (2): MaxPool2d(kernel_size=2, stride=2, padding=0, dilation=1, ceil_mode=False)\n",
              "    (3): Conv2d(64, 128, kernel_size=(3, 3), stride=(1, 1))\n",
              "    (4): ReLU()\n",
              "    (5): MaxPool2d(kernel_size=2, stride=2, padding=0, dilation=1, ceil_mode=False)\n",
              "    (6): Conv2d(128, 256, kernel_size=(3, 3), stride=(1, 1), padding=(1, 1))\n",
              "    (7): ReLU()\n",
              "    (8): Conv2d(256, 256, kernel_size=(3, 3), stride=(1, 1), padding=(1, 1))\n",
              "    (9): ReLU()\n",
              "    (10): Conv2d(256, 128, kernel_size=(3, 3), stride=(1, 1), padding=(1, 1))\n",
              "    (11): ReLU()\n",
              "    (12): MaxPool2d(kernel_size=2, stride=2, padding=0, dilation=1, ceil_mode=False)\n",
              "    (13): Flatten(start_dim=1, end_dim=-1)\n",
              "    (14): Linear(in_features=512, out_features=1024, bias=True)\n",
              "    (15): ReLU()\n",
              "    (16): Dropout(p=0.5, inplace=False)\n",
              "    (17): Linear(in_features=1024, out_features=512, bias=True)\n",
              "    (18): ReLU()\n",
              "    (19): Dropout(p=0.5, inplace=False)\n",
              "    (20): Linear(in_features=512, out_features=10, bias=True)\n",
              "  )\n",
              ")"
            ]
          },
          "metadata": {},
          "execution_count": 25
        }
      ]
    },
    {
      "cell_type": "code",
      "source": [
        "# (iii)\n",
        "lr, num_epochs = 0.01, 500\n",
        "\n",
        "# Train with randomized labels\n",
        "d2l.train_ch6(net, train_loader, test_loader, num_epochs, lr)\n"
      ],
      "metadata": {
        "colab": {
          "base_uri": "https://localhost:8080/",
          "height": 300
        },
        "id": "MXDCdlRH-VQd",
        "outputId": "72554930-35c5-4306-c40d-8c76c6e13ac7"
      },
      "execution_count": 22,
      "outputs": [
        {
          "output_type": "stream",
          "name": "stdout",
          "text": [
            "loss 0.016, train acc 0.995, test acc 0.102\n",
            "1635.4 examples/sec on cuda:0\n"
          ]
        },
        {
          "output_type": "display_data",
          "data": {
            "text/plain": [
              "<Figure size 350x250 with 1 Axes>"
            ],
            "image/svg+xml": "<?xml version=\"1.0\" encoding=\"utf-8\" standalone=\"no\"?>\n<!DOCTYPE svg PUBLIC \"-//W3C//DTD SVG 1.1//EN\"\n  \"http://www.w3.org/Graphics/SVG/1.1/DTD/svg11.dtd\">\n<svg xmlns:xlink=\"http://www.w3.org/1999/xlink\" width=\"242.146875pt\" height=\"183.35625pt\" viewBox=\"0 0 242.146875 183.35625\" xmlns=\"http://www.w3.org/2000/svg\" version=\"1.1\">\n <metadata>\n  <rdf:RDF xmlns:dc=\"http://purl.org/dc/elements/1.1/\" xmlns:cc=\"http://creativecommons.org/ns#\" xmlns:rdf=\"http://www.w3.org/1999/02/22-rdf-syntax-ns#\">\n   <cc:Work>\n    <dc:type rdf:resource=\"http://purl.org/dc/dcmitype/StillImage\"/>\n    <dc:date>2025-03-02T03:15:47.263465</dc:date>\n    <dc:format>image/svg+xml</dc:format>\n    <dc:creator>\n     <cc:Agent>\n      <dc:title>Matplotlib v3.10.0, https://matplotlib.org/</dc:title>\n     </cc:Agent>\n    </dc:creator>\n   </cc:Work>\n  </rdf:RDF>\n </metadata>\n <defs>\n  <style type=\"text/css\">*{stroke-linejoin: round; stroke-linecap: butt}</style>\n </defs>\n <g id=\"figure_1\">\n  <g id=\"patch_1\">\n   <path d=\"M 0 183.35625 \nL 242.146875 183.35625 \nL 242.146875 0 \nL 0 0 \nz\n\" style=\"fill: #ffffff\"/>\n  </g>\n  <g id=\"axes_1\">\n   <g id=\"patch_2\">\n    <path d=\"M 30.103125 145.8 \nL 225.403125 145.8 \nL 225.403125 7.2 \nL 30.103125 7.2 \nz\n\" style=\"fill: #ffffff\"/>\n   </g>\n   <g id=\"matplotlib.axis_1\">\n    <g id=\"xtick_1\">\n     <g id=\"line2d_1\">\n      <path d=\"M 68.850019 145.8 \nL 68.850019 7.2 \n\" clip-path=\"url(#p2cc500e8d6)\" style=\"fill: none; stroke: #b0b0b0; stroke-width: 0.8; stroke-linecap: square\"/>\n     </g>\n     <g id=\"line2d_2\">\n      <defs>\n       <path id=\"mdbf53c0736\" d=\"M 0 0 \nL 0 3.5 \n\" style=\"stroke: #000000; stroke-width: 0.8\"/>\n      </defs>\n      <g>\n       <use xlink:href=\"#mdbf53c0736\" x=\"68.850019\" y=\"145.8\" style=\"stroke: #000000; stroke-width: 0.8\"/>\n      </g>\n     </g>\n     <g id=\"text_1\">\n      <!-- 100 -->\n      <g transform=\"translate(59.306269 160.398438) scale(0.1 -0.1)\">\n       <defs>\n        <path id=\"DejaVuSans-31\" d=\"M 794 531 \nL 1825 531 \nL 1825 4091 \nL 703 3866 \nL 703 4441 \nL 1819 4666 \nL 2450 4666 \nL 2450 531 \nL 3481 531 \nL 3481 0 \nL 794 0 \nL 794 531 \nz\n\" transform=\"scale(0.015625)\"/>\n        <path id=\"DejaVuSans-30\" d=\"M 2034 4250 \nQ 1547 4250 1301 3770 \nQ 1056 3291 1056 2328 \nQ 1056 1369 1301 889 \nQ 1547 409 2034 409 \nQ 2525 409 2770 889 \nQ 3016 1369 3016 2328 \nQ 3016 3291 2770 3770 \nQ 2525 4250 2034 4250 \nz\nM 2034 4750 \nQ 2819 4750 3233 4129 \nQ 3647 3509 3647 2328 \nQ 3647 1150 3233 529 \nQ 2819 -91 2034 -91 \nQ 1250 -91 836 529 \nQ 422 1150 422 2328 \nQ 422 3509 836 4129 \nQ 1250 4750 2034 4750 \nz\n\" transform=\"scale(0.015625)\"/>\n       </defs>\n       <use xlink:href=\"#DejaVuSans-31\"/>\n       <use xlink:href=\"#DejaVuSans-30\" transform=\"translate(63.623047 0)\"/>\n       <use xlink:href=\"#DejaVuSans-30\" transform=\"translate(127.246094 0)\"/>\n      </g>\n     </g>\n    </g>\n    <g id=\"xtick_2\">\n     <g id=\"line2d_3\">\n      <path d=\"M 107.988295 145.8 \nL 107.988295 7.2 \n\" clip-path=\"url(#p2cc500e8d6)\" style=\"fill: none; stroke: #b0b0b0; stroke-width: 0.8; stroke-linecap: square\"/>\n     </g>\n     <g id=\"line2d_4\">\n      <g>\n       <use xlink:href=\"#mdbf53c0736\" x=\"107.988295\" y=\"145.8\" style=\"stroke: #000000; stroke-width: 0.8\"/>\n      </g>\n     </g>\n     <g id=\"text_2\">\n      <!-- 200 -->\n      <g transform=\"translate(98.444545 160.398438) scale(0.1 -0.1)\">\n       <defs>\n        <path id=\"DejaVuSans-32\" d=\"M 1228 531 \nL 3431 531 \nL 3431 0 \nL 469 0 \nL 469 531 \nQ 828 903 1448 1529 \nQ 2069 2156 2228 2338 \nQ 2531 2678 2651 2914 \nQ 2772 3150 2772 3378 \nQ 2772 3750 2511 3984 \nQ 2250 4219 1831 4219 \nQ 1534 4219 1204 4116 \nQ 875 4013 500 3803 \nL 500 4441 \nQ 881 4594 1212 4672 \nQ 1544 4750 1819 4750 \nQ 2544 4750 2975 4387 \nQ 3406 4025 3406 3419 \nQ 3406 3131 3298 2873 \nQ 3191 2616 2906 2266 \nQ 2828 2175 2409 1742 \nQ 1991 1309 1228 531 \nz\n\" transform=\"scale(0.015625)\"/>\n       </defs>\n       <use xlink:href=\"#DejaVuSans-32\"/>\n       <use xlink:href=\"#DejaVuSans-30\" transform=\"translate(63.623047 0)\"/>\n       <use xlink:href=\"#DejaVuSans-30\" transform=\"translate(127.246094 0)\"/>\n      </g>\n     </g>\n    </g>\n    <g id=\"xtick_3\">\n     <g id=\"line2d_5\">\n      <path d=\"M 147.126572 145.8 \nL 147.126572 7.2 \n\" clip-path=\"url(#p2cc500e8d6)\" style=\"fill: none; stroke: #b0b0b0; stroke-width: 0.8; stroke-linecap: square\"/>\n     </g>\n     <g id=\"line2d_6\">\n      <g>\n       <use xlink:href=\"#mdbf53c0736\" x=\"147.126572\" y=\"145.8\" style=\"stroke: #000000; stroke-width: 0.8\"/>\n      </g>\n     </g>\n     <g id=\"text_3\">\n      <!-- 300 -->\n      <g transform=\"translate(137.582822 160.398438) scale(0.1 -0.1)\">\n       <defs>\n        <path id=\"DejaVuSans-33\" d=\"M 2597 2516 \nQ 3050 2419 3304 2112 \nQ 3559 1806 3559 1356 \nQ 3559 666 3084 287 \nQ 2609 -91 1734 -91 \nQ 1441 -91 1130 -33 \nQ 819 25 488 141 \nL 488 750 \nQ 750 597 1062 519 \nQ 1375 441 1716 441 \nQ 2309 441 2620 675 \nQ 2931 909 2931 1356 \nQ 2931 1769 2642 2001 \nQ 2353 2234 1838 2234 \nL 1294 2234 \nL 1294 2753 \nL 1863 2753 \nQ 2328 2753 2575 2939 \nQ 2822 3125 2822 3475 \nQ 2822 3834 2567 4026 \nQ 2313 4219 1838 4219 \nQ 1578 4219 1281 4162 \nQ 984 4106 628 3988 \nL 628 4550 \nQ 988 4650 1302 4700 \nQ 1616 4750 1894 4750 \nQ 2613 4750 3031 4423 \nQ 3450 4097 3450 3541 \nQ 3450 3153 3228 2886 \nQ 3006 2619 2597 2516 \nz\n\" transform=\"scale(0.015625)\"/>\n       </defs>\n       <use xlink:href=\"#DejaVuSans-33\"/>\n       <use xlink:href=\"#DejaVuSans-30\" transform=\"translate(63.623047 0)\"/>\n       <use xlink:href=\"#DejaVuSans-30\" transform=\"translate(127.246094 0)\"/>\n      </g>\n     </g>\n    </g>\n    <g id=\"xtick_4\">\n     <g id=\"line2d_7\">\n      <path d=\"M 186.264848 145.8 \nL 186.264848 7.2 \n\" clip-path=\"url(#p2cc500e8d6)\" style=\"fill: none; stroke: #b0b0b0; stroke-width: 0.8; stroke-linecap: square\"/>\n     </g>\n     <g id=\"line2d_8\">\n      <g>\n       <use xlink:href=\"#mdbf53c0736\" x=\"186.264848\" y=\"145.8\" style=\"stroke: #000000; stroke-width: 0.8\"/>\n      </g>\n     </g>\n     <g id=\"text_4\">\n      <!-- 400 -->\n      <g transform=\"translate(176.721098 160.398438) scale(0.1 -0.1)\">\n       <defs>\n        <path id=\"DejaVuSans-34\" d=\"M 2419 4116 \nL 825 1625 \nL 2419 1625 \nL 2419 4116 \nz\nM 2253 4666 \nL 3047 4666 \nL 3047 1625 \nL 3713 1625 \nL 3713 1100 \nL 3047 1100 \nL 3047 0 \nL 2419 0 \nL 2419 1100 \nL 313 1100 \nL 313 1709 \nL 2253 4666 \nz\n\" transform=\"scale(0.015625)\"/>\n       </defs>\n       <use xlink:href=\"#DejaVuSans-34\"/>\n       <use xlink:href=\"#DejaVuSans-30\" transform=\"translate(63.623047 0)\"/>\n       <use xlink:href=\"#DejaVuSans-30\" transform=\"translate(127.246094 0)\"/>\n      </g>\n     </g>\n    </g>\n    <g id=\"xtick_5\">\n     <g id=\"line2d_9\">\n      <path d=\"M 225.403125 145.8 \nL 225.403125 7.2 \n\" clip-path=\"url(#p2cc500e8d6)\" style=\"fill: none; stroke: #b0b0b0; stroke-width: 0.8; stroke-linecap: square\"/>\n     </g>\n     <g id=\"line2d_10\">\n      <g>\n       <use xlink:href=\"#mdbf53c0736\" x=\"225.403125\" y=\"145.8\" style=\"stroke: #000000; stroke-width: 0.8\"/>\n      </g>\n     </g>\n     <g id=\"text_5\">\n      <!-- 500 -->\n      <g transform=\"translate(215.859375 160.398438) scale(0.1 -0.1)\">\n       <defs>\n        <path id=\"DejaVuSans-35\" d=\"M 691 4666 \nL 3169 4666 \nL 3169 4134 \nL 1269 4134 \nL 1269 2991 \nQ 1406 3038 1543 3061 \nQ 1681 3084 1819 3084 \nQ 2600 3084 3056 2656 \nQ 3513 2228 3513 1497 \nQ 3513 744 3044 326 \nQ 2575 -91 1722 -91 \nQ 1428 -91 1123 -41 \nQ 819 9 494 109 \nL 494 744 \nQ 775 591 1075 516 \nQ 1375 441 1709 441 \nQ 2250 441 2565 725 \nQ 2881 1009 2881 1497 \nQ 2881 1984 2565 2268 \nQ 2250 2553 1709 2553 \nQ 1456 2553 1204 2497 \nQ 953 2441 691 2322 \nL 691 4666 \nz\n\" transform=\"scale(0.015625)\"/>\n       </defs>\n       <use xlink:href=\"#DejaVuSans-35\"/>\n       <use xlink:href=\"#DejaVuSans-30\" transform=\"translate(63.623047 0)\"/>\n       <use xlink:href=\"#DejaVuSans-30\" transform=\"translate(127.246094 0)\"/>\n      </g>\n     </g>\n    </g>\n    <g id=\"text_6\">\n     <!-- epoch -->\n     <g transform=\"translate(112.525 174.076563) scale(0.1 -0.1)\">\n      <defs>\n       <path id=\"DejaVuSans-65\" d=\"M 3597 1894 \nL 3597 1613 \nL 953 1613 \nQ 991 1019 1311 708 \nQ 1631 397 2203 397 \nQ 2534 397 2845 478 \nQ 3156 559 3463 722 \nL 3463 178 \nQ 3153 47 2828 -22 \nQ 2503 -91 2169 -91 \nQ 1331 -91 842 396 \nQ 353 884 353 1716 \nQ 353 2575 817 3079 \nQ 1281 3584 2069 3584 \nQ 2775 3584 3186 3129 \nQ 3597 2675 3597 1894 \nz\nM 3022 2063 \nQ 3016 2534 2758 2815 \nQ 2500 3097 2075 3097 \nQ 1594 3097 1305 2825 \nQ 1016 2553 972 2059 \nL 3022 2063 \nz\n\" transform=\"scale(0.015625)\"/>\n       <path id=\"DejaVuSans-70\" d=\"M 1159 525 \nL 1159 -1331 \nL 581 -1331 \nL 581 3500 \nL 1159 3500 \nL 1159 2969 \nQ 1341 3281 1617 3432 \nQ 1894 3584 2278 3584 \nQ 2916 3584 3314 3078 \nQ 3713 2572 3713 1747 \nQ 3713 922 3314 415 \nQ 2916 -91 2278 -91 \nQ 1894 -91 1617 61 \nQ 1341 213 1159 525 \nz\nM 3116 1747 \nQ 3116 2381 2855 2742 \nQ 2594 3103 2138 3103 \nQ 1681 3103 1420 2742 \nQ 1159 2381 1159 1747 \nQ 1159 1113 1420 752 \nQ 1681 391 2138 391 \nQ 2594 391 2855 752 \nQ 3116 1113 3116 1747 \nz\n\" transform=\"scale(0.015625)\"/>\n       <path id=\"DejaVuSans-6f\" d=\"M 1959 3097 \nQ 1497 3097 1228 2736 \nQ 959 2375 959 1747 \nQ 959 1119 1226 758 \nQ 1494 397 1959 397 \nQ 2419 397 2687 759 \nQ 2956 1122 2956 1747 \nQ 2956 2369 2687 2733 \nQ 2419 3097 1959 3097 \nz\nM 1959 3584 \nQ 2709 3584 3137 3096 \nQ 3566 2609 3566 1747 \nQ 3566 888 3137 398 \nQ 2709 -91 1959 -91 \nQ 1206 -91 779 398 \nQ 353 888 353 1747 \nQ 353 2609 779 3096 \nQ 1206 3584 1959 3584 \nz\n\" transform=\"scale(0.015625)\"/>\n       <path id=\"DejaVuSans-63\" d=\"M 3122 3366 \nL 3122 2828 \nQ 2878 2963 2633 3030 \nQ 2388 3097 2138 3097 \nQ 1578 3097 1268 2742 \nQ 959 2388 959 1747 \nQ 959 1106 1268 751 \nQ 1578 397 2138 397 \nQ 2388 397 2633 464 \nQ 2878 531 3122 666 \nL 3122 134 \nQ 2881 22 2623 -34 \nQ 2366 -91 2075 -91 \nQ 1284 -91 818 406 \nQ 353 903 353 1747 \nQ 353 2603 823 3093 \nQ 1294 3584 2113 3584 \nQ 2378 3584 2631 3529 \nQ 2884 3475 3122 3366 \nz\n\" transform=\"scale(0.015625)\"/>\n       <path id=\"DejaVuSans-68\" d=\"M 3513 2113 \nL 3513 0 \nL 2938 0 \nL 2938 2094 \nQ 2938 2591 2744 2837 \nQ 2550 3084 2163 3084 \nQ 1697 3084 1428 2787 \nQ 1159 2491 1159 1978 \nL 1159 0 \nL 581 0 \nL 581 4863 \nL 1159 4863 \nL 1159 2956 \nQ 1366 3272 1645 3428 \nQ 1925 3584 2291 3584 \nQ 2894 3584 3203 3211 \nQ 3513 2838 3513 2113 \nz\n\" transform=\"scale(0.015625)\"/>\n      </defs>\n      <use xlink:href=\"#DejaVuSans-65\"/>\n      <use xlink:href=\"#DejaVuSans-70\" transform=\"translate(61.523438 0)\"/>\n      <use xlink:href=\"#DejaVuSans-6f\" transform=\"translate(125 0)\"/>\n      <use xlink:href=\"#DejaVuSans-63\" transform=\"translate(186.181641 0)\"/>\n      <use xlink:href=\"#DejaVuSans-68\" transform=\"translate(241.162109 0)\"/>\n     </g>\n    </g>\n   </g>\n   <g id=\"matplotlib.axis_2\">\n    <g id=\"ytick_1\">\n     <g id=\"line2d_11\">\n      <path d=\"M 30.103125 140.251719 \nL 225.403125 140.251719 \n\" clip-path=\"url(#p2cc500e8d6)\" style=\"fill: none; stroke: #b0b0b0; stroke-width: 0.8; stroke-linecap: square\"/>\n     </g>\n     <g id=\"line2d_12\">\n      <defs>\n       <path id=\"m8b2941b16d\" d=\"M 0 0 \nL -3.5 0 \n\" style=\"stroke: #000000; stroke-width: 0.8\"/>\n      </defs>\n      <g>\n       <use xlink:href=\"#m8b2941b16d\" x=\"30.103125\" y=\"140.251719\" style=\"stroke: #000000; stroke-width: 0.8\"/>\n      </g>\n     </g>\n     <g id=\"text_7\">\n      <!-- 0.0 -->\n      <g transform=\"translate(7.2 144.050937) scale(0.1 -0.1)\">\n       <defs>\n        <path id=\"DejaVuSans-2e\" d=\"M 684 794 \nL 1344 794 \nL 1344 0 \nL 684 0 \nL 684 794 \nz\n\" transform=\"scale(0.015625)\"/>\n       </defs>\n       <use xlink:href=\"#DejaVuSans-30\"/>\n       <use xlink:href=\"#DejaVuSans-2e\" transform=\"translate(63.623047 0)\"/>\n       <use xlink:href=\"#DejaVuSans-30\" transform=\"translate(95.410156 0)\"/>\n      </g>\n     </g>\n    </g>\n    <g id=\"ytick_2\">\n     <g id=\"line2d_13\">\n      <path d=\"M 30.103125 112.743645 \nL 225.403125 112.743645 \n\" clip-path=\"url(#p2cc500e8d6)\" style=\"fill: none; stroke: #b0b0b0; stroke-width: 0.8; stroke-linecap: square\"/>\n     </g>\n     <g id=\"line2d_14\">\n      <g>\n       <use xlink:href=\"#m8b2941b16d\" x=\"30.103125\" y=\"112.743645\" style=\"stroke: #000000; stroke-width: 0.8\"/>\n      </g>\n     </g>\n     <g id=\"text_8\">\n      <!-- 0.5 -->\n      <g transform=\"translate(7.2 116.542864) scale(0.1 -0.1)\">\n       <use xlink:href=\"#DejaVuSans-30\"/>\n       <use xlink:href=\"#DejaVuSans-2e\" transform=\"translate(63.623047 0)\"/>\n       <use xlink:href=\"#DejaVuSans-35\" transform=\"translate(95.410156 0)\"/>\n      </g>\n     </g>\n    </g>\n    <g id=\"ytick_3\">\n     <g id=\"line2d_15\">\n      <path d=\"M 30.103125 85.235572 \nL 225.403125 85.235572 \n\" clip-path=\"url(#p2cc500e8d6)\" style=\"fill: none; stroke: #b0b0b0; stroke-width: 0.8; stroke-linecap: square\"/>\n     </g>\n     <g id=\"line2d_16\">\n      <g>\n       <use xlink:href=\"#m8b2941b16d\" x=\"30.103125\" y=\"85.235572\" style=\"stroke: #000000; stroke-width: 0.8\"/>\n      </g>\n     </g>\n     <g id=\"text_9\">\n      <!-- 1.0 -->\n      <g transform=\"translate(7.2 89.03479) scale(0.1 -0.1)\">\n       <use xlink:href=\"#DejaVuSans-31\"/>\n       <use xlink:href=\"#DejaVuSans-2e\" transform=\"translate(63.623047 0)\"/>\n       <use xlink:href=\"#DejaVuSans-30\" transform=\"translate(95.410156 0)\"/>\n      </g>\n     </g>\n    </g>\n    <g id=\"ytick_4\">\n     <g id=\"line2d_17\">\n      <path d=\"M 30.103125 57.727498 \nL 225.403125 57.727498 \n\" clip-path=\"url(#p2cc500e8d6)\" style=\"fill: none; stroke: #b0b0b0; stroke-width: 0.8; stroke-linecap: square\"/>\n     </g>\n     <g id=\"line2d_18\">\n      <g>\n       <use xlink:href=\"#m8b2941b16d\" x=\"30.103125\" y=\"57.727498\" style=\"stroke: #000000; stroke-width: 0.8\"/>\n      </g>\n     </g>\n     <g id=\"text_10\">\n      <!-- 1.5 -->\n      <g transform=\"translate(7.2 61.526717) scale(0.1 -0.1)\">\n       <use xlink:href=\"#DejaVuSans-31\"/>\n       <use xlink:href=\"#DejaVuSans-2e\" transform=\"translate(63.623047 0)\"/>\n       <use xlink:href=\"#DejaVuSans-35\" transform=\"translate(95.410156 0)\"/>\n      </g>\n     </g>\n    </g>\n    <g id=\"ytick_5\">\n     <g id=\"line2d_19\">\n      <path d=\"M 30.103125 30.219425 \nL 225.403125 30.219425 \n\" clip-path=\"url(#p2cc500e8d6)\" style=\"fill: none; stroke: #b0b0b0; stroke-width: 0.8; stroke-linecap: square\"/>\n     </g>\n     <g id=\"line2d_20\">\n      <g>\n       <use xlink:href=\"#m8b2941b16d\" x=\"30.103125\" y=\"30.219425\" style=\"stroke: #000000; stroke-width: 0.8\"/>\n      </g>\n     </g>\n     <g id=\"text_11\">\n      <!-- 2.0 -->\n      <g transform=\"translate(7.2 34.018643) scale(0.1 -0.1)\">\n       <use xlink:href=\"#DejaVuSans-32\"/>\n       <use xlink:href=\"#DejaVuSans-2e\" transform=\"translate(63.623047 0)\"/>\n       <use xlink:href=\"#DejaVuSans-30\" transform=\"translate(95.410156 0)\"/>\n      </g>\n     </g>\n    </g>\n   </g>\n   <g id=\"line2d_21\">\n    <path d=\"M 30.099787 13.529563 \nL 31.118717 13.552747 \nL 44.192905 13.583107 \nL 45.053279 13.583192 \nL 45.836045 13.587354 \nL 48.025785 13.60006 \nL 50.218864 13.591059 \nL 51.237794 13.596744 \nL 52.330996 13.595291 \nL 55.620614 13.600762 \nL 63.762043 13.627814 \nL 63.99487 13.635638 \nL 66.501722 13.646906 \nL 66.734549 13.659458 \nL 67.284488 13.638112 \nL 67.517315 13.662192 \nL 68.30008 13.645584 \nL 69.241402 13.647524 \nL 69.474228 13.683343 \nL 70.024167 13.661707 \nL 70.806933 13.65637 \nL 71.117368 13.66165 \nL 87.636392 13.872832 \nL 87.869218 13.908514 \nL 88.33821 13.927012 \nL 89.201923 13.909164 \nL 89.35714 14.016639 \nL 89.748523 13.921838 \nL 89.984688 13.93772 \nL 90.139906 13.966541 \nL 90.45368 13.87837 \nL 90.767454 13.928819 \nL 91.627828 14.028589 \nL 92.252038 14.04212 \nL 92.724367 14.026922 \nL 93.11575 14.033931 \nL 93.426186 14.045684 \nL 93.817569 14.088171 \nL 95.464047 14.129512 \nL 95.619265 14.217815 \nL 95.85543 14.174614 \nL 95.933039 14.317068 \nL 96.088256 14.20004 \nL 96.246812 14.190783 \nL 96.324421 14.296522 \nL 96.479639 14.211499 \nL 96.638195 14.194032 \nL 96.715804 14.081216 \nL 96.793413 14.147412 \nL 97.420961 14.250357 \nL 97.49857 14.458303 \nL 97.576179 14.389726 \nL 97.812343 14.275346 \nL 97.889952 14.40743 \nL 97.967561 14.350184 \nL 98.281335 14.289494 \nL 98.436553 14.333234 \nL 99.064101 14.365773 \nL 99.219319 14.397929 \nL 99.68831 14.426836 \nL 99.846866 14.499955 \nL 100.16064 14.450228 \nL 100.238249 14.319168 \nL 100.393467 14.459909 \nL 100.943406 14.474677 \nL 101.021015 14.671089 \nL 101.098623 14.595968 \nL 101.490006 14.574217 \nL 101.726171 14.591413 \nL 101.881389 14.70309 \nL 102.117554 14.617279 \nL 102.272772 14.703323 \nL 102.508937 14.642539 \nL 102.664155 14.864398 \nL 102.900319 14.730607 \nL 102.977928 14.894951 \nL 103.055537 14.842085 \nL 103.291702 14.780673 \nL 103.369311 15.011338 \nL 103.44692 14.952916 \nL 103.683085 14.850451 \nL 103.838303 14.913919 \nL 104.074468 14.860453 \nL 104.152077 15.160949 \nL 104.229686 15.056074 \nL 104.462512 14.946511 \nL 104.46585 14.951727 \nL 104.621068 15.018165 \nL 105.639999 15.115865 \nL 105.717608 15.380192 \nL 105.795217 15.301344 \nL 106.031382 15.162279 \nL 106.10899 15.316824 \nL 106.264208 15.194316 \nL 106.422764 15.230604 \nL 106.500373 15.417939 \nL 106.577982 15.326063 \nL 106.814147 15.289606 \nL 106.891756 15.618773 \nL 106.969365 15.474303 \nL 107.20553 15.371131 \nL 107.360748 15.611486 \nL 107.596913 15.530367 \nL 107.674522 15.678973 \nL 107.75213 15.63068 \nL 107.988295 15.603282 \nL 108.143513 15.736689 \nL 108.379678 15.62507 \nL 108.534896 15.835173 \nL 108.690114 15.85682 \nL 108.767723 15.794679 \nL 108.771061 15.800976 \nL 108.84867 16.06843 \nL 108.926279 16.026516 \nL 109.162444 15.913908 \nL 109.240053 16.204112 \nL 109.317662 16.14255 \nL 109.553826 16.09186 \nL 109.631435 16.480031 \nL 109.709044 16.40603 \nL 109.941871 16.20351 \nL 109.945209 16.212982 \nL 110.022818 16.65225 \nL 110.100427 16.615385 \nL 110.336592 16.312776 \nL 110.49181 16.718762 \nL 110.647028 16.619879 \nL 110.727975 16.536923 \nL 110.805584 17.00166 \nL 111.03841 16.557242 \nL 111.119357 16.500708 \nL 111.196966 17.008685 \nL 111.274575 16.818373 \nL 111.429793 16.789279 \nL 111.507402 16.727517 \nL 111.51074 16.735103 \nL 111.665958 17.291207 \nL 111.902123 16.990806 \nL 111.979732 17.270313 \nL 112.057341 17.130359 \nL 112.13495 17.236459 \nL 112.290168 17.109993 \nL 112.293506 17.119608 \nL 112.371115 17.639031 \nL 112.448724 17.603619 \nL 112.684889 17.367024 \nL 112.762497 18.045995 \nL 112.840106 17.869275 \nL 113.076271 17.59019 \nL 113.15388 18.143146 \nL 113.231489 18.097652 \nL 113.467654 17.814437 \nL 113.545263 18.100102 \nL 113.622872 17.999731 \nL 113.859037 17.978351 \nL 113.936646 18.914188 \nL 114.014255 18.659748 \nL 114.25042 18.403722 \nL 114.405637 19.02225 \nL 114.641802 18.76428 \nL 114.719411 18.944761 \nL 114.79702 18.893182 \nL 115.033185 18.88 \nL 115.110794 19.617412 \nL 115.188403 19.524248 \nL 115.343621 19.420848 \nL 115.424568 19.354193 \nL 115.502177 20.350127 \nL 115.579786 20.135198 \nL 115.815951 19.59181 \nL 115.89356 20.826827 \nL 115.971169 20.39915 \nL 116.203995 20.023233 \nL 116.207333 20.051164 \nL 116.284942 20.767636 \nL 116.362551 20.71274 \nL 116.44016 20.734831 \nL 116.595378 20.408143 \nL 116.598716 20.414072 \nL 116.676325 21.7739 \nL 116.753934 21.316559 \nL 116.990099 21.005087 \nL 117.067708 21.70241 \nL 117.145317 21.565881 \nL 117.378144 21.428233 \nL 117.381482 21.437724 \nL 117.459091 22.498032 \nL 117.5367 22.207388 \nL 117.772864 21.87245 \nL 117.850473 23.072371 \nL 117.928082 22.955736 \nL 118.164247 22.50628 \nL 118.241856 23.956256 \nL 118.319465 23.343438 \nL 118.55563 23.05265 \nL 118.633239 25.021172 \nL 118.710848 24.261539 \nL 118.943675 23.760516 \nL 118.947013 23.764711 \nL 119.024622 25.465684 \nL 119.102231 24.890111 \nL 119.338396 24.438617 \nL 119.416004 25.711405 \nL 119.493613 25.479414 \nL 119.72644 25.215887 \nL 119.729778 25.225714 \nL 119.807387 27.305554 \nL 119.884996 26.844383 \nL 120.117823 26.161124 \nL 120.121161 26.171466 \nL 120.19877 27.830148 \nL 120.276379 27.592486 \nL 120.509206 26.97776 \nL 120.512544 26.991061 \nL 120.590153 28.709744 \nL 120.667762 28.661969 \nL 120.903927 27.880929 \nL 120.981536 30.057197 \nL 121.059145 29.474416 \nL 121.295309 28.874789 \nL 121.372918 30.994734 \nL 121.450527 30.50362 \nL 121.605745 30.36068 \nL 121.686692 30.187833 \nL 121.764301 32.002723 \nL 121.84191 31.538766 \nL 122.078075 31.039727 \nL 122.155684 33.893181 \nL 122.233293 33.55612 \nL 122.469458 32.437747 \nL 122.547067 34.702516 \nL 122.624676 34.282139 \nL 122.779893 33.927206 \nL 122.86084 33.817401 \nL 123.016058 35.853462 \nL 123.252223 35.113538 \nL 123.329832 38.713697 \nL 123.407441 37.69645 \nL 123.640268 36.620673 \nL 123.643606 36.625585 \nL 123.721215 39.690355 \nL 123.798824 38.947491 \nL 124.031651 37.948165 \nL 124.034989 37.965808 \nL 124.112598 40.974676 \nL 124.190207 40.886867 \nL 124.426371 40.049316 \nL 124.50398 43.622844 \nL 124.581589 42.718611 \nL 124.817754 41.528188 \nL 124.895363 44.602845 \nL 124.972972 44.44431 \nL 125.209137 43.219889 \nL 125.286746 48.221851 \nL 125.364355 47.089976 \nL 125.60052 45.240643 \nL 125.678129 49.214109 \nL 125.755738 48.407515 \nL 125.991903 47.274433 \nL 126.069512 51.702509 \nL 126.14712 50.976181 \nL 126.383285 49.515188 \nL 126.460894 53.356966 \nL 126.538503 52.632618 \nL 126.774668 51.153354 \nL 126.852277 55.989681 \nL 126.929886 55.254541 \nL 127.166051 53.482187 \nL 127.24366 57.31377 \nL 127.321269 56.923972 \nL 127.554096 55.498525 \nL 127.557434 55.503629 \nL 127.635043 61.506652 \nL 127.712652 60.142933 \nL 127.945478 58.225216 \nL 127.948816 58.23327 \nL 128.026425 61.843299 \nL 128.104034 61.821894 \nL 128.340199 59.985382 \nL 128.417808 64.754328 \nL 128.495417 64.011366 \nL 128.728244 62.431216 \nL 128.731582 62.447371 \nL 128.809191 66.773101 \nL 128.8868 66.001837 \nL 129.042018 65.321998 \nL 129.122965 64.762644 \nL 129.200574 69.679938 \nL 129.278183 69.051568 \nL 129.511009 67.056815 \nL 129.514347 67.082429 \nL 129.591956 72.032035 \nL 129.669565 71.014913 \nL 129.90573 69.532563 \nL 129.983339 75.706517 \nL 130.060948 74.497676 \nL 130.297113 72.287311 \nL 130.374722 76.838826 \nL 130.452331 75.94121 \nL 130.685158 74.141414 \nL 130.688496 74.146936 \nL 130.766105 78.904484 \nL 130.843714 78.067733 \nL 131.079879 76.611939 \nL 131.157487 82.135104 \nL 131.235096 80.776924 \nL 131.471261 78.975467 \nL 131.54887 84.539019 \nL 131.626479 83.607188 \nL 131.862644 81.449719 \nL 131.940253 86.148617 \nL 132.017862 85.625379 \nL 132.254027 83.114146 \nL 132.331636 87.52039 \nL 132.409245 87.022834 \nL 132.642072 85.461778 \nL 132.64541 85.467969 \nL 132.723019 90.885138 \nL 132.800627 89.545462 \nL 133.036792 87.698015 \nL 133.114401 92.281405 \nL 133.19201 91.445798 \nL 133.428175 89.968482 \nL 133.505784 94.899509 \nL 133.583393 93.733322 \nL 133.81622 92.045256 \nL 133.819558 92.048847 \nL 133.897167 97.542973 \nL 133.974776 96.323771 \nL 134.210941 93.943846 \nL 134.28855 98.885071 \nL 134.366159 98.148484 \nL 134.602323 96.147478 \nL 134.679932 99.694259 \nL 134.757541 98.666597 \nL 134.990368 97.442729 \nL 134.993706 97.451384 \nL 135.071315 102.450374 \nL 135.148924 101.557527 \nL 135.304142 100.483554 \nL 135.385089 99.813462 \nL 135.462698 103.456709 \nL 135.540307 103.067685 \nL 135.776472 101.387953 \nL 135.854081 105.213183 \nL 135.93169 104.711634 \nL 136.167854 103.009828 \nL 136.245463 106.260811 \nL 136.323072 105.799558 \nL 136.559237 104.591044 \nL 136.636846 107.987387 \nL 136.714455 107.634308 \nL 136.95062 106.106988 \nL 137.028229 109.779766 \nL 137.105838 109.468577 \nL 137.342003 107.566083 \nL 137.419612 111.572969 \nL 137.497221 110.655543 \nL 137.733386 109.097353 \nL 137.810994 112.715634 \nL 137.888603 112.044902 \nL 138.124768 110.425323 \nL 138.202377 113.584981 \nL 138.279986 112.882649 \nL 138.357595 112.817747 \nL 138.512813 111.706866 \nL 138.516151 111.746116 \nL 138.59376 114.773927 \nL 138.671369 114.702623 \nL 138.907534 113.346727 \nL 138.985143 116.350979 \nL 139.062752 115.543045 \nL 139.298917 114.163737 \nL 139.376526 116.692817 \nL 139.454134 116.103419 \nL 139.690299 115.393046 \nL 139.767908 118.413789 \nL 139.845517 117.716379 \nL 140.081682 116.53562 \nL 140.159291 118.139444 \nL 140.2369 117.782253 \nL 140.469727 117.05 \nL 140.473065 117.065422 \nL 140.550674 119.413454 \nL 140.628283 119.101381 \nL 140.864448 118.147455 \nL 141.019666 120.080797 \nL 141.174883 119.413994 \nL 141.25583 118.93219 \nL 141.333439 122.007291 \nL 141.488657 120.481083 \nL 141.647213 119.648795 \nL 141.724822 122.791093 \nL 141.802431 122.097147 \nL 141.88004 121.902268 \nL 142.035258 120.90391 \nL 142.038596 120.911008 \nL 142.116205 123.046179 \nL 142.193814 123.000377 \nL 142.429979 121.853095 \nL 142.507588 124.249185 \nL 142.585197 123.688748 \nL 142.740415 122.952667 \nL 142.821361 122.672423 \nL 142.89897 123.34117 \nL 142.976579 123.322532 \nL 143.054188 123.278741 \nL 143.212744 122.87918 \nL 143.290353 124.681382 \nL 143.367962 124.341335 \nL 143.600789 123.585814 \nL 143.604127 123.587827 \nL 143.681736 125.816756 \nL 143.759345 125.189763 \nL 143.992172 124.516182 \nL 143.99551 124.540529 \nL 144.073119 125.893525 \nL 144.228337 125.079226 \nL 144.386893 124.707855 \nL 144.54211 126.169141 \nL 144.778275 125.517661 \nL 144.855884 127.379528 \nL 144.933493 126.513282 \nL 145.011102 126.584731 \nL 145.16632 125.739135 \nL 145.169658 125.740221 \nL 145.247267 128.135551 \nL 145.324876 127.821887 \nL 145.402485 127.759833 \nL 145.557703 126.979952 \nL 145.561041 126.996217 \nL 145.63865 128.379706 \nL 145.716259 128.242196 \nL 145.952424 127.550607 \nL 146.030033 128.694931 \nL 146.107641 128.299369 \nL 146.262859 127.872592 \nL 146.340468 127.454178 \nL 146.343806 127.473487 \nL 146.421415 129.024712 \nL 146.499024 128.688852 \nL 146.735189 128.006091 \nL 146.812798 129.168154 \nL 146.890407 128.859502 \nL 146.968016 128.93701 \nL 147.126572 128.299163 \nL 147.204181 129.652247 \nL 147.28179 129.464941 \nL 147.517955 128.819106 \nL 147.673173 130.012951 \nL 147.750782 129.962139 \nL 147.909337 129.354947 \nL 148.064555 130.248713 \nL 148.219773 130.136116 \nL 148.30072 129.756001 \nL 148.378329 130.627803 \nL 148.455938 130.433884 \nL 148.688765 129.943985 \nL 148.692103 129.95603 \nL 148.769712 131.011493 \nL 148.847321 130.928733 \nL 148.92493 130.903127 \nL 149.083486 130.372178 \nL 149.161095 131.077963 \nL 149.238704 131.049306 \nL 149.474868 130.798704 \nL 149.552477 131.177968 \nL 149.630086 131.09688 \nL 149.707695 131.131407 \nL 149.866251 130.680085 \nL 149.94386 131.930452 \nL 150.021469 131.616748 \nL 150.176687 131.488098 \nL 150.257634 131.224084 \nL 150.335243 131.986564 \nL 150.412852 131.773887 \nL 150.649017 131.187502 \nL 150.804235 132.404523 \nL 151.037062 131.643137 \nL 151.0404 131.644213 \nL 151.195617 132.184202 \nL 151.350835 132.243728 \nL 151.428444 132.073517 \nL 151.431782 132.091182 \nL 151.509391 132.658212 \nL 151.587 132.558214 \nL 151.819827 132.28127 \nL 151.823165 132.289571 \nL 151.978383 133.026349 \nL 152.214548 132.364915 \nL 152.292157 132.790068 \nL 152.447375 132.169023 \nL 152.605931 132.170208 \nL 152.68354 133.68792 \nL 152.761149 133.213698 \nL 152.997313 132.785268 \nL 153.074922 133.655627 \nL 153.23014 133.105496 \nL 153.388696 132.802517 \nL 153.543914 133.107318 \nL 153.699132 132.899655 \nL 153.780079 132.964293 \nL 153.857688 133.718668 \nL 153.935297 133.626796 \nL 154.171462 133.207685 \nL 154.249071 134.000735 \nL 154.32668 133.719958 \nL 154.562844 133.424829 \nL 154.640453 134.048697 \nL 154.718062 133.735276 \nL 154.795671 133.9066 \nL 154.87328 133.810294 \nL 154.954227 133.657818 \nL 155.031836 134.906615 \nL 155.109445 134.47146 \nL 155.34561 134.106574 \nL 155.423219 134.536647 \nL 155.500828 134.502315 \nL 155.656046 134.193303 \nL 155.892211 134.467865 \nL 156.128376 134.362784 \nL 156.283593 134.472089 \nL 156.51642 134.064589 \nL 156.519758 134.074091 \nL 156.597367 134.805256 \nL 156.674976 134.706035 \nL 156.752585 134.722483 \nL 156.911141 134.539806 \nL 157.066359 134.71666 \nL 157.299186 134.606404 \nL 157.302524 134.618966 \nL 157.380133 135.492103 \nL 157.61296 134.540694 \nL 157.693907 134.645322 \nL 157.771516 135.081412 \nL 157.849124 134.661691 \nL 157.926733 134.91249 \nL 158.085289 134.796349 \nL 158.162898 135.393432 \nL 158.240507 135.250674 \nL 158.395725 135.323561 \nL 158.476672 135.049933 \nL 158.63189 135.352557 \nL 159.023273 135.589719 \nL 159.178491 135.523811 \nL 159.259438 135.553685 \nL 159.492264 135.33742 \nL 159.569873 135.356057 \nL 159.65082 135.25736 \nL 159.806038 135.735542 \nL 160.433586 135.327786 \nL 160.511195 135.55783 \nL 160.588804 135.487827 \nL 160.744022 135.366513 \nL 160.824969 135.416277 \nL 160.902578 135.952531 \nL 160.980187 135.82878 \nL 161.135404 135.708162 \nL 161.216351 135.743214 \nL 161.29396 136.326639 \nL 161.449178 135.918797 \nL 161.604396 135.825145 \nL 161.607734 135.835768 \nL 161.999117 135.731552 \nL 162.154335 136.317705 \nL 162.3905 135.833289 \nL 162.623327 136.206229 \nL 162.700936 136.207047 \nL 162.781883 135.997333 \nL 162.9371 136.472176 \nL 163.169927 136.158155 \nL 163.173265 136.161704 \nL 163.250874 136.581277 \nL 163.328483 136.406619 \nL 163.564648 136.030318 \nL 163.719866 136.397351 \nL 163.797475 136.330533 \nL 164.03364 136.608449 \nL 164.111249 136.201027 \nL 164.188858 136.235297 \nL 164.347414 136.193364 \nL 164.425023 136.687864 \nL 164.502631 136.592558 \nL 164.738796 136.291286 \nL 164.816405 137.04062 \nL 164.894014 136.997777 \nL 165.049232 136.743852 \nL 165.130179 136.759615 \nL 165.285397 136.483439 \nL 165.521562 136.184327 \nL 165.599171 136.80314 \nL 165.67678 136.709114 \nL 165.831998 136.627418 \nL 165.912945 136.475955 \nL 165.990554 136.850661 \nL 166.145771 136.534244 \nL 166.300989 136.52885 \nL 166.304327 136.520253 \nL 166.381936 137.043739 \nL 166.459545 136.860953 \nL 166.69571 136.74017 \nL 166.773319 137.278707 \nL 166.850928 137.089827 \nL 167.478476 136.625336 \nL 167.633694 137.261257 \nL 167.869858 137.030146 \nL 167.947467 137.210517 \nL 168.025076 137.007672 \nL 168.102685 137.100071 \nL 168.261241 136.937472 \nL 168.33885 137.275472 \nL 168.416459 137.240672 \nL 168.571677 137.14774 \nL 168.652624 136.925595 \nL 168.730233 137.190349 \nL 168.807842 137.139617 \nL 168.96306 137.24448 \nL 169.121616 136.982054 \nL 169.199225 137.131879 \nL 169.354443 137.315752 \nL 169.43539 137.220138 \nL 169.512998 136.746469 \nL 169.590607 136.809534 \nL 169.668216 136.712076 \nL 169.745825 136.825739 \nL 169.823434 136.745395 \nL 169.826772 136.737938 \nL 169.904381 137.176264 \nL 169.98199 137.149306 \nL 170.214817 136.937399 \nL 170.218155 136.952419 \nL 170.295764 137.548779 \nL 170.373373 137.342293 \nL 170.450982 137.277043 \nL 170.6062 137.336378 \nL 170.609538 137.327921 \nL 170.687147 137.142201 \nL 170.764756 137.236209 \nL 170.919974 137.141258 \nL 171.000921 137.159452 \nL 171.07853 137.607325 \nL 171.156138 137.47904 \nL 171.469912 137.375455 \nL 171.62513 137.081642 \nL 171.861295 137.112658 \nL 172.175069 137.148549 \nL 172.252678 137.345412 \nL 172.330287 137.296962 \nL 172.566452 137.291676 \nL 172.644061 137.606664 \nL 172.72167 137.425057 \nL 172.799279 137.495255 \nL 172.876887 137.496593 \nL 172.957834 137.362146 \nL 173.035443 137.789628 \nL 173.113052 137.726184 \nL 173.349217 137.443012 \nL 173.426826 137.900754 \nL 173.504435 137.739442 \nL 173.659653 137.727725 \nL 173.7406 137.725762 \nL 173.818209 137.940625 \nL 173.895818 137.84477 \nL 173.973427 137.900438 \nL 174.128645 137.633621 \nL 174.131983 137.641006 \nL 174.209592 138.054016 \nL 174.442419 137.69772 \nL 174.756192 137.559627 \nL 175.069966 137.852928 \nL 175.147575 137.724135 \nL 175.306131 137.707541 \nL 175.538958 138.036311 \nL 175.697514 137.842974 \nL 175.775123 138.043193 \nL 176.00795 137.835261 \nL 176.088897 137.879223 \nL 176.166505 138.138631 \nL 176.321723 137.865284 \nL 176.949271 137.996227 \nL 177.02688 138.105046 \nL 177.182098 137.952993 \nL 177.263045 137.937284 \nL 177.418263 138.085722 \nL 177.654428 137.841177 \nL 177.809646 137.847414 \nL 177.964863 137.820481 \nL 178.04581 137.764378 \nL 178.123419 138.074718 \nL 178.201028 138.021881 \nL 178.437193 138.009509 \nL 178.514802 138.459472 \nL 178.592411 138.34258 \nL 178.906185 138.165978 \nL 179.219959 138.124164 \nL 179.375177 138.085673 \nL 179.611341 138.026221 \nL 179.68895 138.290114 \nL 179.766559 138.022081 \nL 179.844168 138.078296 \nL 180.002724 137.968962 \nL 180.31316 138.253154 \nL 180.394107 138.280545 \nL 180.471716 138.447175 \nL 180.549325 138.35192 \nL 180.782152 138.197224 \nL 180.78549 138.201977 \nL 180.940708 138.298136 \nL 181.176872 138.387158 \nL 181.33209 138.187023 \nL 181.568255 138.253684 \nL 181.645864 138.470148 \nL 181.878691 138.259891 \nL 181.959638 138.266994 \nL 182.037247 138.427905 \nL 182.192465 138.374515 \nL 182.270074 138.405064 \nL 182.351021 138.311779 \nL 182.506239 138.429165 \nL 182.742404 138.201457 \nL 182.820013 138.518308 \nL 182.897621 138.419429 \nL 183.211395 138.35688 \nL 183.444222 138.194402 \nL 183.757996 138.030879 \nL 183.916552 138.097941 \nL 184.07177 138.441734 \nL 184.463153 138.326873 \nL 184.699317 138.36211 \nL 184.776926 138.825129 \nL 184.932144 138.237869 \nL 185.323527 138.466747 \nL 185.482083 138.34189 \nL 185.559692 138.59534 \nL 185.637301 138.515478 \nL 185.873466 138.481536 \nL 185.951075 138.632987 \nL 186.183901 138.392365 \nL 186.26151 138.43 \nL 186.264848 138.41201 \nL 186.342457 138.701193 \nL 186.420066 138.608344 \nL 186.656231 138.500617 \nL 186.811449 138.603127 \nL 187.280441 138.370537 \nL 187.594215 138.377417 \nL 187.671824 138.329688 \nL 187.907988 138.620035 \nL 188.063206 138.583629 \nL 188.299371 138.784102 \nL 188.532198 138.452113 \nL 189.004528 138.523259 \nL 189.395911 138.415369 \nL 189.551128 138.593833 \nL 189.706346 138.568412 \nL 189.864902 138.567713 \nL 189.942511 138.276254 \nL 190.02012 138.325849 \nL 190.178676 138.307116 \nL 190.333894 138.604192 \nL 190.411503 138.683236 \nL 190.566721 138.514924 \nL 190.570059 138.522653 \nL 191.11666 138.917607 \nL 191.352824 138.659719 \nL 191.430433 138.840705 \nL 191.508042 138.80415 \nL 191.740869 138.659927 \nL 191.744207 138.659231 \nL 191.821816 138.850465 \nL 191.977034 138.706279 \nL 192.290808 138.663371 \nL 192.526973 138.523094 \nL 192.682191 138.724336 \nL 193.3064 138.461586 \nL 193.309738 138.468514 \nL 193.387347 138.872652 \nL 193.464956 138.801291 \nL 193.701121 138.675021 \nL 193.77873 138.813132 \nL 193.856339 138.639356 \nL 194.011557 138.731118 \nL 194.092504 138.701981 \nL 194.170113 138.890726 \nL 194.40294 138.667817 \nL 194.561495 138.670391 \nL 194.794322 138.832703 \nL 195.42187 138.663266 \nL 195.577088 138.774352 \nL 195.735644 138.751342 \nL 196.049418 138.824571 \nL 196.204635 138.76764 \nL 196.437462 138.858308 \nL 196.4408 138.792615 \nL 196.518409 139.057327 \nL 196.596018 139.013401 \nL 196.832183 138.904198 \nL 196.909792 138.739687 \nL 196.987401 138.784829 \nL 197.301175 138.945396 \nL 197.378784 138.78251 \nL 197.456393 138.842348 \nL 197.614949 138.853649 \nL 197.770167 138.919293 \nL 198.006331 138.894192 \nL 198.08394 139.175348 \nL 198.239158 138.856883 \nL 198.789097 138.920234 \nL 198.944315 138.842961 \nL 199.021924 138.966764 \nL 199.099533 138.908514 \nL 199.18048 138.905839 \nL 199.335698 138.823768 \nL 199.649471 138.874395 \nL 199.804689 138.747271 \nL 200.587455 138.903349 \nL 200.742673 138.800465 \nL 200.746011 138.80396 \nL 200.82362 139.088724 \nL 200.901229 139.002867 \nL 201.056447 138.936867 \nL 201.137394 138.960573 \nL 201.292611 139.154244 \nL 201.683994 139.097867 \nL 201.920159 138.98929 \nL 201.997768 138.757442 \nL 202.075377 138.786982 \nL 202.311542 138.862988 \nL 202.389151 139.040535 \nL 202.621978 138.89674 \nL 202.702925 138.873786 \nL 202.858142 139.170172 \nL 203.094307 139.076818 \nL 203.171916 138.852885 \nL 203.249525 138.908144 \nL 203.718517 138.941494 \nL 203.954682 139.246487 \nL 204.032291 139.085134 \nL 204.423674 139.02039 \nL 204.659838 139.042735 \nL 204.815056 139.075897 \nL 204.970274 139.103011 \nL 205.051221 139.018105 \nL 205.206439 139.197791 \nL 205.439266 139.063401 \nL 205.442604 139.069369 \nL 205.520213 139.223348 \nL 205.597822 139.136292 \nL 206.225369 138.976353 \nL 206.302978 139.152477 \nL 206.380587 139.065806 \nL 206.616752 139.116068 \nL 206.927188 139.096193 \nL 207.318571 139.272586 \nL 207.554736 139.285788 \nL 207.709954 139.185735 \nL 207.86851 139.122562 \nL 208.023727 138.94258 \nL 208.259892 138.96708 \nL 208.492719 138.971482 \nL 208.806493 139.090311 \nL 209.356432 139.005778 \nL 209.434041 139.450581 \nL 209.51165 139.273677 \nL 209.666867 139.147288 \nL 209.747814 139.157473 \nL 209.903032 139.017882 \nL 210.139197 139.182827 \nL 210.372024 139.127662 \nL 210.53058 139.074762 \nL 210.608189 138.817207 \nL 210.841016 139.169711 \nL 211.077181 139.161526 \nL 211.313345 139.131451 \nL 211.390954 139.330468 \nL 211.468563 139.247089 \nL 211.704728 139.222543 \nL 211.782337 139.382068 \nL 211.859946 139.324172 \nL 212.642712 139.105195 \nL 212.875538 139.255133 \nL 212.878877 139.242682 \nL 213.034094 139.136321 \nL 213.270259 139.217965 \nL 213.347868 139.086509 \nL 213.425477 139.164313 \nL 213.661642 139.154035 \nL 213.739251 138.887536 \nL 213.894469 139.204436 \nL 214.053025 139.169923 \nL 214.130634 139.003824 \nL 214.285852 139.181295 \nL 214.677234 139.236868 \nL 215.227173 139.197011 \nL 215.618556 139.196006 \nL 216.087548 139.330552 \nL 216.165157 139.132701 \nL 216.242765 139.1858 \nL 216.401321 139.200246 \nL 216.556539 139.340428 \nL 216.870313 139.287024 \nL 217.10314 139.31078 \nL 217.653079 139.15052 \nL 217.808297 139.302928 \nL 217.966852 139.267846 \nL 218.358235 139.333769 \nL 218.435844 138.97254 \nL 218.513453 139.082841 \nL 218.749618 139.095585 \nL 218.827227 139.5 \nL 218.904836 139.476086 \nL 219.060054 139.456884 \nL 219.687601 139.41025 \nL 220.315149 139.309393 \nL 220.392758 138.931379 \nL 220.470367 139.035665 \nL 221.016968 139.294678 \nL 221.40835 139.369799 \nL 221.88068 139.331371 \nL 221.958289 139.257241 \nL 222.113507 139.445449 \nL 222.272063 139.411271 \nL 222.349672 139.165295 \nL 222.427281 139.24136 \nL 222.973881 139.318328 \nL 223.054828 139.292962 \nL 223.210046 139.410674 \nL 223.679038 139.391748 \nL 223.837594 139.383315 \nL 223.915203 139.268975 \nL 224.070421 139.369636 \nL 224.228977 139.347376 \nL 224.306586 139.192391 \nL 224.384195 139.233395 \nL 224.539413 139.320076 \nL 225.089351 139.496513 \nL 225.244569 139.440474 \nL 225.403125 139.374395 \nL 225.403125 139.374395 \n\" clip-path=\"url(#p2cc500e8d6)\" style=\"fill: none; stroke: #1f77b4; stroke-width: 1.5; stroke-linecap: square\"/>\n   </g>\n   <g id=\"line2d_22\">\n    <path d=\"M 30.099787 134.906316 \nL 30.103125 134.905066 \nL 30.258343 134.560154 \nL 30.413561 134.6341 \nL 30.572117 134.738088 \nL 30.804944 134.602904 \nL 30.885891 134.654743 \nL 31.041108 134.809723 \nL 31.196326 134.732311 \nL 31.354882 134.788926 \nL 31.5101 134.650276 \nL 31.665318 134.708509 \nL 31.668656 134.70334 \nL 31.746265 134.423815 \nL 31.979092 134.727689 \nL 32.215257 134.641033 \nL 32.292866 134.781223 \nL 32.451422 134.718011 \nL 32.529031 134.798169 \nL 32.684248 134.656438 \nL 32.839466 134.695568 \nL 32.842804 134.684085 \nL 32.998022 134.539357 \nL 33.389405 134.617925 \nL 33.622232 134.726071 \nL 33.62557 134.718011 \nL 33.703179 134.678006 \nL 33.858397 134.753493 \nL 34.094562 134.608681 \nL 34.24978 134.725763 \nL 34.563553 134.698804 \nL 34.641162 134.636411 \nL 34.79638 134.720525 \nL 34.799718 134.71251 \nL 34.954936 134.629479 \nL 35.582484 134.638238 \nL 35.660093 134.738088 \nL 35.815311 134.674925 \nL 35.973866 134.725347 \nL 36.051475 134.372977 \nL 36.129084 134.453856 \nL 36.365249 134.578637 \nL 36.442858 134.442302 \nL 36.598076 134.616384 \nL 37.539398 134.662995 \nL 37.617006 134.377599 \nL 37.694615 134.428437 \nL 37.927442 134.557843 \nL 38.163607 134.522411 \nL 38.477381 134.731155 \nL 38.55499 134.630249 \nL 38.791155 134.858251 \nL 39.104929 134.763858 \nL 39.260147 134.627168 \nL 40.511904 134.462329 \nL 40.67046 134.557547 \nL 40.748069 134.43768 \nL 40.903287 134.602519 \nL 41.21706 134.488518 \nL 41.453225 134.587806 \nL 41.608443 134.428437 \nL 41.844608 134.563049 \nL 41.922217 134.345247 \nL 41.999826 134.403018 \nL 42.155044 134.494295 \nL 42.627373 134.528205 \nL 42.782591 134.486208 \nL 43.096365 134.627168 \nL 43.251583 134.736547 \nL 43.720575 134.405329 \nL 43.801522 134.436512 \nL 43.879131 134.733466 \nL 44.111958 134.476964 \nL 44.192905 134.55663 \nL 44.270514 134.336004 \nL 44.348122 134.578641 \nL 44.425731 134.540897 \nL 45.286106 134.64681 \nL 45.755098 134.501459 \nL 45.758436 134.508033 \nL 45.836045 134.881359 \nL 45.913654 134.735777 \nL 46.068871 134.711513 \nL 46.149818 134.701506 \nL 46.305036 134.419194 \nL 46.541201 134.52087 \nL 46.61881 134.243571 \nL 46.696419 134.476964 \nL 46.774028 134.411491 \nL 46.932584 134.509867 \nL 47.010193 134.299031 \nL 47.24302 134.539357 \nL 47.323967 134.541043 \nL 47.401576 134.220463 \nL 47.479185 134.329071 \nL 47.715349 134.456684 \nL 47.792958 134.322139 \nL 47.870567 134.456167 \nL 47.948176 134.383761 \nL 48.498115 134.516285 \nL 48.575724 134.400707 \nL 48.653333 134.481586 \nL 48.889498 134.619899 \nL 49.044716 134.467721 \nL 49.280881 134.403502 \nL 49.749872 134.599438 \nL 49.982699 134.564776 \nL 50.141255 134.63179 \nL 50.218864 134.678006 \nL 50.451691 134.472805 \nL 50.455029 134.477774 \nL 50.610247 134.405329 \nL 50.846412 134.564883 \nL 50.924021 134.419194 \nL 51.079238 134.52087 \nL 51.629177 134.547461 \nL 51.784395 134.275922 \nL 52.098169 134.525492 \nL 52.253387 134.386842 \nL 52.489552 134.714979 \nL 52.567161 134.490829 \nL 52.644769 134.560924 \nL 52.803325 134.536458 \nL 52.880934 134.238949 \nL 52.958543 134.345247 \nL 53.113761 134.372977 \nL 53.272317 134.377599 \nL 53.586091 134.437429 \nL 53.6637 134.543978 \nL 53.818918 134.336004 \nL 53.977474 134.394333 \nL 54.132692 134.366045 \nL 54.368856 134.403502 \nL 54.524074 134.518559 \nL 54.837848 134.275922 \nL 54.993066 134.456167 \nL 55.151622 134.504365 \nL 55.229231 134.770439 \nL 55.384449 134.457707 \nL 55.698223 134.419194 \nL 55.853441 134.383376 \nL 57.108536 134.340234 \nL 57.186145 134.067948 \nL 57.418972 134.411106 \nL 57.655136 134.428437 \nL 57.891301 134.465854 \nL 57.96891 134.317517 \nL 58.046519 134.38222 \nL 58.282684 134.390665 \nL 58.515511 134.459248 \nL 59.06545 134.38608 \nL 59.220668 134.532424 \nL 59.375885 134.472343 \nL 59.456832 134.469522 \nL 59.61205 134.347558 \nL 59.925824 134.668763 \nL 60.081042 134.40995 \nL 60.23626 134.381296 \nL 60.239598 134.387914 \nL 60.472425 134.46387 \nL 60.630981 134.430093 \nL 60.786199 134.590195 \nL 61.177581 134.329071 \nL 62.196512 134.298972 \nL 62.274121 134.003245 \nL 62.35173 134.074881 \nL 62.587895 134.342067 \nL 63.134495 134.336004 \nL 63.37066 134.401668 \nL 63.525878 134.250503 \nL 63.681096 134.330227 \nL 63.917261 134.299031 \nL 63.99487 134.433059 \nL 64.072479 134.369511 \nL 64.150088 134.391464 \nL 64.153426 134.379662 \nL 64.231035 134.114165 \nL 64.308643 134.153449 \nL 64.463861 134.271301 \nL 64.855244 134.290943 \nL 65.718957 134.257709 \nL 65.796566 134.391464 \nL 65.951784 134.158841 \nL 66.110339 134.262294 \nL 66.187948 134.470032 \nL 66.265557 134.426126 \nL 66.65694 134.093367 \nL 66.970714 134.396085 \nL 67.203541 134.35218 \nL 67.362097 134.271301 \nL 67.439706 134.204287 \nL 67.672532 134.372053 \nL 67.67587 134.366825 \nL 67.753479 134.206598 \nL 67.831088 134.26899 \nL 68.067253 134.234786 \nL 68.222471 134.15807 \nL 68.613854 134.384531 \nL 69.005237 134.319828 \nL 69.241402 134.320978 \nL 69.319011 133.966272 \nL 69.396619 134.063326 \nL 69.710393 134.414572 \nL 69.788002 134.232017 \nL 69.865611 134.282085 \nL 70.024167 134.197192 \nL 70.101776 134.095678 \nL 70.256994 134.303652 \nL 70.41555 134.261377 \nL 70.570768 134.398396 \nL 70.962151 134.232017 \nL 71.117368 134.221618 \nL 71.275924 134.211219 \nL 71.589698 134.271463 \nL 71.667307 134.160381 \nL 71.744916 134.229706 \nL 72.372464 134.244872 \nL 72.527682 134.121097 \nL 72.763846 134.144009 \nL 72.841455 134.285166 \nL 72.919064 134.227395 \nL 73.155229 134.276048 \nL 73.310447 134.167314 \nL 73.465665 134.107232 \nL 73.543274 134.208446 \nL 73.546612 134.200859 \nL 73.624221 133.688973 \nL 73.70183 133.887704 \nL 73.934657 134.141894 \nL 73.937995 134.132089 \nL 74.015604 133.716702 \nL 74.170822 134.010948 \nL 74.329378 134.116501 \nL 74.406986 134.294409 \nL 74.484595 134.201976 \nL 74.639813 134.137273 \nL 74.717422 134.211219 \nL 74.72076 134.205444 \nL 74.798369 133.832244 \nL 74.875978 133.894636 \nL 75.189752 134.229706 \nL 75.34497 134.12803 \nL 75.658744 134.35218 \nL 76.050126 133.866906 \nL 76.286291 133.999134 \nL 76.3639 133.980137 \nL 76.596727 134.125719 \nL 76.677674 134.152262 \nL 76.832892 133.892325 \nL 76.910501 133.990921 \nL 78.476032 134.123408 \nL 78.712197 134.035596 \nL 78.867415 134.049461 \nL 79.336406 133.923521 \nL 79.417353 133.947785 \nL 79.494962 133.781406 \nL 79.727789 134.054083 \nL 79.808736 134.081658 \nL 79.886345 133.887704 \nL 80.041563 133.98938 \nL 80.510555 134.156915 \nL 80.591502 134.128421 \nL 80.74672 133.950096 \nL 81.29332 134.045995 \nL 81.76565 133.969792 \nL 81.843259 133.786027 \nL 81.920868 133.866906 \nL 82.076086 134.103766 \nL 82.312251 134.01711 \nL 83.017407 133.998623 \nL 83.095016 134.162692 \nL 83.327843 134.031899 \nL 83.331181 134.037645 \nL 83.800173 134.040218 \nL 83.955391 133.801433 \nL 84.113947 133.846005 \nL 84.191556 133.716702 \nL 84.505329 133.983546 \nL 84.582938 134.01711 \nL 84.815765 133.838021 \nL 84.896712 133.824916 \nL 85.05193 134.065637 \nL 85.365704 134.030975 \nL 85.67614 134.001396 \nL 85.679478 133.996383 \nL 85.757087 134.155759 \nL 85.834696 134.063326 \nL 86.148469 133.90619 \nL 86.303687 133.981677 \nL 86.462243 133.905606 \nL 86.539852 133.712081 \nL 86.617461 133.90619 \nL 86.772679 133.753676 \nL 87.086453 133.787568 \nL 88.027774 133.811162 \nL 88.105383 133.651999 \nL 88.182992 133.774473 \nL 88.260601 133.705919 \nL 88.496766 133.749054 \nL 89.201923 133.724053 \nL 89.35714 133.557256 \nL 89.593305 133.717634 \nL 89.984688 133.808411 \nL 90.062297 133.34697 \nL 90.139906 133.543391 \nL 90.376071 133.707548 \nL 90.45368 133.947785 \nL 90.608898 133.775243 \nL 90.767454 133.750644 \nL 90.845063 133.54108 \nL 90.922672 133.584985 \nL 91.077889 133.50064 \nL 91.469272 133.705148 \nL 91.550219 133.682791 \nL 91.705437 133.333105 \nL 92.019211 133.582675 \nL 92.09682 133.43016 \nL 92.174429 133.504107 \nL 92.332985 133.634193 \nL 92.410594 133.448647 \nL 92.565812 133.601161 \nL 92.957194 133.582675 \nL 93.193359 133.48562 \nL 93.348577 133.627351 \nL 93.507133 133.556254 \nL 93.584742 133.259159 \nL 93.662351 133.296132 \nL 93.898516 133.503071 \nL 93.976125 133.605783 \nL 94.053734 133.490242 \nL 94.131343 133.562647 \nL 94.208952 133.631202 \nL 94.445116 133.478687 \nL 94.914108 133.388565 \nL 95.072664 133.376534 \nL 95.150273 133.138996 \nL 95.305491 133.331565 \nL 95.619265 133.210632 \nL 95.696874 133.411673 \nL 95.774483 133.349281 \nL 96.715804 133.407052 \nL 96.793413 133.231429 \nL 96.871022 133.291511 \nL 97.420961 133.370116 \nL 97.49857 132.875562 \nL 97.576179 133.007279 \nL 97.731396 133.090469 \nL 98.203726 133.269253 \nL 98.281335 132.977238 \nL 98.436553 133.152861 \nL 98.672718 133.212942 \nL 98.827936 133.274564 \nL 99.064101 133.060428 \nL 99.14171 132.965684 \nL 99.377874 133.126211 \nL 99.533092 133.148239 \nL 99.68831 133.19099 \nL 99.769257 133.167473 \nL 99.924475 132.919468 \nL 100.16064 133.008843 \nL 100.238249 133.3747 \nL 100.393467 133.186753 \nL 100.552023 133.128045 \nL 100.629632 132.736912 \nL 100.707241 132.910224 \nL 100.862459 132.885961 \nL 100.943406 132.956578 \nL 101.021015 132.746156 \nL 101.098623 132.801615 \nL 101.412397 133.134374 \nL 101.567615 133.001887 \nL 101.726171 132.956578 \nL 101.881389 132.53587 \nL 102.117554 132.808034 \nL 102.272772 132.796994 \nL 102.508937 132.88414 \nL 102.819372 132.701094 \nL 103.055537 132.748466 \nL 103.210755 132.760021 \nL 103.291702 132.76127 \nL 103.44692 132.572844 \nL 104.07113 132.668512 \nL 104.074468 132.653072 \nL 104.152077 132.552046 \nL 104.307295 132.653723 \nL 104.46585 132.658573 \nL 104.621068 132.42264 \nL 104.776286 132.472323 \nL 104.857233 132.54579 \nL 104.934842 132.122233 \nL 105.012451 132.233152 \nL 105.248616 132.515531 \nL 105.403834 132.415707 \nL 105.636661 132.362558 \nL 105.639999 132.358735 \nL 105.717608 132.020556 \nL 105.950435 132.357937 \nL 106.031382 132.372489 \nL 106.10899 132.140719 \nL 106.264208 132.381045 \nL 106.500373 132.376423 \nL 106.655591 132.439586 \nL 107.046974 132.223909 \nL 107.283139 132.357937 \nL 107.360748 132.080638 \nL 107.438357 132.14226 \nL 107.596913 132.179933 \nL 107.674522 131.784852 \nL 107.75213 131.962786 \nL 107.988295 131.959868 \nL 108.298731 132.065617 \nL 108.771061 132.00113 \nL 108.84867 131.563013 \nL 108.926279 131.662378 \nL 109.081497 131.736325 \nL 109.39527 131.798717 \nL 109.553826 131.81866 \nL 109.631435 131.461336 \nL 109.709044 131.479823 \nL 109.941871 131.548223 \nL 109.945209 131.537161 \nL 110.100427 131.491377 \nL 110.255645 131.738635 \nL 110.336592 131.708628 \nL 110.49181 131.031523 \nL 110.960802 131.384309 \nL 111.119357 131.512404 \nL 111.196966 131.022279 \nL 111.274575 131.181726 \nL 111.507402 131.342098 \nL 111.51074 131.3281 \nL 111.665958 130.832792 \nL 111.902123 130.994335 \nL 112.290168 131.086058 \nL 112.293506 131.07961 \nL 112.371115 130.680277 \nL 112.448724 130.708007 \nL 112.684889 130.881552 \nL 112.762497 130.176517 \nL 112.840106 130.377559 \nL 113.076271 130.626644 \nL 113.15388 130.342896 \nL 113.231489 130.400667 \nL 113.467654 130.64865 \nL 113.545263 130.532384 \nL 113.622872 130.615574 \nL 113.77809 130.491945 \nL 113.859037 130.531282 \nL 113.936646 129.760568 \nL 114.014255 129.825271 \nL 114.25042 130.236029 \nL 114.405637 130.007827 \nL 114.483246 130.113354 \nL 114.641802 130.121412 \nL 114.719411 129.945434 \nL 114.79702 130.18576 \nL 114.952238 129.999739 \nL 115.033185 130.0233 \nL 115.188403 129.638094 \nL 115.424568 129.734465 \nL 115.502177 129.210592 \nL 115.735004 129.703953 \nL 115.815951 129.695954 \nL 115.89356 128.965644 \nL 115.971169 129.215213 \nL 116.203995 129.420415 \nL 116.207333 129.405285 \nL 116.284942 128.970266 \nL 116.362551 129.268362 \nL 116.44016 129.20597 \nL 116.598716 129.371359 \nL 116.676325 128.600534 \nL 116.753934 128.803886 \nL 116.831543 128.820832 \nL 116.990099 128.993581 \nL 117.067708 128.471127 \nL 117.145317 128.642128 \nL 117.381482 128.778101 \nL 117.459091 128.244666 \nL 117.5367 128.307059 \nL 117.772864 128.522276 \nL 117.850473 127.828718 \nL 117.928082 127.955813 \nL 118.164247 128.123409 \nL 118.241856 127.445121 \nL 118.397074 127.885718 \nL 118.55563 127.880421 \nL 118.633239 127.070767 \nL 118.710848 127.366552 \nL 118.943675 127.680825 \nL 118.947013 127.676861 \nL 119.024622 126.807333 \nL 119.102231 127.158578 \nL 119.338396 127.492557 \nL 119.416004 126.895144 \nL 119.493613 126.992199 \nL 119.729778 127.054262 \nL 119.807387 125.665784 \nL 119.884996 125.991611 \nL 120.121161 126.483011 \nL 120.19877 125.966192 \nL 120.276379 126.056314 \nL 120.509206 126.283237 \nL 120.512544 126.27395 \nL 120.667762 125.691204 \nL 120.903927 125.922763 \nL 120.981536 124.880104 \nL 121.059145 125.097321 \nL 121.295309 125.41203 \nL 121.372918 124.741454 \nL 121.450527 124.829265 \nL 121.605745 124.826955 \nL 121.686692 124.944393 \nL 121.764301 124.131396 \nL 121.84191 124.246937 \nL 122.078075 124.506097 \nL 122.155684 123.281012 \nL 122.233293 123.58373 \nL 122.469458 124.0623 \nL 122.547067 123.105389 \nL 122.624676 123.250971 \nL 122.86084 123.509388 \nL 123.016058 122.564656 \nL 123.252223 122.841859 \nL 123.329832 121.413865 \nL 123.407441 121.869097 \nL 123.562659 122.107112 \nL 123.643606 122.27611 \nL 123.721215 121.159674 \nL 123.798824 121.418486 \nL 123.876433 121.413865 \nL 124.034989 121.787383 \nL 124.190207 120.602765 \nL 124.426371 120.925463 \nL 124.50398 119.546717 \nL 124.581589 119.833259 \nL 124.659198 119.922611 \nL 124.817754 120.411979 \nL 124.972972 119.225512 \nL 125.209137 119.722443 \nL 125.286746 118.104762 \nL 125.364355 118.451385 \nL 125.60052 119.127352 \nL 125.678129 117.245134 \nL 125.755738 117.584826 \nL 125.991903 118.141646 \nL 126.069512 116.297696 \nL 126.14712 116.662806 \nL 126.379947 117.282108 \nL 126.383285 117.278809 \nL 126.460894 115.937207 \nL 126.538503 116.221438 \nL 126.774668 116.744236 \nL 126.852277 114.878848 \nL 126.929886 115.142283 \nL 127.166051 115.834636 \nL 127.24366 114.278034 \nL 127.321269 114.400507 \nL 127.554096 115.048925 \nL 127.557434 115.047905 \nL 127.635043 112.637347 \nL 127.712652 113.268203 \nL 127.945478 114.066362 \nL 127.948816 114.06495 \nL 128.026425 112.586509 \nL 128.104034 112.685874 \nL 128.336861 113.376811 \nL 128.340199 113.374497 \nL 128.417808 111.634449 \nL 128.495417 111.77772 \nL 128.728244 112.490379 \nL 128.731582 112.483235 \nL 128.809191 111.352528 \nL 128.8868 111.555881 \nL 129.042018 111.603252 \nL 129.122965 111.79645 \nL 129.200574 109.901329 \nL 129.278183 110.167074 \nL 129.511009 110.931957 \nL 129.514347 110.922611 \nL 129.591956 109.018593 \nL 129.669565 109.471515 \nL 129.90573 109.96533 \nL 129.983339 107.715288 \nL 130.060948 108.020317 \nL 130.297113 108.859505 \nL 130.374722 107.230014 \nL 130.452331 107.641341 \nL 130.685158 108.238459 \nL 130.688496 108.226819 \nL 130.766105 106.282575 \nL 130.843714 106.735497 \nL 131.079879 107.241113 \nL 131.157487 105.298164 \nL 131.235096 105.972925 \nL 131.471261 106.588255 \nL 131.54887 104.591051 \nL 131.626479 104.921499 \nL 131.862644 105.557619 \nL 131.940253 103.999479 \nL 132.017862 104.089601 \nL 132.254027 104.93502 \nL 132.331636 103.417151 \nL 132.409245 103.548868 \nL 132.64541 104.147372 \nL 132.723019 102.423496 \nL 132.800627 102.744701 \nL 133.036792 103.424827 \nL 133.114401 101.70714 \nL 133.19201 102.01679 \nL 133.428175 102.563824 \nL 133.505784 100.639538 \nL 133.583393 101.295813 \nL 133.81622 101.836546 \nL 133.819558 101.833026 \nL 133.897167 99.964777 \nL 133.974776 100.218968 \nL 134.210941 101.170999 \nL 134.28855 99.253043 \nL 134.366159 99.571937 \nL 134.602323 100.424613 \nL 134.679932 99.095906 \nL 134.757541 99.546517 \nL 134.993706 99.976231 \nL 135.071315 98.097629 \nL 135.148924 98.529754 \nL 135.304142 98.952635 \nL 135.385089 99.147321 \nL 135.462698 97.681681 \nL 135.540307 97.928939 \nL 135.776472 98.461453 \nL 135.854081 97.117839 \nL 135.93169 97.367408 \nL 136.167854 97.969976 \nL 136.245463 96.900622 \nL 136.323072 97.011541 \nL 136.559237 97.381303 \nL 136.636846 96.318293 \nL 136.714455 96.429213 \nL 136.95062 96.919167 \nL 137.028229 95.361611 \nL 137.105838 95.52568 \nL 137.342003 96.316741 \nL 137.419612 95.047339 \nL 137.497221 95.264557 \nL 137.733386 95.817011 \nL 137.810994 94.483498 \nL 137.888603 94.751553 \nL 138.124768 95.382383 \nL 138.202377 94.169225 \nL 138.279986 94.4627 \nL 138.357595 94.523552 \nL 138.512813 94.95583 \nL 138.516151 94.939503 \nL 138.59376 93.531437 \nL 138.671369 93.720925 \nL 138.904196 94.275523 \nL 138.907534 94.274725 \nL 138.985143 93.374301 \nL 139.062752 93.610005 \nL 139.298917 94.024401 \nL 139.376526 93.124732 \nL 139.454134 93.351193 \nL 139.690299 93.673215 \nL 139.767908 92.602485 \nL 139.845517 92.787351 \nL 140.081682 93.24959 \nL 140.159291 92.459214 \nL 140.2369 92.789662 \nL 140.473065 93.106548 \nL 140.550674 92.278969 \nL 140.628283 92.315943 \nL 140.864448 92.674672 \nL 141.019666 92.177293 \nL 141.174883 92.291679 \nL 141.25583 92.414262 \nL 141.333439 91.109691 \nL 141.488657 91.830669 \nL 141.647213 92.116258 \nL 141.724822 91.017258 \nL 141.802431 91.317666 \nL 141.88004 91.371585 \nL 142.035258 91.680928 \nL 142.038596 91.675212 \nL 142.193814 91.056542 \nL 142.429979 91.458815 \nL 142.507588 90.485768 \nL 142.585197 90.716851 \nL 142.821361 91.093874 \nL 142.976579 90.927136 \nL 143.054188 90.884771 \nL 143.212744 91.074619 \nL 143.367962 90.559715 \nL 143.604127 90.814209 \nL 143.681736 90.023603 \nL 143.759345 90.206158 \nL 143.992172 90.473752 \nL 143.99551 90.465773 \nL 144.073119 89.949657 \nL 144.228337 90.217713 \nL 144.386893 90.365827 \nL 144.54211 89.894197 \nL 144.778275 90.121922 \nL 144.855884 89.492113 \nL 145.011102 89.820251 \nL 145.169658 90.088913 \nL 145.247267 89.210192 \nL 145.324876 89.298004 \nL 145.561041 89.635946 \nL 145.63865 89.187084 \nL 145.716259 89.214814 \nL 145.952424 89.457144 \nL 146.030033 88.992975 \nL 146.107641 89.096962 \nL 146.340468 89.434805 \nL 146.343806 89.426885 \nL 146.421415 88.946758 \nL 146.499024 89.133935 \nL 146.735189 89.273757 \nL 146.812798 88.900542 \nL 146.890407 88.986042 \nL 147.045625 89.055367 \nL 147.126572 89.197651 \nL 147.204181 88.646351 \nL 147.28179 88.803487 \nL 147.517955 89.022516 \nL 147.673173 88.572404 \nL 147.909337 88.802452 \nL 148.064555 88.442998 \nL 148.30072 88.670413 \nL 148.378329 88.442998 \nL 148.611156 88.689101 \nL 148.692103 88.705257 \nL 148.769712 88.304349 \nL 148.847321 88.343633 \nL 149.002539 88.448775 \nL 149.083486 88.55763 \nL 149.161095 88.221159 \nL 149.238704 88.265065 \nL 149.630086 88.290484 \nL 149.785304 88.311281 \nL 149.862913 88.381068 \nL 149.866251 88.376994 \nL 149.94386 87.920751 \nL 150.021469 88.05709 \nL 150.257634 88.218364 \nL 150.335243 87.953103 \nL 150.412852 87.992387 \nL 150.649017 88.188105 \nL 150.804235 87.802899 \nL 151.0404 88.04598 \nL 151.195617 87.895332 \nL 151.350835 87.890711 \nL 151.428444 87.929995 \nL 151.431782 87.921276 \nL 151.587 87.682736 \nL 151.823165 87.798407 \nL 151.978383 87.578749 \nL 152.214548 87.77365 \nL 152.292157 87.643452 \nL 152.524984 87.843339 \nL 152.605931 87.869011 \nL 152.68354 87.38464 \nL 152.761149 87.571817 \nL 152.997313 87.736055 \nL 153.074922 87.393883 \nL 153.23014 87.55256 \nL 153.388696 87.645279 \nL 153.543914 87.532533 \nL 153.780079 87.612269 \nL 153.935297 87.306072 \nL 154.171462 87.504071 \nL 154.32668 87.380018 \nL 154.562844 87.448138 \nL 154.640453 87.19053 \nL 154.718062 87.303761 \nL 154.954227 87.367447 \nL 155.031836 87.019529 \nL 155.187054 87.242909 \nL 155.34561 87.284923 \nL 155.500828 87.061124 \nL 155.736993 87.105204 \nL 156.128376 87.189562 \nL 156.283593 87.061124 \nL 156.51642 87.251536 \nL 156.519758 87.247329 \nL 156.597367 86.954826 \nL 156.674976 87.035705 \nL 157.302524 87.102453 \nL 157.380133 86.783825 \nL 157.61296 87.117739 \nL 158.004342 87.010286 \nL 158.085289 87.01351 \nL 158.162898 86.760717 \nL 158.240507 86.867015 \nL 158.395725 86.882035 \nL 158.476672 86.95666 \nL 158.63189 86.820798 \nL 159.023273 86.705257 \nL 159.178491 86.752629 \nL 159.492264 86.814636 \nL 161.216351 86.710921 \nL 161.29396 86.557364 \nL 161.371569 86.619756 \nL 161.91817 86.662507 \nL 162.076726 86.626689 \nL 162.154335 86.485728 \nL 162.3905 86.649487 \nL 162.545718 86.485728 \nL 163.092318 86.473019 \nL 163.169927 86.543499 \nL 163.173265 86.539454 \nL 163.328483 86.451066 \nL 163.564648 86.576132 \nL 163.797475 86.483418 \nL 164.03364 86.432579 \nL 164.188858 86.506526 \nL 164.738796 86.533953 \nL 164.894014 86.263889 \nL 165.285397 86.527323 \nL 166.537154 86.341687 \nL 166.69571 86.382658 \nL 166.850928 86.259268 \nL 167.478476 86.410166 \nL 167.633694 86.162213 \nL 168.261241 86.323974 \nL 168.416459 86.226916 \nL 168.807842 86.261578 \nL 168.96306 86.196875 \nL 169.276834 86.184551 \nL 169.43539 86.19652 \nL 169.668216 86.367876 \nL 170.059599 86.292389 \nL 170.218155 86.316639 \nL 170.373373 86.196875 \nL 171.000921 86.212108 \nL 171.07853 86.076712 \nL 171.156138 86.12524 \nL 171.938904 86.231538 \nL 172.407896 86.132172 \nL 172.799279 86.159902 \nL 173.190661 86.113685 \nL 173.349217 86.17268 \nL 173.426826 86.007387 \nL 173.504435 86.067469 \nL 174.442419 86.072091 \nL 174.914748 86.091073 \nL 175.069966 85.998144 \nL 175.306131 86.036973 \nL 175.616567 85.98659 \nL 176.088897 86.000296 \nL 176.166505 85.836386 \nL 176.244114 85.917265 \nL 176.480279 85.993877 \nL 176.949271 85.970414 \nL 177.104489 85.975036 \nL 177.732037 85.951928 \nL 178.04581 85.970954 \nL 178.278637 85.918036 \nL 178.437193 85.948948 \nL 178.592411 85.810967 \nL 179.139012 85.902245 \nL 179.611341 85.950781 \nL 179.68895 85.8179 \nL 179.766559 85.901089 \nL 180.31316 85.884914 \nL 182.583848 85.856414 \nL 182.742404 85.886596 \nL 182.897621 85.787859 \nL 183.916552 85.918689 \nL 184.07177 85.836386 \nL 184.699317 85.816909 \nL 184.776926 85.674629 \nL 185.009753 85.824832 \nL 185.482083 85.826995 \nL 185.637301 85.776305 \nL 187.83038 85.779315 \nL 187.985597 85.769372 \nL 189.082137 85.76244 \nL 189.395911 85.814158 \nL 189.628737 85.771683 \nL 190.178676 85.871925 \nL 190.411503 85.727007 \nL 190.802886 85.773224 \nL 191.271877 85.705825 \nL 192.132252 85.730088 \nL 192.213199 85.73471 \nL 192.526973 85.813241 \nL 192.682191 85.70698 \nL 193.228791 85.809812 \nL 193.309738 85.797653 \nL 193.387347 85.656142 \nL 193.464956 85.713913 \nL 194.561495 85.73471 \nL 195.030487 85.67925 \nL 195.813253 85.681561 \nL 198.006331 85.652777 \nL 198.161549 85.653831 \nL 199.335698 85.723156 \nL 199.72708 85.67925 \nL 200.118463 85.681561 \nL 200.354628 85.635356 \nL 200.665064 85.709291 \nL 201.137394 85.662864 \nL 201.292611 85.59606 \nL 202.311542 85.668365 \nL 202.699587 85.67278 \nL 202.702925 85.675701 \nL 202.858142 85.568331 \nL 203.877073 85.640857 \nL 204.032291 85.59606 \nL 204.659838 85.612432 \nL 204.892665 85.565249 \nL 205.442604 85.626186 \nL 205.597822 85.577574 \nL 206.616752 85.617017 \nL 207.008135 85.562918 \nL 207.240962 85.565249 \nL 207.790901 85.591343 \nL 208.182283 85.634439 \nL 208.651275 85.628412 \nL 209.825423 85.568331 \nL 210.05825 85.584506 \nL 210.53058 85.611515 \nL 210.685798 85.642277 \nL 211.077181 85.591439 \nL 211.937555 85.56679 \nL 213.661642 85.572087 \nL 213.739251 85.683872 \nL 213.972078 85.572952 \nL 214.913399 85.59606 \nL 215.068617 85.560628 \nL 215.46 85.591439 \nL 216.009939 85.564752 \nL 216.165157 85.547533 \nL 217.966852 85.53816 \nL 218.358235 85.518905 \nL 218.513453 85.582195 \nL 218.749618 85.594093 \nL 218.904836 85.478208 \nL 219.373828 85.506709 \nL 219.76521 85.514411 \nL 220.315149 85.53816 \nL 220.392758 85.660764 \nL 220.470367 85.598371 \nL 221.253132 85.51056 \nL 222.035898 85.501317 \nL 222.50489 85.525195 \nL 222.896272 85.526736 \nL 223.837594 85.509735 \nL 223.992812 85.554466 \nL 225.403125 85.510652 \nL 225.403125 85.510652 \n\" clip-path=\"url(#p2cc500e8d6)\" style=\"fill: none; stroke-dasharray: 5.55,2.4; stroke-dashoffset: 0; stroke: #bf00bf; stroke-width: 1.5\"/>\n   </g>\n   <g id=\"line2d_23\">\n    <path d=\"M 30.103125 134.684085 \nL 30.494508 134.590557 \nL 30.885891 134.755606 \nL 31.668656 134.728097 \nL 32.451422 134.750104 \nL 33.62557 134.722596 \nL 34.799718 134.761107 \nL 35.191101 134.728097 \nL 35.582484 134.821625 \nL 38.322163 134.66758 \nL 39.496311 134.80512 \nL 39.887694 134.711593 \nL 40.279077 134.893146 \nL 40.67046 134.711593 \nL 41.844608 134.821625 \nL 42.235991 134.711593 \nL 42.627373 134.849133 \nL 44.192905 134.799618 \nL 44.584287 134.700589 \nL 45.758436 134.777612 \nL 46.541201 134.783114 \nL 47.323967 134.80512 \nL 48.106732 134.83813 \nL 48.498115 134.651075 \nL 48.889498 134.810622 \nL 49.280881 134.651075 \nL 49.672263 134.827127 \nL 51.629177 134.865638 \nL 52.02056 134.612564 \nL 52.411943 134.728097 \nL 52.803325 134.66758 \nL 53.586091 134.882143 \nL 53.977474 134.673081 \nL 54.368856 134.766609 \nL 54.760239 134.684085 \nL 55.151622 134.722596 \nL 55.543005 134.629068 \nL 55.934388 134.788615 \nL 56.32577 134.783114 \nL 56.717153 134.623567 \nL 57.108536 134.893146 \nL 57.499919 134.717094 \nL 57.891301 134.832628 \nL 58.282684 134.761107 \nL 58.674067 134.827127 \nL 59.06545 134.678583 \nL 60.239598 134.783114 \nL 60.630981 134.645573 \nL 61.413746 134.794117 \nL 61.805129 134.656576 \nL 62.587895 134.810622 \nL 62.979277 134.618065 \nL 64.153426 134.689586 \nL 64.936191 134.783114 \nL 65.327574 134.656576 \nL 65.718957 134.711593 \nL 66.501722 134.612564 \nL 66.893105 134.744602 \nL 67.284488 134.700589 \nL 68.067253 134.480525 \nL 69.241402 134.766609 \nL 69.632784 134.689586 \nL 70.41555 134.810622 \nL 71.198315 134.596059 \nL 75.112143 134.612564 \nL 75.503526 134.810622 \nL 75.894909 134.607062 \nL 76.286291 134.80512 \nL 76.677674 134.513534 \nL 77.46044 134.728097 \nL 77.851822 134.46402 \nL 78.243205 134.684085 \nL 79.417353 134.49703 \nL 79.808736 134.607062 \nL 80.591502 134.530039 \nL 82.157033 134.695088 \nL 82.548416 134.469522 \nL 82.939798 134.63457 \nL 83.331181 134.563049 \nL 83.722564 134.66758 \nL 84.113947 134.519036 \nL 86.07086 134.563049 \nL 87.245009 134.799618 \nL 87.636392 134.541043 \nL 88.419157 134.530039 \nL 88.81054 134.832628 \nL 89.201923 134.480525 \nL 89.593305 134.486026 \nL 89.984688 134.640072 \nL 90.376071 134.568551 \nL 90.767454 134.684085 \nL 91.550219 134.436512 \nL 91.941602 134.458518 \nL 92.332985 134.66758 \nL 92.724367 134.458518 \nL 93.898516 134.662078 \nL 94.289899 134.513534 \nL 94.681281 134.728097 \nL 95.072664 134.563049 \nL 95.464047 134.579554 \nL 95.85543 134.816123 \nL 96.246812 134.651075 \nL 98.986492 134.46402 \nL 99.377874 134.541043 \nL 99.769257 134.425509 \nL 100.16064 134.607062 \nL 100.943406 134.519036 \nL 101.334788 134.651075 \nL 101.726171 134.364991 \nL 102.117554 134.777612 \nL 102.508937 134.66758 \nL 102.900319 134.364991 \nL 103.291702 134.60156 \nL 104.074468 134.238454 \nL 104.46585 134.475023 \nL 104.857233 134.579554 \nL 105.248616 134.425509 \nL 105.639999 134.662078 \nL 106.814147 134.447515 \nL 107.988295 134.678583 \nL 108.379678 134.689586 \nL 109.945209 134.298972 \nL 110.336592 134.524538 \nL 110.727975 134.458518 \nL 111.119357 134.265962 \nL 111.51074 134.640072 \nL 111.902123 134.629068 \nL 112.684889 134.32648 \nL 113.859037 134.706091 \nL 114.641802 134.364991 \nL 115.424568 134.508033 \nL 115.815951 135.052693 \nL 116.207333 134.568551 \nL 116.990099 134.761107 \nL 117.381482 134.535541 \nL 119.338396 134.777612 \nL 120.121161 134.475023 \nL 120.903927 134.794117 \nL 121.295309 134.375994 \nL 122.078075 134.871139 \nL 122.469458 134.552046 \nL 122.86084 134.409004 \nL 123.252223 134.640072 \nL 124.034989 134.579554 \nL 124.426371 134.717094 \nL 124.817754 134.717094 \nL 125.209137 134.46402 \nL 125.60052 134.816123 \nL 126.774668 134.447515 \nL 127.166051 134.876641 \nL 127.557434 134.574052 \nL 127.948816 134.651075 \nL 128.340199 134.937159 \nL 128.731582 134.887644 \nL 129.122965 134.49703 \nL 129.514347 134.744602 \nL 129.90573 134.794117 \nL 130.297113 134.673081 \nL 130.688496 134.94266 \nL 131.079879 134.766609 \nL 132.64541 134.783114 \nL 133.428175 134.442013 \nL 133.819558 134.629068 \nL 134.210941 134.519036 \nL 134.993706 134.689586 \nL 135.385089 134.761107 \nL 136.167854 134.706091 \nL 136.559237 134.816123 \nL 136.95062 134.706091 \nL 137.342003 134.948162 \nL 138.124768 134.414505 \nL 138.516151 134.97567 \nL 139.298917 134.585055 \nL 139.690299 134.728097 \nL 140.081682 134.711593 \nL 140.473065 134.541043 \nL 140.864448 134.783114 \nL 141.25583 134.579554 \nL 141.647213 134.66758 \nL 142.038596 135.003178 \nL 142.429979 134.83813 \nL 142.821361 134.876641 \nL 143.212744 134.63457 \nL 143.604127 134.783114 \nL 143.99551 134.656576 \nL 144.386893 134.799618 \nL 145.169658 134.728097 \nL 145.561041 135.052693 \nL 146.735189 134.662078 \nL 147.126572 134.860136 \nL 147.517955 134.524538 \nL 147.909337 134.788615 \nL 148.30072 134.623567 \nL 149.083486 134.739101 \nL 150.257634 134.381496 \nL 150.649017 134.920654 \nL 151.431782 134.651075 \nL 151.823165 134.673081 \nL 152.214548 134.854635 \nL 152.605931 134.893146 \nL 152.997313 134.684085 \nL 153.388696 134.865638 \nL 154.171462 134.541043 \nL 154.562844 134.761107 \nL 156.128376 134.535541 \nL 156.519758 134.849133 \nL 156.911141 134.49703 \nL 157.302524 134.557547 \nL 157.693907 134.788615 \nL 158.085289 134.733599 \nL 158.476672 134.937159 \nL 158.868055 134.706091 \nL 159.259438 134.77211 \nL 160.042203 134.590557 \nL 160.433586 134.640072 \nL 160.824969 134.827127 \nL 161.216351 134.618065 \nL 161.607734 134.854635 \nL 161.999117 134.750104 \nL 162.3905 134.893146 \nL 162.781883 134.728097 \nL 163.173265 134.783114 \nL 163.956031 134.640072 \nL 164.347414 134.475023 \nL 164.738796 134.63457 \nL 166.304327 134.618065 \nL 167.087093 134.854635 \nL 169.43539 134.684085 \nL 170.218155 135.069198 \nL 170.609538 134.876641 \nL 171.783686 134.722596 \nL 172.175069 134.436512 \nL 172.566452 134.755606 \nL 173.7406 134.810622 \nL 174.914748 134.706091 \nL 175.306131 134.931657 \nL 175.697514 134.662078 \nL 176.088897 135.014181 \nL 176.480279 134.755606 \nL 176.871662 134.871139 \nL 177.263045 134.662078 \nL 177.654428 134.893146 \nL 178.04581 134.882143 \nL 178.437193 134.689586 \nL 179.611341 134.83813 \nL 180.002724 134.777612 \nL 180.394107 134.585055 \nL 180.78549 134.739101 \nL 181.568255 134.865638 \nL 181.959638 134.953664 \nL 182.351021 134.662078 \nL 182.742404 134.915152 \nL 183.133786 134.63457 \nL 183.916552 134.579554 \nL 184.699317 134.948162 \nL 185.0907 134.618065 \nL 185.482083 134.717094 \nL 185.873466 134.49703 \nL 186.264848 134.596059 \nL 187.047614 134.607062 \nL 187.83038 134.673081 \nL 188.221762 134.717094 \nL 188.613145 134.568551 \nL 189.395911 134.777612 \nL 191.352824 134.678583 \nL 191.744207 134.77211 \nL 192.13559 134.469522 \nL 192.526973 134.755606 \nL 193.309738 134.596059 \nL 193.701121 134.755606 \nL 194.092504 134.519036 \nL 194.875269 134.662078 \nL 195.266652 134.926156 \nL 195.658035 134.618065 \nL 196.049418 134.794117 \nL 196.4408 134.827127 \nL 196.832183 134.662078 \nL 198.397714 134.612564 \nL 198.789097 134.783114 \nL 199.571862 134.563049 \nL 200.746011 134.794117 \nL 201.528776 134.832628 \nL 201.920159 134.640072 \nL 202.702925 134.706091 \nL 203.094307 134.486026 \nL 204.659838 134.755606 \nL 205.051221 134.66758 \nL 205.442604 134.777612 \nL 205.833987 134.77211 \nL 206.225369 134.535541 \nL 206.616752 134.733599 \nL 207.008135 134.728097 \nL 207.790901 134.94266 \nL 208.573666 134.535541 \nL 208.965049 134.651075 \nL 209.356432 134.585055 \nL 209.747814 134.744602 \nL 210.139197 134.596059 \nL 210.53058 134.865638 \nL 210.921963 134.612564 \nL 212.096111 134.656576 \nL 212.487494 134.728097 \nL 213.270259 134.60156 \nL 214.053025 134.882143 \nL 214.444408 134.651075 \nL 214.83579 134.794117 \nL 215.227173 134.563049 \nL 216.401321 134.673081 \nL 218.358235 134.77211 \nL 219.141001 134.447515 \nL 221.097915 134.63457 \nL 221.489297 134.49703 \nL 221.88068 134.662078 \nL 222.663446 134.788615 \nL 223.054828 134.480525 \nL 223.446211 134.744602 \nL 223.837594 134.717094 \nL 224.228977 134.574052 \nL 225.403125 134.623567 \nL 225.403125 134.623567 \n\" clip-path=\"url(#p2cc500e8d6)\" style=\"fill: none; stroke-dasharray: 9.6,2.4,1.5,2.4; stroke-dashoffset: 0; stroke: #008000; stroke-width: 1.5\"/>\n   </g>\n   <g id=\"patch_3\">\n    <path d=\"M 30.103125 145.8 \nL 30.103125 7.2 \n\" style=\"fill: none; stroke: #000000; stroke-width: 0.8; stroke-linejoin: miter; stroke-linecap: square\"/>\n   </g>\n   <g id=\"patch_4\">\n    <path d=\"M 225.403125 145.8 \nL 225.403125 7.2 \n\" style=\"fill: none; stroke: #000000; stroke-width: 0.8; stroke-linejoin: miter; stroke-linecap: square\"/>\n   </g>\n   <g id=\"patch_5\">\n    <path d=\"M 30.103125 145.8 \nL 225.403125 145.8 \n\" style=\"fill: none; stroke: #000000; stroke-width: 0.8; stroke-linejoin: miter; stroke-linecap: square\"/>\n   </g>\n   <g id=\"patch_6\">\n    <path d=\"M 30.103125 7.2 \nL 225.403125 7.2 \n\" style=\"fill: none; stroke: #000000; stroke-width: 0.8; stroke-linejoin: miter; stroke-linecap: square\"/>\n   </g>\n   <g id=\"legend_1\">\n    <g id=\"patch_7\">\n     <path d=\"M 140.634375 59.234375 \nL 218.403125 59.234375 \nQ 220.403125 59.234375 220.403125 57.234375 \nL 220.403125 14.2 \nQ 220.403125 12.2 218.403125 12.2 \nL 140.634375 12.2 \nQ 138.634375 12.2 138.634375 14.2 \nL 138.634375 57.234375 \nQ 138.634375 59.234375 140.634375 59.234375 \nz\n\" style=\"fill: #ffffff; opacity: 0.8; stroke: #cccccc; stroke-linejoin: miter\"/>\n    </g>\n    <g id=\"line2d_24\">\n     <path d=\"M 142.634375 20.298438 \nL 152.634375 20.298438 \nL 162.634375 20.298438 \n\" style=\"fill: none; stroke: #1f77b4; stroke-width: 1.5; stroke-linecap: square\"/>\n    </g>\n    <g id=\"text_12\">\n     <!-- train loss -->\n     <g transform=\"translate(170.634375 23.798438) scale(0.1 -0.1)\">\n      <defs>\n       <path id=\"DejaVuSans-74\" d=\"M 1172 4494 \nL 1172 3500 \nL 2356 3500 \nL 2356 3053 \nL 1172 3053 \nL 1172 1153 \nQ 1172 725 1289 603 \nQ 1406 481 1766 481 \nL 2356 481 \nL 2356 0 \nL 1766 0 \nQ 1100 0 847 248 \nQ 594 497 594 1153 \nL 594 3053 \nL 172 3053 \nL 172 3500 \nL 594 3500 \nL 594 4494 \nL 1172 4494 \nz\n\" transform=\"scale(0.015625)\"/>\n       <path id=\"DejaVuSans-72\" d=\"M 2631 2963 \nQ 2534 3019 2420 3045 \nQ 2306 3072 2169 3072 \nQ 1681 3072 1420 2755 \nQ 1159 2438 1159 1844 \nL 1159 0 \nL 581 0 \nL 581 3500 \nL 1159 3500 \nL 1159 2956 \nQ 1341 3275 1631 3429 \nQ 1922 3584 2338 3584 \nQ 2397 3584 2469 3576 \nQ 2541 3569 2628 3553 \nL 2631 2963 \nz\n\" transform=\"scale(0.015625)\"/>\n       <path id=\"DejaVuSans-61\" d=\"M 2194 1759 \nQ 1497 1759 1228 1600 \nQ 959 1441 959 1056 \nQ 959 750 1161 570 \nQ 1363 391 1709 391 \nQ 2188 391 2477 730 \nQ 2766 1069 2766 1631 \nL 2766 1759 \nL 2194 1759 \nz\nM 3341 1997 \nL 3341 0 \nL 2766 0 \nL 2766 531 \nQ 2569 213 2275 61 \nQ 1981 -91 1556 -91 \nQ 1019 -91 701 211 \nQ 384 513 384 1019 \nQ 384 1609 779 1909 \nQ 1175 2209 1959 2209 \nL 2766 2209 \nL 2766 2266 \nQ 2766 2663 2505 2880 \nQ 2244 3097 1772 3097 \nQ 1472 3097 1187 3025 \nQ 903 2953 641 2809 \nL 641 3341 \nQ 956 3463 1253 3523 \nQ 1550 3584 1831 3584 \nQ 2591 3584 2966 3190 \nQ 3341 2797 3341 1997 \nz\n\" transform=\"scale(0.015625)\"/>\n       <path id=\"DejaVuSans-69\" d=\"M 603 3500 \nL 1178 3500 \nL 1178 0 \nL 603 0 \nL 603 3500 \nz\nM 603 4863 \nL 1178 4863 \nL 1178 4134 \nL 603 4134 \nL 603 4863 \nz\n\" transform=\"scale(0.015625)\"/>\n       <path id=\"DejaVuSans-6e\" d=\"M 3513 2113 \nL 3513 0 \nL 2938 0 \nL 2938 2094 \nQ 2938 2591 2744 2837 \nQ 2550 3084 2163 3084 \nQ 1697 3084 1428 2787 \nQ 1159 2491 1159 1978 \nL 1159 0 \nL 581 0 \nL 581 3500 \nL 1159 3500 \nL 1159 2956 \nQ 1366 3272 1645 3428 \nQ 1925 3584 2291 3584 \nQ 2894 3584 3203 3211 \nQ 3513 2838 3513 2113 \nz\n\" transform=\"scale(0.015625)\"/>\n       <path id=\"DejaVuSans-20\" transform=\"scale(0.015625)\"/>\n       <path id=\"DejaVuSans-6c\" d=\"M 603 4863 \nL 1178 4863 \nL 1178 0 \nL 603 0 \nL 603 4863 \nz\n\" transform=\"scale(0.015625)\"/>\n       <path id=\"DejaVuSans-73\" d=\"M 2834 3397 \nL 2834 2853 \nQ 2591 2978 2328 3040 \nQ 2066 3103 1784 3103 \nQ 1356 3103 1142 2972 \nQ 928 2841 928 2578 \nQ 928 2378 1081 2264 \nQ 1234 2150 1697 2047 \nL 1894 2003 \nQ 2506 1872 2764 1633 \nQ 3022 1394 3022 966 \nQ 3022 478 2636 193 \nQ 2250 -91 1575 -91 \nQ 1294 -91 989 -36 \nQ 684 19 347 128 \nL 347 722 \nQ 666 556 975 473 \nQ 1284 391 1588 391 \nQ 1994 391 2212 530 \nQ 2431 669 2431 922 \nQ 2431 1156 2273 1281 \nQ 2116 1406 1581 1522 \nL 1381 1569 \nQ 847 1681 609 1914 \nQ 372 2147 372 2553 \nQ 372 3047 722 3315 \nQ 1072 3584 1716 3584 \nQ 2034 3584 2315 3537 \nQ 2597 3491 2834 3397 \nz\n\" transform=\"scale(0.015625)\"/>\n      </defs>\n      <use xlink:href=\"#DejaVuSans-74\"/>\n      <use xlink:href=\"#DejaVuSans-72\" transform=\"translate(39.208984 0)\"/>\n      <use xlink:href=\"#DejaVuSans-61\" transform=\"translate(80.322266 0)\"/>\n      <use xlink:href=\"#DejaVuSans-69\" transform=\"translate(141.601562 0)\"/>\n      <use xlink:href=\"#DejaVuSans-6e\" transform=\"translate(169.384766 0)\"/>\n      <use xlink:href=\"#DejaVuSans-20\" transform=\"translate(232.763672 0)\"/>\n      <use xlink:href=\"#DejaVuSans-6c\" transform=\"translate(264.550781 0)\"/>\n      <use xlink:href=\"#DejaVuSans-6f\" transform=\"translate(292.333984 0)\"/>\n      <use xlink:href=\"#DejaVuSans-73\" transform=\"translate(353.515625 0)\"/>\n      <use xlink:href=\"#DejaVuSans-73\" transform=\"translate(405.615234 0)\"/>\n     </g>\n    </g>\n    <g id=\"line2d_25\">\n     <path d=\"M 142.634375 34.976563 \nL 152.634375 34.976563 \nL 162.634375 34.976563 \n\" style=\"fill: none; stroke-dasharray: 5.55,2.4; stroke-dashoffset: 0; stroke: #bf00bf; stroke-width: 1.5\"/>\n    </g>\n    <g id=\"text_13\">\n     <!-- train acc -->\n     <g transform=\"translate(170.634375 38.476563) scale(0.1 -0.1)\">\n      <use xlink:href=\"#DejaVuSans-74\"/>\n      <use xlink:href=\"#DejaVuSans-72\" transform=\"translate(39.208984 0)\"/>\n      <use xlink:href=\"#DejaVuSans-61\" transform=\"translate(80.322266 0)\"/>\n      <use xlink:href=\"#DejaVuSans-69\" transform=\"translate(141.601562 0)\"/>\n      <use xlink:href=\"#DejaVuSans-6e\" transform=\"translate(169.384766 0)\"/>\n      <use xlink:href=\"#DejaVuSans-20\" transform=\"translate(232.763672 0)\"/>\n      <use xlink:href=\"#DejaVuSans-61\" transform=\"translate(264.550781 0)\"/>\n      <use xlink:href=\"#DejaVuSans-63\" transform=\"translate(325.830078 0)\"/>\n      <use xlink:href=\"#DejaVuSans-63\" transform=\"translate(380.810547 0)\"/>\n     </g>\n    </g>\n    <g id=\"line2d_26\">\n     <path d=\"M 142.634375 49.654688 \nL 152.634375 49.654688 \nL 162.634375 49.654688 \n\" style=\"fill: none; stroke-dasharray: 9.6,2.4,1.5,2.4; stroke-dashoffset: 0; stroke: #008000; stroke-width: 1.5\"/>\n    </g>\n    <g id=\"text_14\">\n     <!-- test acc -->\n     <g transform=\"translate(170.634375 53.154688) scale(0.1 -0.1)\">\n      <use xlink:href=\"#DejaVuSans-74\"/>\n      <use xlink:href=\"#DejaVuSans-65\" transform=\"translate(39.208984 0)\"/>\n      <use xlink:href=\"#DejaVuSans-73\" transform=\"translate(100.732422 0)\"/>\n      <use xlink:href=\"#DejaVuSans-74\" transform=\"translate(152.832031 0)\"/>\n      <use xlink:href=\"#DejaVuSans-20\" transform=\"translate(192.041016 0)\"/>\n      <use xlink:href=\"#DejaVuSans-61\" transform=\"translate(223.828125 0)\"/>\n      <use xlink:href=\"#DejaVuSans-63\" transform=\"translate(285.107422 0)\"/>\n      <use xlink:href=\"#DejaVuSans-63\" transform=\"translate(340.087891 0)\"/>\n     </g>\n    </g>\n   </g>\n  </g>\n </g>\n <defs>\n  <clipPath id=\"p2cc500e8d6\">\n   <rect x=\"30.103125\" y=\"7.2\" width=\"195.3\" height=\"138.6\"/>\n  </clipPath>\n </defs>\n</svg>\n"
          },
          "metadata": {}
        }
      ]
    },
    {
      "cell_type": "code",
      "source": [
        "#(iii) continuing\n",
        "\n",
        "## Training Accuracy:\n",
        "\n",
        "###Labels are random here, and there is no meaningfull relationship between the images and labe.l\n",
        "### But, with 500 epochs, the model starts to memorize the training data, and it helps to get\n",
        "### high training accuracy that is closew to %90\n",
        "\n",
        "## Test Accuracy\n",
        "\n",
        "### The labels for test are also random, and it makes the model cannot generalize.\n",
        "### So, each image has a 1 in 10 chance (10 classess),so the model has random guessing.\n",
        "### And the accuracy is around %10 (which is the same as random guessing for 10 classes: 1/10 classes)\n",
        "\n",
        "## Conclusion\n",
        "\n",
        "### The model learn the training set instead of generalizable features.It is overfitting.\n",
        "### The model cannot find patterns due to the random labels.\n",
        "### The model cannot generalize the unseen test data.\n"
      ],
      "metadata": {
        "id": "mHykpkgw3o6w"
      },
      "execution_count": 24,
      "outputs": []
    },
    {
      "cell_type": "code",
      "execution_count": null,
      "metadata": {
        "id": "d0z4LcRW2xP8"
      },
      "outputs": [],
      "source": [
        "# for grader use only\n",
        "\n",
        "# insert grade here  (out of 12)\n",
        "\n",
        "# G[2] =\n",
        "#\n",
        "# please justify point subtractions when needed"
      ]
    },
    {
      "cell_type": "code",
      "execution_count": null,
      "metadata": {
        "id": "EZHVWBIjIuoy"
      },
      "outputs": [],
      "source": [
        "# total score\n",
        "max_score = 24\n",
        "$inal_score = sum(G)*(100/max_score)"
      ]
    }
  ],
  "metadata": {
    "accelerator": "GPU",
    "colab": {
      "gpuType": "T4",
      "provenance": [],
      "include_colab_link": true
    },
    "kernelspec": {
      "display_name": "Python 3",
      "name": "python3"
    },
    "language_info": {
      "codemirror_mode": {
        "name": "ipython",
        "version": 3
      },
      "file_extension": ".py",
      "mimetype": "text/x-python",
      "name": "python",
      "nbconvert_exporter": "python",
      "pygments_lexer": "ipython3",
      "version": "3.7.4"
    }
  },
  "nbformat": 4,
  "nbformat_minor": 0
}