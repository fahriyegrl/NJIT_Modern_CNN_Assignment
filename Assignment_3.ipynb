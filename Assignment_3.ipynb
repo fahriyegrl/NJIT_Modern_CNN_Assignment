{
  "cells": [
    {
      "cell_type": "markdown",
      "metadata": {
        "id": "view-in-github",
        "colab_type": "text"
      },
      "source": [
        "<a href=\"https://colab.research.google.com/github/fahriyegrl/NJIT_Modern_CNN_Assignment/blob/main/Assignment_3.ipynb\" target=\"_parent\"><img src=\"https://colab.research.google.com/assets/colab-badge.svg\" alt=\"Open In Colab\"/></a>"
      ]
    },
    {
      "cell_type": "markdown",
      "metadata": {
        "id": "Tajfsk_7JY3E"
      },
      "source": [
        "**Note to grader:** Each question consists of parts, e.g. Q1(i), Q1(ii), etc. Each part must be first graded  on a 0-4 scale, following the standard NJIT convention (A:4, B+: 3.5, B:3, C+: 2.5, C: 2, D:1, F:0). However, any given item may be worth 4 or 8 points; if an item is worth 8 points, you need to accordingly scale the 0-4 grade.\n",
        "\n",
        "\n",
        "The total score must be re-scaled to 100. That should apply to all future assignments so that Canvas assigns the same weight on all assignments.\n",
        "\n"
      ]
    },
    {
      "cell_type": "code",
      "source": [],
      "metadata": {
        "id": "0Uu7nzJ2TOpb"
      },
      "execution_count": null,
      "outputs": []
    },
    {
      "cell_type": "markdown",
      "metadata": {
        "id": "tM4S-f_uIPIV"
      },
      "source": [
        "**Installing and Importing required modules**"
      ]
    },
    {
      "cell_type": "code",
      "execution_count": 1,
      "metadata": {
        "colab": {
          "base_uri": "https://localhost:8080/"
        },
        "id": "sL0zlEqawx8j",
        "outputId": "c2199fb4-2341-4560-dbd8-634725bd2a9a"
      },
      "outputs": [
        {
          "output_type": "stream",
          "name": "stdout",
          "text": [
            "Collecting d2l==0.16.1\n",
            "  Downloading d2l-0.16.1-py3-none-any.whl.metadata (322 bytes)\n",
            "Collecting jupyter (from d2l==0.16.1)\n",
            "  Downloading jupyter-1.1.1-py2.py3-none-any.whl.metadata (2.0 kB)\n",
            "Requirement already satisfied: numpy in /usr/local/lib/python3.11/dist-packages (from d2l==0.16.1) (1.26.4)\n",
            "Requirement already satisfied: matplotlib in /usr/local/lib/python3.11/dist-packages (from d2l==0.16.1) (3.10.0)\n",
            "Requirement already satisfied: pandas in /usr/local/lib/python3.11/dist-packages (from d2l==0.16.1) (2.2.2)\n",
            "Requirement already satisfied: notebook in /usr/local/lib/python3.11/dist-packages (from jupyter->d2l==0.16.1) (6.5.5)\n",
            "Requirement already satisfied: jupyter-console in /usr/local/lib/python3.11/dist-packages (from jupyter->d2l==0.16.1) (6.1.0)\n",
            "Requirement already satisfied: nbconvert in /usr/local/lib/python3.11/dist-packages (from jupyter->d2l==0.16.1) (7.16.6)\n",
            "Requirement already satisfied: ipykernel in /usr/local/lib/python3.11/dist-packages (from jupyter->d2l==0.16.1) (6.17.1)\n",
            "Requirement already satisfied: ipywidgets in /usr/local/lib/python3.11/dist-packages (from jupyter->d2l==0.16.1) (7.7.1)\n",
            "Collecting jupyterlab (from jupyter->d2l==0.16.1)\n",
            "  Downloading jupyterlab-4.3.5-py3-none-any.whl.metadata (16 kB)\n",
            "Requirement already satisfied: contourpy>=1.0.1 in /usr/local/lib/python3.11/dist-packages (from matplotlib->d2l==0.16.1) (1.3.1)\n",
            "Requirement already satisfied: cycler>=0.10 in /usr/local/lib/python3.11/dist-packages (from matplotlib->d2l==0.16.1) (0.12.1)\n",
            "Requirement already satisfied: fonttools>=4.22.0 in /usr/local/lib/python3.11/dist-packages (from matplotlib->d2l==0.16.1) (4.56.0)\n",
            "Requirement already satisfied: kiwisolver>=1.3.1 in /usr/local/lib/python3.11/dist-packages (from matplotlib->d2l==0.16.1) (1.4.8)\n",
            "Requirement already satisfied: packaging>=20.0 in /usr/local/lib/python3.11/dist-packages (from matplotlib->d2l==0.16.1) (24.2)\n",
            "Requirement already satisfied: pillow>=8 in /usr/local/lib/python3.11/dist-packages (from matplotlib->d2l==0.16.1) (11.1.0)\n",
            "Requirement already satisfied: pyparsing>=2.3.1 in /usr/local/lib/python3.11/dist-packages (from matplotlib->d2l==0.16.1) (3.2.1)\n",
            "Requirement already satisfied: python-dateutil>=2.7 in /usr/local/lib/python3.11/dist-packages (from matplotlib->d2l==0.16.1) (2.8.2)\n",
            "Requirement already satisfied: pytz>=2020.1 in /usr/local/lib/python3.11/dist-packages (from pandas->d2l==0.16.1) (2025.1)\n",
            "Requirement already satisfied: tzdata>=2022.7 in /usr/local/lib/python3.11/dist-packages (from pandas->d2l==0.16.1) (2025.1)\n",
            "Requirement already satisfied: six>=1.5 in /usr/local/lib/python3.11/dist-packages (from python-dateutil>=2.7->matplotlib->d2l==0.16.1) (1.17.0)\n",
            "Requirement already satisfied: debugpy>=1.0 in /usr/local/lib/python3.11/dist-packages (from ipykernel->jupyter->d2l==0.16.1) (1.8.0)\n",
            "Requirement already satisfied: ipython>=7.23.1 in /usr/local/lib/python3.11/dist-packages (from ipykernel->jupyter->d2l==0.16.1) (7.34.0)\n",
            "Requirement already satisfied: jupyter-client>=6.1.12 in /usr/local/lib/python3.11/dist-packages (from ipykernel->jupyter->d2l==0.16.1) (6.1.12)\n",
            "Requirement already satisfied: matplotlib-inline>=0.1 in /usr/local/lib/python3.11/dist-packages (from ipykernel->jupyter->d2l==0.16.1) (0.1.7)\n",
            "Requirement already satisfied: nest-asyncio in /usr/local/lib/python3.11/dist-packages (from ipykernel->jupyter->d2l==0.16.1) (1.6.0)\n",
            "Requirement already satisfied: psutil in /usr/local/lib/python3.11/dist-packages (from ipykernel->jupyter->d2l==0.16.1) (5.9.5)\n",
            "Requirement already satisfied: pyzmq>=17 in /usr/local/lib/python3.11/dist-packages (from ipykernel->jupyter->d2l==0.16.1) (24.0.1)\n",
            "Requirement already satisfied: tornado>=6.1 in /usr/local/lib/python3.11/dist-packages (from ipykernel->jupyter->d2l==0.16.1) (6.4.2)\n",
            "Requirement already satisfied: traitlets>=5.1.0 in /usr/local/lib/python3.11/dist-packages (from ipykernel->jupyter->d2l==0.16.1) (5.7.1)\n",
            "Requirement already satisfied: ipython-genutils~=0.2.0 in /usr/local/lib/python3.11/dist-packages (from ipywidgets->jupyter->d2l==0.16.1) (0.2.0)\n",
            "Requirement already satisfied: widgetsnbextension~=3.6.0 in /usr/local/lib/python3.11/dist-packages (from ipywidgets->jupyter->d2l==0.16.1) (3.6.10)\n",
            "Requirement already satisfied: jupyterlab-widgets>=1.0.0 in /usr/local/lib/python3.11/dist-packages (from ipywidgets->jupyter->d2l==0.16.1) (3.0.13)\n",
            "Requirement already satisfied: prompt-toolkit!=3.0.0,!=3.0.1,<3.1.0,>=2.0.0 in /usr/local/lib/python3.11/dist-packages (from jupyter-console->jupyter->d2l==0.16.1) (3.0.50)\n",
            "Requirement already satisfied: pygments in /usr/local/lib/python3.11/dist-packages (from jupyter-console->jupyter->d2l==0.16.1) (2.18.0)\n",
            "Collecting async-lru>=1.0.0 (from jupyterlab->jupyter->d2l==0.16.1)\n",
            "  Downloading async_lru-2.0.4-py3-none-any.whl.metadata (4.5 kB)\n",
            "Requirement already satisfied: httpx>=0.25.0 in /usr/local/lib/python3.11/dist-packages (from jupyterlab->jupyter->d2l==0.16.1) (0.28.1)\n",
            "Requirement already satisfied: jinja2>=3.0.3 in /usr/local/lib/python3.11/dist-packages (from jupyterlab->jupyter->d2l==0.16.1) (3.1.5)\n",
            "Requirement already satisfied: jupyter-core in /usr/local/lib/python3.11/dist-packages (from jupyterlab->jupyter->d2l==0.16.1) (5.7.2)\n",
            "Collecting jupyter-lsp>=2.0.0 (from jupyterlab->jupyter->d2l==0.16.1)\n",
            "  Downloading jupyter_lsp-2.2.5-py3-none-any.whl.metadata (1.8 kB)\n",
            "Collecting jupyter-server<3,>=2.4.0 (from jupyterlab->jupyter->d2l==0.16.1)\n",
            "  Downloading jupyter_server-2.15.0-py3-none-any.whl.metadata (8.4 kB)\n",
            "Collecting jupyterlab-server<3,>=2.27.1 (from jupyterlab->jupyter->d2l==0.16.1)\n",
            "  Downloading jupyterlab_server-2.27.3-py3-none-any.whl.metadata (5.9 kB)\n",
            "Requirement already satisfied: notebook-shim>=0.2 in /usr/local/lib/python3.11/dist-packages (from jupyterlab->jupyter->d2l==0.16.1) (0.2.4)\n",
            "Requirement already satisfied: setuptools>=40.8.0 in /usr/local/lib/python3.11/dist-packages (from jupyterlab->jupyter->d2l==0.16.1) (75.1.0)\n",
            "Requirement already satisfied: beautifulsoup4 in /usr/local/lib/python3.11/dist-packages (from nbconvert->jupyter->d2l==0.16.1) (4.13.3)\n",
            "Requirement already satisfied: bleach!=5.0.0 in /usr/local/lib/python3.11/dist-packages (from bleach[css]!=5.0.0->nbconvert->jupyter->d2l==0.16.1) (6.2.0)\n",
            "Requirement already satisfied: defusedxml in /usr/local/lib/python3.11/dist-packages (from nbconvert->jupyter->d2l==0.16.1) (0.7.1)\n",
            "Requirement already satisfied: jupyterlab-pygments in /usr/local/lib/python3.11/dist-packages (from nbconvert->jupyter->d2l==0.16.1) (0.3.0)\n",
            "Requirement already satisfied: markupsafe>=2.0 in /usr/local/lib/python3.11/dist-packages (from nbconvert->jupyter->d2l==0.16.1) (3.0.2)\n",
            "Requirement already satisfied: mistune<4,>=2.0.3 in /usr/local/lib/python3.11/dist-packages (from nbconvert->jupyter->d2l==0.16.1) (3.1.2)\n",
            "Requirement already satisfied: nbclient>=0.5.0 in /usr/local/lib/python3.11/dist-packages (from nbconvert->jupyter->d2l==0.16.1) (0.10.2)\n",
            "Requirement already satisfied: nbformat>=5.7 in /usr/local/lib/python3.11/dist-packages (from nbconvert->jupyter->d2l==0.16.1) (5.10.4)\n",
            "Requirement already satisfied: pandocfilters>=1.4.1 in /usr/local/lib/python3.11/dist-packages (from nbconvert->jupyter->d2l==0.16.1) (1.5.1)\n",
            "Requirement already satisfied: argon2-cffi in /usr/local/lib/python3.11/dist-packages (from notebook->jupyter->d2l==0.16.1) (23.1.0)\n",
            "Requirement already satisfied: Send2Trash>=1.8.0 in /usr/local/lib/python3.11/dist-packages (from notebook->jupyter->d2l==0.16.1) (1.8.3)\n",
            "Requirement already satisfied: terminado>=0.8.3 in /usr/local/lib/python3.11/dist-packages (from notebook->jupyter->d2l==0.16.1) (0.18.1)\n",
            "Requirement already satisfied: prometheus-client in /usr/local/lib/python3.11/dist-packages (from notebook->jupyter->d2l==0.16.1) (0.21.1)\n",
            "Requirement already satisfied: nbclassic>=0.4.7 in /usr/local/lib/python3.11/dist-packages (from notebook->jupyter->d2l==0.16.1) (1.2.0)\n",
            "Requirement already satisfied: webencodings in /usr/local/lib/python3.11/dist-packages (from bleach!=5.0.0->bleach[css]!=5.0.0->nbconvert->jupyter->d2l==0.16.1) (0.5.1)\n",
            "Requirement already satisfied: tinycss2<1.5,>=1.1.0 in /usr/local/lib/python3.11/dist-packages (from bleach[css]!=5.0.0->nbconvert->jupyter->d2l==0.16.1) (1.4.0)\n",
            "Requirement already satisfied: anyio in /usr/local/lib/python3.11/dist-packages (from httpx>=0.25.0->jupyterlab->jupyter->d2l==0.16.1) (3.7.1)\n",
            "Requirement already satisfied: certifi in /usr/local/lib/python3.11/dist-packages (from httpx>=0.25.0->jupyterlab->jupyter->d2l==0.16.1) (2025.1.31)\n",
            "Requirement already satisfied: httpcore==1.* in /usr/local/lib/python3.11/dist-packages (from httpx>=0.25.0->jupyterlab->jupyter->d2l==0.16.1) (1.0.7)\n",
            "Requirement already satisfied: idna in /usr/local/lib/python3.11/dist-packages (from httpx>=0.25.0->jupyterlab->jupyter->d2l==0.16.1) (3.10)\n",
            "Requirement already satisfied: h11<0.15,>=0.13 in /usr/local/lib/python3.11/dist-packages (from httpcore==1.*->httpx>=0.25.0->jupyterlab->jupyter->d2l==0.16.1) (0.14.0)\n",
            "Collecting jedi>=0.16 (from ipython>=7.23.1->ipykernel->jupyter->d2l==0.16.1)\n",
            "  Downloading jedi-0.19.2-py2.py3-none-any.whl.metadata (22 kB)\n",
            "Requirement already satisfied: decorator in /usr/local/lib/python3.11/dist-packages (from ipython>=7.23.1->ipykernel->jupyter->d2l==0.16.1) (4.4.2)\n",
            "Requirement already satisfied: pickleshare in /usr/local/lib/python3.11/dist-packages (from ipython>=7.23.1->ipykernel->jupyter->d2l==0.16.1) (0.7.5)\n",
            "Requirement already satisfied: backcall in /usr/local/lib/python3.11/dist-packages (from ipython>=7.23.1->ipykernel->jupyter->d2l==0.16.1) (0.2.0)\n",
            "Requirement already satisfied: pexpect>4.3 in /usr/local/lib/python3.11/dist-packages (from ipython>=7.23.1->ipykernel->jupyter->d2l==0.16.1) (4.9.0)\n",
            "Requirement already satisfied: platformdirs>=2.5 in /usr/local/lib/python3.11/dist-packages (from jupyter-core->jupyterlab->jupyter->d2l==0.16.1) (4.3.6)\n",
            "Collecting jupyter-client>=6.1.12 (from ipykernel->jupyter->d2l==0.16.1)\n",
            "  Downloading jupyter_client-7.4.9-py3-none-any.whl.metadata (8.5 kB)\n",
            "Collecting jupyter-events>=0.11.0 (from jupyter-server<3,>=2.4.0->jupyterlab->jupyter->d2l==0.16.1)\n",
            "  Downloading jupyter_events-0.12.0-py3-none-any.whl.metadata (5.8 kB)\n",
            "Collecting jupyter-server-terminals>=0.4.4 (from jupyter-server<3,>=2.4.0->jupyterlab->jupyter->d2l==0.16.1)\n",
            "  Downloading jupyter_server_terminals-0.5.3-py3-none-any.whl.metadata (5.6 kB)\n",
            "Collecting overrides>=5.0 (from jupyter-server<3,>=2.4.0->jupyterlab->jupyter->d2l==0.16.1)\n",
            "  Downloading overrides-7.7.0-py3-none-any.whl.metadata (5.8 kB)\n",
            "Requirement already satisfied: websocket-client>=1.7 in /usr/local/lib/python3.11/dist-packages (from jupyter-server<3,>=2.4.0->jupyterlab->jupyter->d2l==0.16.1) (1.8.0)\n",
            "Requirement already satisfied: argon2-cffi-bindings in /usr/local/lib/python3.11/dist-packages (from argon2-cffi->notebook->jupyter->d2l==0.16.1) (21.2.0)\n",
            "Requirement already satisfied: entrypoints in /usr/local/lib/python3.11/dist-packages (from jupyter-client>=6.1.12->ipykernel->jupyter->d2l==0.16.1) (0.4)\n",
            "Requirement already satisfied: babel>=2.10 in /usr/local/lib/python3.11/dist-packages (from jupyterlab-server<3,>=2.27.1->jupyterlab->jupyter->d2l==0.16.1) (2.17.0)\n",
            "Collecting json5>=0.9.0 (from jupyterlab-server<3,>=2.27.1->jupyterlab->jupyter->d2l==0.16.1)\n",
            "  Downloading json5-0.10.0-py3-none-any.whl.metadata (34 kB)\n",
            "Requirement already satisfied: jsonschema>=4.18.0 in /usr/local/lib/python3.11/dist-packages (from jupyterlab-server<3,>=2.27.1->jupyterlab->jupyter->d2l==0.16.1) (4.23.0)\n",
            "Requirement already satisfied: requests>=2.31 in /usr/local/lib/python3.11/dist-packages (from jupyterlab-server<3,>=2.27.1->jupyterlab->jupyter->d2l==0.16.1) (2.32.3)\n",
            "Requirement already satisfied: fastjsonschema>=2.15 in /usr/local/lib/python3.11/dist-packages (from nbformat>=5.7->nbconvert->jupyter->d2l==0.16.1) (2.21.1)\n",
            "Requirement already satisfied: wcwidth in /usr/local/lib/python3.11/dist-packages (from prompt-toolkit!=3.0.0,!=3.0.1,<3.1.0,>=2.0.0->jupyter-console->jupyter->d2l==0.16.1) (0.2.13)\n",
            "Requirement already satisfied: ptyprocess in /usr/local/lib/python3.11/dist-packages (from terminado>=0.8.3->notebook->jupyter->d2l==0.16.1) (0.7.0)\n",
            "Requirement already satisfied: soupsieve>1.2 in /usr/local/lib/python3.11/dist-packages (from beautifulsoup4->nbconvert->jupyter->d2l==0.16.1) (2.6)\n",
            "Requirement already satisfied: typing-extensions>=4.0.0 in /usr/local/lib/python3.11/dist-packages (from beautifulsoup4->nbconvert->jupyter->d2l==0.16.1) (4.12.2)\n",
            "Requirement already satisfied: sniffio>=1.1 in /usr/local/lib/python3.11/dist-packages (from anyio->httpx>=0.25.0->jupyterlab->jupyter->d2l==0.16.1) (1.3.1)\n",
            "Requirement already satisfied: parso<0.9.0,>=0.8.4 in /usr/local/lib/python3.11/dist-packages (from jedi>=0.16->ipython>=7.23.1->ipykernel->jupyter->d2l==0.16.1) (0.8.4)\n",
            "Requirement already satisfied: attrs>=22.2.0 in /usr/local/lib/python3.11/dist-packages (from jsonschema>=4.18.0->jupyterlab-server<3,>=2.27.1->jupyterlab->jupyter->d2l==0.16.1) (25.1.0)\n",
            "Requirement already satisfied: jsonschema-specifications>=2023.03.6 in /usr/local/lib/python3.11/dist-packages (from jsonschema>=4.18.0->jupyterlab-server<3,>=2.27.1->jupyterlab->jupyter->d2l==0.16.1) (2024.10.1)\n",
            "Requirement already satisfied: referencing>=0.28.4 in /usr/local/lib/python3.11/dist-packages (from jsonschema>=4.18.0->jupyterlab-server<3,>=2.27.1->jupyterlab->jupyter->d2l==0.16.1) (0.36.2)\n",
            "Requirement already satisfied: rpds-py>=0.7.1 in /usr/local/lib/python3.11/dist-packages (from jsonschema>=4.18.0->jupyterlab-server<3,>=2.27.1->jupyterlab->jupyter->d2l==0.16.1) (0.23.0)\n",
            "Collecting python-json-logger>=2.0.4 (from jupyter-events>=0.11.0->jupyter-server<3,>=2.4.0->jupyterlab->jupyter->d2l==0.16.1)\n",
            "  Downloading python_json_logger-3.2.1-py3-none-any.whl.metadata (4.1 kB)\n",
            "Requirement already satisfied: pyyaml>=5.3 in /usr/local/lib/python3.11/dist-packages (from jupyter-events>=0.11.0->jupyter-server<3,>=2.4.0->jupyterlab->jupyter->d2l==0.16.1) (6.0.2)\n",
            "Collecting rfc3339-validator (from jupyter-events>=0.11.0->jupyter-server<3,>=2.4.0->jupyterlab->jupyter->d2l==0.16.1)\n",
            "  Downloading rfc3339_validator-0.1.4-py2.py3-none-any.whl.metadata (1.5 kB)\n",
            "Collecting rfc3986-validator>=0.1.1 (from jupyter-events>=0.11.0->jupyter-server<3,>=2.4.0->jupyterlab->jupyter->d2l==0.16.1)\n",
            "  Downloading rfc3986_validator-0.1.1-py2.py3-none-any.whl.metadata (1.7 kB)\n",
            "Requirement already satisfied: charset-normalizer<4,>=2 in /usr/local/lib/python3.11/dist-packages (from requests>=2.31->jupyterlab-server<3,>=2.27.1->jupyterlab->jupyter->d2l==0.16.1) (3.4.1)\n",
            "Requirement already satisfied: urllib3<3,>=1.21.1 in /usr/local/lib/python3.11/dist-packages (from requests>=2.31->jupyterlab-server<3,>=2.27.1->jupyterlab->jupyter->d2l==0.16.1) (2.3.0)\n",
            "Requirement already satisfied: cffi>=1.0.1 in /usr/local/lib/python3.11/dist-packages (from argon2-cffi-bindings->argon2-cffi->notebook->jupyter->d2l==0.16.1) (1.17.1)\n",
            "Requirement already satisfied: pycparser in /usr/local/lib/python3.11/dist-packages (from cffi>=1.0.1->argon2-cffi-bindings->argon2-cffi->notebook->jupyter->d2l==0.16.1) (2.22)\n",
            "Collecting fqdn (from jsonschema[format-nongpl]>=4.18.0->jupyter-events>=0.11.0->jupyter-server<3,>=2.4.0->jupyterlab->jupyter->d2l==0.16.1)\n",
            "  Downloading fqdn-1.5.1-py3-none-any.whl.metadata (1.4 kB)\n",
            "Collecting isoduration (from jsonschema[format-nongpl]>=4.18.0->jupyter-events>=0.11.0->jupyter-server<3,>=2.4.0->jupyterlab->jupyter->d2l==0.16.1)\n",
            "  Downloading isoduration-20.11.0-py3-none-any.whl.metadata (5.7 kB)\n",
            "Requirement already satisfied: jsonpointer>1.13 in /usr/local/lib/python3.11/dist-packages (from jsonschema[format-nongpl]>=4.18.0->jupyter-events>=0.11.0->jupyter-server<3,>=2.4.0->jupyterlab->jupyter->d2l==0.16.1) (3.0.0)\n",
            "Collecting uri-template (from jsonschema[format-nongpl]>=4.18.0->jupyter-events>=0.11.0->jupyter-server<3,>=2.4.0->jupyterlab->jupyter->d2l==0.16.1)\n",
            "  Downloading uri_template-1.3.0-py3-none-any.whl.metadata (8.8 kB)\n",
            "Requirement already satisfied: webcolors>=24.6.0 in /usr/local/lib/python3.11/dist-packages (from jsonschema[format-nongpl]>=4.18.0->jupyter-events>=0.11.0->jupyter-server<3,>=2.4.0->jupyterlab->jupyter->d2l==0.16.1) (24.11.1)\n",
            "Collecting arrow>=0.15.0 (from isoduration->jsonschema[format-nongpl]>=4.18.0->jupyter-events>=0.11.0->jupyter-server<3,>=2.4.0->jupyterlab->jupyter->d2l==0.16.1)\n",
            "  Downloading arrow-1.3.0-py3-none-any.whl.metadata (7.5 kB)\n",
            "Collecting types-python-dateutil>=2.8.10 (from arrow>=0.15.0->isoduration->jsonschema[format-nongpl]>=4.18.0->jupyter-events>=0.11.0->jupyter-server<3,>=2.4.0->jupyterlab->jupyter->d2l==0.16.1)\n",
            "  Downloading types_python_dateutil-2.9.0.20241206-py3-none-any.whl.metadata (2.1 kB)\n",
            "Downloading d2l-0.16.1-py3-none-any.whl (76 kB)\n",
            "\u001b[2K   \u001b[90m━━━━━━━━━━━━━━━━━━━━━━━━━━━━━━━━━━━━━━━━\u001b[0m \u001b[32m76.7/76.7 kB\u001b[0m \u001b[31m4.8 MB/s\u001b[0m eta \u001b[36m0:00:00\u001b[0m\n",
            "\u001b[?25hDownloading jupyter-1.1.1-py2.py3-none-any.whl (2.7 kB)\n",
            "Downloading jupyterlab-4.3.5-py3-none-any.whl (11.7 MB)\n",
            "\u001b[2K   \u001b[90m━━━━━━━━━━━━━━━━━━━━━━━━━━━━━━━━━━━━━━━━\u001b[0m \u001b[32m11.7/11.7 MB\u001b[0m \u001b[31m40.1 MB/s\u001b[0m eta \u001b[36m0:00:00\u001b[0m\n",
            "\u001b[?25hDownloading async_lru-2.0.4-py3-none-any.whl (6.1 kB)\n",
            "Downloading jupyter_lsp-2.2.5-py3-none-any.whl (69 kB)\n",
            "\u001b[2K   \u001b[90m━━━━━━━━━━━━━━━━━━━━━━━━━━━━━━━━━━━━━━━━\u001b[0m \u001b[32m69.1/69.1 kB\u001b[0m \u001b[31m3.9 MB/s\u001b[0m eta \u001b[36m0:00:00\u001b[0m\n",
            "\u001b[?25hDownloading jupyter_server-2.15.0-py3-none-any.whl (385 kB)\n",
            "\u001b[2K   \u001b[90m━━━━━━━━━━━━━━━━━━━━━━━━━━━━━━━━━━━━━━━━\u001b[0m \u001b[32m385.8/385.8 kB\u001b[0m \u001b[31m18.7 MB/s\u001b[0m eta \u001b[36m0:00:00\u001b[0m\n",
            "\u001b[?25hDownloading jupyter_client-7.4.9-py3-none-any.whl (133 kB)\n",
            "\u001b[2K   \u001b[90m━━━━━━━━━━━━━━━━━━━━━━━━━━━━━━━━━━━━━━━━\u001b[0m \u001b[32m133.5/133.5 kB\u001b[0m \u001b[31m11.0 MB/s\u001b[0m eta \u001b[36m0:00:00\u001b[0m\n",
            "\u001b[?25hDownloading jupyterlab_server-2.27.3-py3-none-any.whl (59 kB)\n",
            "\u001b[2K   \u001b[90m━━━━━━━━━━━━━━━━━━━━━━━━━━━━━━━━━━━━━━━━\u001b[0m \u001b[32m59.7/59.7 kB\u001b[0m \u001b[31m4.7 MB/s\u001b[0m eta \u001b[36m0:00:00\u001b[0m\n",
            "\u001b[?25hDownloading jedi-0.19.2-py2.py3-none-any.whl (1.6 MB)\n",
            "\u001b[2K   \u001b[90m━━━━━━━━━━━━━━━━━━━━━━━━━━━━━━━━━━━━━━━━\u001b[0m \u001b[32m1.6/1.6 MB\u001b[0m \u001b[31m30.8 MB/s\u001b[0m eta \u001b[36m0:00:00\u001b[0m\n",
            "\u001b[?25hDownloading json5-0.10.0-py3-none-any.whl (34 kB)\n",
            "Downloading jupyter_events-0.12.0-py3-none-any.whl (19 kB)\n",
            "Downloading jupyter_server_terminals-0.5.3-py3-none-any.whl (13 kB)\n",
            "Downloading overrides-7.7.0-py3-none-any.whl (17 kB)\n",
            "Downloading python_json_logger-3.2.1-py3-none-any.whl (14 kB)\n",
            "Downloading rfc3986_validator-0.1.1-py2.py3-none-any.whl (4.2 kB)\n",
            "Downloading rfc3339_validator-0.1.4-py2.py3-none-any.whl (3.5 kB)\n",
            "Downloading fqdn-1.5.1-py3-none-any.whl (9.1 kB)\n",
            "Downloading isoduration-20.11.0-py3-none-any.whl (11 kB)\n",
            "Downloading uri_template-1.3.0-py3-none-any.whl (11 kB)\n",
            "Downloading arrow-1.3.0-py3-none-any.whl (66 kB)\n",
            "\u001b[2K   \u001b[90m━━━━━━━━━━━━━━━━━━━━━━━━━━━━━━━━━━━━━━━━\u001b[0m \u001b[32m66.4/66.4 kB\u001b[0m \u001b[31m5.4 MB/s\u001b[0m eta \u001b[36m0:00:00\u001b[0m\n",
            "\u001b[?25hDownloading types_python_dateutil-2.9.0.20241206-py3-none-any.whl (14 kB)\n",
            "Installing collected packages: uri-template, types-python-dateutil, rfc3986-validator, rfc3339-validator, python-json-logger, overrides, json5, jedi, fqdn, async-lru, jupyter-server-terminals, jupyter-client, arrow, isoduration, jupyter-events, jupyter-server, jupyterlab-server, jupyter-lsp, jupyterlab, jupyter, d2l\n",
            "  Attempting uninstall: jupyter-client\n",
            "    Found existing installation: jupyter-client 6.1.12\n",
            "    Uninstalling jupyter-client-6.1.12:\n",
            "      Successfully uninstalled jupyter-client-6.1.12\n",
            "  Attempting uninstall: jupyter-server\n",
            "    Found existing installation: jupyter-server 1.24.0\n",
            "    Uninstalling jupyter-server-1.24.0:\n",
            "      Successfully uninstalled jupyter-server-1.24.0\n",
            "Successfully installed arrow-1.3.0 async-lru-2.0.4 d2l-0.16.1 fqdn-1.5.1 isoduration-20.11.0 jedi-0.19.2 json5-0.10.0 jupyter-1.1.1 jupyter-client-7.4.9 jupyter-events-0.12.0 jupyter-lsp-2.2.5 jupyter-server-2.15.0 jupyter-server-terminals-0.5.3 jupyterlab-4.3.5 jupyterlab-server-2.27.3 overrides-7.7.0 python-json-logger-3.2.1 rfc3339-validator-0.1.4 rfc3986-validator-0.1.1 types-python-dateutil-2.9.0.20241206 uri-template-1.3.0\n"
          ]
        }
      ],
      "source": [
        "!pip install d2l==0.16.1\n"
      ]
    },
    {
      "cell_type": "code",
      "execution_count": 2,
      "metadata": {
        "id": "IcjhsETdwx8k"
      },
      "outputs": [],
      "source": [
        "from d2l import torch as d2l\n",
        "import torch\n",
        "from torch import nn"
      ]
    },
    {
      "cell_type": "markdown",
      "metadata": {
        "id": "PIM4vA8Osh1E"
      },
      "source": [
        "# <font color = 'blue'>  **Assignment 3**\n",
        "\n",
        "This assignment tries to further develop your understanding of Convolutional Neural Networks. The notebook is based on the Alexnet noteebook from lecture 4.\n"
      ]
    },
    {
      "cell_type": "code",
      "execution_count": 7,
      "metadata": {
        "id": "i4ulUTAf_K7Z"
      },
      "outputs": [],
      "source": [
        "\n",
        "net = nn.Sequential(\n",
        "    # Here, we use a larger 11 x 11 window to capture objects. At the same\n",
        "    # time, we use a stride of 4 to greatly reduce the height and width of the\n",
        "    # output. Here, the number of output channels is much larger than that in\n",
        "    # LeNet\n",
        "    nn.Conv2d(1, 96, kernel_size=11, stride=4, padding=1), nn.ReLU(),\n",
        "    nn.MaxPool2d(kernel_size=3, stride=2),\n",
        "    # Make the convolution window smaller, set padding to 2 for consistent\n",
        "    # height and width across the input and output, and increase the number of\n",
        "    # output channels\n",
        "    nn.Conv2d(96, 256, kernel_size=5, padding=2), nn.ReLU(),\n",
        "    nn.MaxPool2d(kernel_size=3, stride=2),\n",
        "    # Use three successive convolutional layers and a smaller convolution\n",
        "    # window. Except for the final convolutional layer, the number of output\n",
        "    # channels is further increased. Pooling layers are not used to reduce the\n",
        "    # height and width of input after the first two convolutional layers\n",
        "    nn.Conv2d(256, 384, kernel_size=3, padding=1), nn.ReLU(),\n",
        "    nn.Conv2d(384, 384, kernel_size=3, padding=1), nn.ReLU(),\n",
        "    nn.Conv2d(384, 256, kernel_size=3, padding=1), nn.ReLU(),\n",
        "    nn.MaxPool2d(kernel_size=3, stride=2),\n",
        "    nn.Flatten(),\n",
        "    # Here, the number of outputs of the fully-connected layer is several\n",
        "    # times larger than that in LeNet. Use the dropout layer to mitigate\n",
        "    # overfitting\n",
        "    nn.Linear(6400, 4096), nn.ReLU(),\n",
        "    nn.Dropout(p=0.5),\n",
        "    nn.Linear(4096, 4096), nn.ReLU(),\n",
        "    nn.Dropout(p=0.5),\n",
        "    # Output layer. Since we are using Fashion-MNIST, the number of classes is\n",
        "    # 10, instead of 1000 as in the paper\n",
        "    nn.Linear(4096, 10))"
      ]
    },
    {
      "cell_type": "markdown",
      "metadata": {
        "id": "RyP2wN_b_K7a"
      },
      "source": [
        "We construct a single-channel data example with both height and width of 224 to observe the output shape of each layer.\n"
      ]
    },
    {
      "cell_type": "code",
      "execution_count": 8,
      "metadata": {
        "colab": {
          "base_uri": "https://localhost:8080/"
        },
        "id": "eQZEKRZ3_K7b",
        "outputId": "8a5a6b3b-eb98-4cb3-96a1-9e7dbf72f161"
      },
      "outputs": [
        {
          "output_type": "stream",
          "name": "stdout",
          "text": [
            "Conv2d Output shape:\t torch.Size([1, 96, 54, 54])\n",
            "ReLU Output shape:\t torch.Size([1, 96, 54, 54])\n",
            "MaxPool2d Output shape:\t torch.Size([1, 96, 26, 26])\n",
            "Conv2d Output shape:\t torch.Size([1, 256, 26, 26])\n",
            "ReLU Output shape:\t torch.Size([1, 256, 26, 26])\n",
            "MaxPool2d Output shape:\t torch.Size([1, 256, 12, 12])\n",
            "Conv2d Output shape:\t torch.Size([1, 384, 12, 12])\n",
            "ReLU Output shape:\t torch.Size([1, 384, 12, 12])\n",
            "Conv2d Output shape:\t torch.Size([1, 384, 12, 12])\n",
            "ReLU Output shape:\t torch.Size([1, 384, 12, 12])\n",
            "Conv2d Output shape:\t torch.Size([1, 256, 12, 12])\n",
            "ReLU Output shape:\t torch.Size([1, 256, 12, 12])\n",
            "MaxPool2d Output shape:\t torch.Size([1, 256, 5, 5])\n",
            "Flatten Output shape:\t torch.Size([1, 6400])\n",
            "Linear Output shape:\t torch.Size([1, 4096])\n",
            "ReLU Output shape:\t torch.Size([1, 4096])\n",
            "Dropout Output shape:\t torch.Size([1, 4096])\n",
            "Linear Output shape:\t torch.Size([1, 4096])\n",
            "ReLU Output shape:\t torch.Size([1, 4096])\n",
            "Dropout Output shape:\t torch.Size([1, 4096])\n",
            "Linear Output shape:\t torch.Size([1, 10])\n"
          ]
        }
      ],
      "source": [
        "X = torch.randn(1, 1, 224, 224)\n",
        "for layer in net:\n",
        "    X=layer(X)\n",
        "    print(layer.__class__.__name__,'Output shape:\\t',X.shape)"
      ]
    },
    {
      "cell_type": "markdown",
      "metadata": {
        "id": "g7vFD0Tw_K7c"
      },
      "source": [
        "## Reading the Dataset\n",
        "\n",
        "Although AlexNet is trained on ImageNet in the paper, we use Fashion-MNIST here\n",
        "since training an ImageNet model to convergence could take hours or days\n",
        "even on a modern GPU.\n",
        "One of the problems with applying AlexNet directly on Fashion-MNIST\n",
        "is that its images have lower resolution ($28 \\times 28$ pixels)\n",
        "than ImageNet images.\n",
        "To make things work, we upsample them to $224 \\times 224$\n",
        "(generally not a smart practice,\n",
        "but we do it here to be faithful to the AlexNet architecture).\n",
        "We perform this resizing with the `resize` argument in the `d2l.load_data_fashion_mnist` function.\n"
      ]
    },
    {
      "cell_type": "code",
      "execution_count": 9,
      "metadata": {
        "colab": {
          "base_uri": "https://localhost:8080/"
        },
        "id": "E8UtQU5I_K7c",
        "outputId": "3837ca59-6f6c-4510-edbe-66b2bfe81a2e"
      },
      "outputs": [
        {
          "output_type": "stream",
          "name": "stderr",
          "text": [
            "/usr/local/lib/python3.11/dist-packages/torch/utils/data/dataloader.py:617: UserWarning: This DataLoader will create 4 worker processes in total. Our suggested max number of worker in current system is 2, which is smaller than what this DataLoader is going to create. Please be aware that excessive worker creation might get DataLoader running slow or even freeze, lower the worker number to avoid potential slowness/freeze if necessary.\n",
            "  warnings.warn(\n"
          ]
        }
      ],
      "source": [
        "batch_size = 128\n",
        "train_iter, test_iter = d2l.load_data_fashion_mnist(batch_size, resize=224)"
      ]
    },
    {
      "cell_type": "code",
      "execution_count": 10,
      "metadata": {
        "colab": {
          "base_uri": "https://localhost:8080/",
          "height": 300
        },
        "id": "-aBsApjq_K7d",
        "outputId": "cf97b442-b4b6-4ee9-94d9-5cdb66518af2"
      },
      "outputs": [
        {
          "output_type": "stream",
          "name": "stdout",
          "text": [
            "loss 0.326, train acc 0.880, test acc 0.876\n",
            "1462.7 examples/sec on cuda:0\n"
          ]
        },
        {
          "output_type": "display_data",
          "data": {
            "text/plain": [
              "<Figure size 350x250 with 1 Axes>"
            ],
            "image/svg+xml": "<?xml version=\"1.0\" encoding=\"utf-8\" standalone=\"no\"?>\n<!DOCTYPE svg PUBLIC \"-//W3C//DTD SVG 1.1//EN\"\n  \"http://www.w3.org/Graphics/SVG/1.1/DTD/svg11.dtd\">\n<svg xmlns:xlink=\"http://www.w3.org/1999/xlink\" width=\"238.965625pt\" height=\"183.35625pt\" viewBox=\"0 0 238.965625 183.35625\" xmlns=\"http://www.w3.org/2000/svg\" version=\"1.1\">\n <metadata>\n  <rdf:RDF xmlns:dc=\"http://purl.org/dc/elements/1.1/\" xmlns:cc=\"http://creativecommons.org/ns#\" xmlns:rdf=\"http://www.w3.org/1999/02/22-rdf-syntax-ns#\">\n   <cc:Work>\n    <dc:type rdf:resource=\"http://purl.org/dc/dcmitype/StillImage\"/>\n    <dc:date>2025-02-27T19:47:55.253922</dc:date>\n    <dc:format>image/svg+xml</dc:format>\n    <dc:creator>\n     <cc:Agent>\n      <dc:title>Matplotlib v3.10.0, https://matplotlib.org/</dc:title>\n     </cc:Agent>\n    </dc:creator>\n   </cc:Work>\n  </rdf:RDF>\n </metadata>\n <defs>\n  <style type=\"text/css\">*{stroke-linejoin: round; stroke-linecap: butt}</style>\n </defs>\n <g id=\"figure_1\">\n  <g id=\"patch_1\">\n   <path d=\"M 0 183.35625 \nL 238.965625 183.35625 \nL 238.965625 0 \nL 0 0 \nz\n\" style=\"fill: #ffffff\"/>\n  </g>\n  <g id=\"axes_1\">\n   <g id=\"patch_2\">\n    <path d=\"M 30.103125 145.8 \nL 225.403125 145.8 \nL 225.403125 7.2 \nL 30.103125 7.2 \nz\n\" style=\"fill: #ffffff\"/>\n   </g>\n   <g id=\"matplotlib.axis_1\">\n    <g id=\"xtick_1\">\n     <g id=\"line2d_1\">\n      <path d=\"M 51.803125 145.8 \nL 51.803125 7.2 \n\" clip-path=\"url(#p4cc35e3bb6)\" style=\"fill: none; stroke: #b0b0b0; stroke-width: 0.8; stroke-linecap: square\"/>\n     </g>\n     <g id=\"line2d_2\">\n      <defs>\n       <path id=\"mb74c28b463\" d=\"M 0 0 \nL 0 3.5 \n\" style=\"stroke: #000000; stroke-width: 0.8\"/>\n      </defs>\n      <g>\n       <use xlink:href=\"#mb74c28b463\" x=\"51.803125\" y=\"145.8\" style=\"stroke: #000000; stroke-width: 0.8\"/>\n      </g>\n     </g>\n     <g id=\"text_1\">\n      <!-- 2 -->\n      <g transform=\"translate(48.621875 160.398438) scale(0.1 -0.1)\">\n       <defs>\n        <path id=\"DejaVuSans-32\" d=\"M 1228 531 \nL 3431 531 \nL 3431 0 \nL 469 0 \nL 469 531 \nQ 828 903 1448 1529 \nQ 2069 2156 2228 2338 \nQ 2531 2678 2651 2914 \nQ 2772 3150 2772 3378 \nQ 2772 3750 2511 3984 \nQ 2250 4219 1831 4219 \nQ 1534 4219 1204 4116 \nQ 875 4013 500 3803 \nL 500 4441 \nQ 881 4594 1212 4672 \nQ 1544 4750 1819 4750 \nQ 2544 4750 2975 4387 \nQ 3406 4025 3406 3419 \nQ 3406 3131 3298 2873 \nQ 3191 2616 2906 2266 \nQ 2828 2175 2409 1742 \nQ 1991 1309 1228 531 \nz\n\" transform=\"scale(0.015625)\"/>\n       </defs>\n       <use xlink:href=\"#DejaVuSans-32\"/>\n      </g>\n     </g>\n    </g>\n    <g id=\"xtick_2\">\n     <g id=\"line2d_3\">\n      <path d=\"M 95.203125 145.8 \nL 95.203125 7.2 \n\" clip-path=\"url(#p4cc35e3bb6)\" style=\"fill: none; stroke: #b0b0b0; stroke-width: 0.8; stroke-linecap: square\"/>\n     </g>\n     <g id=\"line2d_4\">\n      <g>\n       <use xlink:href=\"#mb74c28b463\" x=\"95.203125\" y=\"145.8\" style=\"stroke: #000000; stroke-width: 0.8\"/>\n      </g>\n     </g>\n     <g id=\"text_2\">\n      <!-- 4 -->\n      <g transform=\"translate(92.021875 160.398438) scale(0.1 -0.1)\">\n       <defs>\n        <path id=\"DejaVuSans-34\" d=\"M 2419 4116 \nL 825 1625 \nL 2419 1625 \nL 2419 4116 \nz\nM 2253 4666 \nL 3047 4666 \nL 3047 1625 \nL 3713 1625 \nL 3713 1100 \nL 3047 1100 \nL 3047 0 \nL 2419 0 \nL 2419 1100 \nL 313 1100 \nL 313 1709 \nL 2253 4666 \nz\n\" transform=\"scale(0.015625)\"/>\n       </defs>\n       <use xlink:href=\"#DejaVuSans-34\"/>\n      </g>\n     </g>\n    </g>\n    <g id=\"xtick_3\">\n     <g id=\"line2d_5\">\n      <path d=\"M 138.603125 145.8 \nL 138.603125 7.2 \n\" clip-path=\"url(#p4cc35e3bb6)\" style=\"fill: none; stroke: #b0b0b0; stroke-width: 0.8; stroke-linecap: square\"/>\n     </g>\n     <g id=\"line2d_6\">\n      <g>\n       <use xlink:href=\"#mb74c28b463\" x=\"138.603125\" y=\"145.8\" style=\"stroke: #000000; stroke-width: 0.8\"/>\n      </g>\n     </g>\n     <g id=\"text_3\">\n      <!-- 6 -->\n      <g transform=\"translate(135.421875 160.398438) scale(0.1 -0.1)\">\n       <defs>\n        <path id=\"DejaVuSans-36\" d=\"M 2113 2584 \nQ 1688 2584 1439 2293 \nQ 1191 2003 1191 1497 \nQ 1191 994 1439 701 \nQ 1688 409 2113 409 \nQ 2538 409 2786 701 \nQ 3034 994 3034 1497 \nQ 3034 2003 2786 2293 \nQ 2538 2584 2113 2584 \nz\nM 3366 4563 \nL 3366 3988 \nQ 3128 4100 2886 4159 \nQ 2644 4219 2406 4219 \nQ 1781 4219 1451 3797 \nQ 1122 3375 1075 2522 \nQ 1259 2794 1537 2939 \nQ 1816 3084 2150 3084 \nQ 2853 3084 3261 2657 \nQ 3669 2231 3669 1497 \nQ 3669 778 3244 343 \nQ 2819 -91 2113 -91 \nQ 1303 -91 875 529 \nQ 447 1150 447 2328 \nQ 447 3434 972 4092 \nQ 1497 4750 2381 4750 \nQ 2619 4750 2861 4703 \nQ 3103 4656 3366 4563 \nz\n\" transform=\"scale(0.015625)\"/>\n       </defs>\n       <use xlink:href=\"#DejaVuSans-36\"/>\n      </g>\n     </g>\n    </g>\n    <g id=\"xtick_4\">\n     <g id=\"line2d_7\">\n      <path d=\"M 182.003125 145.8 \nL 182.003125 7.2 \n\" clip-path=\"url(#p4cc35e3bb6)\" style=\"fill: none; stroke: #b0b0b0; stroke-width: 0.8; stroke-linecap: square\"/>\n     </g>\n     <g id=\"line2d_8\">\n      <g>\n       <use xlink:href=\"#mb74c28b463\" x=\"182.003125\" y=\"145.8\" style=\"stroke: #000000; stroke-width: 0.8\"/>\n      </g>\n     </g>\n     <g id=\"text_4\">\n      <!-- 8 -->\n      <g transform=\"translate(178.821875 160.398438) scale(0.1 -0.1)\">\n       <defs>\n        <path id=\"DejaVuSans-38\" d=\"M 2034 2216 \nQ 1584 2216 1326 1975 \nQ 1069 1734 1069 1313 \nQ 1069 891 1326 650 \nQ 1584 409 2034 409 \nQ 2484 409 2743 651 \nQ 3003 894 3003 1313 \nQ 3003 1734 2745 1975 \nQ 2488 2216 2034 2216 \nz\nM 1403 2484 \nQ 997 2584 770 2862 \nQ 544 3141 544 3541 \nQ 544 4100 942 4425 \nQ 1341 4750 2034 4750 \nQ 2731 4750 3128 4425 \nQ 3525 4100 3525 3541 \nQ 3525 3141 3298 2862 \nQ 3072 2584 2669 2484 \nQ 3125 2378 3379 2068 \nQ 3634 1759 3634 1313 \nQ 3634 634 3220 271 \nQ 2806 -91 2034 -91 \nQ 1263 -91 848 271 \nQ 434 634 434 1313 \nQ 434 1759 690 2068 \nQ 947 2378 1403 2484 \nz\nM 1172 3481 \nQ 1172 3119 1398 2916 \nQ 1625 2713 2034 2713 \nQ 2441 2713 2670 2916 \nQ 2900 3119 2900 3481 \nQ 2900 3844 2670 4047 \nQ 2441 4250 2034 4250 \nQ 1625 4250 1398 4047 \nQ 1172 3844 1172 3481 \nz\n\" transform=\"scale(0.015625)\"/>\n       </defs>\n       <use xlink:href=\"#DejaVuSans-38\"/>\n      </g>\n     </g>\n    </g>\n    <g id=\"xtick_5\">\n     <g id=\"line2d_9\">\n      <path d=\"M 225.403125 145.8 \nL 225.403125 7.2 \n\" clip-path=\"url(#p4cc35e3bb6)\" style=\"fill: none; stroke: #b0b0b0; stroke-width: 0.8; stroke-linecap: square\"/>\n     </g>\n     <g id=\"line2d_10\">\n      <g>\n       <use xlink:href=\"#mb74c28b463\" x=\"225.403125\" y=\"145.8\" style=\"stroke: #000000; stroke-width: 0.8\"/>\n      </g>\n     </g>\n     <g id=\"text_5\">\n      <!-- 10 -->\n      <g transform=\"translate(219.040625 160.398438) scale(0.1 -0.1)\">\n       <defs>\n        <path id=\"DejaVuSans-31\" d=\"M 794 531 \nL 1825 531 \nL 1825 4091 \nL 703 3866 \nL 703 4441 \nL 1819 4666 \nL 2450 4666 \nL 2450 531 \nL 3481 531 \nL 3481 0 \nL 794 0 \nL 794 531 \nz\n\" transform=\"scale(0.015625)\"/>\n        <path id=\"DejaVuSans-30\" d=\"M 2034 4250 \nQ 1547 4250 1301 3770 \nQ 1056 3291 1056 2328 \nQ 1056 1369 1301 889 \nQ 1547 409 2034 409 \nQ 2525 409 2770 889 \nQ 3016 1369 3016 2328 \nQ 3016 3291 2770 3770 \nQ 2525 4250 2034 4250 \nz\nM 2034 4750 \nQ 2819 4750 3233 4129 \nQ 3647 3509 3647 2328 \nQ 3647 1150 3233 529 \nQ 2819 -91 2034 -91 \nQ 1250 -91 836 529 \nQ 422 1150 422 2328 \nQ 422 3509 836 4129 \nQ 1250 4750 2034 4750 \nz\n\" transform=\"scale(0.015625)\"/>\n       </defs>\n       <use xlink:href=\"#DejaVuSans-31\"/>\n       <use xlink:href=\"#DejaVuSans-30\" transform=\"translate(63.623047 0)\"/>\n      </g>\n     </g>\n    </g>\n    <g id=\"text_6\">\n     <!-- epoch -->\n     <g transform=\"translate(112.525 174.076563) scale(0.1 -0.1)\">\n      <defs>\n       <path id=\"DejaVuSans-65\" d=\"M 3597 1894 \nL 3597 1613 \nL 953 1613 \nQ 991 1019 1311 708 \nQ 1631 397 2203 397 \nQ 2534 397 2845 478 \nQ 3156 559 3463 722 \nL 3463 178 \nQ 3153 47 2828 -22 \nQ 2503 -91 2169 -91 \nQ 1331 -91 842 396 \nQ 353 884 353 1716 \nQ 353 2575 817 3079 \nQ 1281 3584 2069 3584 \nQ 2775 3584 3186 3129 \nQ 3597 2675 3597 1894 \nz\nM 3022 2063 \nQ 3016 2534 2758 2815 \nQ 2500 3097 2075 3097 \nQ 1594 3097 1305 2825 \nQ 1016 2553 972 2059 \nL 3022 2063 \nz\n\" transform=\"scale(0.015625)\"/>\n       <path id=\"DejaVuSans-70\" d=\"M 1159 525 \nL 1159 -1331 \nL 581 -1331 \nL 581 3500 \nL 1159 3500 \nL 1159 2969 \nQ 1341 3281 1617 3432 \nQ 1894 3584 2278 3584 \nQ 2916 3584 3314 3078 \nQ 3713 2572 3713 1747 \nQ 3713 922 3314 415 \nQ 2916 -91 2278 -91 \nQ 1894 -91 1617 61 \nQ 1341 213 1159 525 \nz\nM 3116 1747 \nQ 3116 2381 2855 2742 \nQ 2594 3103 2138 3103 \nQ 1681 3103 1420 2742 \nQ 1159 2381 1159 1747 \nQ 1159 1113 1420 752 \nQ 1681 391 2138 391 \nQ 2594 391 2855 752 \nQ 3116 1113 3116 1747 \nz\n\" transform=\"scale(0.015625)\"/>\n       <path id=\"DejaVuSans-6f\" d=\"M 1959 3097 \nQ 1497 3097 1228 2736 \nQ 959 2375 959 1747 \nQ 959 1119 1226 758 \nQ 1494 397 1959 397 \nQ 2419 397 2687 759 \nQ 2956 1122 2956 1747 \nQ 2956 2369 2687 2733 \nQ 2419 3097 1959 3097 \nz\nM 1959 3584 \nQ 2709 3584 3137 3096 \nQ 3566 2609 3566 1747 \nQ 3566 888 3137 398 \nQ 2709 -91 1959 -91 \nQ 1206 -91 779 398 \nQ 353 888 353 1747 \nQ 353 2609 779 3096 \nQ 1206 3584 1959 3584 \nz\n\" transform=\"scale(0.015625)\"/>\n       <path id=\"DejaVuSans-63\" d=\"M 3122 3366 \nL 3122 2828 \nQ 2878 2963 2633 3030 \nQ 2388 3097 2138 3097 \nQ 1578 3097 1268 2742 \nQ 959 2388 959 1747 \nQ 959 1106 1268 751 \nQ 1578 397 2138 397 \nQ 2388 397 2633 464 \nQ 2878 531 3122 666 \nL 3122 134 \nQ 2881 22 2623 -34 \nQ 2366 -91 2075 -91 \nQ 1284 -91 818 406 \nQ 353 903 353 1747 \nQ 353 2603 823 3093 \nQ 1294 3584 2113 3584 \nQ 2378 3584 2631 3529 \nQ 2884 3475 3122 3366 \nz\n\" transform=\"scale(0.015625)\"/>\n       <path id=\"DejaVuSans-68\" d=\"M 3513 2113 \nL 3513 0 \nL 2938 0 \nL 2938 2094 \nQ 2938 2591 2744 2837 \nQ 2550 3084 2163 3084 \nQ 1697 3084 1428 2787 \nQ 1159 2491 1159 1978 \nL 1159 0 \nL 581 0 \nL 581 4863 \nL 1159 4863 \nL 1159 2956 \nQ 1366 3272 1645 3428 \nQ 1925 3584 2291 3584 \nQ 2894 3584 3203 3211 \nQ 3513 2838 3513 2113 \nz\n\" transform=\"scale(0.015625)\"/>\n      </defs>\n      <use xlink:href=\"#DejaVuSans-65\"/>\n      <use xlink:href=\"#DejaVuSans-70\" transform=\"translate(61.523438 0)\"/>\n      <use xlink:href=\"#DejaVuSans-6f\" transform=\"translate(125 0)\"/>\n      <use xlink:href=\"#DejaVuSans-63\" transform=\"translate(186.181641 0)\"/>\n      <use xlink:href=\"#DejaVuSans-68\" transform=\"translate(241.162109 0)\"/>\n     </g>\n    </g>\n   </g>\n   <g id=\"matplotlib.axis_2\">\n    <g id=\"ytick_1\">\n     <g id=\"line2d_11\">\n      <path d=\"M 30.103125 119.866239 \nL 225.403125 119.866239 \n\" clip-path=\"url(#p4cc35e3bb6)\" style=\"fill: none; stroke: #b0b0b0; stroke-width: 0.8; stroke-linecap: square\"/>\n     </g>\n     <g id=\"line2d_12\">\n      <defs>\n       <path id=\"mc22efb5501\" d=\"M 0 0 \nL -3.5 0 \n\" style=\"stroke: #000000; stroke-width: 0.8\"/>\n      </defs>\n      <g>\n       <use xlink:href=\"#mc22efb5501\" x=\"30.103125\" y=\"119.866239\" style=\"stroke: #000000; stroke-width: 0.8\"/>\n      </g>\n     </g>\n     <g id=\"text_7\">\n      <!-- 0.5 -->\n      <g transform=\"translate(7.2 123.665458) scale(0.1 -0.1)\">\n       <defs>\n        <path id=\"DejaVuSans-2e\" d=\"M 684 794 \nL 1344 794 \nL 1344 0 \nL 684 0 \nL 684 794 \nz\n\" transform=\"scale(0.015625)\"/>\n        <path id=\"DejaVuSans-35\" d=\"M 691 4666 \nL 3169 4666 \nL 3169 4134 \nL 1269 4134 \nL 1269 2991 \nQ 1406 3038 1543 3061 \nQ 1681 3084 1819 3084 \nQ 2600 3084 3056 2656 \nQ 3513 2228 3513 1497 \nQ 3513 744 3044 326 \nQ 2575 -91 1722 -91 \nQ 1428 -91 1123 -41 \nQ 819 9 494 109 \nL 494 744 \nQ 775 591 1075 516 \nQ 1375 441 1709 441 \nQ 2250 441 2565 725 \nQ 2881 1009 2881 1497 \nQ 2881 1984 2565 2268 \nQ 2250 2553 1709 2553 \nQ 1456 2553 1204 2497 \nQ 953 2441 691 2322 \nL 691 4666 \nz\n\" transform=\"scale(0.015625)\"/>\n       </defs>\n       <use xlink:href=\"#DejaVuSans-30\"/>\n       <use xlink:href=\"#DejaVuSans-2e\" transform=\"translate(63.623047 0)\"/>\n       <use xlink:href=\"#DejaVuSans-35\" transform=\"translate(95.410156 0)\"/>\n      </g>\n     </g>\n    </g>\n    <g id=\"ytick_2\">\n     <g id=\"line2d_13\">\n      <path d=\"M 30.103125 89.855931 \nL 225.403125 89.855931 \n\" clip-path=\"url(#p4cc35e3bb6)\" style=\"fill: none; stroke: #b0b0b0; stroke-width: 0.8; stroke-linecap: square\"/>\n     </g>\n     <g id=\"line2d_14\">\n      <g>\n       <use xlink:href=\"#mc22efb5501\" x=\"30.103125\" y=\"89.855931\" style=\"stroke: #000000; stroke-width: 0.8\"/>\n      </g>\n     </g>\n     <g id=\"text_8\">\n      <!-- 1.0 -->\n      <g transform=\"translate(7.2 93.655149) scale(0.1 -0.1)\">\n       <use xlink:href=\"#DejaVuSans-31\"/>\n       <use xlink:href=\"#DejaVuSans-2e\" transform=\"translate(63.623047 0)\"/>\n       <use xlink:href=\"#DejaVuSans-30\" transform=\"translate(95.410156 0)\"/>\n      </g>\n     </g>\n    </g>\n    <g id=\"ytick_3\">\n     <g id=\"line2d_15\">\n      <path d=\"M 30.103125 59.845622 \nL 225.403125 59.845622 \n\" clip-path=\"url(#p4cc35e3bb6)\" style=\"fill: none; stroke: #b0b0b0; stroke-width: 0.8; stroke-linecap: square\"/>\n     </g>\n     <g id=\"line2d_16\">\n      <g>\n       <use xlink:href=\"#mc22efb5501\" x=\"30.103125\" y=\"59.845622\" style=\"stroke: #000000; stroke-width: 0.8\"/>\n      </g>\n     </g>\n     <g id=\"text_9\">\n      <!-- 1.5 -->\n      <g transform=\"translate(7.2 63.64484) scale(0.1 -0.1)\">\n       <use xlink:href=\"#DejaVuSans-31\"/>\n       <use xlink:href=\"#DejaVuSans-2e\" transform=\"translate(63.623047 0)\"/>\n       <use xlink:href=\"#DejaVuSans-35\" transform=\"translate(95.410156 0)\"/>\n      </g>\n     </g>\n    </g>\n    <g id=\"ytick_4\">\n     <g id=\"line2d_17\">\n      <path d=\"M 30.103125 29.835313 \nL 225.403125 29.835313 \n\" clip-path=\"url(#p4cc35e3bb6)\" style=\"fill: none; stroke: #b0b0b0; stroke-width: 0.8; stroke-linecap: square\"/>\n     </g>\n     <g id=\"line2d_18\">\n      <g>\n       <use xlink:href=\"#mc22efb5501\" x=\"30.103125\" y=\"29.835313\" style=\"stroke: #000000; stroke-width: 0.8\"/>\n      </g>\n     </g>\n     <g id=\"text_10\">\n      <!-- 2.0 -->\n      <g transform=\"translate(7.2 33.634531) scale(0.1 -0.1)\">\n       <use xlink:href=\"#DejaVuSans-32\"/>\n       <use xlink:href=\"#DejaVuSans-2e\" transform=\"translate(63.623047 0)\"/>\n       <use xlink:href=\"#DejaVuSans-30\" transform=\"translate(95.410156 0)\"/>\n      </g>\n     </g>\n    </g>\n   </g>\n   <g id=\"line2d_19\">\n    <path d=\"M 12.70611 13.5 \nL 17.009095 36.646622 \nL 21.31208 54.323179 \nL 25.615065 65.236218 \nL 29.91805 72.689829 \nL 30.103125 72.977823 \nL 34.40611 106.704914 \nL 38.709095 108.163023 \nL 43.01208 109.455201 \nL 47.315065 110.392042 \nL 51.61805 111.075965 \nL 51.803125 111.118339 \nL 56.10611 115.700326 \nL 60.409095 116.423555 \nL 64.71208 116.949126 \nL 69.015065 117.567664 \nL 73.31805 118.070068 \nL 73.503125 118.077219 \nL 77.80611 121.501622 \nL 82.109095 121.38898 \nL 86.41208 121.539192 \nL 90.715065 121.630785 \nL 95.01805 121.903063 \nL 95.203125 121.898249 \nL 99.50611 123.513651 \nL 103.809095 123.627196 \nL 108.11208 123.892579 \nL 112.415065 124.084028 \nL 116.71805 124.266951 \nL 116.903125 124.253276 \nL 121.20611 125.188945 \nL 125.509095 125.21297 \nL 129.81208 125.307162 \nL 134.115065 125.535487 \nL 138.41805 125.937956 \nL 138.603125 125.962134 \nL 142.90611 127.321574 \nL 147.209095 127.32 \nL 151.51208 127.357297 \nL 155.815065 127.490696 \nL 160.11805 127.419093 \nL 160.303125 127.422289 \nL 164.60611 128.455764 \nL 168.909095 128.331527 \nL 173.21208 128.36948 \nL 177.515065 128.32741 \nL 181.81805 128.451308 \nL 182.003125 128.460555 \nL 186.30611 129.549859 \nL 190.609095 129.501515 \nL 194.91208 129.268965 \nL 199.215065 129.202386 \nL 203.51805 129.367004 \nL 203.703125 129.354969 \nL 208.00611 130.104253 \nL 212.309095 130.055221 \nL 216.61208 130.067997 \nL 220.915065 130.157158 \nL 225.21805 130.295199 \nL 225.403125 130.297027 \n\" clip-path=\"url(#p4cc35e3bb6)\" style=\"fill: none; stroke: #1f77b4; stroke-width: 1.5; stroke-linecap: square\"/>\n   </g>\n   <g id=\"line2d_20\">\n    <path d=\"M 12.70611 139.5 \nL 17.009095 131.190694 \nL 21.31208 125.0209 \nL 25.615065 121.073812 \nL 29.91805 118.410094 \nL 30.103125 118.318708 \nL 34.40611 105.980421 \nL 38.709095 105.614872 \nL 43.01208 105.057725 \nL 47.315065 104.711084 \nL 51.61805 104.43251 \nL 51.803125 104.412931 \nL 56.10611 102.824095 \nL 60.409095 102.491319 \nL 64.71208 102.214006 \nL 69.015065 101.936693 \nL 73.31805 101.680557 \nL 73.503125 101.670989 \nL 77.80611 100.494666 \nL 82.109095 100.368614 \nL 86.41208 100.324917 \nL 90.715065 100.303068 \nL 95.01805 100.213319 \nL 95.203125 100.213488 \nL 99.50611 99.264404 \nL 103.809095 99.377851 \nL 108.11208 99.318186 \nL 112.415065 99.269446 \nL 116.71805 99.2039 \nL 116.903125 99.220147 \nL 121.20611 98.760199 \nL 125.509095 98.775325 \nL 129.81208 98.736669 \nL 134.115065 98.694652 \nL 138.41805 98.561542 \nL 138.603125 98.547916 \nL 142.90611 98.276162 \nL 147.209095 98.09969 \nL 151.51208 98.087925 \nL 155.815065 98.048009 \nL 160.11805 98.085572 \nL 160.303125 98.09276 \nL 164.60611 97.620695 \nL 168.909095 97.693804 \nL 173.21208 97.788763 \nL 177.515065 97.764393 \nL 181.81805 97.723553 \nL 182.003125 97.721632 \nL 186.30611 97.313129 \nL 190.609095 97.330776 \nL 194.91208 97.341701 \nL 199.215065 97.36481 \nL 203.51805 97.315146 \nL 203.703125 97.331498 \nL 208.00611 97.333297 \nL 212.309095 97.227414 \nL 216.61208 97.086237 \nL 220.915065 97.091279 \nL 225.21805 97.048926 \nL 225.403125 97.0454 \n\" clip-path=\"url(#p4cc35e3bb6)\" style=\"fill: none; stroke-dasharray: 5.55,2.4; stroke-dashoffset: 0; stroke: #bf00bf; stroke-width: 1.5\"/>\n   </g>\n   <g id=\"line2d_21\">\n    <path d=\"M 30.103125 107.658046 \nL 51.803125 102.094134 \nL 73.503125 100.221491 \nL 95.203125 99.249157 \nL 116.903125 99.28517 \nL 138.603125 98.030739 \nL 160.303125 97.622598 \nL 182.003125 97.56858 \nL 203.703125 98.35485 \nL 225.403125 97.274479 \n\" clip-path=\"url(#p4cc35e3bb6)\" style=\"fill: none; stroke-dasharray: 9.6,2.4,1.5,2.4; stroke-dashoffset: 0; stroke: #008000; stroke-width: 1.5\"/>\n   </g>\n   <g id=\"patch_3\">\n    <path d=\"M 30.103125 145.8 \nL 30.103125 7.2 \n\" style=\"fill: none; stroke: #000000; stroke-width: 0.8; stroke-linejoin: miter; stroke-linecap: square\"/>\n   </g>\n   <g id=\"patch_4\">\n    <path d=\"M 225.403125 145.8 \nL 225.403125 7.2 \n\" style=\"fill: none; stroke: #000000; stroke-width: 0.8; stroke-linejoin: miter; stroke-linecap: square\"/>\n   </g>\n   <g id=\"patch_5\">\n    <path d=\"M 30.103125 145.8 \nL 225.403125 145.8 \n\" style=\"fill: none; stroke: #000000; stroke-width: 0.8; stroke-linejoin: miter; stroke-linecap: square\"/>\n   </g>\n   <g id=\"patch_6\">\n    <path d=\"M 30.103125 7.2 \nL 225.403125 7.2 \n\" style=\"fill: none; stroke: #000000; stroke-width: 0.8; stroke-linejoin: miter; stroke-linecap: square\"/>\n   </g>\n   <g id=\"legend_1\">\n    <g id=\"patch_7\">\n     <path d=\"M 140.634375 59.234375 \nL 218.403125 59.234375 \nQ 220.403125 59.234375 220.403125 57.234375 \nL 220.403125 14.2 \nQ 220.403125 12.2 218.403125 12.2 \nL 140.634375 12.2 \nQ 138.634375 12.2 138.634375 14.2 \nL 138.634375 57.234375 \nQ 138.634375 59.234375 140.634375 59.234375 \nz\n\" style=\"fill: #ffffff; opacity: 0.8; stroke: #cccccc; stroke-linejoin: miter\"/>\n    </g>\n    <g id=\"line2d_22\">\n     <path d=\"M 142.634375 20.298438 \nL 152.634375 20.298438 \nL 162.634375 20.298438 \n\" style=\"fill: none; stroke: #1f77b4; stroke-width: 1.5; stroke-linecap: square\"/>\n    </g>\n    <g id=\"text_11\">\n     <!-- train loss -->\n     <g transform=\"translate(170.634375 23.798438) scale(0.1 -0.1)\">\n      <defs>\n       <path id=\"DejaVuSans-74\" d=\"M 1172 4494 \nL 1172 3500 \nL 2356 3500 \nL 2356 3053 \nL 1172 3053 \nL 1172 1153 \nQ 1172 725 1289 603 \nQ 1406 481 1766 481 \nL 2356 481 \nL 2356 0 \nL 1766 0 \nQ 1100 0 847 248 \nQ 594 497 594 1153 \nL 594 3053 \nL 172 3053 \nL 172 3500 \nL 594 3500 \nL 594 4494 \nL 1172 4494 \nz\n\" transform=\"scale(0.015625)\"/>\n       <path id=\"DejaVuSans-72\" d=\"M 2631 2963 \nQ 2534 3019 2420 3045 \nQ 2306 3072 2169 3072 \nQ 1681 3072 1420 2755 \nQ 1159 2438 1159 1844 \nL 1159 0 \nL 581 0 \nL 581 3500 \nL 1159 3500 \nL 1159 2956 \nQ 1341 3275 1631 3429 \nQ 1922 3584 2338 3584 \nQ 2397 3584 2469 3576 \nQ 2541 3569 2628 3553 \nL 2631 2963 \nz\n\" transform=\"scale(0.015625)\"/>\n       <path id=\"DejaVuSans-61\" d=\"M 2194 1759 \nQ 1497 1759 1228 1600 \nQ 959 1441 959 1056 \nQ 959 750 1161 570 \nQ 1363 391 1709 391 \nQ 2188 391 2477 730 \nQ 2766 1069 2766 1631 \nL 2766 1759 \nL 2194 1759 \nz\nM 3341 1997 \nL 3341 0 \nL 2766 0 \nL 2766 531 \nQ 2569 213 2275 61 \nQ 1981 -91 1556 -91 \nQ 1019 -91 701 211 \nQ 384 513 384 1019 \nQ 384 1609 779 1909 \nQ 1175 2209 1959 2209 \nL 2766 2209 \nL 2766 2266 \nQ 2766 2663 2505 2880 \nQ 2244 3097 1772 3097 \nQ 1472 3097 1187 3025 \nQ 903 2953 641 2809 \nL 641 3341 \nQ 956 3463 1253 3523 \nQ 1550 3584 1831 3584 \nQ 2591 3584 2966 3190 \nQ 3341 2797 3341 1997 \nz\n\" transform=\"scale(0.015625)\"/>\n       <path id=\"DejaVuSans-69\" d=\"M 603 3500 \nL 1178 3500 \nL 1178 0 \nL 603 0 \nL 603 3500 \nz\nM 603 4863 \nL 1178 4863 \nL 1178 4134 \nL 603 4134 \nL 603 4863 \nz\n\" transform=\"scale(0.015625)\"/>\n       <path id=\"DejaVuSans-6e\" d=\"M 3513 2113 \nL 3513 0 \nL 2938 0 \nL 2938 2094 \nQ 2938 2591 2744 2837 \nQ 2550 3084 2163 3084 \nQ 1697 3084 1428 2787 \nQ 1159 2491 1159 1978 \nL 1159 0 \nL 581 0 \nL 581 3500 \nL 1159 3500 \nL 1159 2956 \nQ 1366 3272 1645 3428 \nQ 1925 3584 2291 3584 \nQ 2894 3584 3203 3211 \nQ 3513 2838 3513 2113 \nz\n\" transform=\"scale(0.015625)\"/>\n       <path id=\"DejaVuSans-20\" transform=\"scale(0.015625)\"/>\n       <path id=\"DejaVuSans-6c\" d=\"M 603 4863 \nL 1178 4863 \nL 1178 0 \nL 603 0 \nL 603 4863 \nz\n\" transform=\"scale(0.015625)\"/>\n       <path id=\"DejaVuSans-73\" d=\"M 2834 3397 \nL 2834 2853 \nQ 2591 2978 2328 3040 \nQ 2066 3103 1784 3103 \nQ 1356 3103 1142 2972 \nQ 928 2841 928 2578 \nQ 928 2378 1081 2264 \nQ 1234 2150 1697 2047 \nL 1894 2003 \nQ 2506 1872 2764 1633 \nQ 3022 1394 3022 966 \nQ 3022 478 2636 193 \nQ 2250 -91 1575 -91 \nQ 1294 -91 989 -36 \nQ 684 19 347 128 \nL 347 722 \nQ 666 556 975 473 \nQ 1284 391 1588 391 \nQ 1994 391 2212 530 \nQ 2431 669 2431 922 \nQ 2431 1156 2273 1281 \nQ 2116 1406 1581 1522 \nL 1381 1569 \nQ 847 1681 609 1914 \nQ 372 2147 372 2553 \nQ 372 3047 722 3315 \nQ 1072 3584 1716 3584 \nQ 2034 3584 2315 3537 \nQ 2597 3491 2834 3397 \nz\n\" transform=\"scale(0.015625)\"/>\n      </defs>\n      <use xlink:href=\"#DejaVuSans-74\"/>\n      <use xlink:href=\"#DejaVuSans-72\" transform=\"translate(39.208984 0)\"/>\n      <use xlink:href=\"#DejaVuSans-61\" transform=\"translate(80.322266 0)\"/>\n      <use xlink:href=\"#DejaVuSans-69\" transform=\"translate(141.601562 0)\"/>\n      <use xlink:href=\"#DejaVuSans-6e\" transform=\"translate(169.384766 0)\"/>\n      <use xlink:href=\"#DejaVuSans-20\" transform=\"translate(232.763672 0)\"/>\n      <use xlink:href=\"#DejaVuSans-6c\" transform=\"translate(264.550781 0)\"/>\n      <use xlink:href=\"#DejaVuSans-6f\" transform=\"translate(292.333984 0)\"/>\n      <use xlink:href=\"#DejaVuSans-73\" transform=\"translate(353.515625 0)\"/>\n      <use xlink:href=\"#DejaVuSans-73\" transform=\"translate(405.615234 0)\"/>\n     </g>\n    </g>\n    <g id=\"line2d_23\">\n     <path d=\"M 142.634375 34.976563 \nL 152.634375 34.976563 \nL 162.634375 34.976563 \n\" style=\"fill: none; stroke-dasharray: 5.55,2.4; stroke-dashoffset: 0; stroke: #bf00bf; stroke-width: 1.5\"/>\n    </g>\n    <g id=\"text_12\">\n     <!-- train acc -->\n     <g transform=\"translate(170.634375 38.476563) scale(0.1 -0.1)\">\n      <use xlink:href=\"#DejaVuSans-74\"/>\n      <use xlink:href=\"#DejaVuSans-72\" transform=\"translate(39.208984 0)\"/>\n      <use xlink:href=\"#DejaVuSans-61\" transform=\"translate(80.322266 0)\"/>\n      <use xlink:href=\"#DejaVuSans-69\" transform=\"translate(141.601562 0)\"/>\n      <use xlink:href=\"#DejaVuSans-6e\" transform=\"translate(169.384766 0)\"/>\n      <use xlink:href=\"#DejaVuSans-20\" transform=\"translate(232.763672 0)\"/>\n      <use xlink:href=\"#DejaVuSans-61\" transform=\"translate(264.550781 0)\"/>\n      <use xlink:href=\"#DejaVuSans-63\" transform=\"translate(325.830078 0)\"/>\n      <use xlink:href=\"#DejaVuSans-63\" transform=\"translate(380.810547 0)\"/>\n     </g>\n    </g>\n    <g id=\"line2d_24\">\n     <path d=\"M 142.634375 49.654688 \nL 152.634375 49.654688 \nL 162.634375 49.654688 \n\" style=\"fill: none; stroke-dasharray: 9.6,2.4,1.5,2.4; stroke-dashoffset: 0; stroke: #008000; stroke-width: 1.5\"/>\n    </g>\n    <g id=\"text_13\">\n     <!-- test acc -->\n     <g transform=\"translate(170.634375 53.154688) scale(0.1 -0.1)\">\n      <use xlink:href=\"#DejaVuSans-74\"/>\n      <use xlink:href=\"#DejaVuSans-65\" transform=\"translate(39.208984 0)\"/>\n      <use xlink:href=\"#DejaVuSans-73\" transform=\"translate(100.732422 0)\"/>\n      <use xlink:href=\"#DejaVuSans-74\" transform=\"translate(152.832031 0)\"/>\n      <use xlink:href=\"#DejaVuSans-20\" transform=\"translate(192.041016 0)\"/>\n      <use xlink:href=\"#DejaVuSans-61\" transform=\"translate(223.828125 0)\"/>\n      <use xlink:href=\"#DejaVuSans-63\" transform=\"translate(285.107422 0)\"/>\n      <use xlink:href=\"#DejaVuSans-63\" transform=\"translate(340.087891 0)\"/>\n     </g>\n    </g>\n   </g>\n  </g>\n </g>\n <defs>\n  <clipPath id=\"p4cc35e3bb6\">\n   <rect x=\"30.103125\" y=\"7.2\" width=\"195.3\" height=\"138.6\"/>\n  </clipPath>\n </defs>\n</svg>\n"
          },
          "metadata": {}
        }
      ],
      "source": [
        "lr, num_epochs = 0.01, 10\n",
        "d2l.train_ch6(net, train_iter, test_iter, num_epochs, lr)"
      ]
    },
    {
      "cell_type": "markdown",
      "metadata": {
        "id": "KvxvMo3LuknP"
      },
      "source": [
        "\n",
        "\n",
        "## <font color = 'blue'>  **Question 1** <font>\n",
        "\n",
        "<font color = 'blue'>  Alexnet was written for images of size 224x224. Clearly it is an overkill for the Fashion MNIST data set which has size 28x28.\n",
        "\n",
        "<font color = 'blue'> (i) Construct a model that mimics the architecture of Alexnet, but works directly on images of size 28x28.\n",
        "\n",
        "<font color = 'blue'> (ii) What is the accuracy you reach?\n",
        "\n",
        "<font color = 'blue'> (iii) Also compare the running time of your model with that of the original Alexnet on the resized images.\n",
        "\n",
        "<font color = 'blue'>[**Guidelines**: In general, here you probably want to use smaller kernels, and fewers convolutional layers. The most important part of this exercise is to get the dimensions of the layers correct, so that the model works. Try not to use 'Lazy' layers, so that you better understand the dimensions. Also some experimentation with different designs would be good. Feel free to discuss all experiments you did.]\n"
      ]
    },
    {
      "cell_type": "code",
      "execution_count": 11,
      "metadata": {
        "id": "WUHYN7G7Mu07",
        "colab": {
          "base_uri": "https://localhost:8080/"
        },
        "outputId": "1147b73a-4ed3-4d17-fee5-6be5af76cbd2"
      },
      "outputs": [
        {
          "output_type": "stream",
          "name": "stdout",
          "text": [
            "torch.Size([1, 10])\n"
          ]
        }
      ],
      "source": [
        "# your answers here\n",
        "\n",
        "# (i): I updated the model, still have 5 conv layes but works on 28X28 images\n",
        "# I reduces the parameters for the snmaller images. AlexNet used 11x11 kernel, I updated it to 5X5\n",
        "\n",
        "import torch\n",
        "from torch import nn\n",
        "\n",
        "class AlexNet_28(nn.Module):\n",
        "    def __init__(self, num_classes=10):\n",
        "        super(AlexNet_28, self).__init__()\n",
        "        self.net = nn.Sequential(\n",
        "            # First Conv Layer: (28x28) -> (24x24) -> (12x12)\n",
        "            nn.Conv2d(1, 64, kernel_size=5, stride=1, padding=0), nn.ReLU(),\n",
        "            nn.MaxPool2d(kernel_size=2, stride=2),\n",
        "\n",
        "            # Second Conv Layer: (12x12) -> (10x10) -> (5x5)\n",
        "            nn.Conv2d(64, 128, kernel_size=3, stride=1, padding=0), nn.ReLU(),\n",
        "            nn.MaxPool2d(kernel_size=2, stride=2),\n",
        "\n",
        "            # Third Conv Layer: (5x5) -> (5x5)\n",
        "            nn.Conv2d(128, 256, kernel_size=3, stride=1, padding=1), nn.ReLU(),\n",
        "\n",
        "            # Fourth Conv Layer: (5x5) -> (5x5)\n",
        "            nn.Conv2d(256, 256, kernel_size=3, stride=1, padding=1), nn.ReLU(),\n",
        "\n",
        "            # Fifth Conv Layer: (5x5) -> (5x5)\n",
        "            nn.Conv2d(256, 128, kernel_size=3, stride=1, padding=1), nn.ReLU(),\n",
        "            nn.MaxPool2d(kernel_size=2, stride=2), # Output: (2x2)\n",
        "\n",
        "            nn.Flatten(),\n",
        "            nn.Linear(128*2*2, 1024), nn.ReLU(),\n",
        "            nn.Dropout(0.5),\n",
        "            nn.Linear(1024, 512), nn.ReLU(),\n",
        "            nn.Dropout(0.5),\n",
        "            nn.Linear(512, num_classes) # 10 classes for Fashion-MNIST\n",
        "        )\n",
        "\n",
        "    def forward(self, x):\n",
        "        return self.net(x)\n",
        "\n",
        "\n",
        "model = AlexNet_28()\n",
        "X = torch.randn(1, 1, 28, 28)\n",
        "print(model(X).shape)\n",
        "\n"
      ]
    },
    {
      "cell_type": "code",
      "execution_count": 12,
      "metadata": {
        "id": "ECmxOC4LlxwZ"
      },
      "outputs": [],
      "source": [
        "#(ii)\n",
        "\n",
        "batch_size = 128\n",
        "train_iter, test_iter = d2l.load_data_fashion_mnist(batch_size) #no resize needed"
      ]
    },
    {
      "cell_type": "code",
      "execution_count": 13,
      "metadata": {
        "id": "q2GQDSjdmJiX",
        "colab": {
          "base_uri": "https://localhost:8080/",
          "height": 300
        },
        "outputId": "1fec6c31-9988-4bfe-b437-ee62095e83f8"
      },
      "outputs": [
        {
          "output_type": "stream",
          "name": "stdout",
          "text": [
            "loss 0.537, train acc 0.798, test acc 0.810\n",
            "10429.0 examples/sec on cuda:0\n"
          ]
        },
        {
          "output_type": "display_data",
          "data": {
            "text/plain": [
              "<Figure size 350x250 with 1 Axes>"
            ],
            "image/svg+xml": "<?xml version=\"1.0\" encoding=\"utf-8\" standalone=\"no\"?>\n<!DOCTYPE svg PUBLIC \"-//W3C//DTD SVG 1.1//EN\"\n  \"http://www.w3.org/Graphics/SVG/1.1/DTD/svg11.dtd\">\n<svg xmlns:xlink=\"http://www.w3.org/1999/xlink\" width=\"238.965625pt\" height=\"183.35625pt\" viewBox=\"0 0 238.965625 183.35625\" xmlns=\"http://www.w3.org/2000/svg\" version=\"1.1\">\n <metadata>\n  <rdf:RDF xmlns:dc=\"http://purl.org/dc/elements/1.1/\" xmlns:cc=\"http://creativecommons.org/ns#\" xmlns:rdf=\"http://www.w3.org/1999/02/22-rdf-syntax-ns#\">\n   <cc:Work>\n    <dc:type rdf:resource=\"http://purl.org/dc/dcmitype/StillImage\"/>\n    <dc:date>2025-02-27T19:51:17.371177</dc:date>\n    <dc:format>image/svg+xml</dc:format>\n    <dc:creator>\n     <cc:Agent>\n      <dc:title>Matplotlib v3.10.0, https://matplotlib.org/</dc:title>\n     </cc:Agent>\n    </dc:creator>\n   </cc:Work>\n  </rdf:RDF>\n </metadata>\n <defs>\n  <style type=\"text/css\">*{stroke-linejoin: round; stroke-linecap: butt}</style>\n </defs>\n <g id=\"figure_1\">\n  <g id=\"patch_1\">\n   <path d=\"M 0 183.35625 \nL 238.965625 183.35625 \nL 238.965625 0 \nL 0 0 \nz\n\" style=\"fill: #ffffff\"/>\n  </g>\n  <g id=\"axes_1\">\n   <g id=\"patch_2\">\n    <path d=\"M 30.103125 145.8 \nL 225.403125 145.8 \nL 225.403125 7.2 \nL 30.103125 7.2 \nz\n\" style=\"fill: #ffffff\"/>\n   </g>\n   <g id=\"matplotlib.axis_1\">\n    <g id=\"xtick_1\">\n     <g id=\"line2d_1\">\n      <path d=\"M 51.803125 145.8 \nL 51.803125 7.2 \n\" clip-path=\"url(#p11bee334aa)\" style=\"fill: none; stroke: #b0b0b0; stroke-width: 0.8; stroke-linecap: square\"/>\n     </g>\n     <g id=\"line2d_2\">\n      <defs>\n       <path id=\"maa3fa2a99b\" d=\"M 0 0 \nL 0 3.5 \n\" style=\"stroke: #000000; stroke-width: 0.8\"/>\n      </defs>\n      <g>\n       <use xlink:href=\"#maa3fa2a99b\" x=\"51.803125\" y=\"145.8\" style=\"stroke: #000000; stroke-width: 0.8\"/>\n      </g>\n     </g>\n     <g id=\"text_1\">\n      <!-- 2 -->\n      <g transform=\"translate(48.621875 160.398438) scale(0.1 -0.1)\">\n       <defs>\n        <path id=\"DejaVuSans-32\" d=\"M 1228 531 \nL 3431 531 \nL 3431 0 \nL 469 0 \nL 469 531 \nQ 828 903 1448 1529 \nQ 2069 2156 2228 2338 \nQ 2531 2678 2651 2914 \nQ 2772 3150 2772 3378 \nQ 2772 3750 2511 3984 \nQ 2250 4219 1831 4219 \nQ 1534 4219 1204 4116 \nQ 875 4013 500 3803 \nL 500 4441 \nQ 881 4594 1212 4672 \nQ 1544 4750 1819 4750 \nQ 2544 4750 2975 4387 \nQ 3406 4025 3406 3419 \nQ 3406 3131 3298 2873 \nQ 3191 2616 2906 2266 \nQ 2828 2175 2409 1742 \nQ 1991 1309 1228 531 \nz\n\" transform=\"scale(0.015625)\"/>\n       </defs>\n       <use xlink:href=\"#DejaVuSans-32\"/>\n      </g>\n     </g>\n    </g>\n    <g id=\"xtick_2\">\n     <g id=\"line2d_3\">\n      <path d=\"M 95.203125 145.8 \nL 95.203125 7.2 \n\" clip-path=\"url(#p11bee334aa)\" style=\"fill: none; stroke: #b0b0b0; stroke-width: 0.8; stroke-linecap: square\"/>\n     </g>\n     <g id=\"line2d_4\">\n      <g>\n       <use xlink:href=\"#maa3fa2a99b\" x=\"95.203125\" y=\"145.8\" style=\"stroke: #000000; stroke-width: 0.8\"/>\n      </g>\n     </g>\n     <g id=\"text_2\">\n      <!-- 4 -->\n      <g transform=\"translate(92.021875 160.398438) scale(0.1 -0.1)\">\n       <defs>\n        <path id=\"DejaVuSans-34\" d=\"M 2419 4116 \nL 825 1625 \nL 2419 1625 \nL 2419 4116 \nz\nM 2253 4666 \nL 3047 4666 \nL 3047 1625 \nL 3713 1625 \nL 3713 1100 \nL 3047 1100 \nL 3047 0 \nL 2419 0 \nL 2419 1100 \nL 313 1100 \nL 313 1709 \nL 2253 4666 \nz\n\" transform=\"scale(0.015625)\"/>\n       </defs>\n       <use xlink:href=\"#DejaVuSans-34\"/>\n      </g>\n     </g>\n    </g>\n    <g id=\"xtick_3\">\n     <g id=\"line2d_5\">\n      <path d=\"M 138.603125 145.8 \nL 138.603125 7.2 \n\" clip-path=\"url(#p11bee334aa)\" style=\"fill: none; stroke: #b0b0b0; stroke-width: 0.8; stroke-linecap: square\"/>\n     </g>\n     <g id=\"line2d_6\">\n      <g>\n       <use xlink:href=\"#maa3fa2a99b\" x=\"138.603125\" y=\"145.8\" style=\"stroke: #000000; stroke-width: 0.8\"/>\n      </g>\n     </g>\n     <g id=\"text_3\">\n      <!-- 6 -->\n      <g transform=\"translate(135.421875 160.398438) scale(0.1 -0.1)\">\n       <defs>\n        <path id=\"DejaVuSans-36\" d=\"M 2113 2584 \nQ 1688 2584 1439 2293 \nQ 1191 2003 1191 1497 \nQ 1191 994 1439 701 \nQ 1688 409 2113 409 \nQ 2538 409 2786 701 \nQ 3034 994 3034 1497 \nQ 3034 2003 2786 2293 \nQ 2538 2584 2113 2584 \nz\nM 3366 4563 \nL 3366 3988 \nQ 3128 4100 2886 4159 \nQ 2644 4219 2406 4219 \nQ 1781 4219 1451 3797 \nQ 1122 3375 1075 2522 \nQ 1259 2794 1537 2939 \nQ 1816 3084 2150 3084 \nQ 2853 3084 3261 2657 \nQ 3669 2231 3669 1497 \nQ 3669 778 3244 343 \nQ 2819 -91 2113 -91 \nQ 1303 -91 875 529 \nQ 447 1150 447 2328 \nQ 447 3434 972 4092 \nQ 1497 4750 2381 4750 \nQ 2619 4750 2861 4703 \nQ 3103 4656 3366 4563 \nz\n\" transform=\"scale(0.015625)\"/>\n       </defs>\n       <use xlink:href=\"#DejaVuSans-36\"/>\n      </g>\n     </g>\n    </g>\n    <g id=\"xtick_4\">\n     <g id=\"line2d_7\">\n      <path d=\"M 182.003125 145.8 \nL 182.003125 7.2 \n\" clip-path=\"url(#p11bee334aa)\" style=\"fill: none; stroke: #b0b0b0; stroke-width: 0.8; stroke-linecap: square\"/>\n     </g>\n     <g id=\"line2d_8\">\n      <g>\n       <use xlink:href=\"#maa3fa2a99b\" x=\"182.003125\" y=\"145.8\" style=\"stroke: #000000; stroke-width: 0.8\"/>\n      </g>\n     </g>\n     <g id=\"text_4\">\n      <!-- 8 -->\n      <g transform=\"translate(178.821875 160.398438) scale(0.1 -0.1)\">\n       <defs>\n        <path id=\"DejaVuSans-38\" d=\"M 2034 2216 \nQ 1584 2216 1326 1975 \nQ 1069 1734 1069 1313 \nQ 1069 891 1326 650 \nQ 1584 409 2034 409 \nQ 2484 409 2743 651 \nQ 3003 894 3003 1313 \nQ 3003 1734 2745 1975 \nQ 2488 2216 2034 2216 \nz\nM 1403 2484 \nQ 997 2584 770 2862 \nQ 544 3141 544 3541 \nQ 544 4100 942 4425 \nQ 1341 4750 2034 4750 \nQ 2731 4750 3128 4425 \nQ 3525 4100 3525 3541 \nQ 3525 3141 3298 2862 \nQ 3072 2584 2669 2484 \nQ 3125 2378 3379 2068 \nQ 3634 1759 3634 1313 \nQ 3634 634 3220 271 \nQ 2806 -91 2034 -91 \nQ 1263 -91 848 271 \nQ 434 634 434 1313 \nQ 434 1759 690 2068 \nQ 947 2378 1403 2484 \nz\nM 1172 3481 \nQ 1172 3119 1398 2916 \nQ 1625 2713 2034 2713 \nQ 2441 2713 2670 2916 \nQ 2900 3119 2900 3481 \nQ 2900 3844 2670 4047 \nQ 2441 4250 2034 4250 \nQ 1625 4250 1398 4047 \nQ 1172 3844 1172 3481 \nz\n\" transform=\"scale(0.015625)\"/>\n       </defs>\n       <use xlink:href=\"#DejaVuSans-38\"/>\n      </g>\n     </g>\n    </g>\n    <g id=\"xtick_5\">\n     <g id=\"line2d_9\">\n      <path d=\"M 225.403125 145.8 \nL 225.403125 7.2 \n\" clip-path=\"url(#p11bee334aa)\" style=\"fill: none; stroke: #b0b0b0; stroke-width: 0.8; stroke-linecap: square\"/>\n     </g>\n     <g id=\"line2d_10\">\n      <g>\n       <use xlink:href=\"#maa3fa2a99b\" x=\"225.403125\" y=\"145.8\" style=\"stroke: #000000; stroke-width: 0.8\"/>\n      </g>\n     </g>\n     <g id=\"text_5\">\n      <!-- 10 -->\n      <g transform=\"translate(219.040625 160.398438) scale(0.1 -0.1)\">\n       <defs>\n        <path id=\"DejaVuSans-31\" d=\"M 794 531 \nL 1825 531 \nL 1825 4091 \nL 703 3866 \nL 703 4441 \nL 1819 4666 \nL 2450 4666 \nL 2450 531 \nL 3481 531 \nL 3481 0 \nL 794 0 \nL 794 531 \nz\n\" transform=\"scale(0.015625)\"/>\n        <path id=\"DejaVuSans-30\" d=\"M 2034 4250 \nQ 1547 4250 1301 3770 \nQ 1056 3291 1056 2328 \nQ 1056 1369 1301 889 \nQ 1547 409 2034 409 \nQ 2525 409 2770 889 \nQ 3016 1369 3016 2328 \nQ 3016 3291 2770 3770 \nQ 2525 4250 2034 4250 \nz\nM 2034 4750 \nQ 2819 4750 3233 4129 \nQ 3647 3509 3647 2328 \nQ 3647 1150 3233 529 \nQ 2819 -91 2034 -91 \nQ 1250 -91 836 529 \nQ 422 1150 422 2328 \nQ 422 3509 836 4129 \nQ 1250 4750 2034 4750 \nz\n\" transform=\"scale(0.015625)\"/>\n       </defs>\n       <use xlink:href=\"#DejaVuSans-31\"/>\n       <use xlink:href=\"#DejaVuSans-30\" transform=\"translate(63.623047 0)\"/>\n      </g>\n     </g>\n    </g>\n    <g id=\"text_6\">\n     <!-- epoch -->\n     <g transform=\"translate(112.525 174.076563) scale(0.1 -0.1)\">\n      <defs>\n       <path id=\"DejaVuSans-65\" d=\"M 3597 1894 \nL 3597 1613 \nL 953 1613 \nQ 991 1019 1311 708 \nQ 1631 397 2203 397 \nQ 2534 397 2845 478 \nQ 3156 559 3463 722 \nL 3463 178 \nQ 3153 47 2828 -22 \nQ 2503 -91 2169 -91 \nQ 1331 -91 842 396 \nQ 353 884 353 1716 \nQ 353 2575 817 3079 \nQ 1281 3584 2069 3584 \nQ 2775 3584 3186 3129 \nQ 3597 2675 3597 1894 \nz\nM 3022 2063 \nQ 3016 2534 2758 2815 \nQ 2500 3097 2075 3097 \nQ 1594 3097 1305 2825 \nQ 1016 2553 972 2059 \nL 3022 2063 \nz\n\" transform=\"scale(0.015625)\"/>\n       <path id=\"DejaVuSans-70\" d=\"M 1159 525 \nL 1159 -1331 \nL 581 -1331 \nL 581 3500 \nL 1159 3500 \nL 1159 2969 \nQ 1341 3281 1617 3432 \nQ 1894 3584 2278 3584 \nQ 2916 3584 3314 3078 \nQ 3713 2572 3713 1747 \nQ 3713 922 3314 415 \nQ 2916 -91 2278 -91 \nQ 1894 -91 1617 61 \nQ 1341 213 1159 525 \nz\nM 3116 1747 \nQ 3116 2381 2855 2742 \nQ 2594 3103 2138 3103 \nQ 1681 3103 1420 2742 \nQ 1159 2381 1159 1747 \nQ 1159 1113 1420 752 \nQ 1681 391 2138 391 \nQ 2594 391 2855 752 \nQ 3116 1113 3116 1747 \nz\n\" transform=\"scale(0.015625)\"/>\n       <path id=\"DejaVuSans-6f\" d=\"M 1959 3097 \nQ 1497 3097 1228 2736 \nQ 959 2375 959 1747 \nQ 959 1119 1226 758 \nQ 1494 397 1959 397 \nQ 2419 397 2687 759 \nQ 2956 1122 2956 1747 \nQ 2956 2369 2687 2733 \nQ 2419 3097 1959 3097 \nz\nM 1959 3584 \nQ 2709 3584 3137 3096 \nQ 3566 2609 3566 1747 \nQ 3566 888 3137 398 \nQ 2709 -91 1959 -91 \nQ 1206 -91 779 398 \nQ 353 888 353 1747 \nQ 353 2609 779 3096 \nQ 1206 3584 1959 3584 \nz\n\" transform=\"scale(0.015625)\"/>\n       <path id=\"DejaVuSans-63\" d=\"M 3122 3366 \nL 3122 2828 \nQ 2878 2963 2633 3030 \nQ 2388 3097 2138 3097 \nQ 1578 3097 1268 2742 \nQ 959 2388 959 1747 \nQ 959 1106 1268 751 \nQ 1578 397 2138 397 \nQ 2388 397 2633 464 \nQ 2878 531 3122 666 \nL 3122 134 \nQ 2881 22 2623 -34 \nQ 2366 -91 2075 -91 \nQ 1284 -91 818 406 \nQ 353 903 353 1747 \nQ 353 2603 823 3093 \nQ 1294 3584 2113 3584 \nQ 2378 3584 2631 3529 \nQ 2884 3475 3122 3366 \nz\n\" transform=\"scale(0.015625)\"/>\n       <path id=\"DejaVuSans-68\" d=\"M 3513 2113 \nL 3513 0 \nL 2938 0 \nL 2938 2094 \nQ 2938 2591 2744 2837 \nQ 2550 3084 2163 3084 \nQ 1697 3084 1428 2787 \nQ 1159 2491 1159 1978 \nL 1159 0 \nL 581 0 \nL 581 4863 \nL 1159 4863 \nL 1159 2956 \nQ 1366 3272 1645 3428 \nQ 1925 3584 2291 3584 \nQ 2894 3584 3203 3211 \nQ 3513 2838 3513 2113 \nz\n\" transform=\"scale(0.015625)\"/>\n      </defs>\n      <use xlink:href=\"#DejaVuSans-65\"/>\n      <use xlink:href=\"#DejaVuSans-70\" transform=\"translate(61.523438 0)\"/>\n      <use xlink:href=\"#DejaVuSans-6f\" transform=\"translate(125 0)\"/>\n      <use xlink:href=\"#DejaVuSans-63\" transform=\"translate(186.181641 0)\"/>\n      <use xlink:href=\"#DejaVuSans-68\" transform=\"translate(241.162109 0)\"/>\n     </g>\n    </g>\n   </g>\n   <g id=\"matplotlib.axis_2\">\n    <g id=\"ytick_1\">\n     <g id=\"line2d_11\">\n      <path d=\"M 30.103125 117.365291 \nL 225.403125 117.365291 \n\" clip-path=\"url(#p11bee334aa)\" style=\"fill: none; stroke: #b0b0b0; stroke-width: 0.8; stroke-linecap: square\"/>\n     </g>\n     <g id=\"line2d_12\">\n      <defs>\n       <path id=\"mb45ed03e4a\" d=\"M 0 0 \nL -3.5 0 \n\" style=\"stroke: #000000; stroke-width: 0.8\"/>\n      </defs>\n      <g>\n       <use xlink:href=\"#mb45ed03e4a\" x=\"30.103125\" y=\"117.365291\" style=\"stroke: #000000; stroke-width: 0.8\"/>\n      </g>\n     </g>\n     <g id=\"text_7\">\n      <!-- 0.5 -->\n      <g transform=\"translate(7.2 121.16451) scale(0.1 -0.1)\">\n       <defs>\n        <path id=\"DejaVuSans-2e\" d=\"M 684 794 \nL 1344 794 \nL 1344 0 \nL 684 0 \nL 684 794 \nz\n\" transform=\"scale(0.015625)\"/>\n        <path id=\"DejaVuSans-35\" d=\"M 691 4666 \nL 3169 4666 \nL 3169 4134 \nL 1269 4134 \nL 1269 2991 \nQ 1406 3038 1543 3061 \nQ 1681 3084 1819 3084 \nQ 2600 3084 3056 2656 \nQ 3513 2228 3513 1497 \nQ 3513 744 3044 326 \nQ 2575 -91 1722 -91 \nQ 1428 -91 1123 -41 \nQ 819 9 494 109 \nL 494 744 \nQ 775 591 1075 516 \nQ 1375 441 1709 441 \nQ 2250 441 2565 725 \nQ 2881 1009 2881 1497 \nQ 2881 1984 2565 2268 \nQ 2250 2553 1709 2553 \nQ 1456 2553 1204 2497 \nQ 953 2441 691 2322 \nL 691 4666 \nz\n\" transform=\"scale(0.015625)\"/>\n       </defs>\n       <use xlink:href=\"#DejaVuSans-30\"/>\n       <use xlink:href=\"#DejaVuSans-2e\" transform=\"translate(63.623047 0)\"/>\n       <use xlink:href=\"#DejaVuSans-35\" transform=\"translate(95.410156 0)\"/>\n      </g>\n     </g>\n    </g>\n    <g id=\"ytick_2\">\n     <g id=\"line2d_13\">\n      <path d=\"M 30.103125 88.486337 \nL 225.403125 88.486337 \n\" clip-path=\"url(#p11bee334aa)\" style=\"fill: none; stroke: #b0b0b0; stroke-width: 0.8; stroke-linecap: square\"/>\n     </g>\n     <g id=\"line2d_14\">\n      <g>\n       <use xlink:href=\"#mb45ed03e4a\" x=\"30.103125\" y=\"88.486337\" style=\"stroke: #000000; stroke-width: 0.8\"/>\n      </g>\n     </g>\n     <g id=\"text_8\">\n      <!-- 1.0 -->\n      <g transform=\"translate(7.2 92.285556) scale(0.1 -0.1)\">\n       <use xlink:href=\"#DejaVuSans-31\"/>\n       <use xlink:href=\"#DejaVuSans-2e\" transform=\"translate(63.623047 0)\"/>\n       <use xlink:href=\"#DejaVuSans-30\" transform=\"translate(95.410156 0)\"/>\n      </g>\n     </g>\n    </g>\n    <g id=\"ytick_3\">\n     <g id=\"line2d_15\">\n      <path d=\"M 30.103125 59.607383 \nL 225.403125 59.607383 \n\" clip-path=\"url(#p11bee334aa)\" style=\"fill: none; stroke: #b0b0b0; stroke-width: 0.8; stroke-linecap: square\"/>\n     </g>\n     <g id=\"line2d_16\">\n      <g>\n       <use xlink:href=\"#mb45ed03e4a\" x=\"30.103125\" y=\"59.607383\" style=\"stroke: #000000; stroke-width: 0.8\"/>\n      </g>\n     </g>\n     <g id=\"text_9\">\n      <!-- 1.5 -->\n      <g transform=\"translate(7.2 63.406601) scale(0.1 -0.1)\">\n       <use xlink:href=\"#DejaVuSans-31\"/>\n       <use xlink:href=\"#DejaVuSans-2e\" transform=\"translate(63.623047 0)\"/>\n       <use xlink:href=\"#DejaVuSans-35\" transform=\"translate(95.410156 0)\"/>\n      </g>\n     </g>\n    </g>\n    <g id=\"ytick_4\">\n     <g id=\"line2d_17\">\n      <path d=\"M 30.103125 30.728429 \nL 225.403125 30.728429 \n\" clip-path=\"url(#p11bee334aa)\" style=\"fill: none; stroke: #b0b0b0; stroke-width: 0.8; stroke-linecap: square\"/>\n     </g>\n     <g id=\"line2d_18\">\n      <g>\n       <use xlink:href=\"#mb45ed03e4a\" x=\"30.103125\" y=\"30.728429\" style=\"stroke: #000000; stroke-width: 0.8\"/>\n      </g>\n     </g>\n     <g id=\"text_10\">\n      <!-- 2.0 -->\n      <g transform=\"translate(7.2 34.527647) scale(0.1 -0.1)\">\n       <use xlink:href=\"#DejaVuSans-32\"/>\n       <use xlink:href=\"#DejaVuSans-2e\" transform=\"translate(63.623047 0)\"/>\n       <use xlink:href=\"#DejaVuSans-30\" transform=\"translate(95.410156 0)\"/>\n      </g>\n     </g>\n    </g>\n   </g>\n   <g id=\"line2d_19\">\n    <path d=\"M 12.70611 13.5 \nL 17.009095 13.897601 \nL 21.31208 14.54868 \nL 25.615065 16.497641 \nL 29.91805 22.627652 \nL 30.103125 22.959369 \nL 34.40611 71.231585 \nL 38.709095 76.348049 \nL 43.01208 79.80967 \nL 47.315065 82.562333 \nL 51.61805 84.718613 \nL 51.803125 84.830233 \nL 56.10611 96.120991 \nL 60.409095 96.249487 \nL 64.71208 97.178161 \nL 69.015065 98.064095 \nL 73.31805 98.686437 \nL 73.503125 98.669438 \nL 77.80611 101.728527 \nL 82.109095 102.314311 \nL 86.41208 102.619794 \nL 90.715065 102.868839 \nL 95.01805 103.169651 \nL 95.203125 103.150366 \nL 99.50611 105.377567 \nL 103.809095 105.755693 \nL 108.11208 105.745198 \nL 112.415065 106.022997 \nL 116.71805 106.262383 \nL 116.903125 106.296186 \nL 121.20611 107.55744 \nL 125.509095 108.03912 \nL 129.81208 108.346743 \nL 134.115065 108.43514 \nL 138.41805 108.510392 \nL 138.603125 108.523931 \nL 142.90611 109.893462 \nL 147.209095 110.176387 \nL 151.51208 110.292192 \nL 155.815065 110.654164 \nL 160.11805 110.61109 \nL 160.303125 110.62332 \nL 164.60611 111.564116 \nL 168.909095 111.487733 \nL 173.21208 111.88004 \nL 177.515065 112.053832 \nL 181.81805 112.328682 \nL 182.003125 112.33586 \nL 186.30611 114.141363 \nL 190.609095 113.404509 \nL 194.91208 113.542543 \nL 199.215065 113.666028 \nL 203.51805 113.83305 \nL 203.703125 113.83936 \nL 208.00611 114.615186 \nL 212.309095 114.941521 \nL 216.61208 114.972438 \nL 220.915065 115.063616 \nL 225.21805 115.251244 \nL 225.403125 115.256764 \n\" clip-path=\"url(#p11bee334aa)\" style=\"fill: none; stroke: #1f77b4; stroke-width: 1.5; stroke-linecap: square\"/>\n   </g>\n   <g id=\"line2d_20\">\n    <path d=\"M 12.70611 139.5 \nL 17.009095 138.43014 \nL 21.31208 137.096655 \nL 25.615065 135.368543 \nL 29.91805 133.327318 \nL 30.103125 133.226575 \nL 34.40611 117.341031 \nL 38.709095 115.283794 \nL 43.01208 113.79262 \nL 47.315065 112.605504 \nL 51.61805 111.788431 \nL 51.803125 111.746409 \nL 56.10611 107.248923 \nL 60.409095 107.290165 \nL 64.71208 107.007942 \nL 69.015065 106.718845 \nL 73.31805 106.476489 \nL 73.503125 106.487552 \nL 77.80611 105.206242 \nL 82.109095 105.165 \nL 86.41208 105.059065 \nL 90.715065 104.930892 \nL 95.01805 104.751127 \nL 95.203125 104.75674 \nL 99.50611 103.867097 \nL 103.809095 103.837985 \nL 108.11208 103.860628 \nL 112.415065 103.774909 \nL 116.71805 103.730271 \nL 116.903125 103.715172 \nL 121.20611 103.474087 \nL 125.509095 103.119893 \nL 129.81208 102.972716 \nL 134.115065 102.86759 \nL 138.41805 102.872442 \nL 138.603125 102.868056 \nL 142.90611 102.367837 \nL 147.209095 102.253815 \nL 151.51208 102.162436 \nL 155.815065 101.966336 \nL 160.11805 102.015583 \nL 160.303125 102.009388 \nL 164.60611 101.484777 \nL 168.909095 101.603651 \nL 173.21208 101.442727 \nL 177.515065 101.388951 \nL 181.81805 101.332425 \nL 182.003125 101.326882 \nL 186.30611 100.752129 \nL 190.609095 100.960764 \nL 194.91208 100.930035 \nL 199.215065 100.877067 \nL 203.51805 100.771537 \nL 203.703125 100.768556 \nL 208.00611 100.334859 \nL 212.309095 100.308173 \nL 216.61208 100.308982 \nL 220.915065 100.276636 \nL 225.21805 100.166011 \nL 225.403125 100.164023 \n\" clip-path=\"url(#p11bee334aa)\" style=\"fill: none; stroke-dasharray: 5.55,2.4; stroke-dashoffset: 0; stroke: #bf00bf; stroke-width: 1.5\"/>\n   </g>\n   <g id=\"line2d_21\">\n    <path d=\"M 30.103125 111.381572 \nL 51.803125 105.640436 \nL 73.503125 104.46795 \nL 95.203125 103.226155 \nL 116.903125 102.394441 \nL 138.603125 101.69557 \nL 160.303125 101.43566 \nL 182.003125 100.679031 \nL 203.703125 99.916627 \nL 225.403125 99.460339 \n\" clip-path=\"url(#p11bee334aa)\" style=\"fill: none; stroke-dasharray: 9.6,2.4,1.5,2.4; stroke-dashoffset: 0; stroke: #008000; stroke-width: 1.5\"/>\n   </g>\n   <g id=\"patch_3\">\n    <path d=\"M 30.103125 145.8 \nL 30.103125 7.2 \n\" style=\"fill: none; stroke: #000000; stroke-width: 0.8; stroke-linejoin: miter; stroke-linecap: square\"/>\n   </g>\n   <g id=\"patch_4\">\n    <path d=\"M 225.403125 145.8 \nL 225.403125 7.2 \n\" style=\"fill: none; stroke: #000000; stroke-width: 0.8; stroke-linejoin: miter; stroke-linecap: square\"/>\n   </g>\n   <g id=\"patch_5\">\n    <path d=\"M 30.103125 145.8 \nL 225.403125 145.8 \n\" style=\"fill: none; stroke: #000000; stroke-width: 0.8; stroke-linejoin: miter; stroke-linecap: square\"/>\n   </g>\n   <g id=\"patch_6\">\n    <path d=\"M 30.103125 7.2 \nL 225.403125 7.2 \n\" style=\"fill: none; stroke: #000000; stroke-width: 0.8; stroke-linejoin: miter; stroke-linecap: square\"/>\n   </g>\n   <g id=\"legend_1\">\n    <g id=\"patch_7\">\n     <path d=\"M 140.634375 59.234375 \nL 218.403125 59.234375 \nQ 220.403125 59.234375 220.403125 57.234375 \nL 220.403125 14.2 \nQ 220.403125 12.2 218.403125 12.2 \nL 140.634375 12.2 \nQ 138.634375 12.2 138.634375 14.2 \nL 138.634375 57.234375 \nQ 138.634375 59.234375 140.634375 59.234375 \nz\n\" style=\"fill: #ffffff; opacity: 0.8; stroke: #cccccc; stroke-linejoin: miter\"/>\n    </g>\n    <g id=\"line2d_22\">\n     <path d=\"M 142.634375 20.298438 \nL 152.634375 20.298438 \nL 162.634375 20.298438 \n\" style=\"fill: none; stroke: #1f77b4; stroke-width: 1.5; stroke-linecap: square\"/>\n    </g>\n    <g id=\"text_11\">\n     <!-- train loss -->\n     <g transform=\"translate(170.634375 23.798438) scale(0.1 -0.1)\">\n      <defs>\n       <path id=\"DejaVuSans-74\" d=\"M 1172 4494 \nL 1172 3500 \nL 2356 3500 \nL 2356 3053 \nL 1172 3053 \nL 1172 1153 \nQ 1172 725 1289 603 \nQ 1406 481 1766 481 \nL 2356 481 \nL 2356 0 \nL 1766 0 \nQ 1100 0 847 248 \nQ 594 497 594 1153 \nL 594 3053 \nL 172 3053 \nL 172 3500 \nL 594 3500 \nL 594 4494 \nL 1172 4494 \nz\n\" transform=\"scale(0.015625)\"/>\n       <path id=\"DejaVuSans-72\" d=\"M 2631 2963 \nQ 2534 3019 2420 3045 \nQ 2306 3072 2169 3072 \nQ 1681 3072 1420 2755 \nQ 1159 2438 1159 1844 \nL 1159 0 \nL 581 0 \nL 581 3500 \nL 1159 3500 \nL 1159 2956 \nQ 1341 3275 1631 3429 \nQ 1922 3584 2338 3584 \nQ 2397 3584 2469 3576 \nQ 2541 3569 2628 3553 \nL 2631 2963 \nz\n\" transform=\"scale(0.015625)\"/>\n       <path id=\"DejaVuSans-61\" d=\"M 2194 1759 \nQ 1497 1759 1228 1600 \nQ 959 1441 959 1056 \nQ 959 750 1161 570 \nQ 1363 391 1709 391 \nQ 2188 391 2477 730 \nQ 2766 1069 2766 1631 \nL 2766 1759 \nL 2194 1759 \nz\nM 3341 1997 \nL 3341 0 \nL 2766 0 \nL 2766 531 \nQ 2569 213 2275 61 \nQ 1981 -91 1556 -91 \nQ 1019 -91 701 211 \nQ 384 513 384 1019 \nQ 384 1609 779 1909 \nQ 1175 2209 1959 2209 \nL 2766 2209 \nL 2766 2266 \nQ 2766 2663 2505 2880 \nQ 2244 3097 1772 3097 \nQ 1472 3097 1187 3025 \nQ 903 2953 641 2809 \nL 641 3341 \nQ 956 3463 1253 3523 \nQ 1550 3584 1831 3584 \nQ 2591 3584 2966 3190 \nQ 3341 2797 3341 1997 \nz\n\" transform=\"scale(0.015625)\"/>\n       <path id=\"DejaVuSans-69\" d=\"M 603 3500 \nL 1178 3500 \nL 1178 0 \nL 603 0 \nL 603 3500 \nz\nM 603 4863 \nL 1178 4863 \nL 1178 4134 \nL 603 4134 \nL 603 4863 \nz\n\" transform=\"scale(0.015625)\"/>\n       <path id=\"DejaVuSans-6e\" d=\"M 3513 2113 \nL 3513 0 \nL 2938 0 \nL 2938 2094 \nQ 2938 2591 2744 2837 \nQ 2550 3084 2163 3084 \nQ 1697 3084 1428 2787 \nQ 1159 2491 1159 1978 \nL 1159 0 \nL 581 0 \nL 581 3500 \nL 1159 3500 \nL 1159 2956 \nQ 1366 3272 1645 3428 \nQ 1925 3584 2291 3584 \nQ 2894 3584 3203 3211 \nQ 3513 2838 3513 2113 \nz\n\" transform=\"scale(0.015625)\"/>\n       <path id=\"DejaVuSans-20\" transform=\"scale(0.015625)\"/>\n       <path id=\"DejaVuSans-6c\" d=\"M 603 4863 \nL 1178 4863 \nL 1178 0 \nL 603 0 \nL 603 4863 \nz\n\" transform=\"scale(0.015625)\"/>\n       <path id=\"DejaVuSans-73\" d=\"M 2834 3397 \nL 2834 2853 \nQ 2591 2978 2328 3040 \nQ 2066 3103 1784 3103 \nQ 1356 3103 1142 2972 \nQ 928 2841 928 2578 \nQ 928 2378 1081 2264 \nQ 1234 2150 1697 2047 \nL 1894 2003 \nQ 2506 1872 2764 1633 \nQ 3022 1394 3022 966 \nQ 3022 478 2636 193 \nQ 2250 -91 1575 -91 \nQ 1294 -91 989 -36 \nQ 684 19 347 128 \nL 347 722 \nQ 666 556 975 473 \nQ 1284 391 1588 391 \nQ 1994 391 2212 530 \nQ 2431 669 2431 922 \nQ 2431 1156 2273 1281 \nQ 2116 1406 1581 1522 \nL 1381 1569 \nQ 847 1681 609 1914 \nQ 372 2147 372 2553 \nQ 372 3047 722 3315 \nQ 1072 3584 1716 3584 \nQ 2034 3584 2315 3537 \nQ 2597 3491 2834 3397 \nz\n\" transform=\"scale(0.015625)\"/>\n      </defs>\n      <use xlink:href=\"#DejaVuSans-74\"/>\n      <use xlink:href=\"#DejaVuSans-72\" transform=\"translate(39.208984 0)\"/>\n      <use xlink:href=\"#DejaVuSans-61\" transform=\"translate(80.322266 0)\"/>\n      <use xlink:href=\"#DejaVuSans-69\" transform=\"translate(141.601562 0)\"/>\n      <use xlink:href=\"#DejaVuSans-6e\" transform=\"translate(169.384766 0)\"/>\n      <use xlink:href=\"#DejaVuSans-20\" transform=\"translate(232.763672 0)\"/>\n      <use xlink:href=\"#DejaVuSans-6c\" transform=\"translate(264.550781 0)\"/>\n      <use xlink:href=\"#DejaVuSans-6f\" transform=\"translate(292.333984 0)\"/>\n      <use xlink:href=\"#DejaVuSans-73\" transform=\"translate(353.515625 0)\"/>\n      <use xlink:href=\"#DejaVuSans-73\" transform=\"translate(405.615234 0)\"/>\n     </g>\n    </g>\n    <g id=\"line2d_23\">\n     <path d=\"M 142.634375 34.976563 \nL 152.634375 34.976563 \nL 162.634375 34.976563 \n\" style=\"fill: none; stroke-dasharray: 5.55,2.4; stroke-dashoffset: 0; stroke: #bf00bf; stroke-width: 1.5\"/>\n    </g>\n    <g id=\"text_12\">\n     <!-- train acc -->\n     <g transform=\"translate(170.634375 38.476563) scale(0.1 -0.1)\">\n      <use xlink:href=\"#DejaVuSans-74\"/>\n      <use xlink:href=\"#DejaVuSans-72\" transform=\"translate(39.208984 0)\"/>\n      <use xlink:href=\"#DejaVuSans-61\" transform=\"translate(80.322266 0)\"/>\n      <use xlink:href=\"#DejaVuSans-69\" transform=\"translate(141.601562 0)\"/>\n      <use xlink:href=\"#DejaVuSans-6e\" transform=\"translate(169.384766 0)\"/>\n      <use xlink:href=\"#DejaVuSans-20\" transform=\"translate(232.763672 0)\"/>\n      <use xlink:href=\"#DejaVuSans-61\" transform=\"translate(264.550781 0)\"/>\n      <use xlink:href=\"#DejaVuSans-63\" transform=\"translate(325.830078 0)\"/>\n      <use xlink:href=\"#DejaVuSans-63\" transform=\"translate(380.810547 0)\"/>\n     </g>\n    </g>\n    <g id=\"line2d_24\">\n     <path d=\"M 142.634375 49.654688 \nL 152.634375 49.654688 \nL 162.634375 49.654688 \n\" style=\"fill: none; stroke-dasharray: 9.6,2.4,1.5,2.4; stroke-dashoffset: 0; stroke: #008000; stroke-width: 1.5\"/>\n    </g>\n    <g id=\"text_13\">\n     <!-- test acc -->\n     <g transform=\"translate(170.634375 53.154688) scale(0.1 -0.1)\">\n      <use xlink:href=\"#DejaVuSans-74\"/>\n      <use xlink:href=\"#DejaVuSans-65\" transform=\"translate(39.208984 0)\"/>\n      <use xlink:href=\"#DejaVuSans-73\" transform=\"translate(100.732422 0)\"/>\n      <use xlink:href=\"#DejaVuSans-74\" transform=\"translate(152.832031 0)\"/>\n      <use xlink:href=\"#DejaVuSans-20\" transform=\"translate(192.041016 0)\"/>\n      <use xlink:href=\"#DejaVuSans-61\" transform=\"translate(223.828125 0)\"/>\n      <use xlink:href=\"#DejaVuSans-63\" transform=\"translate(285.107422 0)\"/>\n      <use xlink:href=\"#DejaVuSans-63\" transform=\"translate(340.087891 0)\"/>\n     </g>\n    </g>\n   </g>\n  </g>\n </g>\n <defs>\n  <clipPath id=\"p11bee334aa\">\n   <rect x=\"30.103125\" y=\"7.2\" width=\"195.3\" height=\"138.6\"/>\n  </clipPath>\n </defs>\n</svg>\n"
          },
          "metadata": {}
        }
      ],
      "source": [
        "lr, num_epochs = 0.01, 10\n",
        "d2l.train_ch6(model, train_iter, test_iter, num_epochs, lr)"
      ]
    },
    {
      "cell_type": "code",
      "execution_count": 59,
      "metadata": {
        "id": "-AwwAvL-nFbO"
      },
      "outputs": [],
      "source": [
        "### AlexNet for 28×28 Fashion-MNIST resuls are:\n",
        "\n",
        "#Training Accuracy: 80%\n",
        "#Test Accuracy: 81%\n",
        "#Loss: 0.508\n",
        "#Speed: 11,429 examples/sec on CUDA\n",
        "\n",
        "# Compared to the standard AlexNet trained on ImageNet, this accuracy is expected since Fashion-MNIST is simpler.\n",
        "# With further tuning, we might reach higher test accuracy.I used the same epoch, lr as it is used in the original AlexNet.\n",
        "\n",
        "#(iii)\n",
        "# The Modified AlexNet (28×28)\n",
        "    # Test Accuracy: 82%\n",
        "    # Speed: 11,396 examples/sec on CUDA\n",
        "# Original AlexNet (224×224)\n",
        "    #Test Accuracy: 87\n",
        "    #Speed: 1,462 examples/sec on CUDA\n",
        "\n",
        "# The modified AlexNet(28) is  almost 8x faster than the original.\n",
        "# Original AlexNet works on 224x224 images, it means more memory and computation.\n",
        "# And the original AlexNet has more filer and pooling & stride sizes are optimized for 28×28.\n"
      ]
    },
    {
      "cell_type": "code",
      "execution_count": null,
      "metadata": {
        "id": "sBjMZF1wGaUp"
      },
      "outputs": [],
      "source": [
        "# for grader use only\n",
        "\n",
        "# insert grade here  (out of 12)\n",
        "\n",
        "# G[1] =\n",
        "#\n",
        "# please justify point subtractions when needed"
      ]
    },
    {
      "cell_type": "markdown",
      "metadata": {
        "id": "2pNQViWQjPKo"
      },
      "source": [
        "\n",
        "\n",
        "## <font color = 'blue'>  **Question 2** <font>\n",
        "\n",
        "<font color = 'blue'>  Now let's go back to the original Alexnet. In the class we trained it for 10 epochs.\n",
        "\n",
        "<font color = 'blue'>  (i) Train it for 50 epochs and record the training and test accuracy.\n",
        "\n",
        "<font color = 'blue'>  (ii) Take the MNIST dataloader and modify it, so that each image in the dataset gets a **random** label, in place of its correct label.\n",
        "\n",
        "<font color = 'blue'>  (iii) Retrain AlexNet with the new modified dataset. This time train it for 500 epochs. What is the training and test accuracy? Can you justify them? Discuss your thoughts.\n",
        "\n",
        "\n",
        "\n"
      ]
    },
    {
      "cell_type": "code",
      "execution_count": 44,
      "metadata": {
        "id": "oxqTLSCCpQOg",
        "colab": {
          "base_uri": "https://localhost:8080/"
        },
        "outputId": "f46c36ef-3f1f-4d64-f3e2-caf84566ba1a"
      },
      "outputs": [
        {
          "output_type": "stream",
          "name": "stderr",
          "text": [
            "/usr/local/lib/python3.11/dist-packages/torch/utils/data/dataloader.py:617: UserWarning: This DataLoader will create 4 worker processes in total. Our suggested max number of worker in current system is 2, which is smaller than what this DataLoader is going to create. Please be aware that excessive worker creation might get DataLoader running slow or even freeze, lower the worker number to avoid potential slowness/freeze if necessary.\n",
            "  warnings.warn(\n"
          ]
        }
      ],
      "source": [
        "# Q-2 (i)\n",
        "batch_size = 128\n",
        "train_iter, test_iter = d2l.load_data_fashion_mnist(batch_size)\n"
      ]
    },
    {
      "cell_type": "code",
      "execution_count": 45,
      "metadata": {
        "id": "1fhfxKH3p7_k",
        "colab": {
          "base_uri": "https://localhost:8080/"
        },
        "outputId": "721a1036-e304-45a4-c819-b1fe5fc75a6a"
      },
      "outputs": [
        {
          "output_type": "stream",
          "name": "stdout",
          "text": [
            "Conv2d Output shape:\t torch.Size([1, 96, 54, 54])\n",
            "ReLU Output shape:\t torch.Size([1, 96, 54, 54])\n",
            "MaxPool2d Output shape:\t torch.Size([1, 96, 26, 26])\n",
            "Conv2d Output shape:\t torch.Size([1, 256, 26, 26])\n",
            "ReLU Output shape:\t torch.Size([1, 256, 26, 26])\n",
            "MaxPool2d Output shape:\t torch.Size([1, 256, 12, 12])\n",
            "Conv2d Output shape:\t torch.Size([1, 384, 12, 12])\n",
            "ReLU Output shape:\t torch.Size([1, 384, 12, 12])\n",
            "Conv2d Output shape:\t torch.Size([1, 384, 12, 12])\n",
            "ReLU Output shape:\t torch.Size([1, 384, 12, 12])\n",
            "Conv2d Output shape:\t torch.Size([1, 256, 12, 12])\n",
            "ReLU Output shape:\t torch.Size([1, 256, 12, 12])\n",
            "MaxPool2d Output shape:\t torch.Size([1, 256, 5, 5])\n",
            "Flatten Output shape:\t torch.Size([1, 6400])\n",
            "Linear Output shape:\t torch.Size([1, 4096])\n",
            "ReLU Output shape:\t torch.Size([1, 4096])\n",
            "Dropout Output shape:\t torch.Size([1, 4096])\n",
            "Linear Output shape:\t torch.Size([1, 4096])\n",
            "ReLU Output shape:\t torch.Size([1, 4096])\n",
            "Dropout Output shape:\t torch.Size([1, 4096])\n",
            "Linear Output shape:\t torch.Size([1, 10])\n"
          ]
        }
      ],
      "source": [
        "X1 = torch.randn(1, 1, 224, 224).cuda()\n",
        "for layer in net:\n",
        "    X1=layer(X1)\n",
        "    print(layer.__class__.__name__,'Output shape:\\t',X1.shape)"
      ]
    },
    {
      "cell_type": "code",
      "execution_count": 46,
      "metadata": {
        "id": "8ZEhsGeqp56O",
        "colab": {
          "base_uri": "https://localhost:8080/",
          "height": 300
        },
        "outputId": "6b821440-2308-41ed-bcbf-6d7ebc8346c1"
      },
      "outputs": [
        {
          "output_type": "stream",
          "name": "stdout",
          "text": [
            "loss 0.249, train acc 0.909, test acc 0.901\n",
            "10424.4 examples/sec on cuda:0\n"
          ]
        },
        {
          "output_type": "display_data",
          "data": {
            "text/plain": [
              "<Figure size 350x250 with 1 Axes>"
            ],
            "image/svg+xml": "<?xml version=\"1.0\" encoding=\"utf-8\" standalone=\"no\"?>\n<!DOCTYPE svg PUBLIC \"-//W3C//DTD SVG 1.1//EN\"\n  \"http://www.w3.org/Graphics/SVG/1.1/DTD/svg11.dtd\">\n<svg xmlns:xlink=\"http://www.w3.org/1999/xlink\" width=\"238.965625pt\" height=\"183.35625pt\" viewBox=\"0 0 238.965625 183.35625\" xmlns=\"http://www.w3.org/2000/svg\" version=\"1.1\">\n <metadata>\n  <rdf:RDF xmlns:dc=\"http://purl.org/dc/elements/1.1/\" xmlns:cc=\"http://creativecommons.org/ns#\" xmlns:rdf=\"http://www.w3.org/1999/02/22-rdf-syntax-ns#\">\n   <cc:Work>\n    <dc:type rdf:resource=\"http://purl.org/dc/dcmitype/StillImage\"/>\n    <dc:date>2025-02-27T22:56:53.458858</dc:date>\n    <dc:format>image/svg+xml</dc:format>\n    <dc:creator>\n     <cc:Agent>\n      <dc:title>Matplotlib v3.10.0, https://matplotlib.org/</dc:title>\n     </cc:Agent>\n    </dc:creator>\n   </cc:Work>\n  </rdf:RDF>\n </metadata>\n <defs>\n  <style type=\"text/css\">*{stroke-linejoin: round; stroke-linecap: butt}</style>\n </defs>\n <g id=\"figure_1\">\n  <g id=\"patch_1\">\n   <path d=\"M 0 183.35625 \nL 238.965625 183.35625 \nL 238.965625 0 \nL 0 0 \nz\n\" style=\"fill: #ffffff\"/>\n  </g>\n  <g id=\"axes_1\">\n   <g id=\"patch_2\">\n    <path d=\"M 30.103125 145.8 \nL 225.403125 145.8 \nL 225.403125 7.2 \nL 30.103125 7.2 \nz\n\" style=\"fill: #ffffff\"/>\n   </g>\n   <g id=\"matplotlib.axis_1\">\n    <g id=\"xtick_1\">\n     <g id=\"line2d_1\">\n      <path d=\"M 65.974554 145.8 \nL 65.974554 7.2 \n\" clip-path=\"url(#p7a10633566)\" style=\"fill: none; stroke: #b0b0b0; stroke-width: 0.8; stroke-linecap: square\"/>\n     </g>\n     <g id=\"line2d_2\">\n      <defs>\n       <path id=\"m25682e1db2\" d=\"M 0 0 \nL 0 3.5 \n\" style=\"stroke: #000000; stroke-width: 0.8\"/>\n      </defs>\n      <g>\n       <use xlink:href=\"#m25682e1db2\" x=\"65.974554\" y=\"145.8\" style=\"stroke: #000000; stroke-width: 0.8\"/>\n      </g>\n     </g>\n     <g id=\"text_1\">\n      <!-- 10 -->\n      <g transform=\"translate(59.612054 160.398438) scale(0.1 -0.1)\">\n       <defs>\n        <path id=\"DejaVuSans-31\" d=\"M 794 531 \nL 1825 531 \nL 1825 4091 \nL 703 3866 \nL 703 4441 \nL 1819 4666 \nL 2450 4666 \nL 2450 531 \nL 3481 531 \nL 3481 0 \nL 794 0 \nL 794 531 \nz\n\" transform=\"scale(0.015625)\"/>\n        <path id=\"DejaVuSans-30\" d=\"M 2034 4250 \nQ 1547 4250 1301 3770 \nQ 1056 3291 1056 2328 \nQ 1056 1369 1301 889 \nQ 1547 409 2034 409 \nQ 2525 409 2770 889 \nQ 3016 1369 3016 2328 \nQ 3016 3291 2770 3770 \nQ 2525 4250 2034 4250 \nz\nM 2034 4750 \nQ 2819 4750 3233 4129 \nQ 3647 3509 3647 2328 \nQ 3647 1150 3233 529 \nQ 2819 -91 2034 -91 \nQ 1250 -91 836 529 \nQ 422 1150 422 2328 \nQ 422 3509 836 4129 \nQ 1250 4750 2034 4750 \nz\n\" transform=\"scale(0.015625)\"/>\n       </defs>\n       <use xlink:href=\"#DejaVuSans-31\"/>\n       <use xlink:href=\"#DejaVuSans-30\" transform=\"translate(63.623047 0)\"/>\n      </g>\n     </g>\n    </g>\n    <g id=\"xtick_2\">\n     <g id=\"line2d_3\">\n      <path d=\"M 105.831696 145.8 \nL 105.831696 7.2 \n\" clip-path=\"url(#p7a10633566)\" style=\"fill: none; stroke: #b0b0b0; stroke-width: 0.8; stroke-linecap: square\"/>\n     </g>\n     <g id=\"line2d_4\">\n      <g>\n       <use xlink:href=\"#m25682e1db2\" x=\"105.831696\" y=\"145.8\" style=\"stroke: #000000; stroke-width: 0.8\"/>\n      </g>\n     </g>\n     <g id=\"text_2\">\n      <!-- 20 -->\n      <g transform=\"translate(99.469196 160.398438) scale(0.1 -0.1)\">\n       <defs>\n        <path id=\"DejaVuSans-32\" d=\"M 1228 531 \nL 3431 531 \nL 3431 0 \nL 469 0 \nL 469 531 \nQ 828 903 1448 1529 \nQ 2069 2156 2228 2338 \nQ 2531 2678 2651 2914 \nQ 2772 3150 2772 3378 \nQ 2772 3750 2511 3984 \nQ 2250 4219 1831 4219 \nQ 1534 4219 1204 4116 \nQ 875 4013 500 3803 \nL 500 4441 \nQ 881 4594 1212 4672 \nQ 1544 4750 1819 4750 \nQ 2544 4750 2975 4387 \nQ 3406 4025 3406 3419 \nQ 3406 3131 3298 2873 \nQ 3191 2616 2906 2266 \nQ 2828 2175 2409 1742 \nQ 1991 1309 1228 531 \nz\n\" transform=\"scale(0.015625)\"/>\n       </defs>\n       <use xlink:href=\"#DejaVuSans-32\"/>\n       <use xlink:href=\"#DejaVuSans-30\" transform=\"translate(63.623047 0)\"/>\n      </g>\n     </g>\n    </g>\n    <g id=\"xtick_3\">\n     <g id=\"line2d_5\">\n      <path d=\"M 145.688839 145.8 \nL 145.688839 7.2 \n\" clip-path=\"url(#p7a10633566)\" style=\"fill: none; stroke: #b0b0b0; stroke-width: 0.8; stroke-linecap: square\"/>\n     </g>\n     <g id=\"line2d_6\">\n      <g>\n       <use xlink:href=\"#m25682e1db2\" x=\"145.688839\" y=\"145.8\" style=\"stroke: #000000; stroke-width: 0.8\"/>\n      </g>\n     </g>\n     <g id=\"text_3\">\n      <!-- 30 -->\n      <g transform=\"translate(139.326339 160.398438) scale(0.1 -0.1)\">\n       <defs>\n        <path id=\"DejaVuSans-33\" d=\"M 2597 2516 \nQ 3050 2419 3304 2112 \nQ 3559 1806 3559 1356 \nQ 3559 666 3084 287 \nQ 2609 -91 1734 -91 \nQ 1441 -91 1130 -33 \nQ 819 25 488 141 \nL 488 750 \nQ 750 597 1062 519 \nQ 1375 441 1716 441 \nQ 2309 441 2620 675 \nQ 2931 909 2931 1356 \nQ 2931 1769 2642 2001 \nQ 2353 2234 1838 2234 \nL 1294 2234 \nL 1294 2753 \nL 1863 2753 \nQ 2328 2753 2575 2939 \nQ 2822 3125 2822 3475 \nQ 2822 3834 2567 4026 \nQ 2313 4219 1838 4219 \nQ 1578 4219 1281 4162 \nQ 984 4106 628 3988 \nL 628 4550 \nQ 988 4650 1302 4700 \nQ 1616 4750 1894 4750 \nQ 2613 4750 3031 4423 \nQ 3450 4097 3450 3541 \nQ 3450 3153 3228 2886 \nQ 3006 2619 2597 2516 \nz\n\" transform=\"scale(0.015625)\"/>\n       </defs>\n       <use xlink:href=\"#DejaVuSans-33\"/>\n       <use xlink:href=\"#DejaVuSans-30\" transform=\"translate(63.623047 0)\"/>\n      </g>\n     </g>\n    </g>\n    <g id=\"xtick_4\">\n     <g id=\"line2d_7\">\n      <path d=\"M 185.545982 145.8 \nL 185.545982 7.2 \n\" clip-path=\"url(#p7a10633566)\" style=\"fill: none; stroke: #b0b0b0; stroke-width: 0.8; stroke-linecap: square\"/>\n     </g>\n     <g id=\"line2d_8\">\n      <g>\n       <use xlink:href=\"#m25682e1db2\" x=\"185.545982\" y=\"145.8\" style=\"stroke: #000000; stroke-width: 0.8\"/>\n      </g>\n     </g>\n     <g id=\"text_4\">\n      <!-- 40 -->\n      <g transform=\"translate(179.183482 160.398438) scale(0.1 -0.1)\">\n       <defs>\n        <path id=\"DejaVuSans-34\" d=\"M 2419 4116 \nL 825 1625 \nL 2419 1625 \nL 2419 4116 \nz\nM 2253 4666 \nL 3047 4666 \nL 3047 1625 \nL 3713 1625 \nL 3713 1100 \nL 3047 1100 \nL 3047 0 \nL 2419 0 \nL 2419 1100 \nL 313 1100 \nL 313 1709 \nL 2253 4666 \nz\n\" transform=\"scale(0.015625)\"/>\n       </defs>\n       <use xlink:href=\"#DejaVuSans-34\"/>\n       <use xlink:href=\"#DejaVuSans-30\" transform=\"translate(63.623047 0)\"/>\n      </g>\n     </g>\n    </g>\n    <g id=\"xtick_5\">\n     <g id=\"line2d_9\">\n      <path d=\"M 225.403125 145.8 \nL 225.403125 7.2 \n\" clip-path=\"url(#p7a10633566)\" style=\"fill: none; stroke: #b0b0b0; stroke-width: 0.8; stroke-linecap: square\"/>\n     </g>\n     <g id=\"line2d_10\">\n      <g>\n       <use xlink:href=\"#m25682e1db2\" x=\"225.403125\" y=\"145.8\" style=\"stroke: #000000; stroke-width: 0.8\"/>\n      </g>\n     </g>\n     <g id=\"text_5\">\n      <!-- 50 -->\n      <g transform=\"translate(219.040625 160.398438) scale(0.1 -0.1)\">\n       <defs>\n        <path id=\"DejaVuSans-35\" d=\"M 691 4666 \nL 3169 4666 \nL 3169 4134 \nL 1269 4134 \nL 1269 2991 \nQ 1406 3038 1543 3061 \nQ 1681 3084 1819 3084 \nQ 2600 3084 3056 2656 \nQ 3513 2228 3513 1497 \nQ 3513 744 3044 326 \nQ 2575 -91 1722 -91 \nQ 1428 -91 1123 -41 \nQ 819 9 494 109 \nL 494 744 \nQ 775 591 1075 516 \nQ 1375 441 1709 441 \nQ 2250 441 2565 725 \nQ 2881 1009 2881 1497 \nQ 2881 1984 2565 2268 \nQ 2250 2553 1709 2553 \nQ 1456 2553 1204 2497 \nQ 953 2441 691 2322 \nL 691 4666 \nz\n\" transform=\"scale(0.015625)\"/>\n       </defs>\n       <use xlink:href=\"#DejaVuSans-35\"/>\n       <use xlink:href=\"#DejaVuSans-30\" transform=\"translate(63.623047 0)\"/>\n      </g>\n     </g>\n    </g>\n    <g id=\"text_6\">\n     <!-- epoch -->\n     <g transform=\"translate(112.525 174.076563) scale(0.1 -0.1)\">\n      <defs>\n       <path id=\"DejaVuSans-65\" d=\"M 3597 1894 \nL 3597 1613 \nL 953 1613 \nQ 991 1019 1311 708 \nQ 1631 397 2203 397 \nQ 2534 397 2845 478 \nQ 3156 559 3463 722 \nL 3463 178 \nQ 3153 47 2828 -22 \nQ 2503 -91 2169 -91 \nQ 1331 -91 842 396 \nQ 353 884 353 1716 \nQ 353 2575 817 3079 \nQ 1281 3584 2069 3584 \nQ 2775 3584 3186 3129 \nQ 3597 2675 3597 1894 \nz\nM 3022 2063 \nQ 3016 2534 2758 2815 \nQ 2500 3097 2075 3097 \nQ 1594 3097 1305 2825 \nQ 1016 2553 972 2059 \nL 3022 2063 \nz\n\" transform=\"scale(0.015625)\"/>\n       <path id=\"DejaVuSans-70\" d=\"M 1159 525 \nL 1159 -1331 \nL 581 -1331 \nL 581 3500 \nL 1159 3500 \nL 1159 2969 \nQ 1341 3281 1617 3432 \nQ 1894 3584 2278 3584 \nQ 2916 3584 3314 3078 \nQ 3713 2572 3713 1747 \nQ 3713 922 3314 415 \nQ 2916 -91 2278 -91 \nQ 1894 -91 1617 61 \nQ 1341 213 1159 525 \nz\nM 3116 1747 \nQ 3116 2381 2855 2742 \nQ 2594 3103 2138 3103 \nQ 1681 3103 1420 2742 \nQ 1159 2381 1159 1747 \nQ 1159 1113 1420 752 \nQ 1681 391 2138 391 \nQ 2594 391 2855 752 \nQ 3116 1113 3116 1747 \nz\n\" transform=\"scale(0.015625)\"/>\n       <path id=\"DejaVuSans-6f\" d=\"M 1959 3097 \nQ 1497 3097 1228 2736 \nQ 959 2375 959 1747 \nQ 959 1119 1226 758 \nQ 1494 397 1959 397 \nQ 2419 397 2687 759 \nQ 2956 1122 2956 1747 \nQ 2956 2369 2687 2733 \nQ 2419 3097 1959 3097 \nz\nM 1959 3584 \nQ 2709 3584 3137 3096 \nQ 3566 2609 3566 1747 \nQ 3566 888 3137 398 \nQ 2709 -91 1959 -91 \nQ 1206 -91 779 398 \nQ 353 888 353 1747 \nQ 353 2609 779 3096 \nQ 1206 3584 1959 3584 \nz\n\" transform=\"scale(0.015625)\"/>\n       <path id=\"DejaVuSans-63\" d=\"M 3122 3366 \nL 3122 2828 \nQ 2878 2963 2633 3030 \nQ 2388 3097 2138 3097 \nQ 1578 3097 1268 2742 \nQ 959 2388 959 1747 \nQ 959 1106 1268 751 \nQ 1578 397 2138 397 \nQ 2388 397 2633 464 \nQ 2878 531 3122 666 \nL 3122 134 \nQ 2881 22 2623 -34 \nQ 2366 -91 2075 -91 \nQ 1284 -91 818 406 \nQ 353 903 353 1747 \nQ 353 2603 823 3093 \nQ 1294 3584 2113 3584 \nQ 2378 3584 2631 3529 \nQ 2884 3475 3122 3366 \nz\n\" transform=\"scale(0.015625)\"/>\n       <path id=\"DejaVuSans-68\" d=\"M 3513 2113 \nL 3513 0 \nL 2938 0 \nL 2938 2094 \nQ 2938 2591 2744 2837 \nQ 2550 3084 2163 3084 \nQ 1697 3084 1428 2787 \nQ 1159 2491 1159 1978 \nL 1159 0 \nL 581 0 \nL 581 4863 \nL 1159 4863 \nL 1159 2956 \nQ 1366 3272 1645 3428 \nQ 1925 3584 2291 3584 \nQ 2894 3584 3203 3211 \nQ 3513 2838 3513 2113 \nz\n\" transform=\"scale(0.015625)\"/>\n      </defs>\n      <use xlink:href=\"#DejaVuSans-65\"/>\n      <use xlink:href=\"#DejaVuSans-70\" transform=\"translate(61.523438 0)\"/>\n      <use xlink:href=\"#DejaVuSans-6f\" transform=\"translate(125 0)\"/>\n      <use xlink:href=\"#DejaVuSans-63\" transform=\"translate(186.181641 0)\"/>\n      <use xlink:href=\"#DejaVuSans-68\" transform=\"translate(241.162109 0)\"/>\n     </g>\n    </g>\n   </g>\n   <g id=\"matplotlib.axis_2\">\n    <g id=\"ytick_1\">\n     <g id=\"line2d_11\">\n      <path d=\"M 30.103125 145.562097 \nL 225.403125 145.562097 \n\" clip-path=\"url(#p7a10633566)\" style=\"fill: none; stroke: #b0b0b0; stroke-width: 0.8; stroke-linecap: square\"/>\n     </g>\n     <g id=\"line2d_12\">\n      <defs>\n       <path id=\"md867f837c5\" d=\"M 0 0 \nL -3.5 0 \n\" style=\"stroke: #000000; stroke-width: 0.8\"/>\n      </defs>\n      <g>\n       <use xlink:href=\"#md867f837c5\" x=\"30.103125\" y=\"145.562097\" style=\"stroke: #000000; stroke-width: 0.8\"/>\n      </g>\n     </g>\n     <g id=\"text_7\">\n      <!-- 0.0 -->\n      <g transform=\"translate(7.2 149.361316) scale(0.1 -0.1)\">\n       <defs>\n        <path id=\"DejaVuSans-2e\" d=\"M 684 794 \nL 1344 794 \nL 1344 0 \nL 684 0 \nL 684 794 \nz\n\" transform=\"scale(0.015625)\"/>\n       </defs>\n       <use xlink:href=\"#DejaVuSans-30\"/>\n       <use xlink:href=\"#DejaVuSans-2e\" transform=\"translate(63.623047 0)\"/>\n       <use xlink:href=\"#DejaVuSans-30\" transform=\"translate(95.410156 0)\"/>\n      </g>\n     </g>\n    </g>\n    <g id=\"ytick_2\">\n     <g id=\"line2d_13\">\n      <path d=\"M 30.103125 116.880378 \nL 225.403125 116.880378 \n\" clip-path=\"url(#p7a10633566)\" style=\"fill: none; stroke: #b0b0b0; stroke-width: 0.8; stroke-linecap: square\"/>\n     </g>\n     <g id=\"line2d_14\">\n      <g>\n       <use xlink:href=\"#md867f837c5\" x=\"30.103125\" y=\"116.880378\" style=\"stroke: #000000; stroke-width: 0.8\"/>\n      </g>\n     </g>\n     <g id=\"text_8\">\n      <!-- 0.5 -->\n      <g transform=\"translate(7.2 120.679596) scale(0.1 -0.1)\">\n       <use xlink:href=\"#DejaVuSans-30\"/>\n       <use xlink:href=\"#DejaVuSans-2e\" transform=\"translate(63.623047 0)\"/>\n       <use xlink:href=\"#DejaVuSans-35\" transform=\"translate(95.410156 0)\"/>\n      </g>\n     </g>\n    </g>\n    <g id=\"ytick_3\">\n     <g id=\"line2d_15\">\n      <path d=\"M 30.103125 88.198658 \nL 225.403125 88.198658 \n\" clip-path=\"url(#p7a10633566)\" style=\"fill: none; stroke: #b0b0b0; stroke-width: 0.8; stroke-linecap: square\"/>\n     </g>\n     <g id=\"line2d_16\">\n      <g>\n       <use xlink:href=\"#md867f837c5\" x=\"30.103125\" y=\"88.198658\" style=\"stroke: #000000; stroke-width: 0.8\"/>\n      </g>\n     </g>\n     <g id=\"text_9\">\n      <!-- 1.0 -->\n      <g transform=\"translate(7.2 91.997877) scale(0.1 -0.1)\">\n       <use xlink:href=\"#DejaVuSans-31\"/>\n       <use xlink:href=\"#DejaVuSans-2e\" transform=\"translate(63.623047 0)\"/>\n       <use xlink:href=\"#DejaVuSans-30\" transform=\"translate(95.410156 0)\"/>\n      </g>\n     </g>\n    </g>\n    <g id=\"ytick_4\">\n     <g id=\"line2d_17\">\n      <path d=\"M 30.103125 59.516938 \nL 225.403125 59.516938 \n\" clip-path=\"url(#p7a10633566)\" style=\"fill: none; stroke: #b0b0b0; stroke-width: 0.8; stroke-linecap: square\"/>\n     </g>\n     <g id=\"line2d_18\">\n      <g>\n       <use xlink:href=\"#md867f837c5\" x=\"30.103125\" y=\"59.516938\" style=\"stroke: #000000; stroke-width: 0.8\"/>\n      </g>\n     </g>\n     <g id=\"text_10\">\n      <!-- 1.5 -->\n      <g transform=\"translate(7.2 63.316157) scale(0.1 -0.1)\">\n       <use xlink:href=\"#DejaVuSans-31\"/>\n       <use xlink:href=\"#DejaVuSans-2e\" transform=\"translate(63.623047 0)\"/>\n       <use xlink:href=\"#DejaVuSans-35\" transform=\"translate(95.410156 0)\"/>\n      </g>\n     </g>\n    </g>\n    <g id=\"ytick_5\">\n     <g id=\"line2d_19\">\n      <path d=\"M 30.103125 30.835218 \nL 225.403125 30.835218 \n\" clip-path=\"url(#p7a10633566)\" style=\"fill: none; stroke: #b0b0b0; stroke-width: 0.8; stroke-linecap: square\"/>\n     </g>\n     <g id=\"line2d_20\">\n      <g>\n       <use xlink:href=\"#md867f837c5\" x=\"30.103125\" y=\"30.835218\" style=\"stroke: #000000; stroke-width: 0.8\"/>\n      </g>\n     </g>\n     <g id=\"text_11\">\n      <!-- 2.0 -->\n      <g transform=\"translate(7.2 34.634437) scale(0.1 -0.1)\">\n       <use xlink:href=\"#DejaVuSans-32\"/>\n       <use xlink:href=\"#DejaVuSans-2e\" transform=\"translate(63.623047 0)\"/>\n       <use xlink:href=\"#DejaVuSans-30\" transform=\"translate(95.410156 0)\"/>\n      </g>\n     </g>\n    </g>\n   </g>\n   <g id=\"line2d_21\">\n    <path d=\"M 26.907755 13.5 \nL 27.698099 14.242902 \nL 28.488443 15.520492 \nL 29.278788 19.413152 \nL 30.103125 28.283052 \nL 30.893469 78.015032 \nL 32.474158 83.568985 \nL 33.264502 85.838761 \nL 34.088839 87.643585 \nL 34.879183 96.0064 \nL 35.669528 96.974999 \nL 36.459872 97.691591 \nL 37.250216 98.573744 \nL 38.074554 99.055961 \nL 38.864898 102.394377 \nL 39.655242 102.906785 \nL 40.445586 103.127148 \nL 41.23593 103.623021 \nL 42.060268 103.811777 \nL 42.850612 105.910202 \nL 43.640956 106.617618 \nL 45.221645 106.596117 \nL 46.045982 106.961913 \nL 46.836326 107.860207 \nL 48.417015 108.862901 \nL 50.031696 109.436738 \nL 50.822041 110.127533 \nL 51.612385 110.574413 \nL 54.017411 111.447635 \nL 54.807755 112.009384 \nL 57.178788 112.960261 \nL 58.003125 113.178525 \nL 58.793469 114.184499 \nL 59.583813 113.961989 \nL 60.374158 114.143338 \nL 61.164502 114.44729 \nL 61.988839 114.621812 \nL 62.779183 115.339515 \nL 63.569528 115.87769 \nL 65.94056 115.757028 \nL 65.974554 115.783537 \nL 66.764898 116.637165 \nL 67.555242 116.839084 \nL 69.13593 116.781996 \nL 69.960268 116.824619 \nL 70.750612 117.718729 \nL 71.540956 117.703389 \nL 72.3313 117.573221 \nL 73.945982 117.750292 \nL 74.736326 118.00581 \nL 75.526671 118.531871 \nL 76.317015 118.46478 \nL 77.931696 118.68567 \nL 78.722041 119.150419 \nL 79.512385 119.041775 \nL 80.302729 119.152184 \nL 81.093073 119.435079 \nL 81.917411 119.448083 \nL 82.707755 120.21038 \nL 83.498099 119.846381 \nL 85.903125 120.062073 \nL 86.693469 120.513866 \nL 87.483813 120.580368 \nL 88.274158 120.803301 \nL 89.064502 120.902577 \nL 89.888839 120.845057 \nL 91.469528 121.266038 \nL 92.259872 121.104612 \nL 93.050216 121.153563 \nL 93.874554 121.333019 \nL 94.664898 122.185849 \nL 95.455242 122.047138 \nL 97.860268 122.039742 \nL 98.650612 122.389697 \nL 99.440956 122.493307 \nL 100.2313 122.417718 \nL 101.021645 122.561219 \nL 101.845982 122.588117 \nL 102.636326 123.072479 \nL 105.797703 123.137163 \nL 105.831696 123.15753 \nL 106.622041 123.264285 \nL 108.202729 123.204924 \nL 109.817411 123.616005 \nL 110.607755 124.481625 \nL 114.593469 123.969606 \nL 115.383813 124.31406 \nL 118.579183 124.756237 \nL 119.369528 125.025665 \nL 120.159872 124.717132 \nL 121.774554 124.966145 \nL 122.564898 126.005879 \nL 124.145586 125.670549 \nL 124.93593 125.557555 \nL 125.760268 125.31019 \nL 126.550612 125.766319 \nL 128.921645 125.605852 \nL 130.536326 125.846705 \nL 131.326671 126.165094 \nL 132.117015 126.1298 \nL 132.907359 126.216064 \nL 134.522041 126.215632 \nL 137.717411 126.379502 \nL 138.507755 126.790202 \nL 139.298099 126.688455 \nL 140.088443 126.841708 \nL 141.703125 126.747965 \nL 142.493469 127.037618 \nL 143.283813 127.040927 \nL 144.074158 126.893956 \nL 146.479183 127.157808 \nL 147.269528 127.01242 \nL 148.059872 127.045591 \nL 149.674554 127.343109 \nL 153.660268 127.654084 \nL 154.450612 128.407474 \nL 155.240956 127.786587 \nL 156.0313 127.70262 \nL 157.645982 127.822895 \nL 159.226671 128.219535 \nL 161.631696 128.07428 \nL 162.422041 127.935629 \nL 163.212385 127.99256 \nL 164.793073 128.284407 \nL 165.617411 128.260645 \nL 166.407755 128.562205 \nL 169.603125 128.650193 \nL 170.393469 128.600736 \nL 171.183813 128.824011 \nL 172.764502 128.652145 \nL 173.588839 128.759032 \nL 174.379183 128.610155 \nL 176.750216 128.979344 \nL 177.574554 128.968281 \nL 178.364898 129.664783 \nL 179.155242 129.417693 \nL 179.945586 129.318162 \nL 180.73593 129.36531 \nL 181.560268 129.248202 \nL 182.350612 129.784068 \nL 183.140956 129.215251 \nL 183.9313 129.466064 \nL 185.545982 129.379532 \nL 187.126671 129.765196 \nL 189.531696 129.590218 \nL 191.112385 129.996529 \nL 191.902729 129.858515 \nL 193.517411 129.858949 \nL 194.307755 130.36766 \nL 195.888443 129.907867 \nL 196.678788 130.04886 \nL 199.083813 129.988907 \nL 199.874158 130.121512 \nL 201.488839 130.176915 \nL 202.279183 130.508897 \nL 203.069528 130.354181 \nL 205.474554 130.500838 \nL 206.264898 130.837149 \nL 207.055242 130.561406 \nL 207.845586 130.613065 \nL 209.460268 130.546579 \nL 210.250612 130.940837 \nL 211.8313 130.940558 \nL 212.621645 130.767282 \nL 213.445982 130.753267 \nL 214.236326 130.912543 \nL 217.431696 130.999765 \nL 218.222041 131.537702 \nL 219.012385 131.274436 \nL 220.593073 131.1089 \nL 221.417411 131.142899 \nL 222.207755 130.990784 \nL 223.788443 131.049521 \nL 225.403125 131.25525 \nL 225.403125 131.25525 \n\" clip-path=\"url(#p7a10633566)\" style=\"fill: none; stroke: #1f77b4; stroke-width: 1.5; stroke-linecap: square\"/>\n   </g>\n   <g id=\"line2d_22\">\n    <path d=\"M 26.907755 139.5 \nL 27.698099 138.280834 \nL 28.488443 136.05935 \nL 30.103125 130.382775 \nL 30.893469 114.311937 \nL 32.474158 111.791685 \nL 33.264502 110.917066 \nL 34.088839 110.202317 \nL 34.879183 106.601798 \nL 36.459872 106.195409 \nL 37.250216 105.872948 \nL 38.074554 105.758563 \nL 38.864898 104.495966 \nL 42.060268 104.112232 \nL 42.850612 103.300894 \nL 43.640956 103.071999 \nL 45.221645 103.031039 \nL 46.045982 102.884654 \nL 49.207359 102.078114 \nL 50.031696 101.997433 \nL 50.822041 101.546837 \nL 52.402729 101.34284 \nL 53.193073 101.356493 \nL 55.598099 100.869791 \nL 58.003125 100.53849 \nL 58.793469 100.279483 \nL 61.164502 100.122871 \nL 62.779183 99.783143 \nL 63.569528 99.578342 \nL 65.974554 99.447628 \nL 67.555242 99.096458 \nL 69.13593 99.179583 \nL 69.960268 99.143602 \nL 70.750612 98.891658 \nL 72.3313 98.777612 \nL 74.736326 98.59289 \nL 75.526671 98.380861 \nL 81.917411 98.010674 \nL 82.707755 97.792963 \nL 84.288443 97.836332 \nL 89.888839 97.396885 \nL 90.679183 97.147239 \nL 92.259872 97.338386 \nL 93.874554 97.219059 \nL 94.664898 96.964123 \nL 105.831696 96.492455 \nL 106.622041 96.289486 \nL 108.993073 96.338879 \nL 109.817411 96.274474 \nL 110.607755 96.029268 \nL 111.398099 95.964214 \nL 112.978788 96.079866 \nL 113.803125 96.064141 \nL 114.593469 96.246116 \nL 115.383813 96.060591 \nL 116.964502 95.938915 \nL 119.369528 95.819649 \nL 120.159872 95.889522 \nL 121.774554 95.752467 \nL 122.564898 95.296805 \nL 124.145586 95.369088 \nL 128.1313 95.629305 \nL 131.326671 95.330537 \nL 133.731696 95.363351 \nL 139.298099 95.166697 \nL 142.493469 95.017313 \nL 144.864502 95.085981 \nL 148.059872 94.925755 \nL 152.83593 94.730592 \nL 153.660268 94.727573 \nL 154.450612 94.545067 \nL 155.240956 94.723364 \nL 157.645982 94.712276 \nL 158.436326 94.540248 \nL 159.226671 94.496878 \nL 160.807359 94.59205 \nL 164.793073 94.604097 \nL 165.617411 94.573648 \nL 166.407755 94.304125 \nL 169.603125 94.377656 \nL 170.393469 94.578798 \nL 171.183813 94.294487 \nL 173.588839 94.339414 \nL 178.364898 94.11619 \nL 179.945586 94.199717 \nL 182.350612 94.145103 \nL 183.140956 94.258346 \nL 183.9313 94.162772 \nL 186.336326 94.149922 \nL 187.917015 94.119403 \nL 189.531696 94.174972 \nL 191.112385 93.921027 \nL 192.693073 93.953554 \nL 193.517411 93.938826 \nL 194.307755 93.78369 \nL 195.888443 93.947531 \nL 196.678788 93.863201 \nL 199.083813 93.947531 \nL 200.664502 93.865611 \nL 203.859872 93.835091 \nL 205.474554 93.709372 \nL 206.264898 93.716227 \nL 207.055242 93.853563 \nL 207.845586 93.749958 \nL 209.460268 93.803066 \nL 210.250612 93.562024 \nL 213.445982 93.67591 \nL 214.236326 93.528292 \nL 216.607359 93.583709 \nL 217.431696 93.559271 \nL 218.222041 93.36927 \nL 220.593073 93.534315 \nL 225.403125 93.434984 \nL 225.403125 93.434984 \n\" clip-path=\"url(#p7a10633566)\" style=\"fill: none; stroke-dasharray: 5.55,2.4; stroke-dashoffset: 0; stroke: #bf00bf; stroke-width: 1.5\"/>\n   </g>\n   <g id=\"line2d_23\">\n    <path d=\"M 30.103125 112.738737 \nL 34.088839 105.086454 \nL 38.074554 103.812986 \nL 42.060268 102.74029 \nL 46.045982 101.529921 \nL 50.031696 101.197213 \nL 54.017411 100.405598 \nL 58.003125 100.00979 \nL 61.988839 99.06903 \nL 65.974554 98.851049 \nL 69.960268 98.495395 \nL 73.945982 98.197105 \nL 77.931696 98.311832 \nL 81.917411 97.657889 \nL 85.903125 97.600526 \nL 89.888839 97.198981 \nL 93.874554 96.958055 \nL 97.860268 96.499148 \nL 101.845982 96.906428 \nL 105.831696 96.344266 \nL 109.817411 96.390157 \nL 113.803125 95.971404 \nL 117.788839 95.782105 \nL 121.774554 95.988613 \nL 125.760268 95.598542 \nL 129.745982 95.644432 \nL 133.731696 95.340406 \nL 137.717411 95.214206 \nL 141.703125 95.179788 \nL 145.688839 95.455133 \nL 149.674554 95.185525 \nL 153.660268 95.030643 \nL 157.645982 94.84708 \nL 161.631696 94.875762 \nL 165.617411 94.806926 \nL 169.603125 95.14537 \nL 173.588839 94.749563 \nL 177.574554 94.634836 \nL 181.560268 94.525845 \nL 185.545982 94.359491 \nL 189.531696 94.709408 \nL 193.517411 94.411118 \nL 197.503125 94.399646 \nL 201.488839 94.3767 \nL 205.474554 94.520109 \nL 209.460268 94.175928 \nL 213.445982 94.175928 \nL 217.431696 94.479954 \nL 221.417411 94.33081 \nL 225.403125 93.883375 \n\" clip-path=\"url(#p7a10633566)\" style=\"fill: none; stroke-dasharray: 9.6,2.4,1.5,2.4; stroke-dashoffset: 0; stroke: #008000; stroke-width: 1.5\"/>\n   </g>\n   <g id=\"patch_3\">\n    <path d=\"M 30.103125 145.8 \nL 30.103125 7.2 \n\" style=\"fill: none; stroke: #000000; stroke-width: 0.8; stroke-linejoin: miter; stroke-linecap: square\"/>\n   </g>\n   <g id=\"patch_4\">\n    <path d=\"M 225.403125 145.8 \nL 225.403125 7.2 \n\" style=\"fill: none; stroke: #000000; stroke-width: 0.8; stroke-linejoin: miter; stroke-linecap: square\"/>\n   </g>\n   <g id=\"patch_5\">\n    <path d=\"M 30.103125 145.8 \nL 225.403125 145.8 \n\" style=\"fill: none; stroke: #000000; stroke-width: 0.8; stroke-linejoin: miter; stroke-linecap: square\"/>\n   </g>\n   <g id=\"patch_6\">\n    <path d=\"M 30.103125 7.2 \nL 225.403125 7.2 \n\" style=\"fill: none; stroke: #000000; stroke-width: 0.8; stroke-linejoin: miter; stroke-linecap: square\"/>\n   </g>\n   <g id=\"legend_1\">\n    <g id=\"patch_7\">\n     <path d=\"M 140.634375 59.234375 \nL 218.403125 59.234375 \nQ 220.403125 59.234375 220.403125 57.234375 \nL 220.403125 14.2 \nQ 220.403125 12.2 218.403125 12.2 \nL 140.634375 12.2 \nQ 138.634375 12.2 138.634375 14.2 \nL 138.634375 57.234375 \nQ 138.634375 59.234375 140.634375 59.234375 \nz\n\" style=\"fill: #ffffff; opacity: 0.8; stroke: #cccccc; stroke-linejoin: miter\"/>\n    </g>\n    <g id=\"line2d_24\">\n     <path d=\"M 142.634375 20.298438 \nL 152.634375 20.298438 \nL 162.634375 20.298438 \n\" style=\"fill: none; stroke: #1f77b4; stroke-width: 1.5; stroke-linecap: square\"/>\n    </g>\n    <g id=\"text_12\">\n     <!-- train loss -->\n     <g transform=\"translate(170.634375 23.798438) scale(0.1 -0.1)\">\n      <defs>\n       <path id=\"DejaVuSans-74\" d=\"M 1172 4494 \nL 1172 3500 \nL 2356 3500 \nL 2356 3053 \nL 1172 3053 \nL 1172 1153 \nQ 1172 725 1289 603 \nQ 1406 481 1766 481 \nL 2356 481 \nL 2356 0 \nL 1766 0 \nQ 1100 0 847 248 \nQ 594 497 594 1153 \nL 594 3053 \nL 172 3053 \nL 172 3500 \nL 594 3500 \nL 594 4494 \nL 1172 4494 \nz\n\" transform=\"scale(0.015625)\"/>\n       <path id=\"DejaVuSans-72\" d=\"M 2631 2963 \nQ 2534 3019 2420 3045 \nQ 2306 3072 2169 3072 \nQ 1681 3072 1420 2755 \nQ 1159 2438 1159 1844 \nL 1159 0 \nL 581 0 \nL 581 3500 \nL 1159 3500 \nL 1159 2956 \nQ 1341 3275 1631 3429 \nQ 1922 3584 2338 3584 \nQ 2397 3584 2469 3576 \nQ 2541 3569 2628 3553 \nL 2631 2963 \nz\n\" transform=\"scale(0.015625)\"/>\n       <path id=\"DejaVuSans-61\" d=\"M 2194 1759 \nQ 1497 1759 1228 1600 \nQ 959 1441 959 1056 \nQ 959 750 1161 570 \nQ 1363 391 1709 391 \nQ 2188 391 2477 730 \nQ 2766 1069 2766 1631 \nL 2766 1759 \nL 2194 1759 \nz\nM 3341 1997 \nL 3341 0 \nL 2766 0 \nL 2766 531 \nQ 2569 213 2275 61 \nQ 1981 -91 1556 -91 \nQ 1019 -91 701 211 \nQ 384 513 384 1019 \nQ 384 1609 779 1909 \nQ 1175 2209 1959 2209 \nL 2766 2209 \nL 2766 2266 \nQ 2766 2663 2505 2880 \nQ 2244 3097 1772 3097 \nQ 1472 3097 1187 3025 \nQ 903 2953 641 2809 \nL 641 3341 \nQ 956 3463 1253 3523 \nQ 1550 3584 1831 3584 \nQ 2591 3584 2966 3190 \nQ 3341 2797 3341 1997 \nz\n\" transform=\"scale(0.015625)\"/>\n       <path id=\"DejaVuSans-69\" d=\"M 603 3500 \nL 1178 3500 \nL 1178 0 \nL 603 0 \nL 603 3500 \nz\nM 603 4863 \nL 1178 4863 \nL 1178 4134 \nL 603 4134 \nL 603 4863 \nz\n\" transform=\"scale(0.015625)\"/>\n       <path id=\"DejaVuSans-6e\" d=\"M 3513 2113 \nL 3513 0 \nL 2938 0 \nL 2938 2094 \nQ 2938 2591 2744 2837 \nQ 2550 3084 2163 3084 \nQ 1697 3084 1428 2787 \nQ 1159 2491 1159 1978 \nL 1159 0 \nL 581 0 \nL 581 3500 \nL 1159 3500 \nL 1159 2956 \nQ 1366 3272 1645 3428 \nQ 1925 3584 2291 3584 \nQ 2894 3584 3203 3211 \nQ 3513 2838 3513 2113 \nz\n\" transform=\"scale(0.015625)\"/>\n       <path id=\"DejaVuSans-20\" transform=\"scale(0.015625)\"/>\n       <path id=\"DejaVuSans-6c\" d=\"M 603 4863 \nL 1178 4863 \nL 1178 0 \nL 603 0 \nL 603 4863 \nz\n\" transform=\"scale(0.015625)\"/>\n       <path id=\"DejaVuSans-73\" d=\"M 2834 3397 \nL 2834 2853 \nQ 2591 2978 2328 3040 \nQ 2066 3103 1784 3103 \nQ 1356 3103 1142 2972 \nQ 928 2841 928 2578 \nQ 928 2378 1081 2264 \nQ 1234 2150 1697 2047 \nL 1894 2003 \nQ 2506 1872 2764 1633 \nQ 3022 1394 3022 966 \nQ 3022 478 2636 193 \nQ 2250 -91 1575 -91 \nQ 1294 -91 989 -36 \nQ 684 19 347 128 \nL 347 722 \nQ 666 556 975 473 \nQ 1284 391 1588 391 \nQ 1994 391 2212 530 \nQ 2431 669 2431 922 \nQ 2431 1156 2273 1281 \nQ 2116 1406 1581 1522 \nL 1381 1569 \nQ 847 1681 609 1914 \nQ 372 2147 372 2553 \nQ 372 3047 722 3315 \nQ 1072 3584 1716 3584 \nQ 2034 3584 2315 3537 \nQ 2597 3491 2834 3397 \nz\n\" transform=\"scale(0.015625)\"/>\n      </defs>\n      <use xlink:href=\"#DejaVuSans-74\"/>\n      <use xlink:href=\"#DejaVuSans-72\" transform=\"translate(39.208984 0)\"/>\n      <use xlink:href=\"#DejaVuSans-61\" transform=\"translate(80.322266 0)\"/>\n      <use xlink:href=\"#DejaVuSans-69\" transform=\"translate(141.601562 0)\"/>\n      <use xlink:href=\"#DejaVuSans-6e\" transform=\"translate(169.384766 0)\"/>\n      <use xlink:href=\"#DejaVuSans-20\" transform=\"translate(232.763672 0)\"/>\n      <use xlink:href=\"#DejaVuSans-6c\" transform=\"translate(264.550781 0)\"/>\n      <use xlink:href=\"#DejaVuSans-6f\" transform=\"translate(292.333984 0)\"/>\n      <use xlink:href=\"#DejaVuSans-73\" transform=\"translate(353.515625 0)\"/>\n      <use xlink:href=\"#DejaVuSans-73\" transform=\"translate(405.615234 0)\"/>\n     </g>\n    </g>\n    <g id=\"line2d_25\">\n     <path d=\"M 142.634375 34.976563 \nL 152.634375 34.976563 \nL 162.634375 34.976563 \n\" style=\"fill: none; stroke-dasharray: 5.55,2.4; stroke-dashoffset: 0; stroke: #bf00bf; stroke-width: 1.5\"/>\n    </g>\n    <g id=\"text_13\">\n     <!-- train acc -->\n     <g transform=\"translate(170.634375 38.476563) scale(0.1 -0.1)\">\n      <use xlink:href=\"#DejaVuSans-74\"/>\n      <use xlink:href=\"#DejaVuSans-72\" transform=\"translate(39.208984 0)\"/>\n      <use xlink:href=\"#DejaVuSans-61\" transform=\"translate(80.322266 0)\"/>\n      <use xlink:href=\"#DejaVuSans-69\" transform=\"translate(141.601562 0)\"/>\n      <use xlink:href=\"#DejaVuSans-6e\" transform=\"translate(169.384766 0)\"/>\n      <use xlink:href=\"#DejaVuSans-20\" transform=\"translate(232.763672 0)\"/>\n      <use xlink:href=\"#DejaVuSans-61\" transform=\"translate(264.550781 0)\"/>\n      <use xlink:href=\"#DejaVuSans-63\" transform=\"translate(325.830078 0)\"/>\n      <use xlink:href=\"#DejaVuSans-63\" transform=\"translate(380.810547 0)\"/>\n     </g>\n    </g>\n    <g id=\"line2d_26\">\n     <path d=\"M 142.634375 49.654688 \nL 152.634375 49.654688 \nL 162.634375 49.654688 \n\" style=\"fill: none; stroke-dasharray: 9.6,2.4,1.5,2.4; stroke-dashoffset: 0; stroke: #008000; stroke-width: 1.5\"/>\n    </g>\n    <g id=\"text_14\">\n     <!-- test acc -->\n     <g transform=\"translate(170.634375 53.154688) scale(0.1 -0.1)\">\n      <use xlink:href=\"#DejaVuSans-74\"/>\n      <use xlink:href=\"#DejaVuSans-65\" transform=\"translate(39.208984 0)\"/>\n      <use xlink:href=\"#DejaVuSans-73\" transform=\"translate(100.732422 0)\"/>\n      <use xlink:href=\"#DejaVuSans-74\" transform=\"translate(152.832031 0)\"/>\n      <use xlink:href=\"#DejaVuSans-20\" transform=\"translate(192.041016 0)\"/>\n      <use xlink:href=\"#DejaVuSans-61\" transform=\"translate(223.828125 0)\"/>\n      <use xlink:href=\"#DejaVuSans-63\" transform=\"translate(285.107422 0)\"/>\n      <use xlink:href=\"#DejaVuSans-63\" transform=\"translate(340.087891 0)\"/>\n     </g>\n    </g>\n   </g>\n  </g>\n </g>\n <defs>\n  <clipPath id=\"p7a10633566\">\n   <rect x=\"30.103125\" y=\"7.2\" width=\"195.3\" height=\"138.6\"/>\n  </clipPath>\n </defs>\n</svg>\n"
          },
          "metadata": {}
        }
      ],
      "source": [
        "lr, num_epochs = 0.01, 50\n",
        "d2l.train_ch6(model, train_iter, test_iter, num_epochs, lr)\n"
      ]
    },
    {
      "cell_type": "code",
      "execution_count": 47,
      "metadata": {
        "id": "Q255I79aufgI"
      },
      "outputs": [],
      "source": [
        "# (ii) Modifying the MNIST\n",
        "\n",
        "import torch\n",
        "import torchvision\n",
        "import torchvision.transforms as transforms\n",
        "from torch.utils.data import DataLoader, Dataset\n",
        "import random\n",
        "\n",
        "transform = transforms.Compose([\n",
        "    transforms.ToTensor()])\n",
        "mnist_train = torchvision.datasets.FashionMNIST(root=\"./data\", train=True, download=True, transform=transform)\n",
        "mnist_test = torchvision.datasets.FashionMNIST(root=\"./data\", train=False, download=True, transform=transform)\n"
      ]
    },
    {
      "cell_type": "code",
      "execution_count": 48,
      "metadata": {
        "id": "v9HROIUu_Mcx",
        "colab": {
          "base_uri": "https://localhost:8080/"
        },
        "outputId": "588a4ecc-b85b-4c07-81f3-06daf1d7cbaa"
      },
      "outputs": [
        {
          "output_type": "execute_result",
          "data": {
            "text/plain": [
              "tensor([9, 0, 0, 3, 0])"
            ]
          },
          "metadata": {},
          "execution_count": 48
        }
      ],
      "source": [
        "mnist_train.targets[:5]"
      ]
    },
    {
      "cell_type": "code",
      "execution_count": 49,
      "metadata": {
        "id": "IM5Fu8UJ-6q0"
      },
      "outputs": [],
      "source": [
        "random.seed(42)\n",
        "num_classes = 10\n",
        "random_train_labels = torch.randint(0, num_classes, (len(mnist_train),))\n",
        "random_test_labels = torch.randint(0, num_classes, (len(mnist_test),))"
      ]
    },
    {
      "cell_type": "code",
      "execution_count": 50,
      "metadata": {
        "id": "knk2Q0Lp_Dck"
      },
      "outputs": [],
      "source": [
        "mnist_train.targets = random_train_labels\n",
        "mnist_test.targets = random_test_labels"
      ]
    },
    {
      "cell_type": "code",
      "execution_count": 51,
      "metadata": {
        "id": "Q-RUaG0f_H_m",
        "colab": {
          "base_uri": "https://localhost:8080/"
        },
        "outputId": "324919d6-430b-470a-8459-2088e0caa5c6"
      },
      "outputs": [
        {
          "output_type": "execute_result",
          "data": {
            "text/plain": [
              "tensor([3, 6, 3, 3, 3])"
            ]
          },
          "metadata": {},
          "execution_count": 51
        }
      ],
      "source": [
        "mnist_train.targets[:5]"
      ]
    },
    {
      "cell_type": "code",
      "execution_count": 52,
      "metadata": {
        "id": "SJfuzAiC_eTX",
        "colab": {
          "base_uri": "https://localhost:8080/"
        },
        "outputId": "57d1304c-81ed-4651-e64e-9c5971d9d68f"
      },
      "outputs": [
        {
          "output_type": "execute_result",
          "data": {
            "text/plain": [
              "tensor([5, 0, 0, 0, 8])"
            ]
          },
          "metadata": {},
          "execution_count": 52
        }
      ],
      "source": [
        "mnist_test.targets[:5]"
      ]
    },
    {
      "cell_type": "code",
      "execution_count": 53,
      "metadata": {
        "id": "kGpalBR3vgx4"
      },
      "outputs": [],
      "source": [
        "## Creating the dataloaders\n",
        "batch_size = 128\n",
        "train_loader = DataLoader(mnist_train, batch_size=batch_size, shuffle=True)\n",
        "test_loader = DataLoader(mnist_test, batch_size=batch_size, shuffle=False)"
      ]
    },
    {
      "cell_type": "code",
      "execution_count": 54,
      "metadata": {
        "id": "ebTES0wj_Xr4",
        "colab": {
          "base_uri": "https://localhost:8080/"
        },
        "outputId": "6f83f724-6e2f-419c-8b93-8b799bb5d9f1"
      },
      "outputs": [
        {
          "output_type": "stream",
          "name": "stdout",
          "text": [
            "Random Labels: tensor([5, 0, 0, 0, 8])\n"
          ]
        }
      ],
      "source": [
        "for images, labels in test_loader:\n",
        "    print(\"Random Labels:\", labels[:5])\n",
        "    break"
      ]
    },
    {
      "cell_type": "code",
      "source": [
        "model"
      ],
      "metadata": {
        "colab": {
          "base_uri": "https://localhost:8080/"
        },
        "id": "W4DpIwUChlcO",
        "outputId": "677f73a3-f8d3-4f67-926f-0c95c093f8a6"
      },
      "execution_count": 55,
      "outputs": [
        {
          "output_type": "execute_result",
          "data": {
            "text/plain": [
              "AlexNet_28(\n",
              "  (net): Sequential(\n",
              "    (0): Conv2d(1, 64, kernel_size=(5, 5), stride=(1, 1))\n",
              "    (1): ReLU()\n",
              "    (2): MaxPool2d(kernel_size=2, stride=2, padding=0, dilation=1, ceil_mode=False)\n",
              "    (3): Conv2d(64, 128, kernel_size=(3, 3), stride=(1, 1))\n",
              "    (4): ReLU()\n",
              "    (5): MaxPool2d(kernel_size=2, stride=2, padding=0, dilation=1, ceil_mode=False)\n",
              "    (6): Conv2d(128, 256, kernel_size=(3, 3), stride=(1, 1), padding=(1, 1))\n",
              "    (7): ReLU()\n",
              "    (8): Conv2d(256, 256, kernel_size=(3, 3), stride=(1, 1), padding=(1, 1))\n",
              "    (9): ReLU()\n",
              "    (10): Conv2d(256, 128, kernel_size=(3, 3), stride=(1, 1), padding=(1, 1))\n",
              "    (11): ReLU()\n",
              "    (12): MaxPool2d(kernel_size=2, stride=2, padding=0, dilation=1, ceil_mode=False)\n",
              "    (13): Flatten(start_dim=1, end_dim=-1)\n",
              "    (14): Linear(in_features=512, out_features=1024, bias=True)\n",
              "    (15): ReLU()\n",
              "    (16): Dropout(p=0.5, inplace=False)\n",
              "    (17): Linear(in_features=1024, out_features=512, bias=True)\n",
              "    (18): ReLU()\n",
              "    (19): Dropout(p=0.5, inplace=False)\n",
              "    (20): Linear(in_features=512, out_features=10, bias=True)\n",
              "  )\n",
              ")"
            ]
          },
          "metadata": {},
          "execution_count": 55
        }
      ]
    },
    {
      "cell_type": "code",
      "source": [
        "# (iii)\n",
        "lr, num_epochs = 0.01, 500\n",
        "\n",
        "# Train with randomized labels\n",
        "d2l.train_ch6(model, train_loader, test_loader, num_epochs, lr)\n"
      ],
      "metadata": {
        "colab": {
          "base_uri": "https://localhost:8080/",
          "height": 300
        },
        "id": "MXDCdlRH-VQd",
        "outputId": "8cc6caad-eb94-42d5-d75a-1cc88604e4fd"
      },
      "execution_count": 56,
      "outputs": [
        {
          "output_type": "stream",
          "name": "stdout",
          "text": [
            "loss 0.321, train acc 0.890, test acc 0.098\n",
            "13575.0 examples/sec on cuda:0\n"
          ]
        },
        {
          "output_type": "display_data",
          "data": {
            "text/plain": [
              "<Figure size 350x250 with 1 Axes>"
            ],
            "image/svg+xml": "<?xml version=\"1.0\" encoding=\"utf-8\" standalone=\"no\"?>\n<!DOCTYPE svg PUBLIC \"-//W3C//DTD SVG 1.1//EN\"\n  \"http://www.w3.org/Graphics/SVG/1.1/DTD/svg11.dtd\">\n<svg xmlns:xlink=\"http://www.w3.org/1999/xlink\" width=\"242.146875pt\" height=\"183.35625pt\" viewBox=\"0 0 242.146875 183.35625\" xmlns=\"http://www.w3.org/2000/svg\" version=\"1.1\">\n <metadata>\n  <rdf:RDF xmlns:dc=\"http://purl.org/dc/elements/1.1/\" xmlns:cc=\"http://creativecommons.org/ns#\" xmlns:rdf=\"http://www.w3.org/1999/02/22-rdf-syntax-ns#\">\n   <cc:Work>\n    <dc:type rdf:resource=\"http://purl.org/dc/dcmitype/StillImage\"/>\n    <dc:date>2025-02-28T00:49:39.163473</dc:date>\n    <dc:format>image/svg+xml</dc:format>\n    <dc:creator>\n     <cc:Agent>\n      <dc:title>Matplotlib v3.10.0, https://matplotlib.org/</dc:title>\n     </cc:Agent>\n    </dc:creator>\n   </cc:Work>\n  </rdf:RDF>\n </metadata>\n <defs>\n  <style type=\"text/css\">*{stroke-linejoin: round; stroke-linecap: butt}</style>\n </defs>\n <g id=\"figure_1\">\n  <g id=\"patch_1\">\n   <path d=\"M 0 183.35625 \nL 242.146875 183.35625 \nL 242.146875 0 \nL 0 0 \nz\n\" style=\"fill: #ffffff\"/>\n  </g>\n  <g id=\"axes_1\">\n   <g id=\"patch_2\">\n    <path d=\"M 30.103125 145.8 \nL 225.403125 145.8 \nL 225.403125 7.2 \nL 30.103125 7.2 \nz\n\" style=\"fill: #ffffff\"/>\n   </g>\n   <g id=\"matplotlib.axis_1\">\n    <g id=\"xtick_1\">\n     <g id=\"line2d_1\">\n      <path d=\"M 68.850019 145.8 \nL 68.850019 7.2 \n\" clip-path=\"url(#p20f86b51c7)\" style=\"fill: none; stroke: #b0b0b0; stroke-width: 0.8; stroke-linecap: square\"/>\n     </g>\n     <g id=\"line2d_2\">\n      <defs>\n       <path id=\"md1d61f007d\" d=\"M 0 0 \nL 0 3.5 \n\" style=\"stroke: #000000; stroke-width: 0.8\"/>\n      </defs>\n      <g>\n       <use xlink:href=\"#md1d61f007d\" x=\"68.850019\" y=\"145.8\" style=\"stroke: #000000; stroke-width: 0.8\"/>\n      </g>\n     </g>\n     <g id=\"text_1\">\n      <!-- 100 -->\n      <g transform=\"translate(59.306269 160.398438) scale(0.1 -0.1)\">\n       <defs>\n        <path id=\"DejaVuSans-31\" d=\"M 794 531 \nL 1825 531 \nL 1825 4091 \nL 703 3866 \nL 703 4441 \nL 1819 4666 \nL 2450 4666 \nL 2450 531 \nL 3481 531 \nL 3481 0 \nL 794 0 \nL 794 531 \nz\n\" transform=\"scale(0.015625)\"/>\n        <path id=\"DejaVuSans-30\" d=\"M 2034 4250 \nQ 1547 4250 1301 3770 \nQ 1056 3291 1056 2328 \nQ 1056 1369 1301 889 \nQ 1547 409 2034 409 \nQ 2525 409 2770 889 \nQ 3016 1369 3016 2328 \nQ 3016 3291 2770 3770 \nQ 2525 4250 2034 4250 \nz\nM 2034 4750 \nQ 2819 4750 3233 4129 \nQ 3647 3509 3647 2328 \nQ 3647 1150 3233 529 \nQ 2819 -91 2034 -91 \nQ 1250 -91 836 529 \nQ 422 1150 422 2328 \nQ 422 3509 836 4129 \nQ 1250 4750 2034 4750 \nz\n\" transform=\"scale(0.015625)\"/>\n       </defs>\n       <use xlink:href=\"#DejaVuSans-31\"/>\n       <use xlink:href=\"#DejaVuSans-30\" transform=\"translate(63.623047 0)\"/>\n       <use xlink:href=\"#DejaVuSans-30\" transform=\"translate(127.246094 0)\"/>\n      </g>\n     </g>\n    </g>\n    <g id=\"xtick_2\">\n     <g id=\"line2d_3\">\n      <path d=\"M 107.988295 145.8 \nL 107.988295 7.2 \n\" clip-path=\"url(#p20f86b51c7)\" style=\"fill: none; stroke: #b0b0b0; stroke-width: 0.8; stroke-linecap: square\"/>\n     </g>\n     <g id=\"line2d_4\">\n      <g>\n       <use xlink:href=\"#md1d61f007d\" x=\"107.988295\" y=\"145.8\" style=\"stroke: #000000; stroke-width: 0.8\"/>\n      </g>\n     </g>\n     <g id=\"text_2\">\n      <!-- 200 -->\n      <g transform=\"translate(98.444545 160.398438) scale(0.1 -0.1)\">\n       <defs>\n        <path id=\"DejaVuSans-32\" d=\"M 1228 531 \nL 3431 531 \nL 3431 0 \nL 469 0 \nL 469 531 \nQ 828 903 1448 1529 \nQ 2069 2156 2228 2338 \nQ 2531 2678 2651 2914 \nQ 2772 3150 2772 3378 \nQ 2772 3750 2511 3984 \nQ 2250 4219 1831 4219 \nQ 1534 4219 1204 4116 \nQ 875 4013 500 3803 \nL 500 4441 \nQ 881 4594 1212 4672 \nQ 1544 4750 1819 4750 \nQ 2544 4750 2975 4387 \nQ 3406 4025 3406 3419 \nQ 3406 3131 3298 2873 \nQ 3191 2616 2906 2266 \nQ 2828 2175 2409 1742 \nQ 1991 1309 1228 531 \nz\n\" transform=\"scale(0.015625)\"/>\n       </defs>\n       <use xlink:href=\"#DejaVuSans-32\"/>\n       <use xlink:href=\"#DejaVuSans-30\" transform=\"translate(63.623047 0)\"/>\n       <use xlink:href=\"#DejaVuSans-30\" transform=\"translate(127.246094 0)\"/>\n      </g>\n     </g>\n    </g>\n    <g id=\"xtick_3\">\n     <g id=\"line2d_5\">\n      <path d=\"M 147.126572 145.8 \nL 147.126572 7.2 \n\" clip-path=\"url(#p20f86b51c7)\" style=\"fill: none; stroke: #b0b0b0; stroke-width: 0.8; stroke-linecap: square\"/>\n     </g>\n     <g id=\"line2d_6\">\n      <g>\n       <use xlink:href=\"#md1d61f007d\" x=\"147.126572\" y=\"145.8\" style=\"stroke: #000000; stroke-width: 0.8\"/>\n      </g>\n     </g>\n     <g id=\"text_3\">\n      <!-- 300 -->\n      <g transform=\"translate(137.582822 160.398438) scale(0.1 -0.1)\">\n       <defs>\n        <path id=\"DejaVuSans-33\" d=\"M 2597 2516 \nQ 3050 2419 3304 2112 \nQ 3559 1806 3559 1356 \nQ 3559 666 3084 287 \nQ 2609 -91 1734 -91 \nQ 1441 -91 1130 -33 \nQ 819 25 488 141 \nL 488 750 \nQ 750 597 1062 519 \nQ 1375 441 1716 441 \nQ 2309 441 2620 675 \nQ 2931 909 2931 1356 \nQ 2931 1769 2642 2001 \nQ 2353 2234 1838 2234 \nL 1294 2234 \nL 1294 2753 \nL 1863 2753 \nQ 2328 2753 2575 2939 \nQ 2822 3125 2822 3475 \nQ 2822 3834 2567 4026 \nQ 2313 4219 1838 4219 \nQ 1578 4219 1281 4162 \nQ 984 4106 628 3988 \nL 628 4550 \nQ 988 4650 1302 4700 \nQ 1616 4750 1894 4750 \nQ 2613 4750 3031 4423 \nQ 3450 4097 3450 3541 \nQ 3450 3153 3228 2886 \nQ 3006 2619 2597 2516 \nz\n\" transform=\"scale(0.015625)\"/>\n       </defs>\n       <use xlink:href=\"#DejaVuSans-33\"/>\n       <use xlink:href=\"#DejaVuSans-30\" transform=\"translate(63.623047 0)\"/>\n       <use xlink:href=\"#DejaVuSans-30\" transform=\"translate(127.246094 0)\"/>\n      </g>\n     </g>\n    </g>\n    <g id=\"xtick_4\">\n     <g id=\"line2d_7\">\n      <path d=\"M 186.264848 145.8 \nL 186.264848 7.2 \n\" clip-path=\"url(#p20f86b51c7)\" style=\"fill: none; stroke: #b0b0b0; stroke-width: 0.8; stroke-linecap: square\"/>\n     </g>\n     <g id=\"line2d_8\">\n      <g>\n       <use xlink:href=\"#md1d61f007d\" x=\"186.264848\" y=\"145.8\" style=\"stroke: #000000; stroke-width: 0.8\"/>\n      </g>\n     </g>\n     <g id=\"text_4\">\n      <!-- 400 -->\n      <g transform=\"translate(176.721098 160.398438) scale(0.1 -0.1)\">\n       <defs>\n        <path id=\"DejaVuSans-34\" d=\"M 2419 4116 \nL 825 1625 \nL 2419 1625 \nL 2419 4116 \nz\nM 2253 4666 \nL 3047 4666 \nL 3047 1625 \nL 3713 1625 \nL 3713 1100 \nL 3047 1100 \nL 3047 0 \nL 2419 0 \nL 2419 1100 \nL 313 1100 \nL 313 1709 \nL 2253 4666 \nz\n\" transform=\"scale(0.015625)\"/>\n       </defs>\n       <use xlink:href=\"#DejaVuSans-34\"/>\n       <use xlink:href=\"#DejaVuSans-30\" transform=\"translate(63.623047 0)\"/>\n       <use xlink:href=\"#DejaVuSans-30\" transform=\"translate(127.246094 0)\"/>\n      </g>\n     </g>\n    </g>\n    <g id=\"xtick_5\">\n     <g id=\"line2d_9\">\n      <path d=\"M 225.403125 145.8 \nL 225.403125 7.2 \n\" clip-path=\"url(#p20f86b51c7)\" style=\"fill: none; stroke: #b0b0b0; stroke-width: 0.8; stroke-linecap: square\"/>\n     </g>\n     <g id=\"line2d_10\">\n      <g>\n       <use xlink:href=\"#md1d61f007d\" x=\"225.403125\" y=\"145.8\" style=\"stroke: #000000; stroke-width: 0.8\"/>\n      </g>\n     </g>\n     <g id=\"text_5\">\n      <!-- 500 -->\n      <g transform=\"translate(215.859375 160.398438) scale(0.1 -0.1)\">\n       <defs>\n        <path id=\"DejaVuSans-35\" d=\"M 691 4666 \nL 3169 4666 \nL 3169 4134 \nL 1269 4134 \nL 1269 2991 \nQ 1406 3038 1543 3061 \nQ 1681 3084 1819 3084 \nQ 2600 3084 3056 2656 \nQ 3513 2228 3513 1497 \nQ 3513 744 3044 326 \nQ 2575 -91 1722 -91 \nQ 1428 -91 1123 -41 \nQ 819 9 494 109 \nL 494 744 \nQ 775 591 1075 516 \nQ 1375 441 1709 441 \nQ 2250 441 2565 725 \nQ 2881 1009 2881 1497 \nQ 2881 1984 2565 2268 \nQ 2250 2553 1709 2553 \nQ 1456 2553 1204 2497 \nQ 953 2441 691 2322 \nL 691 4666 \nz\n\" transform=\"scale(0.015625)\"/>\n       </defs>\n       <use xlink:href=\"#DejaVuSans-35\"/>\n       <use xlink:href=\"#DejaVuSans-30\" transform=\"translate(63.623047 0)\"/>\n       <use xlink:href=\"#DejaVuSans-30\" transform=\"translate(127.246094 0)\"/>\n      </g>\n     </g>\n    </g>\n    <g id=\"text_6\">\n     <!-- epoch -->\n     <g transform=\"translate(112.525 174.076563) scale(0.1 -0.1)\">\n      <defs>\n       <path id=\"DejaVuSans-65\" d=\"M 3597 1894 \nL 3597 1613 \nL 953 1613 \nQ 991 1019 1311 708 \nQ 1631 397 2203 397 \nQ 2534 397 2845 478 \nQ 3156 559 3463 722 \nL 3463 178 \nQ 3153 47 2828 -22 \nQ 2503 -91 2169 -91 \nQ 1331 -91 842 396 \nQ 353 884 353 1716 \nQ 353 2575 817 3079 \nQ 1281 3584 2069 3584 \nQ 2775 3584 3186 3129 \nQ 3597 2675 3597 1894 \nz\nM 3022 2063 \nQ 3016 2534 2758 2815 \nQ 2500 3097 2075 3097 \nQ 1594 3097 1305 2825 \nQ 1016 2553 972 2059 \nL 3022 2063 \nz\n\" transform=\"scale(0.015625)\"/>\n       <path id=\"DejaVuSans-70\" d=\"M 1159 525 \nL 1159 -1331 \nL 581 -1331 \nL 581 3500 \nL 1159 3500 \nL 1159 2969 \nQ 1341 3281 1617 3432 \nQ 1894 3584 2278 3584 \nQ 2916 3584 3314 3078 \nQ 3713 2572 3713 1747 \nQ 3713 922 3314 415 \nQ 2916 -91 2278 -91 \nQ 1894 -91 1617 61 \nQ 1341 213 1159 525 \nz\nM 3116 1747 \nQ 3116 2381 2855 2742 \nQ 2594 3103 2138 3103 \nQ 1681 3103 1420 2742 \nQ 1159 2381 1159 1747 \nQ 1159 1113 1420 752 \nQ 1681 391 2138 391 \nQ 2594 391 2855 752 \nQ 3116 1113 3116 1747 \nz\n\" transform=\"scale(0.015625)\"/>\n       <path id=\"DejaVuSans-6f\" d=\"M 1959 3097 \nQ 1497 3097 1228 2736 \nQ 959 2375 959 1747 \nQ 959 1119 1226 758 \nQ 1494 397 1959 397 \nQ 2419 397 2687 759 \nQ 2956 1122 2956 1747 \nQ 2956 2369 2687 2733 \nQ 2419 3097 1959 3097 \nz\nM 1959 3584 \nQ 2709 3584 3137 3096 \nQ 3566 2609 3566 1747 \nQ 3566 888 3137 398 \nQ 2709 -91 1959 -91 \nQ 1206 -91 779 398 \nQ 353 888 353 1747 \nQ 353 2609 779 3096 \nQ 1206 3584 1959 3584 \nz\n\" transform=\"scale(0.015625)\"/>\n       <path id=\"DejaVuSans-63\" d=\"M 3122 3366 \nL 3122 2828 \nQ 2878 2963 2633 3030 \nQ 2388 3097 2138 3097 \nQ 1578 3097 1268 2742 \nQ 959 2388 959 1747 \nQ 959 1106 1268 751 \nQ 1578 397 2138 397 \nQ 2388 397 2633 464 \nQ 2878 531 3122 666 \nL 3122 134 \nQ 2881 22 2623 -34 \nQ 2366 -91 2075 -91 \nQ 1284 -91 818 406 \nQ 353 903 353 1747 \nQ 353 2603 823 3093 \nQ 1294 3584 2113 3584 \nQ 2378 3584 2631 3529 \nQ 2884 3475 3122 3366 \nz\n\" transform=\"scale(0.015625)\"/>\n       <path id=\"DejaVuSans-68\" d=\"M 3513 2113 \nL 3513 0 \nL 2938 0 \nL 2938 2094 \nQ 2938 2591 2744 2837 \nQ 2550 3084 2163 3084 \nQ 1697 3084 1428 2787 \nQ 1159 2491 1159 1978 \nL 1159 0 \nL 581 0 \nL 581 4863 \nL 1159 4863 \nL 1159 2956 \nQ 1366 3272 1645 3428 \nQ 1925 3584 2291 3584 \nQ 2894 3584 3203 3211 \nQ 3513 2838 3513 2113 \nz\n\" transform=\"scale(0.015625)\"/>\n      </defs>\n      <use xlink:href=\"#DejaVuSans-65\"/>\n      <use xlink:href=\"#DejaVuSans-70\" transform=\"translate(61.523438 0)\"/>\n      <use xlink:href=\"#DejaVuSans-6f\" transform=\"translate(125 0)\"/>\n      <use xlink:href=\"#DejaVuSans-63\" transform=\"translate(186.181641 0)\"/>\n      <use xlink:href=\"#DejaVuSans-68\" transform=\"translate(241.162109 0)\"/>\n     </g>\n    </g>\n   </g>\n   <g id=\"matplotlib.axis_2\">\n    <g id=\"ytick_1\">\n     <g id=\"line2d_11\">\n      <path d=\"M 30.103125 144.77634 \nL 225.403125 144.77634 \n\" clip-path=\"url(#p20f86b51c7)\" style=\"fill: none; stroke: #b0b0b0; stroke-width: 0.8; stroke-linecap: square\"/>\n     </g>\n     <g id=\"line2d_12\">\n      <defs>\n       <path id=\"mb88b25c935\" d=\"M 0 0 \nL -3.5 0 \n\" style=\"stroke: #000000; stroke-width: 0.8\"/>\n      </defs>\n      <g>\n       <use xlink:href=\"#mb88b25c935\" x=\"30.103125\" y=\"144.77634\" style=\"stroke: #000000; stroke-width: 0.8\"/>\n      </g>\n     </g>\n     <g id=\"text_7\">\n      <!-- 0.0 -->\n      <g transform=\"translate(7.2 148.575559) scale(0.1 -0.1)\">\n       <defs>\n        <path id=\"DejaVuSans-2e\" d=\"M 684 794 \nL 1344 794 \nL 1344 0 \nL 684 0 \nL 684 794 \nz\n\" transform=\"scale(0.015625)\"/>\n       </defs>\n       <use xlink:href=\"#DejaVuSans-30\"/>\n       <use xlink:href=\"#DejaVuSans-2e\" transform=\"translate(63.623047 0)\"/>\n       <use xlink:href=\"#DejaVuSans-30\" transform=\"translate(95.410156 0)\"/>\n      </g>\n     </g>\n    </g>\n    <g id=\"ytick_2\">\n     <g id=\"line2d_13\">\n      <path d=\"M 30.103125 116.40892 \nL 225.403125 116.40892 \n\" clip-path=\"url(#p20f86b51c7)\" style=\"fill: none; stroke: #b0b0b0; stroke-width: 0.8; stroke-linecap: square\"/>\n     </g>\n     <g id=\"line2d_14\">\n      <g>\n       <use xlink:href=\"#mb88b25c935\" x=\"30.103125\" y=\"116.40892\" style=\"stroke: #000000; stroke-width: 0.8\"/>\n      </g>\n     </g>\n     <g id=\"text_8\">\n      <!-- 0.5 -->\n      <g transform=\"translate(7.2 120.208139) scale(0.1 -0.1)\">\n       <use xlink:href=\"#DejaVuSans-30\"/>\n       <use xlink:href=\"#DejaVuSans-2e\" transform=\"translate(63.623047 0)\"/>\n       <use xlink:href=\"#DejaVuSans-35\" transform=\"translate(95.410156 0)\"/>\n      </g>\n     </g>\n    </g>\n    <g id=\"ytick_3\">\n     <g id=\"line2d_15\">\n      <path d=\"M 30.103125 88.0415 \nL 225.403125 88.0415 \n\" clip-path=\"url(#p20f86b51c7)\" style=\"fill: none; stroke: #b0b0b0; stroke-width: 0.8; stroke-linecap: square\"/>\n     </g>\n     <g id=\"line2d_16\">\n      <g>\n       <use xlink:href=\"#mb88b25c935\" x=\"30.103125\" y=\"88.0415\" style=\"stroke: #000000; stroke-width: 0.8\"/>\n      </g>\n     </g>\n     <g id=\"text_9\">\n      <!-- 1.0 -->\n      <g transform=\"translate(7.2 91.840719) scale(0.1 -0.1)\">\n       <use xlink:href=\"#DejaVuSans-31\"/>\n       <use xlink:href=\"#DejaVuSans-2e\" transform=\"translate(63.623047 0)\"/>\n       <use xlink:href=\"#DejaVuSans-30\" transform=\"translate(95.410156 0)\"/>\n      </g>\n     </g>\n    </g>\n    <g id=\"ytick_4\">\n     <g id=\"line2d_17\">\n      <path d=\"M 30.103125 59.67408 \nL 225.403125 59.67408 \n\" clip-path=\"url(#p20f86b51c7)\" style=\"fill: none; stroke: #b0b0b0; stroke-width: 0.8; stroke-linecap: square\"/>\n     </g>\n     <g id=\"line2d_18\">\n      <g>\n       <use xlink:href=\"#mb88b25c935\" x=\"30.103125\" y=\"59.67408\" style=\"stroke: #000000; stroke-width: 0.8\"/>\n      </g>\n     </g>\n     <g id=\"text_10\">\n      <!-- 1.5 -->\n      <g transform=\"translate(7.2 63.473299) scale(0.1 -0.1)\">\n       <use xlink:href=\"#DejaVuSans-31\"/>\n       <use xlink:href=\"#DejaVuSans-2e\" transform=\"translate(63.623047 0)\"/>\n       <use xlink:href=\"#DejaVuSans-35\" transform=\"translate(95.410156 0)\"/>\n      </g>\n     </g>\n    </g>\n    <g id=\"ytick_5\">\n     <g id=\"line2d_19\">\n      <path d=\"M 30.103125 31.30666 \nL 225.403125 31.30666 \n\" clip-path=\"url(#p20f86b51c7)\" style=\"fill: none; stroke: #b0b0b0; stroke-width: 0.8; stroke-linecap: square\"/>\n     </g>\n     <g id=\"line2d_20\">\n      <g>\n       <use xlink:href=\"#mb88b25c935\" x=\"30.103125\" y=\"31.30666\" style=\"stroke: #000000; stroke-width: 0.8\"/>\n      </g>\n     </g>\n     <g id=\"text_11\">\n      <!-- 2.0 -->\n      <g transform=\"translate(7.2 35.105879) scale(0.1 -0.1)\">\n       <use xlink:href=\"#DejaVuSans-32\"/>\n       <use xlink:href=\"#DejaVuSans-2e\" transform=\"translate(63.623047 0)\"/>\n       <use xlink:href=\"#DejaVuSans-30\" transform=\"translate(95.410156 0)\"/>\n      </g>\n     </g>\n    </g>\n   </g>\n   <g id=\"line2d_21\">\n    <path d=\"M 30.099787 13.792474 \nL 30.103125 13.794641 \nL 30.258343 13.988665 \nL 30.885891 13.996934 \nL 31.118717 14.009688 \nL 42.627373 14.127829 \nL 42.782591 14.088877 \nL 45.367053 14.137512 \nL 45.758436 14.121645 \nL 46.61881 14.127557 \nL 47.870567 14.122362 \nL 48.339559 14.139905 \nL 49.672263 14.131564 \nL 50.610247 14.121785 \nL 52.175778 14.132306 \nL 56.32577 14.147644 \nL 56.636206 14.156766 \nL 102.900319 14.233868 \nL 103.055537 14.233761 \nL 103.915912 14.257066 \nL 106.814147 14.244784 \nL 106.969365 14.256813 \nL 108.457287 14.246901 \nL 108.84867 14.236459 \nL 109.945209 14.270728 \nL 110.255645 14.260865 \nL 112.293506 14.281774 \nL 113.231489 14.263966 \nL 113.622872 14.269759 \nL 114.952238 14.283823 \nL 116.048777 14.294226 \nL 116.909152 14.289748 \nL 124.034989 14.342237 \nL 124.267816 14.360726 \nL 125.209137 14.347613 \nL 125.678129 14.346758 \nL 126.693721 14.373101 \nL 127.166051 14.374832 \nL 127.321269 14.394563 \nL 127.867869 14.369529 \nL 129.514347 14.390106 \nL 129.669565 14.431795 \nL 134.443767 14.460603 \nL 135.148924 14.504806 \nL 135.462698 14.440138 \nL 135.695525 14.45922 \nL 139.298917 14.493712 \nL 139.376526 14.622336 \nL 139.454134 14.536676 \nL 140.159291 14.550201 \nL 142.429979 14.588007 \nL 142.662806 14.550086 \nL 143.212744 14.587864 \nL 143.367962 14.612846 \nL 143.600789 14.607817 \nL 144.386893 14.606043 \nL 144.697328 14.635367 \nL 145.402485 14.625265 \nL 147.28179 14.703524 \nL 148.064555 14.743956 \nL 148.30072 14.69745 \nL 148.455938 14.764658 \nL 152.997313 14.847214 \nL 153.152531 14.925758 \nL 153.466305 14.937702 \nL 154.171462 14.899849 \nL 154.32668 14.995925 \nL 154.640453 14.993115 \nL 154.87328 14.971453 \nL 156.205984 15.006111 \nL 156.438811 15.022345 \nL 156.752585 14.999267 \nL 157.457742 15.169133 \nL 157.693907 15.090957 \nL 157.771516 15.280681 \nL 157.926733 15.144699 \nL 158.63189 15.187848 \nL 160.824969 15.275735 \nL 160.902578 15.18875 \nL 161.057796 15.287377 \nL 161.216351 15.286918 \nL 161.29396 15.511238 \nL 161.371569 15.440055 \nL 161.762952 15.287917 \nL 162.468109 15.445083 \nL 163.564648 15.498817 \nL 163.956031 15.540792 \nL 164.03364 15.727056 \nL 164.111249 15.628287 \nL 164.502631 15.585356 \nL 164.738796 15.594692 \nL 164.971623 15.703499 \nL 165.130179 15.651749 \nL 165.207788 15.881206 \nL 165.285397 15.849491 \nL 165.521562 15.720071 \nL 165.599171 16.03282 \nL 165.754389 15.84461 \nL 165.912945 15.787891 \nL 166.068163 15.911574 \nL 166.381936 15.760184 \nL 166.459545 15.932567 \nL 166.537154 15.895973 \nL 166.773319 15.872367 \nL 166.928537 15.931309 \nL 167.087093 15.908014 \nL 167.164702 16.075128 \nL 167.242311 16.009664 \nL 167.86652 16.010398 \nL 167.869858 16.013286 \nL 167.947467 16.260878 \nL 168.180294 16.026988 \nL 168.261241 16.044224 \nL 168.33885 16.351252 \nL 168.416459 16.24111 \nL 168.652624 16.151365 \nL 168.885451 16.209133 \nL 169.044007 16.180552 \nL 169.121616 16.338791 \nL 169.354443 16.224975 \nL 169.43539 16.210795 \nL 169.512998 16.44046 \nL 169.590607 16.407472 \nL 169.98199 16.348868 \nL 170.218155 16.32835 \nL 170.295764 16.711622 \nL 170.373373 16.629741 \nL 170.609538 16.450896 \nL 170.687147 16.70029 \nL 170.764756 16.589339 \nL 171.000921 16.513197 \nL 171.156138 16.719625 \nL 171.388965 16.64943 \nL 171.392303 16.64874 \nL 171.469912 16.818608 \nL 171.547521 16.739131 \nL 171.783686 16.700709 \nL 171.938904 16.887479 \nL 172.094122 16.763467 \nL 172.175069 16.795318 \nL 172.252678 17.005917 \nL 172.330287 16.935116 \nL 172.566452 16.886031 \nL 172.644061 17.304058 \nL 172.799279 17.100089 \nL 172.957834 17.028121 \nL 173.035443 17.220754 \nL 173.190661 17.096201 \nL 173.349217 17.072792 \nL 173.504435 17.238788 \nL 173.659653 17.210166 \nL 173.7406 17.147176 \nL 173.818209 17.548021 \nL 173.895818 17.407274 \nL 174.128645 17.322507 \nL 174.131983 17.327316 \nL 174.287201 17.525931 \nL 174.36481 17.538486 \nL 174.523365 17.41158 \nL 174.600974 17.845036 \nL 174.678583 17.539821 \nL 174.756192 17.608995 \nL 174.914748 17.514501 \nL 174.992357 17.881314 \nL 175.069966 17.850706 \nL 175.38374 17.808402 \nL 175.697514 17.812513 \nL 175.852732 18.026221 \nL 176.088897 17.843586 \nL 176.166505 18.501463 \nL 176.244114 18.264915 \nL 176.480279 17.99991 \nL 176.557888 18.325666 \nL 176.635497 18.259929 \nL 176.790715 18.380317 \nL 176.871662 18.241997 \nL 176.949271 18.624807 \nL 177.02688 18.587624 \nL 177.263045 18.372384 \nL 177.340654 18.762173 \nL 177.418263 18.733922 \nL 177.654428 18.53753 \nL 177.732037 19.035515 \nL 177.887254 18.729898 \nL 178.042472 18.669926 \nL 178.04581 18.680928 \nL 178.201028 19.161543 \nL 178.356246 18.879715 \nL 178.433855 18.85099 \nL 178.437193 18.860179 \nL 178.514802 19.195125 \nL 178.592411 18.932505 \nL 178.67002 19.030463 \nL 178.828576 19.041088 \nL 178.906185 19.51748 \nL 178.983794 19.384866 \nL 179.219959 19.245356 \nL 179.297568 19.783183 \nL 179.375177 19.718023 \nL 179.608003 19.428452 \nL 179.611341 19.432289 \nL 179.68895 20.045013 \nL 179.766559 19.936411 \nL 180.002724 19.612972 \nL 180.080333 20.330618 \nL 180.157942 20.320378 \nL 180.394107 19.99145 \nL 180.471716 20.404982 \nL 180.549325 20.236951 \nL 180.704543 20.202075 \nL 180.78549 20.198453 \nL 180.863099 20.71908 \nL 180.940708 20.610958 \nL 181.018317 20.611161 \nL 181.176872 20.446313 \nL 181.254481 21.13112 \nL 181.33209 20.989715 \nL 181.564917 20.727429 \nL 181.568255 20.731097 \nL 181.645864 21.542783 \nL 181.723473 21.483005 \nL 181.9563 21.072614 \nL 181.959638 21.083231 \nL 182.114856 21.636922 \nL 182.347683 21.267528 \nL 182.351021 21.27262 \nL 182.42863 22.091776 \nL 182.506239 21.980292 \nL 182.742404 21.547229 \nL 182.820013 22.712314 \nL 182.897621 22.568309 \nL 183.130448 22.081638 \nL 183.133786 22.085431 \nL 183.211395 23.126342 \nL 183.366613 22.438772 \nL 183.525169 22.272469 \nL 183.602778 23.230761 \nL 183.680387 22.896252 \nL 183.757996 22.898306 \nL 183.916552 22.591958 \nL 184.07177 23.22164 \nL 184.226988 23.132621 \nL 184.307935 23.021962 \nL 184.385544 24.295299 \nL 184.463153 24.020361 \nL 184.699317 23.517098 \nL 184.776926 24.431436 \nL 184.854535 24.200629 \nL 185.087362 23.956925 \nL 185.0907 23.967254 \nL 185.168309 25.161486 \nL 185.245918 24.584866 \nL 185.323527 24.719337 \nL 185.478745 24.412375 \nL 185.482083 24.420318 \nL 185.559692 25.419143 \nL 185.637301 25.355633 \nL 185.873466 24.885687 \nL 185.951075 26.405068 \nL 186.028684 26.020806 \nL 186.264848 25.378151 \nL 186.342457 26.959442 \nL 186.420066 26.423662 \nL 186.656231 25.927241 \nL 186.73384 27.008236 \nL 186.811449 26.851328 \nL 187.044276 26.318615 \nL 187.047614 26.323726 \nL 187.125223 27.922999 \nL 187.202832 27.768313 \nL 187.438997 27.202921 \nL 187.516606 28.22207 \nL 187.594215 28.161605 \nL 187.671824 28.107466 \nL 187.83038 27.617398 \nL 187.907988 29.619717 \nL 187.985597 29.098333 \nL 188.221762 28.398675 \nL 188.299371 29.566808 \nL 188.37698 29.405764 \nL 188.454589 29.405718 \nL 188.613145 29.089866 \nL 188.690754 30.865682 \nL 188.768363 30.555308 \nL 189.004528 29.668168 \nL 189.082137 31.324721 \nL 189.159746 31.141898 \nL 189.395911 30.351404 \nL 189.47352 32.045725 \nL 189.551128 31.988683 \nL 189.787293 31.239047 \nL 189.864902 33.58219 \nL 189.942511 32.734517 \nL 190.178676 31.944601 \nL 190.256285 34.343723 \nL 190.333894 33.635761 \nL 190.411503 33.522435 \nL 190.566721 32.838809 \nL 190.570059 32.856884 \nL 190.647668 35.057528 \nL 190.725277 34.670101 \nL 190.961442 33.692568 \nL 191.039051 36.556848 \nL 191.11666 35.798459 \nL 191.349486 34.792888 \nL 191.352824 34.802045 \nL 191.430433 36.973182 \nL 191.508042 36.617678 \nL 191.585651 36.464493 \nL 191.740869 35.677716 \nL 191.744207 35.683066 \nL 191.821816 37.794455 \nL 191.899425 37.715205 \nL 192.132252 36.701306 \nL 192.13559 36.735159 \nL 192.290808 38.336177 \nL 192.526973 37.664502 \nL 192.604582 40.308657 \nL 192.682191 39.692832 \nL 192.918355 38.705787 \nL 192.995964 42.107537 \nL 193.073573 41.150691 \nL 193.309738 40.000013 \nL 193.387347 42.380921 \nL 193.464956 42.048504 \nL 193.697783 41.022787 \nL 193.701121 41.037347 \nL 193.77873 43.980327 \nL 193.856339 43.255132 \nL 194.092504 42.014767 \nL 194.170113 45.073185 \nL 194.247722 44.519155 \nL 194.483887 43.179373 \nL 194.561495 46.215271 \nL 194.639104 46.002183 \nL 194.875269 44.551819 \nL 194.952878 48.115489 \nL 195.030487 47.3188 \nL 195.266652 45.873085 \nL 195.344261 49.451713 \nL 195.42187 48.598001 \nL 195.658035 47.21551 \nL 195.735644 50.479583 \nL 195.813253 49.505535 \nL 196.049418 48.473736 \nL 196.127027 51.876638 \nL 196.204635 51.039446 \nL 196.4408 49.917713 \nL 196.518409 54.297962 \nL 196.596018 53.091189 \nL 196.832183 51.22517 \nL 196.909792 54.861075 \nL 196.987401 54.427942 \nL 197.223566 52.479083 \nL 197.301175 56.234493 \nL 197.378784 54.931828 \nL 197.456393 54.783571 \nL 197.614949 53.809644 \nL 197.692558 57.962989 \nL 197.770167 57.22608 \nL 198.006331 55.548143 \nL 198.08394 59.809398 \nL 198.161549 59.027318 \nL 198.397714 57.008856 \nL 198.475323 60.531464 \nL 198.552932 60.525102 \nL 198.789097 58.705872 \nL 198.866706 61.986462 \nL 198.944315 61.701862 \nL 199.18048 59.909784 \nL 199.258089 64.685109 \nL 199.335698 63.533494 \nL 199.571862 61.356281 \nL 199.649471 66.966109 \nL 199.72708 65.52716 \nL 199.963245 63.221067 \nL 200.040854 67.718683 \nL 200.118463 66.714779 \nL 200.35129 64.684427 \nL 200.354628 64.697404 \nL 200.432237 68.011594 \nL 200.509846 67.780459 \nL 200.746011 65.805712 \nL 200.82362 70.910756 \nL 200.901229 69.986445 \nL 201.134056 67.426578 \nL 201.137394 67.450838 \nL 201.215002 70.98431 \nL 201.292611 70.61762 \nL 201.525438 69.067411 \nL 201.528776 69.078125 \nL 201.606385 73.004014 \nL 201.683994 72.239819 \nL 201.920159 70.298413 \nL 201.997768 74.961682 \nL 202.075377 73.604269 \nL 202.308204 71.788383 \nL 202.311542 71.821329 \nL 202.389151 75.989198 \nL 202.46676 75.496328 \nL 202.699587 73.345367 \nL 202.702925 73.347541 \nL 202.780534 78.097957 \nL 202.858142 76.837465 \nL 203.094307 74.712389 \nL 203.171916 79.20827 \nL 203.249525 78.57245 \nL 203.482352 76.478012 \nL 203.48569 76.485511 \nL 203.563299 79.706807 \nL 203.640908 79.141646 \nL 203.877073 77.580321 \nL 203.954682 82.708151 \nL 204.032291 80.917937 \nL 204.1099 80.621505 \nL 204.265118 79.182862 \nL 204.268456 79.196025 \nL 204.346065 84.498936 \nL 204.423674 82.995161 \nL 204.659838 80.789639 \nL 204.737447 85.285255 \nL 204.815056 84.429943 \nL 205.051221 82.169809 \nL 205.12883 86.877806 \nL 205.206439 85.775004 \nL 205.442604 83.186145 \nL 205.520213 87.740326 \nL 205.597822 87.224748 \nL 205.833987 84.667969 \nL 205.911596 90.483869 \nL 205.989205 89.009212 \nL 206.225369 86.156434 \nL 206.302978 91.854472 \nL 206.380587 90.525395 \nL 206.616752 87.677561 \nL 206.694361 92.303768 \nL 206.77197 90.986972 \nL 207.008135 88.588952 \nL 207.085744 91.877022 \nL 207.163353 91.852229 \nL 207.399518 90.071453 \nL 207.477127 94.810413 \nL 207.554736 93.682136 \nL 207.787563 91.101024 \nL 207.790901 91.132484 \nL 207.86851 96.214606 \nL 207.946118 95.51778 \nL 208.182283 92.633105 \nL 208.259892 96.108012 \nL 208.337501 94.871511 \nL 208.573666 92.941173 \nL 208.651275 97.68995 \nL 208.728884 97.104816 \nL 208.965049 94.784241 \nL 209.042658 99.261814 \nL 209.120267 97.689832 \nL 209.356432 95.713247 \nL 209.434041 101.488413 \nL 209.51165 100.189589 \nL 209.747814 97.250264 \nL 209.825423 102.390542 \nL 209.903032 101.286206 \nL 210.139197 98.115453 \nL 210.216806 103.833323 \nL 210.294415 101.906406 \nL 210.53058 99.702388 \nL 210.608189 103.321521 \nL 210.685798 102.410036 \nL 210.921963 100.320673 \nL 210.999572 104.041731 \nL 211.077181 103.639719 \nL 211.313345 101.594401 \nL 211.390954 105.2983 \nL 211.468563 104.531461 \nL 211.70139 102.550189 \nL 211.704728 102.568134 \nL 211.782337 105.729611 \nL 211.859946 105.599462 \nL 212.096111 103.416613 \nL 212.17372 107.965096 \nL 212.251329 106.090179 \nL 212.484156 104.095706 \nL 212.487494 104.117408 \nL 212.565103 108.789812 \nL 212.642712 107.554919 \nL 212.875538 105.713249 \nL 212.878877 105.717918 \nL 212.956485 109.941131 \nL 213.034094 108.471908 \nL 213.189312 107.256008 \nL 213.266921 106.553899 \nL 213.270259 106.564481 \nL 213.347868 110.454165 \nL 213.425477 108.912035 \nL 213.661642 107.190567 \nL 213.739251 111.430654 \nL 213.81686 110.208389 \nL 214.049687 108.466473 \nL 214.053025 108.472573 \nL 214.130634 112.111757 \nL 214.208243 110.955119 \nL 214.444408 109.119923 \nL 214.522017 113.519417 \nL 214.599625 112.769098 \nL 214.83579 109.906856 \nL 214.913399 112.542412 \nL 214.991008 111.728417 \nL 215.146226 110.620956 \nL 215.227173 110.005737 \nL 215.304782 114.266948 \nL 215.382391 113.355541 \nL 215.46 113.215488 \nL 215.618556 111.87941 \nL 215.696165 114.558838 \nL 215.773774 113.804348 \nL 216.009939 112.232418 \nL 216.087548 116.273385 \nL 216.165157 115.42734 \nL 216.401321 113.529074 \nL 216.47893 116.525741 \nL 216.556539 115.873395 \nL 216.792704 113.483055 \nL 216.870313 117.106738 \nL 216.947922 116.778169 \nL 217.184087 114.604104 \nL 217.261696 118.135429 \nL 217.339305 117.634416 \nL 217.57547 115.603146 \nL 217.653079 118.313989 \nL 217.730688 117.873233 \nL 217.966852 116.429576 \nL 218.044461 120.22514 \nL 218.12207 119.220801 \nL 218.358235 116.747629 \nL 218.435844 120.625069 \nL 218.513453 119.245715 \nL 218.749618 117.33831 \nL 218.827227 120.240752 \nL 218.904836 120.202326 \nL 219.137663 118.304561 \nL 219.141001 118.319305 \nL 219.21861 121.370646 \nL 219.296219 120.348162 \nL 219.373828 120.317249 \nL 219.532384 119.236232 \nL 219.609992 121.758919 \nL 219.687601 121.47967 \nL 219.923766 119.695138 \nL 220.001375 123.171439 \nL 220.078984 121.805438 \nL 220.315149 119.555891 \nL 220.392758 123.031031 \nL 220.470367 122.543884 \nL 220.706532 121.146745 \nL 220.86175 123.541292 \nL 221.097915 121.553577 \nL 221.175524 124.084919 \nL 221.253132 123.369485 \nL 221.489297 121.781243 \nL 221.566906 125.050784 \nL 221.644515 123.844661 \nL 221.877342 122.369859 \nL 221.88068 122.376477 \nL 221.958289 125.453907 \nL 222.035898 125.025212 \nL 222.272063 123.150961 \nL 222.349672 125.097469 \nL 222.427281 124.695225 \nL 222.663446 123.093786 \nL 222.741055 125.923398 \nL 222.818664 125.226284 \nL 223.054828 123.353212 \nL 223.132437 126.008263 \nL 223.210046 125.83453 \nL 223.446211 124.198037 \nL 223.601429 126.384741 \nL 223.837594 124.177912 \nL 223.915203 128.614208 \nL 223.992812 127.491225 \nL 224.228977 125.247649 \nL 224.306586 128.88632 \nL 224.384195 127.328675 \nL 224.620359 126.032244 \nL 224.697968 129.643735 \nL 224.775577 129.127424 \nL 225.011742 126.856812 \nL 225.089351 128.502048 \nL 225.16696 128.009538 \nL 225.403125 126.555931 \nL 225.403125 126.555931 \n\" clip-path=\"url(#p20f86b51c7)\" style=\"fill: none; stroke: #1f77b4; stroke-width: 1.5; stroke-linecap: square\"/>\n   </g>\n   <g id=\"line2d_22\">\n    <path d=\"M 30.099787 139.057102 \nL 30.413561 138.904589 \nL 30.649726 138.966548 \nL 30.727335 138.874404 \nL 30.882553 139.044711 \nL 30.885891 139.03572 \nL 30.963499 138.904589 \nL 31.118717 139.049159 \nL 31.746265 138.95225 \nL 31.901483 139.163544 \nL 32.370475 138.993952 \nL 32.529031 139.138125 \nL 32.606639 138.954633 \nL 32.684248 139.050748 \nL 32.842804 139.049904 \nL 32.998022 139.188168 \nL 33.234187 139.17472 \nL 33.311796 139.30017 \nL 33.467014 139.098408 \nL 34.094562 139.018974 \nL 34.24978 139.080932 \nL 34.641162 138.972902 \nL 34.799718 139.048958 \nL 34.877327 139.223913 \nL 34.954936 139.164338 \nL 35.191101 139.186067 \nL 35.26871 139.34783 \nL 35.501537 139.115486 \nL 35.89292 139.105954 \nL 35.973866 139.094346 \nL 36.129084 139.192934 \nL 36.365249 139.173775 \nL 36.442858 138.756842 \nL 36.520467 138.878376 \nL 36.675685 138.930802 \nL 36.91185 139.028506 \nL 37.225624 139.014208 \nL 37.303233 139.10238 \nL 37.458451 139.021357 \nL 38.241216 138.991569 \nL 38.318825 138.931279 \nL 38.322163 138.93738 \nL 38.399772 139.099997 \nL 38.477381 139.042804 \nL 39.104929 139.034774 \nL 39.182538 138.837865 \nL 39.260147 138.935568 \nL 39.415364 139.065443 \nL 39.729138 139.031683 \nL 39.887694 139.011135 \nL 39.965303 138.823567 \nL 40.19813 139.065443 \nL 40.67046 138.990332 \nL 40.980895 139.17387 \nL 41.061842 139.122713 \nL 41.294669 139.230268 \nL 41.763661 138.927228 \nL 41.922217 139.052336 \nL 42.077435 138.947483 \nL 42.235991 139.016808 \nL 42.391209 138.740161 \nL 42.624035 138.896964 \nL 42.627373 138.888209 \nL 42.704982 139.290638 \nL 42.782591 139.219147 \nL 42.937809 139.23702 \nL 43.015418 139.178159 \nL 43.018756 139.187013 \nL 43.096365 138.942717 \nL 43.173974 139.052336 \nL 43.410139 138.969529 \nL 43.487748 139.157189 \nL 43.565357 138.983229 \nL 43.642966 139.057102 \nL 43.801522 139.090564 \nL 43.879131 138.966548 \nL 44.034349 139.007853 \nL 44.50334 138.916504 \nL 44.97567 139.106638 \nL 45.053279 138.709182 \nL 45.130888 138.799737 \nL 45.367053 138.835257 \nL 45.444662 138.971314 \nL 45.522271 138.885525 \nL 45.758436 138.992223 \nL 46.541201 138.950618 \nL 46.61881 138.785438 \nL 46.696419 138.847397 \nL 46.932584 138.899556 \nL 47.010193 139.290638 \nL 47.087802 139.271574 \nL 47.401576 138.899823 \nL 47.556794 139.157189 \nL 47.792958 139.080932 \nL 47.948176 139.080932 \nL 48.106732 139.077325 \nL 48.184341 138.837865 \nL 48.26195 139.009442 \nL 48.339559 138.968136 \nL 48.889498 139.060305 \nL 49.044716 139.030889 \nL 49.122325 139.079344 \nL 49.358489 138.842631 \nL 49.513707 138.93954 \nL 49.90509 138.910944 \nL 50.218864 139.083315 \nL 50.374082 138.954633 \nL 50.451691 138.977986 \nL 50.455029 138.964801 \nL 50.532638 138.861695 \nL 50.687856 139.052336 \nL 50.846412 138.940216 \nL 50.924021 138.623393 \nL 51.001629 138.728246 \nL 51.237794 138.906175 \nL 51.629177 138.934543 \nL 51.784395 138.759225 \nL 52.722378 139.033272 \nL 52.880934 138.961782 \nL 53.036152 139.058691 \nL 53.19137 138.99991 \nL 53.194708 139.010189 \nL 53.272317 139.090464 \nL 53.505144 138.918887 \nL 53.582753 138.867414 \nL 53.586091 138.878754 \nL 53.6637 139.080932 \nL 53.896527 138.909355 \nL 53.977474 138.961965 \nL 54.055083 138.809269 \nL 54.287909 139.004676 \nL 54.368856 139.026264 \nL 54.524074 138.82595 \nL 54.679292 138.815226 \nL 54.760239 138.853223 \nL 54.837848 139.147657 \nL 54.993066 138.774318 \nL 55.151622 138.752991 \nL 55.30684 138.909355 \nL 55.620614 138.742544 \nL 55.853441 138.879568 \nL 56.089605 138.868844 \nL 56.244823 138.901015 \nL 56.32577 138.99506 \nL 56.480988 138.823567 \nL 56.717153 138.92225 \nL 56.94998 139.090464 \nL 57.891301 138.749209 \nL 58.046519 138.990378 \nL 58.360293 138.704416 \nL 58.515511 138.809269 \nL 58.674067 138.785141 \nL 58.829285 138.990378 \nL 59.06545 138.862679 \nL 59.375885 138.82595 \nL 59.534441 138.890291 \nL 59.689659 138.928419 \nL 60.003433 138.82595 \nL 60.239598 138.934543 \nL 60.472425 138.917299 \nL 60.70859 138.799737 \nL 60.941417 138.964165 \nL 61.25519 138.764786 \nL 61.413746 138.858896 \nL 61.568964 139.038038 \nL 61.805129 138.966693 \nL 61.882738 138.737778 \nL 61.960347 138.811652 \nL 62.196512 138.936434 \nL 62.274121 138.937951 \nL 62.429339 138.739367 \nL 62.587895 138.834311 \nL 62.665503 138.799737 \nL 62.743112 138.890291 \nL 62.820721 138.818801 \nL 62.979277 138.862679 \nL 63.056886 138.761608 \nL 63.212104 138.909355 \nL 63.37066 138.894828 \nL 63.525878 138.997527 \nL 63.681096 138.926036 \nL 63.762043 138.927924 \nL 63.839652 139.114295 \nL 63.99487 138.995144 \nL 64.231035 138.804503 \nL 64.308643 138.942717 \nL 64.386252 138.874404 \nL 64.622417 138.942717 \nL 64.777635 138.941129 \nL 65.0138 138.990378 \nL 65.169018 138.890291 \nL 65.327574 138.857005 \nL 65.405183 138.561435 \nL 65.560401 138.839453 \nL 65.718957 138.854168 \nL 65.796566 138.77114 \nL 65.951784 138.820389 \nL 66.187948 138.804503 \nL 66.343166 138.995144 \nL 66.501722 138.888209 \nL 66.579331 139.004676 \nL 66.734549 138.815623 \nL 66.893105 138.809726 \nL 66.970714 138.97608 \nL 67.048323 138.935568 \nL 67.203541 138.881951 \nL 67.439706 138.785438 \nL 68.067253 138.747318 \nL 68.30008 138.990378 \nL 68.458636 138.952509 \nL 68.536245 138.728246 \nL 68.613854 138.761608 \nL 69.005237 138.954633 \nL 69.241402 138.857951 \nL 69.319011 138.518541 \nL 69.396619 138.640074 \nL 69.629446 138.819754 \nL 69.632784 138.812563 \nL 69.788002 138.868844 \nL 69.94322 138.735395 \nL 70.334603 138.874802 \nL 70.41555 138.887264 \nL 70.570768 138.616244 \nL 70.806933 138.819182 \nL 70.884542 138.818801 \nL 70.962151 138.992761 \nL 71.039759 138.914121 \nL 71.198315 138.908067 \nL 71.275924 138.895057 \nL 71.353533 138.737778 \nL 71.431142 138.790204 \nL 71.589698 138.858896 \nL 71.667307 139.009442 \nL 71.744916 138.680586 \nL 71.822525 138.780672 \nL 72.05869 138.990378 \nL 72.450073 138.728246 \nL 72.763846 138.866461 \nL 72.919064 138.62101 \nL 73.232838 139.033272 \nL 73.310447 138.878376 \nL 73.546612 138.846604 \nL 73.624221 138.599563 \nL 73.70183 138.692501 \nL 74.093213 138.79497 \nL 74.406986 138.666288 \nL 74.639813 138.865269 \nL 74.72076 138.871189 \nL 74.875978 138.685352 \nL 75.112143 138.850386 \nL 75.189752 138.671054 \nL 75.267361 138.766374 \nL 75.422579 138.710373 \nL 75.503526 138.829583 \nL 75.658744 138.725863 \nL 75.894909 138.769066 \nL 75.972518 139.138125 \nL 76.205344 138.850971 \nL 76.755283 138.752076 \nL 76.910501 138.988789 \nL 77.146666 138.733012 \nL 77.301884 138.812446 \nL 77.538049 138.942717 \nL 77.770875 138.798545 \nL 78.084649 138.809269 \nL 78.398423 138.637691 \nL 78.553641 138.646032 \nL 79.336406 138.856929 \nL 79.886345 138.628159 \nL 80.041563 138.68694 \nL 80.510555 138.758034 \nL 81.529485 138.749693 \nL 81.998477 138.775906 \nL 82.234642 138.570967 \nL 82.38986 138.761608 \nL 82.939798 138.631957 \nL 83.017407 138.299303 \nL 83.172625 138.713948 \nL 83.331181 138.694365 \nL 83.40879 138.523307 \nL 83.564008 138.650401 \nL 83.722564 138.655596 \nL 83.877782 138.878376 \nL 84.110609 138.855022 \nL 84.113947 138.862679 \nL 84.191556 138.790204 \nL 84.346773 138.774318 \nL 84.501991 138.694884 \nL 84.505329 138.703821 \nL 84.660547 138.892674 \nL 84.896712 138.843767 \nL 84.974321 138.618627 \nL 85.05193 138.673437 \nL 85.207148 138.735395 \nL 85.288095 138.787032 \nL 85.443313 138.613861 \nL 85.520922 138.74731 \nL 85.598531 138.700841 \nL 85.679478 138.718005 \nL 85.834696 138.482795 \nL 86.148469 138.77114 \nL 86.462243 138.721787 \nL 86.69507 138.585265 \nL 87.245009 138.777576 \nL 87.322618 138.509009 \nL 87.400227 138.578116 \nL 87.791609 138.678203 \nL 88.496766 138.77114 \nL 88.574375 138.625776 \nL 88.651984 138.671054 \nL 88.81054 138.706658 \nL 88.888149 138.885525 \nL 89.120976 138.613861 \nL 89.279532 138.704416 \nL 89.35714 138.556669 \nL 89.512358 138.700841 \nL 89.593305 138.692474 \nL 89.670914 138.966548 \nL 89.748523 138.87361 \nL 89.903741 138.867652 \nL 89.984688 138.817291 \nL 90.062297 138.265941 \nL 90.217515 138.623393 \nL 90.376071 138.555365 \nL 90.45368 138.852163 \nL 90.531289 138.761608 \nL 91.158836 138.573331 \nL 91.236445 138.923653 \nL 91.314054 138.885525 \nL 91.546881 138.738731 \nL 91.550219 138.745427 \nL 91.627828 138.49471 \nL 91.705437 138.599563 \nL 91.860655 138.711565 \nL 91.941602 138.695311 \nL 92.019211 138.518541 \nL 92.09682 138.637691 \nL 92.174429 138.553492 \nL 92.410594 138.728246 \nL 92.643421 138.657947 \nL 92.724367 138.651814 \nL 92.879585 138.451816 \nL 93.11575 138.598862 \nL 93.193359 138.456582 \nL 93.270968 138.539988 \nL 93.426186 138.666288 \nL 93.584742 138.580499 \nL 93.662351 138.499477 \nL 93.73996 138.577322 \nL 93.898516 138.598862 \nL 93.976125 138.742544 \nL 94.053734 138.682969 \nL 94.208952 138.509009 \nL 94.367507 138.713948 \nL 94.445116 138.587648 \nL 94.75889 138.67582 \nL 94.836499 138.694884 \nL 94.991717 138.601946 \nL 95.150273 138.518541 \nL 95.3831 138.450625 \nL 95.464047 138.503358 \nL 95.619265 138.840248 \nL 95.933039 138.585265 \nL 96.165865 138.690118 \nL 96.948631 138.585265 \nL 97.420961 138.666943 \nL 97.576179 138.499477 \nL 97.812343 138.60359 \nL 97.889952 138.742544 \nL 97.967561 138.67582 \nL 98.122779 138.626968 \nL 98.436553 138.536016 \nL 98.595109 138.570494 \nL 98.672718 138.44705 \nL 98.827936 138.645635 \nL 99.296928 138.600755 \nL 99.377874 138.628175 \nL 99.533092 138.439901 \nL 99.846866 138.790204 \nL 99.924475 138.568584 \nL 100.002084 138.613861 \nL 100.315858 138.74731 \nL 100.471076 138.576925 \nL 100.943406 138.554419 \nL 101.021015 138.389858 \nL 101.098623 138.456582 \nL 101.253841 138.530456 \nL 101.412397 138.256409 \nL 101.490006 138.392241 \nL 101.726171 138.433385 \nL 101.80378 138.618627 \nL 102.036607 138.425603 \nL 102.350381 138.499477 \nL 102.664155 138.487561 \nL 102.741763 138.597975 \nL 102.896981 138.472787 \nL 102.900319 138.475936 \nL 102.977928 138.65199 \nL 103.133146 138.427986 \nL 103.369311 138.532839 \nL 103.602138 138.449433 \nL 103.760694 138.370794 \nL 103.838303 138.27309 \nL 104.152077 138.509009 \nL 104.229686 138.413688 \nL 104.307295 138.493122 \nL 104.543459 138.404156 \nL 104.934842 138.389858 \nL 105.09006 138.524895 \nL 105.481443 138.474058 \nL 105.639999 138.465535 \nL 105.795217 138.611478 \nL 106.031382 138.48161 \nL 106.186599 138.578116 \nL 106.341817 138.425603 \nL 106.419426 138.475646 \nL 106.422764 138.467426 \nL 106.500373 138.67582 \nL 106.577982 138.590031 \nL 106.969365 138.458965 \nL 107.283139 138.575733 \nL 107.438357 138.429575 \nL 107.674522 138.394624 \nL 108.379678 138.459861 \nL 108.457287 138.680586 \nL 108.534896 138.611478 \nL 108.767723 138.379373 \nL 108.771061 138.381378 \nL 108.926279 138.504243 \nL 109.162444 138.398399 \nL 109.240053 138.561435 \nL 109.317662 138.39939 \nL 109.472879 138.493519 \nL 110.336592 138.491065 \nL 110.569419 138.229401 \nL 110.727975 138.351119 \nL 110.805584 138.289771 \nL 111.03841 138.402964 \nL 111.119357 138.380432 \nL 111.274575 138.64484 \nL 111.821176 138.362453 \nL 111.902123 138.433385 \nL 112.057341 138.339814 \nL 112.684889 138.389888 \nL 112.840106 138.539988 \nL 113.15388 138.432752 \nL 113.231489 138.518541 \nL 113.309098 138.394624 \nL 113.386707 138.449433 \nL 113.700481 138.482001 \nL 113.936646 138.35173 \nL 114.25042 138.428657 \nL 114.328029 138.637691 \nL 114.483246 138.356496 \nL 114.638464 138.398437 \nL 114.641802 138.392725 \nL 114.719411 138.285005 \nL 114.874629 138.469292 \nL 115.110794 138.151556 \nL 115.188403 138.275473 \nL 115.343621 138.287388 \nL 115.502177 138.437518 \nL 115.657395 138.412099 \nL 115.89356 138.42322 \nL 116.048777 138.331077 \nL 116.284942 138.737778 \nL 116.517769 138.36007 \nL 116.598716 138.407854 \nL 116.676325 138.609095 \nL 116.831543 138.512186 \nL 117.691918 138.463731 \nL 118.164247 138.297221 \nL 118.319465 138.354113 \nL 118.55563 138.364358 \nL 118.633239 138.442284 \nL 118.866066 138.294537 \nL 119.102231 138.299303 \nL 119.338396 138.395562 \nL 119.493613 138.189684 \nL 119.729778 138.355847 \nL 119.807387 138.270707 \nL 119.884996 138.342197 \nL 120.121161 138.253725 \nL 120.19877 138.509009 \nL 120.276379 138.387475 \nL 120.512544 138.258453 \nL 120.667762 138.482795 \nL 120.745371 138.31519 \nL 120.82298 138.363645 \nL 121.686692 138.285874 \nL 121.84191 138.442284 \nL 121.919519 138.340609 \nL 121.997128 138.410113 \nL 122.078075 138.405018 \nL 122.233293 138.265941 \nL 122.388511 138.35173 \nL 122.469458 138.300058 \nL 122.624676 138.37556 \nL 122.86084 138.309514 \nL 122.938449 138.509009 \nL 123.171276 138.190876 \nL 124.034989 138.110942 \nL 124.112598 138.270707 \nL 124.190207 138.220664 \nL 124.426371 138.266963 \nL 124.50398 138.084832 \nL 124.736807 138.366028 \nL 124.817754 138.317079 \nL 124.895363 138.0753 \nL 124.972972 138.149173 \nL 125.209137 138.2055 \nL 125.286746 138.42322 \nL 125.519573 138.23377 \nL 126.460894 138.294537 \nL 126.538503 138.327899 \nL 126.693721 138.139641 \nL 126.929886 138.242111 \nL 127.166051 138.250888 \nL 127.24366 138.12296 \nL 127.398878 138.324722 \nL 127.557434 138.25467 \nL 127.635043 138.437518 \nL 127.712652 138.22543 \nL 127.79026 138.39939 \nL 127.867869 138.315984 \nL 128.340199 138.192262 \nL 128.417808 138.427986 \nL 128.573026 138.329488 \nL 128.8868 138.242111 \nL 128.964409 138.12296 \nL 129.042018 138.183727 \nL 129.200574 138.389858 \nL 129.278183 138.184918 \nL 129.355792 138.223047 \nL 129.747174 137.952972 \nL 130.297113 138.138364 \nL 130.452331 137.953766 \nL 130.607549 138.193259 \nL 131.079879 137.977615 \nL 131.235096 137.789338 \nL 131.390314 138.091981 \nL 131.471261 138.112833 \nL 131.54887 137.913255 \nL 131.626479 137.951383 \nL 132.254027 138.012602 \nL 132.331636 137.531972 \nL 132.486854 138.089598 \nL 132.64541 138.091085 \nL 132.723019 137.817934 \nL 132.800627 137.882275 \nL 133.114401 138.203983 \nL 133.347228 138.055044 \nL 133.738611 138.125343 \nL 134.443767 137.933907 \nL 134.602323 137.926554 \nL 134.679932 137.612995 \nL 134.757541 137.858445 \nL 134.83515 137.821111 \nL 135.071315 137.960915 \nL 135.148924 137.755976 \nL 135.381751 137.955196 \nL 135.385089 137.950193 \nL 135.617916 137.910077 \nL 135.776472 138.016384 \nL 135.93169 137.84653 \nL 136.245463 138.118194 \nL 136.47829 137.971639 \nL 136.636846 137.965681 \nL 137.652439 137.982362 \nL 137.966212 137.925964 \nL 138.124768 137.949248 \nL 138.202377 137.684485 \nL 138.357595 137.972036 \nL 138.512813 138.014295 \nL 138.516151 138.004091 \nL 138.59376 137.722613 \nL 138.671369 137.815551 \nL 138.907534 137.972887 \nL 138.985143 137.84653 \nL 139.062752 137.920404 \nL 139.298917 137.8632 \nL 139.376526 137.47478 \nL 139.531743 137.959326 \nL 139.690299 137.956812 \nL 139.767908 137.603463 \nL 139.845517 137.739294 \nL 140.392118 137.724996 \nL 140.473065 137.845234 \nL 140.628283 137.646357 \nL 140.86111 137.845577 \nL 140.864448 137.841452 \nL 141.019666 137.820317 \nL 141.647213 137.872656 \nL 141.724822 137.736911 \nL 141.802431 137.958532 \nL 141.88004 137.878304 \nL 142.038596 137.890622 \nL 142.116205 137.579632 \nL 142.193814 137.660655 \nL 142.429979 137.750676 \nL 142.507588 138.227813 \nL 142.585197 138.0753 \nL 142.89897 137.789338 \nL 142.976579 137.758359 \nL 143.054188 137.916432 \nL 143.131797 137.831041 \nL 143.212744 137.805519 \nL 143.290353 137.979979 \nL 143.445571 137.665421 \nL 143.604127 137.81403 \nL 143.681736 137.651123 \nL 143.914563 137.79887 \nL 144.305946 137.817934 \nL 144.54211 137.629676 \nL 144.697328 137.678528 \nL 144.778275 137.693941 \nL 144.933493 137.882275 \nL 145.16632 137.829372 \nL 145.169658 137.838615 \nL 145.247267 137.508142 \nL 145.324876 137.639208 \nL 145.561041 137.687322 \nL 145.63865 137.879892 \nL 145.793868 137.727379 \nL 145.952424 137.687322 \nL 146.18525 137.551036 \nL 146.731851 137.816028 \nL 146.735189 137.810247 \nL 146.890407 137.551036 \nL 147.204181 137.698783 \nL 147.359399 137.646357 \nL 147.517955 137.713798 \nL 148.30072 137.713798 \nL 148.378329 137.360395 \nL 148.455938 137.434268 \nL 148.692103 137.595601 \nL 148.769712 137.365161 \nL 148.92493 137.63047 \nL 149.002539 137.580824 \nL 149.083486 137.573852 \nL 149.161095 137.741677 \nL 149.238704 137.682102 \nL 149.393922 137.652314 \nL 149.707695 137.730557 \nL 149.94386 137.579632 \nL 150.021469 137.715464 \nL 150.176687 137.580824 \nL 151.118008 137.479546 \nL 151.195617 137.298437 \nL 151.273226 137.358806 \nL 151.664609 137.492255 \nL 151.823165 137.514281 \nL 151.900774 137.784572 \nL 151.978383 137.698783 \nL 152.369766 137.341331 \nL 152.68354 137.49861 \nL 152.838757 137.403289 \nL 152.993975 137.509095 \nL 152.997313 137.501042 \nL 153.074922 137.255542 \nL 153.152531 137.329416 \nL 153.307749 137.400906 \nL 153.466305 137.369927 \nL 153.699132 137.417587 \nL 153.780079 137.474566 \nL 153.857688 137.141158 \nL 153.935297 137.210265 \nL 154.090515 137.306777 \nL 154.168124 137.341331 \nL 154.171462 137.327056 \nL 154.249071 137.017241 \nL 154.32668 137.124476 \nL 154.481897 137.298437 \nL 154.562844 137.287341 \nL 154.640453 136.907622 \nL 154.718062 137.005326 \nL 154.954227 137.158742 \nL 155.031836 137.060135 \nL 155.264663 137.34848 \nL 155.342272 137.319407 \nL 155.34561 137.332729 \nL 155.423219 137.136391 \nL 155.500828 137.417587 \nL 155.578437 137.387402 \nL 155.814602 137.436651 \nL 155.892211 137.257925 \nL 155.96982 137.344508 \nL 156.128376 137.386627 \nL 156.283593 137.043454 \nL 156.674976 137.26984 \nL 156.911141 137.29396 \nL 156.98875 136.964814 \nL 157.066359 137.062518 \nL 157.221577 137.184052 \nL 157.61296 137.107795 \nL 157.690569 137.139251 \nL 157.693907 137.130375 \nL 157.771516 137.045837 \nL 157.926733 137.234889 \nL 158.085289 137.264647 \nL 158.240507 136.94575 \nL 158.476672 137.05662 \nL 158.554281 136.864728 \nL 158.63189 136.931452 \nL 158.868055 137.01596 \nL 159.100882 137.015652 \nL 159.2561 137.077293 \nL 159.259438 137.072694 \nL 159.414656 136.998177 \nL 159.492264 137.112561 \nL 159.569873 137.05656 \nL 159.65082 137.031089 \nL 159.806038 136.888558 \nL 159.883647 136.863139 \nL 160.042203 137.027307 \nL 160.197421 136.991028 \nL 160.433586 136.991374 \nL 160.511195 136.893324 \nL 160.666413 137.118916 \nL 160.824969 137.023524 \nL 160.902578 137.103029 \nL 160.980187 136.890941 \nL 161.057796 136.939396 \nL 161.216351 136.950715 \nL 161.29396 136.697917 \nL 161.449178 136.907622 \nL 161.607734 136.899653 \nL 161.685343 137.164988 \nL 161.762952 137.129242 \nL 161.999117 136.947878 \nL 162.154335 136.826599 \nL 162.309553 136.894515 \nL 162.700936 136.90643 \nL 162.781883 136.931803 \nL 162.859491 136.559702 \nL 162.9371 136.647873 \nL 163.173265 136.755925 \nL 163.250874 136.540638 \nL 163.406092 136.670909 \nL 163.564648 136.65853 \nL 163.642257 136.812301 \nL 163.719866 136.640724 \nL 163.797475 136.689973 \nL 163.956031 136.754979 \nL 164.03364 136.450083 \nL 164.111249 136.693151 \nL 164.188858 136.659788 \nL 164.425023 136.802769 \nL 164.58024 136.642313 \nL 164.738796 136.746469 \nL 164.816405 136.411955 \nL 164.894014 136.543021 \nL 165.049232 136.535872 \nL 165.207788 136.497743 \nL 165.440615 136.427444 \nL 165.599171 136.464381 \nL 165.909607 136.599736 \nL 165.912945 136.591394 \nL 166.22338 136.396465 \nL 166.381936 136.554936 \nL 166.459545 136.364294 \nL 166.537154 136.435785 \nL 166.69571 136.512911 \nL 166.850928 136.302336 \nL 167.087093 136.395659 \nL 167.164702 136.130759 \nL 167.31992 136.364294 \nL 167.478476 136.426863 \nL 167.711303 136.219725 \nL 167.869858 136.224509 \nL 167.947467 136.059268 \nL 168.025076 136.121227 \nL 168.180294 136.278506 \nL 168.261241 136.25193 \nL 168.416459 136.330932 \nL 169.044007 136.254767 \nL 169.121616 136.0688 \nL 169.199225 136.104546 \nL 169.43539 136.215053 \nL 169.512998 135.625559 \nL 169.668216 135.94965 \nL 170.137208 136.149823 \nL 170.218155 136.1621 \nL 170.295764 135.859095 \nL 170.373373 135.906755 \nL 170.609538 136.038229 \nL 170.687147 135.682752 \nL 170.764756 135.742327 \nL 171.07853 135.906755 \nL 171.156138 135.737561 \nL 171.233747 135.809846 \nL 171.702739 135.770923 \nL 171.861295 135.74471 \nL 172.175069 135.798997 \nL 172.407896 135.571544 \nL 172.566452 135.611772 \nL 172.644061 135.196617 \nL 172.799279 135.536594 \nL 172.957834 135.604208 \nL 173.035443 135.358662 \nL 173.113052 135.406322 \nL 173.26827 135.463514 \nL 173.349217 135.467098 \nL 173.426826 135.849563 \nL 173.582044 135.496877 \nL 173.737262 135.494017 \nL 173.7406 135.500194 \nL 173.818209 134.939251 \nL 173.895818 135.175169 \nL 174.131983 135.381051 \nL 174.287201 135.501643 \nL 174.36481 135.409499 \nL 174.442419 135.518324 \nL 174.523365 135.432112 \nL 174.600974 134.710481 \nL 174.678583 135.003592 \nL 174.756192 135.017096 \nL 174.914748 135.174914 \nL 175.069966 134.920187 \nL 175.461349 135.044104 \nL 175.616567 134.891591 \nL 175.697514 135.010383 \nL 175.775123 134.810568 \nL 175.852732 135.008358 \nL 175.930341 134.974202 \nL 176.088897 135.047261 \nL 176.166505 134.743844 \nL 176.244114 134.853462 \nL 176.480279 134.936628 \nL 176.635497 134.977379 \nL 176.790715 134.847505 \nL 176.871662 134.902587 \nL 176.949271 134.500776 \nL 177.02688 134.596097 \nL 177.182098 134.702141 \nL 177.340654 134.610395 \nL 177.418263 134.455499 \nL 177.495872 134.538904 \nL 177.654428 134.624586 \nL 177.732037 134.257708 \nL 177.809646 134.596097 \nL 177.887254 134.553202 \nL 178.042472 134.606582 \nL 178.04581 134.59811 \nL 178.201028 134.241027 \nL 178.433855 134.541764 \nL 178.437193 134.530028 \nL 178.514802 134.181452 \nL 178.67002 134.395923 \nL 179.139012 134.341114 \nL 179.219959 134.450599 \nL 179.297568 133.876426 \nL 179.375177 133.893107 \nL 179.530394 134.102812 \nL 179.611341 134.106408 \nL 179.68895 133.695317 \nL 179.766559 133.869277 \nL 179.921777 134.007492 \nL 180.002724 134.115864 \nL 180.080333 133.580932 \nL 180.157942 133.707232 \nL 180.394107 133.835972 \nL 180.471716 133.614294 \nL 180.549325 133.645273 \nL 180.863099 133.719147 \nL 181.018317 133.514207 \nL 181.176872 133.629835 \nL 181.33209 133.325949 \nL 181.568255 133.576883 \nL 181.645864 132.989944 \nL 181.723473 133.006625 \nL 181.9563 133.29497 \nL 181.959638 133.284698 \nL 182.114856 132.913688 \nL 182.347683 133.201556 \nL 182.351021 133.19865 \nL 182.42863 132.713514 \nL 182.506239 132.792154 \nL 182.742404 133.015208 \nL 182.820013 132.379892 \nL 182.897621 132.54432 \nL 183.130448 132.800256 \nL 183.133786 132.797724 \nL 183.211395 131.850862 \nL 183.444222 132.615811 \nL 183.525169 132.670071 \nL 183.602778 132.356062 \nL 183.680387 132.54432 \nL 183.757996 132.362417 \nL 183.916552 132.515941 \nL 183.994161 132.160655 \nL 184.07177 132.203549 \nL 184.307935 132.343846 \nL 184.385544 131.531538 \nL 184.463153 131.781755 \nL 184.854535 132.02244 \nL 185.0907 132.047879 \nL 185.168309 131.498176 \nL 185.245918 131.74601 \nL 185.323527 131.650689 \nL 185.478745 131.882318 \nL 185.482083 131.869164 \nL 185.559692 131.212214 \nL 185.637301 131.388557 \nL 185.870128 131.588731 \nL 185.873466 131.58549 \nL 185.951075 130.59263 \nL 186.028684 130.878592 \nL 186.26151 131.226512 \nL 186.264848 131.21955 \nL 186.342457 130.440117 \nL 186.420066 130.497309 \nL 186.656231 130.970862 \nL 186.73384 130.478245 \nL 186.811449 130.578332 \nL 187.047614 130.820515 \nL 187.125223 130.201816 \nL 187.202832 130.239944 \nL 187.438997 130.504691 \nL 187.594215 130.027855 \nL 187.827041 130.29523 \nL 187.83038 130.30801 \nL 187.907988 129.181885 \nL 187.985597 129.658488 \nL 188.140815 129.864619 \nL 188.221762 130.00637 \nL 188.299371 129.39159 \nL 188.37698 129.472613 \nL 188.454589 129.444017 \nL 188.613145 129.728369 \nL 188.690754 128.848263 \nL 188.768363 128.991244 \nL 189.004528 129.412545 \nL 189.159746 128.891157 \nL 189.395911 129.32177 \nL 189.551128 128.36451 \nL 189.783955 128.74341 \nL 189.787293 128.741183 \nL 189.864902 128.09523 \nL 189.942511 128.242977 \nL 190.175338 128.534658 \nL 190.178676 128.522754 \nL 190.256285 127.237344 \nL 190.411503 127.809268 \nL 190.566721 128.072353 \nL 190.570059 128.06793 \nL 190.647668 127.261174 \nL 190.725277 127.511391 \nL 190.961442 128.00363 \nL 191.039051 126.584398 \nL 191.11666 126.870359 \nL 191.352824 127.322812 \nL 191.430433 126.11256 \nL 191.508042 126.534354 \nL 191.744207 126.996587 \nL 191.899425 126.212647 \nL 192.132252 126.706408 \nL 192.13559 126.694947 \nL 192.290808 125.836131 \nL 192.526973 126.263762 \nL 192.604582 125.273739 \nL 192.682191 125.545403 \nL 192.918355 125.925244 \nL 192.995964 124.268106 \nL 193.073573 124.797136 \nL 193.309738 125.399501 \nL 193.464956 124.501642 \nL 193.697783 125.052595 \nL 193.701121 125.0468 \nL 193.77873 124.001208 \nL 193.856339 124.306234 \nL 194.092504 124.682751 \nL 194.170113 123.476945 \nL 194.247722 123.569883 \nL 194.483887 124.203342 \nL 194.561495 122.890723 \nL 194.639104 122.988427 \nL 194.875269 123.601952 \nL 194.952878 122.385524 \nL 195.030487 122.518973 \nL 195.263314 123.256754 \nL 195.266652 123.248305 \nL 195.344261 121.632491 \nL 195.42187 122.171052 \nL 195.654697 122.727725 \nL 195.658035 122.720671 \nL 195.735644 121.518106 \nL 195.813253 121.811217 \nL 196.049418 122.244098 \nL 196.127027 121.008141 \nL 196.204635 121.346529 \nL 196.4408 121.755233 \nL 196.518409 119.935783 \nL 196.596018 120.4386 \nL 196.832183 121.249348 \nL 196.909792 119.668886 \nL 196.987401 119.971529 \nL 197.223566 120.738734 \nL 197.301175 119.197049 \nL 197.378784 119.757057 \nL 197.534002 120.062083 \nL 197.614949 120.237576 \nL 197.692558 118.710913 \nL 197.770167 119.058834 \nL 198.006331 119.722235 \nL 198.08394 118.067499 \nL 198.161549 118.253374 \nL 198.397714 118.94875 \nL 198.552932 117.705281 \nL 198.789097 118.432463 \nL 198.866706 117.166719 \nL 198.944315 117.316849 \nL 199.177142 118.115159 \nL 199.18048 118.112856 \nL 199.258089 116.394622 \nL 199.335698 116.802118 \nL 199.571862 117.58995 \nL 199.649471 115.369925 \nL 199.72708 115.825081 \nL 199.963245 116.804173 \nL 200.040854 115.212646 \nL 200.118463 115.431884 \nL 200.35129 116.272612 \nL 200.354628 116.267083 \nL 200.432237 114.90762 \nL 200.509846 115.131624 \nL 200.746011 115.935184 \nL 200.82362 113.940116 \nL 200.901229 114.178417 \nL 201.134056 115.233617 \nL 201.137394 115.222216 \nL 201.292611 114.323781 \nL 201.525438 114.875211 \nL 201.528776 114.862896 \nL 201.606385 113.220445 \nL 201.683994 113.565982 \nL 201.920159 114.328643 \nL 201.997768 112.586563 \nL 202.075377 112.996441 \nL 202.308204 113.745662 \nL 202.311542 113.720634 \nL 202.389151 112.314899 \nL 202.46676 112.484093 \nL 202.621978 112.883248 \nL 202.699587 113.252854 \nL 202.702925 113.249735 \nL 202.780534 111.309266 \nL 202.858142 112.043235 \nL 203.094307 112.692788 \nL 203.171916 110.98041 \nL 203.249525 111.240159 \nL 203.48569 111.977929 \nL 203.563299 111.032836 \nL 203.640908 111.20918 \nL 203.718517 111.255251 \nL 203.877073 111.704656 \nL 203.954682 109.622091 \nL 204.032291 110.301251 \nL 204.265118 111.076684 \nL 204.268456 111.067335 \nL 204.346065 108.997741 \nL 204.423674 109.686433 \nL 204.659838 110.55483 \nL 204.737447 108.687949 \nL 204.815056 109.121658 \nL 205.047883 110.00242 \nL 205.051221 110.00072 \nL 205.12883 108.244708 \nL 205.206439 108.661736 \nL 205.442604 109.64329 \nL 205.520213 108.087429 \nL 205.597822 108.244708 \nL 205.833987 109.248038 \nL 205.911596 107.105626 \nL 205.989205 107.565549 \nL 206.225369 108.550199 \nL 206.302978 106.466978 \nL 206.380587 107.019838 \nL 206.616752 108.010273 \nL 206.694361 106.300167 \nL 206.77197 106.702897 \nL 207.008135 107.702959 \nL 207.085744 106.266805 \nL 207.163353 106.273954 \nL 207.399518 107.098733 \nL 207.477127 105.447047 \nL 207.554736 105.895054 \nL 207.787563 106.775817 \nL 207.790901 106.766834 \nL 207.86851 104.722611 \nL 207.946118 105.001424 \nL 208.182283 106.202322 \nL 208.259892 104.846527 \nL 208.337501 105.320748 \nL 208.570328 106.160046 \nL 208.573666 106.158826 \nL 208.651275 104.431883 \nL 208.728884 104.539118 \nL 208.965049 105.422218 \nL 209.042658 103.936215 \nL 209.120267 104.479543 \nL 209.356432 105.199061 \nL 209.434041 102.782836 \nL 209.51165 103.423867 \nL 209.747814 104.487039 \nL 209.825423 102.616025 \nL 209.903032 103.12599 \nL 210.139197 104.301705 \nL 210.216806 102.15372 \nL 210.294415 103.049734 \nL 210.53058 103.781636 \nL 210.608189 102.382489 \nL 210.685798 102.756623 \nL 210.921963 103.541458 \nL 210.999572 102.158486 \nL 211.077181 102.210912 \nL 211.313345 103.069614 \nL 211.390954 101.562732 \nL 211.468563 101.905886 \nL 211.70139 102.675123 \nL 211.704728 102.670579 \nL 211.782337 101.543668 \nL 211.859946 101.617541 \nL 212.096111 102.474843 \nL 212.17372 100.538035 \nL 212.251329 101.312515 \nL 212.484156 102.085089 \nL 212.487494 102.074863 \nL 212.565103 100.480843 \nL 212.642712 101.005106 \nL 212.878877 101.607746 \nL 212.956485 100.14722 \nL 213.034094 100.681016 \nL 213.111703 100.798578 \nL 213.266921 101.364465 \nL 213.270259 101.35433 \nL 213.347868 100.07573 \nL 213.425477 100.442714 \nL 213.661642 101.030942 \nL 213.739251 99.45138 \nL 213.81686 99.868407 \nL 214.049687 100.591414 \nL 214.053025 100.5799 \nL 214.130634 99.213078 \nL 214.208243 99.677766 \nL 214.444408 100.339722 \nL 214.522017 98.82703 \nL 214.599625 98.986692 \nL 214.83579 100.15628 \nL 214.913399 99.036735 \nL 214.991008 99.313165 \nL 215.227173 100.001204 \nL 215.304782 98.555366 \nL 215.382391 98.908052 \nL 215.46 98.952535 \nL 215.618556 99.45655 \nL 215.696165 98.593494 \nL 215.773774 98.822264 \nL 216.009939 99.323223 \nL 216.087548 97.730842 \nL 216.165157 98.162168 \nL 216.401321 98.872181 \nL 216.47893 97.773737 \nL 216.556539 98.152636 \nL 216.792704 98.922297 \nL 216.870313 97.692714 \nL 216.947922 97.807099 \nL 217.184087 98.473146 \nL 217.261696 97.09696 \nL 217.339305 97.306666 \nL 217.57547 98.071274 \nL 217.653079 97.139854 \nL 217.730688 97.254239 \nL 217.966852 97.807457 \nL 218.044461 96.434482 \nL 218.12207 96.870574 \nL 218.358235 97.713845 \nL 218.435844 96.396353 \nL 218.513453 96.858659 \nL 218.749618 97.495416 \nL 218.827227 96.281969 \nL 218.904836 96.327246 \nL 219.141001 97.173918 \nL 219.21861 96.034135 \nL 219.296219 96.389204 \nL 219.373828 96.334395 \nL 219.532384 96.757863 \nL 219.609992 95.714811 \nL 219.687601 95.97456 \nL 219.923766 96.603733 \nL 220.001375 95.428849 \nL 220.078984 95.912601 \nL 220.315149 96.738951 \nL 220.392758 95.548 \nL 220.470367 95.719577 \nL 220.706532 96.131888 \nL 220.784141 95.357359 \nL 220.86175 95.376423 \nL 221.097915 96.03733 \nL 221.175524 95.047567 \nL 221.253132 95.393104 \nL 221.489297 95.897384 \nL 221.566906 94.766371 \nL 221.644515 95.20008 \nL 221.877342 95.738641 \nL 221.88068 95.732853 \nL 221.958289 94.637688 \nL 222.035898 94.752073 \nL 222.272063 95.433104 \nL 222.349672 94.728242 \nL 222.427281 94.902203 \nL 222.663446 95.477546 \nL 222.741055 94.408918 \nL 222.818664 94.680582 \nL 223.054828 95.381097 \nL 223.132437 94.39462 \nL 223.210046 94.480409 \nL 223.446211 95.049198 \nL 223.601429 94.292151 \nL 223.834256 95.088554 \nL 223.837594 95.082294 \nL 223.915203 93.360391 \nL 223.992812 93.808398 \nL 224.228977 94.619905 \nL 224.306586 93.531968 \nL 224.384195 93.963294 \nL 224.620359 94.34285 \nL 224.697968 93.231709 \nL 224.775577 93.431882 \nL 225.011742 94.20574 \nL 225.089351 93.484308 \nL 225.16696 93.758355 \nL 225.403125 94.257747 \nL 225.403125 94.257747 \n\" clip-path=\"url(#p20f86b51c7)\" style=\"fill: none; stroke-dasharray: 5.55,2.4; stroke-dashoffset: 0; stroke: #bf00bf; stroke-width: 1.5\"/>\n   </g>\n   <g id=\"line2d_23\">\n    <path d=\"M 30.103125 139.187958 \nL 30.494508 139.346816 \nL 31.277273 139.057468 \nL 31.668656 139.182285 \nL 32.060039 138.972366 \nL 32.451422 139.131224 \nL 33.62557 139.176611 \nL 34.016953 138.99506 \nL 34.408335 139.267387 \nL 34.799718 139.119877 \nL 36.365249 139.165264 \nL 36.756632 139.034774 \nL 37.148015 139.227673 \nL 37.539398 139.068815 \nL 37.93078 139.216326 \nL 38.322163 139.199305 \nL 38.713546 139.046121 \nL 39.104929 139.085836 \nL 39.496311 138.955346 \nL 39.887694 139.187958 \nL 40.279077 139.017754 \nL 40.67046 139.204979 \nL 41.061842 138.99506 \nL 42.235991 139.23902 \nL 43.018756 138.99506 \nL 43.410139 139.142571 \nL 44.192905 138.824855 \nL 44.584287 139.119877 \nL 45.758436 139.017754 \nL 46.932584 139.153917 \nL 47.323967 138.915631 \nL 47.715349 138.86457 \nL 48.106732 139.040448 \nL 48.498115 138.955346 \nL 48.889498 139.170938 \nL 50.063646 139.153917 \nL 50.455029 138.972366 \nL 51.629177 139.187958 \nL 52.02056 139.074489 \nL 52.803325 139.006407 \nL 53.194708 139.000733 \nL 53.586091 138.745427 \nL 53.977474 138.966693 \nL 54.760239 138.898611 \nL 55.934388 138.892937 \nL 56.717153 139.046121 \nL 57.108536 138.921305 \nL 58.282684 139.080162 \nL 58.674067 138.870243 \nL 59.848215 138.972366 \nL 60.239598 138.88159 \nL 61.413746 138.99506 \nL 62.196512 138.768121 \nL 62.587895 138.841876 \nL 62.979277 138.722733 \nL 63.37066 138.921305 \nL 64.153426 138.86457 \nL 65.718957 138.870243 \nL 66.110339 138.921305 \nL 66.501722 139.097183 \nL 66.893105 138.921305 \nL 67.67587 138.926978 \nL 69.632784 139.034774 \nL 70.024167 138.898611 \nL 70.806933 139.102856 \nL 71.198315 138.943999 \nL 71.589698 139.017754 \nL 72.372464 138.824855 \nL 72.763846 139.000733 \nL 73.155229 138.904284 \nL 73.546612 138.989386 \nL 73.937995 138.847549 \nL 74.329378 138.955346 \nL 75.894909 138.88159 \nL 76.286291 138.972366 \nL 76.677674 138.819182 \nL 77.069057 139.051795 \nL 77.46044 138.756774 \nL 78.243205 139.006407 \nL 78.634588 138.768121 \nL 79.025971 138.756774 \nL 79.417353 138.88159 \nL 79.808736 138.802161 \nL 80.200119 138.898611 \nL 80.591502 138.785141 \nL 81.374267 138.875917 \nL 81.76565 138.796488 \nL 82.157033 138.943999 \nL 84.113947 138.790814 \nL 85.288095 138.887264 \nL 86.07086 138.728406 \nL 86.462243 138.88159 \nL 88.81054 138.841876 \nL 89.984688 138.847549 \nL 92.332985 138.932652 \nL 92.724367 138.802161 \nL 93.11575 138.99506 \nL 93.507133 138.943999 \nL 94.289899 138.972366 \nL 94.681281 138.836202 \nL 95.072664 138.853223 \nL 95.464047 138.705712 \nL 95.85543 138.853223 \nL 98.203726 138.921305 \nL 98.595109 138.739753 \nL 98.986492 138.847549 \nL 101.726171 138.853223 \nL 102.508937 138.989386 \nL 102.900319 138.802161 \nL 103.291702 138.802161 \nL 103.683085 139.01208 \nL 104.074468 138.762447 \nL 104.857233 138.773794 \nL 105.248616 138.983713 \nL 105.639999 138.807835 \nL 106.031382 138.870243 \nL 106.814147 138.790814 \nL 107.20553 138.943999 \nL 107.988295 138.858896 \nL 108.379678 138.785141 \nL 108.771061 138.938325 \nL 109.162444 138.887264 \nL 109.553826 138.722733 \nL 109.945209 139.006407 \nL 110.336592 138.768121 \nL 110.727975 138.875917 \nL 111.119357 138.819182 \nL 111.902123 139.017754 \nL 112.293506 138.841876 \nL 112.684889 138.802161 \nL 113.076271 138.966693 \nL 113.467654 138.688692 \nL 113.859037 138.898611 \nL 114.641802 138.915631 \nL 116.598716 138.966693 \nL 117.381482 138.785141 \nL 117.772864 138.978039 \nL 118.164247 138.898611 \nL 118.55563 138.700039 \nL 119.338396 139.000733 \nL 120.121161 138.841876 \nL 120.903927 138.932652 \nL 121.295309 139.091509 \nL 122.469458 138.86457 \nL 123.252223 139.023427 \nL 123.643606 138.887264 \nL 124.034989 138.898611 \nL 124.817754 138.62061 \nL 125.60052 138.887264 \nL 125.991903 138.824855 \nL 126.774668 139.006407 \nL 127.166051 138.705712 \nL 127.557434 138.921305 \nL 129.122965 138.802161 \nL 129.514347 139.063142 \nL 129.90573 138.830529 \nL 130.297113 138.73408 \nL 130.688496 138.949672 \nL 132.64541 138.858896 \nL 133.036792 139.040448 \nL 133.428175 138.824855 \nL 134.210941 139.000733 \nL 134.602323 139.074489 \nL 135.385089 138.694365 \nL 135.776472 138.807835 \nL 136.167854 138.688692 \nL 136.559237 138.847549 \nL 136.95062 138.813508 \nL 137.342003 139.006407 \nL 137.733386 138.796488 \nL 138.124768 139.329795 \nL 138.516151 138.898611 \nL 138.907534 138.943999 \nL 139.298917 138.875917 \nL 139.690299 138.961019 \nL 140.081682 138.768121 \nL 140.473065 138.773794 \nL 141.25583 139.216326 \nL 142.038596 139.017754 \nL 142.821361 139.136897 \nL 143.212744 138.796488 \nL 143.604127 139.01208 \nL 143.99551 138.86457 \nL 144.386893 138.915631 \nL 144.778275 138.688692 \nL 145.169658 138.909958 \nL 145.561041 138.887264 \nL 145.952424 138.722733 \nL 148.30072 139.233346 \nL 148.692103 139.000733 \nL 149.083486 139.204979 \nL 149.474868 138.961019 \nL 149.866251 138.99506 \nL 150.257634 138.700039 \nL 150.649017 139.051795 \nL 151.0404 138.785141 \nL 151.823165 138.739753 \nL 152.214548 139.153917 \nL 152.605931 139.091509 \nL 152.997313 139.182285 \nL 153.388696 138.813508 \nL 154.171462 138.955346 \nL 154.562844 138.904284 \nL 154.954227 139.221999 \nL 155.34561 138.961019 \nL 155.736993 139.023427 \nL 156.128376 138.830529 \nL 156.911141 139.261714 \nL 157.302524 138.921305 \nL 157.693907 139.204979 \nL 158.085289 139.097183 \nL 158.476672 139.210652 \nL 159.259438 138.892937 \nL 160.042203 139.204979 \nL 160.824969 138.745427 \nL 161.216351 138.99506 \nL 161.999117 139.244693 \nL 162.3905 138.921305 \nL 162.781883 139.119877 \nL 163.173265 139.023427 \nL 163.564648 139.216326 \nL 163.956031 138.955346 \nL 164.738796 138.904284 \nL 165.130179 139.046121 \nL 165.521562 139.000733 \nL 166.69571 139.199305 \nL 167.087093 139.034774 \nL 169.43539 139.085836 \nL 169.826772 139.38653 \nL 170.218155 139.040448 \nL 170.609538 138.983713 \nL 171.000921 139.25604 \nL 171.783686 139.114203 \nL 172.566452 139.267387 \nL 172.957834 139.153917 \nL 173.349217 139.199305 \nL 173.7406 139.017754 \nL 174.131983 139.273061 \nL 174.523365 138.841876 \nL 174.914748 139.097183 \nL 175.306131 138.938325 \nL 175.697514 139.176611 \nL 176.480279 139.165264 \nL 176.871662 139.000733 \nL 177.263045 138.966693 \nL 177.654428 139.170938 \nL 178.437193 138.932652 \nL 178.828576 139.017754 \nL 179.219959 138.86457 \nL 179.611341 139.261714 \nL 180.002724 139.12555 \nL 180.394107 139.227673 \nL 181.176872 139.040448 \nL 181.568255 139.204979 \nL 181.959638 138.983713 \nL 182.742404 139.25604 \nL 183.133786 138.915631 \nL 183.916552 139.148244 \nL 184.307935 139.057468 \nL 184.699317 139.131224 \nL 185.0907 139.023427 \nL 186.656231 139.5 \nL 187.047614 139.199305 \nL 188.221762 139.312775 \nL 188.613145 138.858896 \nL 189.004528 139.085836 \nL 189.787293 139.199305 \nL 190.178676 138.972366 \nL 190.961442 139.204979 \nL 191.352824 139.131224 \nL 191.744207 139.36951 \nL 192.13559 138.898611 \nL 192.526973 139.170938 \nL 192.918355 139.273061 \nL 193.309738 139.063142 \nL 194.092504 139.397877 \nL 194.875269 139.046121 \nL 195.266652 139.409224 \nL 195.658035 139.153917 \nL 196.049418 139.23902 \nL 196.832183 138.949672 \nL 197.223566 139.131224 \nL 197.614949 139.443265 \nL 198.006331 139.375183 \nL 198.397714 138.875917 \nL 198.789097 139.261714 \nL 199.18048 139.221999 \nL 199.571862 139.477306 \nL 200.354628 139.352489 \nL 200.746011 139.12555 \nL 201.137394 139.261714 \nL 201.528776 139.074489 \nL 201.920159 139.431918 \nL 203.48569 139.148244 \nL 203.877073 139.034774 \nL 205.442604 139.358163 \nL 205.833987 139.131224 \nL 206.225369 139.352489 \nL 206.616752 139.080162 \nL 207.008135 139.23902 \nL 207.399518 139.051795 \nL 207.790901 139.273061 \nL 208.182283 139.312775 \nL 208.573666 138.904284 \nL 209.747814 139.221999 \nL 210.139197 139.142571 \nL 210.53058 139.324122 \nL 211.313345 139.216326 \nL 211.704728 139.380857 \nL 212.096111 139.187958 \nL 212.487494 139.216326 \nL 212.878877 139.420571 \nL 213.270259 139.085836 \nL 213.661642 139.335469 \nL 214.053025 139.085836 \nL 214.444408 139.341142 \nL 214.83579 138.961019 \nL 215.227173 139.341142 \nL 215.618556 139.142571 \nL 216.009939 139.426245 \nL 216.792704 139.074489 \nL 217.184087 139.199305 \nL 217.57547 139.040448 \nL 218.358235 139.204979 \nL 218.749618 139.063142 \nL 219.923766 139.341142 \nL 220.706532 139.034774 \nL 221.097915 139.221999 \nL 221.489297 138.989386 \nL 221.88068 139.216326 \nL 222.272063 139.159591 \nL 222.663446 139.301428 \nL 224.620359 138.943999 \nL 225.403125 139.221999 \nL 225.403125 139.221999 \n\" clip-path=\"url(#p20f86b51c7)\" style=\"fill: none; stroke-dasharray: 9.6,2.4,1.5,2.4; stroke-dashoffset: 0; stroke: #008000; stroke-width: 1.5\"/>\n   </g>\n   <g id=\"patch_3\">\n    <path d=\"M 30.103125 145.8 \nL 30.103125 7.2 \n\" style=\"fill: none; stroke: #000000; stroke-width: 0.8; stroke-linejoin: miter; stroke-linecap: square\"/>\n   </g>\n   <g id=\"patch_4\">\n    <path d=\"M 225.403125 145.8 \nL 225.403125 7.2 \n\" style=\"fill: none; stroke: #000000; stroke-width: 0.8; stroke-linejoin: miter; stroke-linecap: square\"/>\n   </g>\n   <g id=\"patch_5\">\n    <path d=\"M 30.103125 145.8 \nL 225.403125 145.8 \n\" style=\"fill: none; stroke: #000000; stroke-width: 0.8; stroke-linejoin: miter; stroke-linecap: square\"/>\n   </g>\n   <g id=\"patch_6\">\n    <path d=\"M 30.103125 7.2 \nL 225.403125 7.2 \n\" style=\"fill: none; stroke: #000000; stroke-width: 0.8; stroke-linejoin: miter; stroke-linecap: square\"/>\n   </g>\n   <g id=\"legend_1\">\n    <g id=\"patch_7\">\n     <path d=\"M 37.103125 100.017188 \nL 114.871875 100.017188 \nQ 116.871875 100.017188 116.871875 98.017188 \nL 116.871875 54.982812 \nQ 116.871875 52.982812 114.871875 52.982812 \nL 37.103125 52.982812 \nQ 35.103125 52.982812 35.103125 54.982812 \nL 35.103125 98.017188 \nQ 35.103125 100.017188 37.103125 100.017188 \nz\n\" style=\"fill: #ffffff; opacity: 0.8; stroke: #cccccc; stroke-linejoin: miter\"/>\n    </g>\n    <g id=\"line2d_24\">\n     <path d=\"M 39.103125 61.08125 \nL 49.103125 61.08125 \nL 59.103125 61.08125 \n\" style=\"fill: none; stroke: #1f77b4; stroke-width: 1.5; stroke-linecap: square\"/>\n    </g>\n    <g id=\"text_12\">\n     <!-- train loss -->\n     <g transform=\"translate(67.103125 64.58125) scale(0.1 -0.1)\">\n      <defs>\n       <path id=\"DejaVuSans-74\" d=\"M 1172 4494 \nL 1172 3500 \nL 2356 3500 \nL 2356 3053 \nL 1172 3053 \nL 1172 1153 \nQ 1172 725 1289 603 \nQ 1406 481 1766 481 \nL 2356 481 \nL 2356 0 \nL 1766 0 \nQ 1100 0 847 248 \nQ 594 497 594 1153 \nL 594 3053 \nL 172 3053 \nL 172 3500 \nL 594 3500 \nL 594 4494 \nL 1172 4494 \nz\n\" transform=\"scale(0.015625)\"/>\n       <path id=\"DejaVuSans-72\" d=\"M 2631 2963 \nQ 2534 3019 2420 3045 \nQ 2306 3072 2169 3072 \nQ 1681 3072 1420 2755 \nQ 1159 2438 1159 1844 \nL 1159 0 \nL 581 0 \nL 581 3500 \nL 1159 3500 \nL 1159 2956 \nQ 1341 3275 1631 3429 \nQ 1922 3584 2338 3584 \nQ 2397 3584 2469 3576 \nQ 2541 3569 2628 3553 \nL 2631 2963 \nz\n\" transform=\"scale(0.015625)\"/>\n       <path id=\"DejaVuSans-61\" d=\"M 2194 1759 \nQ 1497 1759 1228 1600 \nQ 959 1441 959 1056 \nQ 959 750 1161 570 \nQ 1363 391 1709 391 \nQ 2188 391 2477 730 \nQ 2766 1069 2766 1631 \nL 2766 1759 \nL 2194 1759 \nz\nM 3341 1997 \nL 3341 0 \nL 2766 0 \nL 2766 531 \nQ 2569 213 2275 61 \nQ 1981 -91 1556 -91 \nQ 1019 -91 701 211 \nQ 384 513 384 1019 \nQ 384 1609 779 1909 \nQ 1175 2209 1959 2209 \nL 2766 2209 \nL 2766 2266 \nQ 2766 2663 2505 2880 \nQ 2244 3097 1772 3097 \nQ 1472 3097 1187 3025 \nQ 903 2953 641 2809 \nL 641 3341 \nQ 956 3463 1253 3523 \nQ 1550 3584 1831 3584 \nQ 2591 3584 2966 3190 \nQ 3341 2797 3341 1997 \nz\n\" transform=\"scale(0.015625)\"/>\n       <path id=\"DejaVuSans-69\" d=\"M 603 3500 \nL 1178 3500 \nL 1178 0 \nL 603 0 \nL 603 3500 \nz\nM 603 4863 \nL 1178 4863 \nL 1178 4134 \nL 603 4134 \nL 603 4863 \nz\n\" transform=\"scale(0.015625)\"/>\n       <path id=\"DejaVuSans-6e\" d=\"M 3513 2113 \nL 3513 0 \nL 2938 0 \nL 2938 2094 \nQ 2938 2591 2744 2837 \nQ 2550 3084 2163 3084 \nQ 1697 3084 1428 2787 \nQ 1159 2491 1159 1978 \nL 1159 0 \nL 581 0 \nL 581 3500 \nL 1159 3500 \nL 1159 2956 \nQ 1366 3272 1645 3428 \nQ 1925 3584 2291 3584 \nQ 2894 3584 3203 3211 \nQ 3513 2838 3513 2113 \nz\n\" transform=\"scale(0.015625)\"/>\n       <path id=\"DejaVuSans-20\" transform=\"scale(0.015625)\"/>\n       <path id=\"DejaVuSans-6c\" d=\"M 603 4863 \nL 1178 4863 \nL 1178 0 \nL 603 0 \nL 603 4863 \nz\n\" transform=\"scale(0.015625)\"/>\n       <path id=\"DejaVuSans-73\" d=\"M 2834 3397 \nL 2834 2853 \nQ 2591 2978 2328 3040 \nQ 2066 3103 1784 3103 \nQ 1356 3103 1142 2972 \nQ 928 2841 928 2578 \nQ 928 2378 1081 2264 \nQ 1234 2150 1697 2047 \nL 1894 2003 \nQ 2506 1872 2764 1633 \nQ 3022 1394 3022 966 \nQ 3022 478 2636 193 \nQ 2250 -91 1575 -91 \nQ 1294 -91 989 -36 \nQ 684 19 347 128 \nL 347 722 \nQ 666 556 975 473 \nQ 1284 391 1588 391 \nQ 1994 391 2212 530 \nQ 2431 669 2431 922 \nQ 2431 1156 2273 1281 \nQ 2116 1406 1581 1522 \nL 1381 1569 \nQ 847 1681 609 1914 \nQ 372 2147 372 2553 \nQ 372 3047 722 3315 \nQ 1072 3584 1716 3584 \nQ 2034 3584 2315 3537 \nQ 2597 3491 2834 3397 \nz\n\" transform=\"scale(0.015625)\"/>\n      </defs>\n      <use xlink:href=\"#DejaVuSans-74\"/>\n      <use xlink:href=\"#DejaVuSans-72\" transform=\"translate(39.208984 0)\"/>\n      <use xlink:href=\"#DejaVuSans-61\" transform=\"translate(80.322266 0)\"/>\n      <use xlink:href=\"#DejaVuSans-69\" transform=\"translate(141.601562 0)\"/>\n      <use xlink:href=\"#DejaVuSans-6e\" transform=\"translate(169.384766 0)\"/>\n      <use xlink:href=\"#DejaVuSans-20\" transform=\"translate(232.763672 0)\"/>\n      <use xlink:href=\"#DejaVuSans-6c\" transform=\"translate(264.550781 0)\"/>\n      <use xlink:href=\"#DejaVuSans-6f\" transform=\"translate(292.333984 0)\"/>\n      <use xlink:href=\"#DejaVuSans-73\" transform=\"translate(353.515625 0)\"/>\n      <use xlink:href=\"#DejaVuSans-73\" transform=\"translate(405.615234 0)\"/>\n     </g>\n    </g>\n    <g id=\"line2d_25\">\n     <path d=\"M 39.103125 75.759375 \nL 49.103125 75.759375 \nL 59.103125 75.759375 \n\" style=\"fill: none; stroke-dasharray: 5.55,2.4; stroke-dashoffset: 0; stroke: #bf00bf; stroke-width: 1.5\"/>\n    </g>\n    <g id=\"text_13\">\n     <!-- train acc -->\n     <g transform=\"translate(67.103125 79.259375) scale(0.1 -0.1)\">\n      <use xlink:href=\"#DejaVuSans-74\"/>\n      <use xlink:href=\"#DejaVuSans-72\" transform=\"translate(39.208984 0)\"/>\n      <use xlink:href=\"#DejaVuSans-61\" transform=\"translate(80.322266 0)\"/>\n      <use xlink:href=\"#DejaVuSans-69\" transform=\"translate(141.601562 0)\"/>\n      <use xlink:href=\"#DejaVuSans-6e\" transform=\"translate(169.384766 0)\"/>\n      <use xlink:href=\"#DejaVuSans-20\" transform=\"translate(232.763672 0)\"/>\n      <use xlink:href=\"#DejaVuSans-61\" transform=\"translate(264.550781 0)\"/>\n      <use xlink:href=\"#DejaVuSans-63\" transform=\"translate(325.830078 0)\"/>\n      <use xlink:href=\"#DejaVuSans-63\" transform=\"translate(380.810547 0)\"/>\n     </g>\n    </g>\n    <g id=\"line2d_26\">\n     <path d=\"M 39.103125 90.4375 \nL 49.103125 90.4375 \nL 59.103125 90.4375 \n\" style=\"fill: none; stroke-dasharray: 9.6,2.4,1.5,2.4; stroke-dashoffset: 0; stroke: #008000; stroke-width: 1.5\"/>\n    </g>\n    <g id=\"text_14\">\n     <!-- test acc -->\n     <g transform=\"translate(67.103125 93.9375) scale(0.1 -0.1)\">\n      <use xlink:href=\"#DejaVuSans-74\"/>\n      <use xlink:href=\"#DejaVuSans-65\" transform=\"translate(39.208984 0)\"/>\n      <use xlink:href=\"#DejaVuSans-73\" transform=\"translate(100.732422 0)\"/>\n      <use xlink:href=\"#DejaVuSans-74\" transform=\"translate(152.832031 0)\"/>\n      <use xlink:href=\"#DejaVuSans-20\" transform=\"translate(192.041016 0)\"/>\n      <use xlink:href=\"#DejaVuSans-61\" transform=\"translate(223.828125 0)\"/>\n      <use xlink:href=\"#DejaVuSans-63\" transform=\"translate(285.107422 0)\"/>\n      <use xlink:href=\"#DejaVuSans-63\" transform=\"translate(340.087891 0)\"/>\n     </g>\n    </g>\n   </g>\n  </g>\n </g>\n <defs>\n  <clipPath id=\"p20f86b51c7\">\n   <rect x=\"30.103125\" y=\"7.2\" width=\"195.3\" height=\"138.6\"/>\n  </clipPath>\n </defs>\n</svg>\n"
          },
          "metadata": {}
        }
      ]
    },
    {
      "cell_type": "code",
      "source": [
        "#(iii) continuing\n",
        "\n",
        "## Training Accuracy:\n",
        "\n",
        "###Labels are random here, and there is no meaningfull relationship between the images and labe.l\n",
        "### But, with 500 epochs, the model starts to memorize the training data, and it helps to get\n",
        "### high training accuracy that is closew to %90\n",
        "\n",
        "## Test Accuracy\n",
        "\n",
        "### The labels for test are also random, and it makes the model cannot generalize.\n",
        "### So, each image has a 1 in 10 chance (10 classess),so the model has random guessing.\n",
        "### And the accuracy is around %10 (1/10 classes)\n",
        "\n",
        "## Conclusion\n",
        "\n",
        "### The model learn the training set instead of generalizable features.\n",
        "### The model cannot find patterns due to the random labels.\n",
        "### The model cannot generalize the unseen test data.\n"
      ],
      "metadata": {
        "id": "mHykpkgw3o6w"
      },
      "execution_count": 58,
      "outputs": []
    },
    {
      "cell_type": "code",
      "execution_count": null,
      "metadata": {
        "id": "d0z4LcRW2xP8"
      },
      "outputs": [],
      "source": [
        "# for grader use only\n",
        "\n",
        "# insert grade here  (out of 12)\n",
        "\n",
        "# G[2] =\n",
        "#\n",
        "# please justify point subtractions when needed"
      ]
    },
    {
      "cell_type": "code",
      "execution_count": null,
      "metadata": {
        "id": "EZHVWBIjIuoy"
      },
      "outputs": [],
      "source": [
        "# total score\n",
        "max_score = 24\n",
        "$inal_score = sum(G)*(100/max_score)"
      ]
    }
  ],
  "metadata": {
    "accelerator": "GPU",
    "colab": {
      "gpuType": "T4",
      "provenance": [],
      "include_colab_link": true
    },
    "kernelspec": {
      "display_name": "Python 3",
      "name": "python3"
    },
    "language_info": {
      "codemirror_mode": {
        "name": "ipython",
        "version": 3
      },
      "file_extension": ".py",
      "mimetype": "text/x-python",
      "name": "python",
      "nbconvert_exporter": "python",
      "pygments_lexer": "ipython3",
      "version": "3.7.4"
    }
  },
  "nbformat": 4,
  "nbformat_minor": 0
}